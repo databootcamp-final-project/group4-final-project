{
 "cells": [
  {
   "cell_type": "code",
   "execution_count": 2,
   "metadata": {},
   "outputs": [],
   "source": [
    "#dependencies\n",
    "import pandas as pd\n",
    "import numpy as np\n",
    "import matplotlib.pyplot as plt\n",
    "import datetime\n",
    "import os\n",
    "import csv"
   ]
  },
  {
   "cell_type": "markdown",
   "metadata": {},
   "source": [
    "IMPORT CSV"
   ]
  },
  {
   "cell_type": "code",
   "execution_count": 4,
   "metadata": {},
   "outputs": [
    {
     "data": {
      "text/html": [
       "<div>\n",
       "<style scoped>\n",
       "    .dataframe tbody tr th:only-of-type {\n",
       "        vertical-align: middle;\n",
       "    }\n",
       "\n",
       "    .dataframe tbody tr th {\n",
       "        vertical-align: top;\n",
       "    }\n",
       "\n",
       "    .dataframe thead th {\n",
       "        text-align: right;\n",
       "    }\n",
       "</style>\n",
       "<table border=\"1\" class=\"dataframe\">\n",
       "  <thead>\n",
       "    <tr style=\"text-align: right;\">\n",
       "      <th></th>\n",
       "      <th>Date</th>\n",
       "      <th>Close/Last</th>\n",
       "      <th>Volume</th>\n",
       "      <th>Open</th>\n",
       "      <th>High</th>\n",
       "      <th>Low</th>\n",
       "    </tr>\n",
       "  </thead>\n",
       "  <tbody>\n",
       "    <tr>\n",
       "      <th>0</th>\n",
       "      <td>05/24/2021</td>\n",
       "      <td>$250.78</td>\n",
       "      <td>21411550</td>\n",
       "      <td>$247.785</td>\n",
       "      <td>$251.16</td>\n",
       "      <td>$247.51</td>\n",
       "    </tr>\n",
       "    <tr>\n",
       "      <th>1</th>\n",
       "      <td>05/21/2021</td>\n",
       "      <td>$245.17</td>\n",
       "      <td>21863060</td>\n",
       "      <td>$247.565</td>\n",
       "      <td>$248.33</td>\n",
       "      <td>$244.74</td>\n",
       "    </tr>\n",
       "    <tr>\n",
       "      <th>2</th>\n",
       "      <td>05/20/2021</td>\n",
       "      <td>$246.48</td>\n",
       "      <td>21800720</td>\n",
       "      <td>$243.96</td>\n",
       "      <td>$247.95</td>\n",
       "      <td>$243.86</td>\n",
       "    </tr>\n",
       "    <tr>\n",
       "      <th>3</th>\n",
       "      <td>05/19/2021</td>\n",
       "      <td>$243.12</td>\n",
       "      <td>25739810</td>\n",
       "      <td>$239.31</td>\n",
       "      <td>$243.23</td>\n",
       "      <td>$238.6</td>\n",
       "    </tr>\n",
       "    <tr>\n",
       "      <th>4</th>\n",
       "      <td>05/18/2021</td>\n",
       "      <td>$243.08</td>\n",
       "      <td>20167980</td>\n",
       "      <td>$246.27</td>\n",
       "      <td>$246.41</td>\n",
       "      <td>$242.9</td>\n",
       "    </tr>\n",
       "  </tbody>\n",
       "</table>\n",
       "</div>"
      ],
      "text/plain": [
       "         Date Close/Last    Volume      Open     High      Low\n",
       "0  05/24/2021    $250.78  21411550  $247.785  $251.16  $247.51\n",
       "1  05/21/2021    $245.17  21863060  $247.565  $248.33  $244.74\n",
       "2  05/20/2021    $246.48  21800720   $243.96  $247.95  $243.86\n",
       "3  05/19/2021    $243.12  25739810   $239.31  $243.23   $238.6\n",
       "4  05/18/2021    $243.08  20167980   $246.27  $246.41   $242.9"
      ]
     },
     "execution_count": 4,
     "metadata": {},
     "output_type": "execute_result"
    }
   ],
   "source": [
    "#load assesment file\n",
    "MSFT = \"resources/HistoricalData_MSFT.csv\"\n",
    "MSFT_df = pd.read_csv(MSFT)\n",
    "MSFT_df.head()"
   ]
  },
  {
   "cell_type": "markdown",
   "metadata": {},
   "source": [
    "CLEAN, RESHAPE AND CONVERT DATATYPE"
   ]
  },
  {
   "cell_type": "code",
   "execution_count": 5,
   "metadata": {},
   "outputs": [
    {
     "name": "stderr",
     "output_type": "stream",
     "text": [
      "<ipython-input-5-0b2a3a0df47d>:2: FutureWarning: The default value of regex will change from True to False in a future version. In addition, single character regular expressions will*not* be treated as literal strings when regex=True.\n",
      "  MSFT_df['Close/Last'] = MSFT_df['Close/Last'].str.replace('$','')\n",
      "<ipython-input-5-0b2a3a0df47d>:3: FutureWarning: The default value of regex will change from True to False in a future version. In addition, single character regular expressions will*not* be treated as literal strings when regex=True.\n",
      "  MSFT_df['Open'] = MSFT_df['Open'].str.replace('$','')\n",
      "<ipython-input-5-0b2a3a0df47d>:4: FutureWarning: The default value of regex will change from True to False in a future version. In addition, single character regular expressions will*not* be treated as literal strings when regex=True.\n",
      "  MSFT_df['High'] = MSFT_df['High'].str.replace('$','')\n",
      "<ipython-input-5-0b2a3a0df47d>:5: FutureWarning: The default value of regex will change from True to False in a future version. In addition, single character regular expressions will*not* be treated as literal strings when regex=True.\n",
      "  MSFT_df['Low'] = MSFT_df['Low'].str.replace('$','')\n"
     ]
    }
   ],
   "source": [
    "MSFT_df['Date']= pd.to_datetime(MSFT_df['Date'])\n",
    "MSFT_df['Close/Last'] = MSFT_df['Close/Last'].str.replace('$','')\n",
    "MSFT_df['Open'] = MSFT_df['Open'].str.replace('$','')\n",
    "MSFT_df['High'] = MSFT_df['High'].str.replace('$','')\n",
    "MSFT_df['Low'] = MSFT_df['Low'].str.replace('$','')\n",
    "MSFT_df = MSFT_df.apply( pd.to_numeric)"
   ]
  },
  {
   "cell_type": "markdown",
   "metadata": {},
   "source": [
    "FORMAT DATE COLUMN"
   ]
  },
  {
   "cell_type": "code",
   "execution_count": 6,
   "metadata": {},
   "outputs": [
    {
     "data": {
      "text/html": [
       "<div>\n",
       "<style scoped>\n",
       "    .dataframe tbody tr th:only-of-type {\n",
       "        vertical-align: middle;\n",
       "    }\n",
       "\n",
       "    .dataframe tbody tr th {\n",
       "        vertical-align: top;\n",
       "    }\n",
       "\n",
       "    .dataframe thead th {\n",
       "        text-align: right;\n",
       "    }\n",
       "</style>\n",
       "<table border=\"1\" class=\"dataframe\">\n",
       "  <thead>\n",
       "    <tr style=\"text-align: right;\">\n",
       "      <th></th>\n",
       "      <th>Date</th>\n",
       "      <th>Close/Last</th>\n",
       "      <th>Volume</th>\n",
       "      <th>Open</th>\n",
       "      <th>High</th>\n",
       "      <th>Low</th>\n",
       "    </tr>\n",
       "  </thead>\n",
       "  <tbody>\n",
       "    <tr>\n",
       "      <th>0</th>\n",
       "      <td>2021-05-24</td>\n",
       "      <td>250.78</td>\n",
       "      <td>21411550</td>\n",
       "      <td>247.785</td>\n",
       "      <td>251.16</td>\n",
       "      <td>247.51</td>\n",
       "    </tr>\n",
       "    <tr>\n",
       "      <th>1</th>\n",
       "      <td>2021-05-21</td>\n",
       "      <td>245.17</td>\n",
       "      <td>21863060</td>\n",
       "      <td>247.565</td>\n",
       "      <td>248.33</td>\n",
       "      <td>244.74</td>\n",
       "    </tr>\n",
       "    <tr>\n",
       "      <th>2</th>\n",
       "      <td>2021-05-20</td>\n",
       "      <td>246.48</td>\n",
       "      <td>21800720</td>\n",
       "      <td>243.960</td>\n",
       "      <td>247.95</td>\n",
       "      <td>243.86</td>\n",
       "    </tr>\n",
       "    <tr>\n",
       "      <th>3</th>\n",
       "      <td>2021-05-19</td>\n",
       "      <td>243.12</td>\n",
       "      <td>25739810</td>\n",
       "      <td>239.310</td>\n",
       "      <td>243.23</td>\n",
       "      <td>238.60</td>\n",
       "    </tr>\n",
       "    <tr>\n",
       "      <th>4</th>\n",
       "      <td>2021-05-18</td>\n",
       "      <td>243.08</td>\n",
       "      <td>20167980</td>\n",
       "      <td>246.270</td>\n",
       "      <td>246.41</td>\n",
       "      <td>242.90</td>\n",
       "    </tr>\n",
       "  </tbody>\n",
       "</table>\n",
       "</div>"
      ],
      "text/plain": [
       "        Date  Close/Last    Volume     Open    High     Low\n",
       "0 2021-05-24      250.78  21411550  247.785  251.16  247.51\n",
       "1 2021-05-21      245.17  21863060  247.565  248.33  244.74\n",
       "2 2021-05-20      246.48  21800720  243.960  247.95  243.86\n",
       "3 2021-05-19      243.12  25739810  239.310  243.23  238.60\n",
       "4 2021-05-18      243.08  20167980  246.270  246.41  242.90"
      ]
     },
     "execution_count": 6,
     "metadata": {},
     "output_type": "execute_result"
    }
   ],
   "source": [
    "MSFT_df['Date']= pd.to_datetime(MSFT_df['Date'])\n",
    "MSFT_df.head()"
   ]
  },
  {
   "cell_type": "markdown",
   "metadata": {},
   "source": [
    "SPLIT DATAFRAME"
   ]
  },
  {
   "cell_type": "code",
   "execution_count": 7,
   "metadata": {},
   "outputs": [
    {
     "data": {
      "text/html": [
       "<div>\n",
       "<style scoped>\n",
       "    .dataframe tbody tr th:only-of-type {\n",
       "        vertical-align: middle;\n",
       "    }\n",
       "\n",
       "    .dataframe tbody tr th {\n",
       "        vertical-align: top;\n",
       "    }\n",
       "\n",
       "    .dataframe thead th {\n",
       "        text-align: right;\n",
       "    }\n",
       "</style>\n",
       "<table border=\"1\" class=\"dataframe\">\n",
       "  <thead>\n",
       "    <tr style=\"text-align: right;\">\n",
       "      <th></th>\n",
       "      <th>Date</th>\n",
       "      <th>Close/Last</th>\n",
       "      <th>Volume</th>\n",
       "      <th>Open</th>\n",
       "      <th>High</th>\n",
       "      <th>Low</th>\n",
       "    </tr>\n",
       "  </thead>\n",
       "  <tbody>\n",
       "    <tr>\n",
       "      <th>252</th>\n",
       "      <td>2020-05-22</td>\n",
       "      <td>183.51</td>\n",
       "      <td>20826900</td>\n",
       "      <td>183.19</td>\n",
       "      <td>184.46</td>\n",
       "      <td>182.54</td>\n",
       "    </tr>\n",
       "    <tr>\n",
       "      <th>253</th>\n",
       "      <td>2020-05-21</td>\n",
       "      <td>183.43</td>\n",
       "      <td>29119510</td>\n",
       "      <td>185.40</td>\n",
       "      <td>186.67</td>\n",
       "      <td>183.29</td>\n",
       "    </tr>\n",
       "    <tr>\n",
       "      <th>254</th>\n",
       "      <td>2020-05-20</td>\n",
       "      <td>185.66</td>\n",
       "      <td>31261330</td>\n",
       "      <td>184.81</td>\n",
       "      <td>185.85</td>\n",
       "      <td>183.94</td>\n",
       "    </tr>\n",
       "    <tr>\n",
       "      <th>255</th>\n",
       "      <td>2020-05-19</td>\n",
       "      <td>183.63</td>\n",
       "      <td>26799120</td>\n",
       "      <td>185.03</td>\n",
       "      <td>186.60</td>\n",
       "      <td>183.49</td>\n",
       "    </tr>\n",
       "    <tr>\n",
       "      <th>256</th>\n",
       "      <td>2020-05-18</td>\n",
       "      <td>184.91</td>\n",
       "      <td>35306620</td>\n",
       "      <td>185.75</td>\n",
       "      <td>186.20</td>\n",
       "      <td>183.96</td>\n",
       "    </tr>\n",
       "  </tbody>\n",
       "</table>\n",
       "</div>"
      ],
      "text/plain": [
       "          Date  Close/Last    Volume    Open    High     Low\n",
       "252 2020-05-22      183.51  20826900  183.19  184.46  182.54\n",
       "253 2020-05-21      183.43  29119510  185.40  186.67  183.29\n",
       "254 2020-05-20      185.66  31261330  184.81  185.85  183.94\n",
       "255 2020-05-19      183.63  26799120  185.03  186.60  183.49\n",
       "256 2020-05-18      184.91  35306620  185.75  186.20  183.96"
      ]
     },
     "execution_count": 7,
     "metadata": {},
     "output_type": "execute_result"
    }
   ],
   "source": [
    "#setup datetime for first 4 years\n",
    "start_date = \"2016-05-24\"\n",
    "end_date = \"2020-05-24\"\n",
    "\n",
    "after_start_date = MSFT_df[\"Date\"] >= start_date\n",
    "before_end_date = MSFT_df[\"Date\"] <= end_date\n",
    "between_two_dates = after_start_date & before_end_date\n",
    "MSFT_df_4 = MSFT_df.loc[between_two_dates]\n",
    "MSFT_df_4.head()"
   ]
  },
  {
   "cell_type": "markdown",
   "metadata": {},
   "source": [
    "SPLIT DATAFRAME"
   ]
  },
  {
   "cell_type": "code",
   "execution_count": 8,
   "metadata": {},
   "outputs": [
    {
     "data": {
      "text/html": [
       "<div>\n",
       "<style scoped>\n",
       "    .dataframe tbody tr th:only-of-type {\n",
       "        vertical-align: middle;\n",
       "    }\n",
       "\n",
       "    .dataframe tbody tr th {\n",
       "        vertical-align: top;\n",
       "    }\n",
       "\n",
       "    .dataframe thead th {\n",
       "        text-align: right;\n",
       "    }\n",
       "</style>\n",
       "<table border=\"1\" class=\"dataframe\">\n",
       "  <thead>\n",
       "    <tr style=\"text-align: right;\">\n",
       "      <th></th>\n",
       "      <th>Date</th>\n",
       "      <th>Close/Last</th>\n",
       "      <th>Volume</th>\n",
       "      <th>Open</th>\n",
       "      <th>High</th>\n",
       "      <th>Low</th>\n",
       "    </tr>\n",
       "  </thead>\n",
       "  <tbody>\n",
       "    <tr>\n",
       "      <th>0</th>\n",
       "      <td>2021-05-24</td>\n",
       "      <td>250.78</td>\n",
       "      <td>21411550</td>\n",
       "      <td>247.785</td>\n",
       "      <td>251.16</td>\n",
       "      <td>247.51</td>\n",
       "    </tr>\n",
       "    <tr>\n",
       "      <th>1</th>\n",
       "      <td>2021-05-21</td>\n",
       "      <td>245.17</td>\n",
       "      <td>21863060</td>\n",
       "      <td>247.565</td>\n",
       "      <td>248.33</td>\n",
       "      <td>244.74</td>\n",
       "    </tr>\n",
       "    <tr>\n",
       "      <th>2</th>\n",
       "      <td>2021-05-20</td>\n",
       "      <td>246.48</td>\n",
       "      <td>21800720</td>\n",
       "      <td>243.960</td>\n",
       "      <td>247.95</td>\n",
       "      <td>243.86</td>\n",
       "    </tr>\n",
       "    <tr>\n",
       "      <th>3</th>\n",
       "      <td>2021-05-19</td>\n",
       "      <td>243.12</td>\n",
       "      <td>25739810</td>\n",
       "      <td>239.310</td>\n",
       "      <td>243.23</td>\n",
       "      <td>238.60</td>\n",
       "    </tr>\n",
       "    <tr>\n",
       "      <th>4</th>\n",
       "      <td>2021-05-18</td>\n",
       "      <td>243.08</td>\n",
       "      <td>20167980</td>\n",
       "      <td>246.270</td>\n",
       "      <td>246.41</td>\n",
       "      <td>242.90</td>\n",
       "    </tr>\n",
       "  </tbody>\n",
       "</table>\n",
       "</div>"
      ],
      "text/plain": [
       "        Date  Close/Last    Volume     Open    High     Low\n",
       "0 2021-05-24      250.78  21411550  247.785  251.16  247.51\n",
       "1 2021-05-21      245.17  21863060  247.565  248.33  244.74\n",
       "2 2021-05-20      246.48  21800720  243.960  247.95  243.86\n",
       "3 2021-05-19      243.12  25739810  239.310  243.23  238.60\n",
       "4 2021-05-18      243.08  20167980  246.270  246.41  242.90"
      ]
     },
     "execution_count": 8,
     "metadata": {},
     "output_type": "execute_result"
    }
   ],
   "source": [
    "#setup datetime for last year\n",
    "start_date = \"2020-05-25\"\n",
    "end_date = \"2021-05-24\"\n",
    "\n",
    "after_start_date = MSFT_df[\"Date\"] >= start_date\n",
    "before_end_date = MSFT_df[\"Date\"] <= end_date\n",
    "between_two_dates = after_start_date & before_end_date\n",
    "MSFT_df_ls = MSFT_df.loc[between_two_dates]\n",
    "MSFT_df_ls.head()"
   ]
  },
  {
   "cell_type": "markdown",
   "metadata": {},
   "source": [
    "PLOT FIRST DF (4YEARS)"
   ]
  },
  {
   "cell_type": "code",
   "execution_count": 10,
   "metadata": {},
   "outputs": [
    {
     "data": {
      "image/png": "[encoded data removed]",
      "text/plain": [
       "<Figure size 864x576 with 1 Axes>"
      ]
     },
     "metadata": {
      "needs_background": "light"
     },
     "output_type": "display_data"
    }
   ],
   "source": [
    "plt.figure(figsize=(12,8))\n",
    "plt.plot(MSFT_df_4['Close/Last'])\n",
    "plt.title(\"Microsoft Line Chart\")\n",
    "plt.xlabel(\"Date\")\n",
    "plt.ylabel(\"Close\")\n",
    "plt.show()"
   ]
  },
  {
   "cell_type": "markdown",
   "metadata": {},
   "source": [
    "PLOT SECOND DF (LAST YEAR)"
   ]
  },
  {
   "cell_type": "code",
   "execution_count": 11,
   "metadata": {},
   "outputs": [
    {
     "data": {
      "image/png": "[encoded data removed]",
      "text/plain": [
       "<Figure size 864x576 with 1 Axes>"
      ]
     },
     "metadata": {
      "needs_background": "light"
     },
     "output_type": "display_data"
    }
   ],
   "source": [
    "plt.figure(figsize=(12,8))\n",
    "plt.plot(MSFT_df_ls['Close/Last'])\n",
    "plt.title(\"Microsoft Line Chart\")\n",
    "plt.xlabel(\"Date\")\n",
    "plt.ylabel(\"Close\")\n",
    "plt.show()"
   ]
  },
  {
   "cell_type": "markdown",
   "metadata": {},
   "source": [
    "SHAPPING, FITTING, TRAINING, TESTING ML ON 1ST DF"
   ]
  },
  {
   "cell_type": "code",
   "execution_count": 13,
   "metadata": {},
   "outputs": [
    {
     "data": {
      "text/plain": [
       "(1006, 6)"
      ]
     },
     "execution_count": 13,
     "metadata": {},
     "output_type": "execute_result"
    }
   ],
   "source": [
    "MSFT_df_4.shape"
   ]
  },
  {
   "cell_type": "code",
   "execution_count": 14,
   "metadata": {},
   "outputs": [],
   "source": [
    "X = np.array(MSFT_df_4['Open']).reshape(1006,-1)\n",
    "Y = np.array(MSFT_df_4['Close/Last']).reshape(1006,-1)"
   ]
  },
  {
   "cell_type": "code",
   "execution_count": 15,
   "metadata": {},
   "outputs": [],
   "source": [
    "from sklearn.linear_model import LinearRegression"
   ]
  },
  {
   "cell_type": "code",
   "execution_count": 16,
   "metadata": {},
   "outputs": [],
   "source": [
    "lr = LinearRegression()"
   ]
  },
  {
   "cell_type": "code",
   "execution_count": 17,
   "metadata": {},
   "outputs": [
    {
     "data": {
      "text/plain": [
       "LinearRegression()"
      ]
     },
     "execution_count": 17,
     "metadata": {},
     "output_type": "execute_result"
    }
   ],
   "source": [
    "lr.fit(X, Y)"
   ]
  },
  {
   "cell_type": "code",
   "execution_count": 18,
   "metadata": {},
   "outputs": [
    {
     "name": "stdout",
     "output_type": "stream",
     "text": [
      "Linear Regression intercept: [0.10501476]\n",
      "coefficient count: 1\n"
     ]
    }
   ],
   "source": [
    "print('Linear Regression intercept:', lr.intercept_)\n",
    "print('coefficient count:', len(lr.coef_))"
   ]
  },
  {
   "cell_type": "code",
   "execution_count": 19,
   "metadata": {},
   "outputs": [
    {
     "name": "stdout",
     "output_type": "stream",
     "text": [
      "Accuracy: 0.9981148446674122\n"
     ]
    }
   ],
   "source": [
    "from sklearn.metrics import accuracy_score\n",
    "print('Accuracy:', lr.score(X, Y))"
   ]
  },
  {
   "cell_type": "code",
   "execution_count": 20,
   "metadata": {},
   "outputs": [
    {
     "data": {
      "text/plain": [
       "array([[183.1404069 ],\n",
       "       [185.34854171],\n",
       "       [184.75903966],\n",
       "       ...,\n",
       "       [ 51.98119556],\n",
       "       [ 51.99118712],\n",
       "       [ 51.98119556]])"
      ]
     },
     "execution_count": 20,
     "metadata": {},
     "output_type": "execute_result"
    }
   ],
   "source": [
    "# Predicting the price\n",
    "lr.predict(X)"
   ]
  },
  {
   "cell_type": "code",
   "execution_count": 22,
   "metadata": {},
   "outputs": [
    {
     "data": {
      "text/plain": [
       "Text(0.5, 1.0, '4 Years CLosing Price vs Predicted Closing Price')"
      ]
     },
     "execution_count": 22,
     "metadata": {},
     "output_type": "execute_result"
    },
    {
     "data": {
      "image/png": "[encoded data removed]",
      "text/plain": [
       "<Figure size 864x576 with 1 Axes>"
      ]
     },
     "metadata": {
      "needs_background": "light"
     },
     "output_type": "display_data"
    }
   ],
   "source": [
    "plt.figure(figsize=(12,8))\n",
    "plt.scatter(MSFT_df_4['Close/Last'], lr.predict(X))\n",
    "plt.plot(X, lr.predict(X), color = 'red')\n",
    "plt.xlabel('Closing Price')\n",
    "plt.ylabel('Predicted Closing Price')\n",
    "plt.savefig('images/MSFT_4y.jpg', dpi=40)\n",
    "plt.grid()\n",
    "plt.title('4 Years CLosing Price vs Predicted Closing Price')"
   ]
  },
  {
   "cell_type": "markdown",
   "metadata": {},
   "source": [
    "TRAINING, TESTING ML ON 2ND DF"
   ]
  },
  {
   "cell_type": "code",
   "execution_count": 23,
   "metadata": {},
   "outputs": [
    {
     "data": {
      "text/plain": [
       "(252, 6)"
      ]
     },
     "execution_count": 23,
     "metadata": {},
     "output_type": "execute_result"
    }
   ],
   "source": [
    "MSFT_df_ls.shape"
   ]
  },
  {
   "cell_type": "code",
   "execution_count": 24,
   "metadata": {},
   "outputs": [],
   "source": [
    "X_ls = np.array(MSFT_df_ls['Open']).reshape(252,-1)\n",
    "Y_ls = np.array(MSFT_df_ls['Close/Last']).reshape(252,-1)"
   ]
  },
  {
   "cell_type": "code",
   "execution_count": 25,
   "metadata": {},
   "outputs": [
    {
     "data": {
      "text/plain": [
       "LinearRegression()"
      ]
     },
     "execution_count": 25,
     "metadata": {},
     "output_type": "execute_result"
    }
   ],
   "source": [
    "lr.fit(X_ls, Y_ls)"
   ]
  },
  {
   "cell_type": "code",
   "execution_count": 26,
   "metadata": {},
   "outputs": [
    {
     "name": "stdout",
     "output_type": "stream",
     "text": [
      "Linear Regression intercept: [2.60505635]\n",
      "coefficient count: 1\n"
     ]
    }
   ],
   "source": [
    "print('Linear Regression intercept:', lr.intercept_)\n",
    "print('coefficient count:', len(lr.coef_))"
   ]
  },
  {
   "cell_type": "code",
   "execution_count": 27,
   "metadata": {},
   "outputs": [
    {
     "name": "stdout",
     "output_type": "stream",
     "text": [
      "Accuracy: 0.9756617015917212\n"
     ]
    }
   ],
   "source": [
    "print('Accuracy:', lr.score(X_ls, Y_ls))"
   ]
  },
  {
   "cell_type": "code",
   "execution_count": 28,
   "metadata": {},
   "outputs": [
    {
     "data": {
      "text/plain": [
       "array([[247.62035123],\n",
       "       [247.40281036],\n",
       "       [243.83810653],\n",
       "       [239.24008356],\n",
       "       [246.12228568],\n",
       "       [246.39915588],\n",
       "       [245.43505429],\n",
       "       [241.7022507 ],\n",
       "       [242.06317078],\n",
       "       [244.4215116 ],\n",
       "       [250.67086754],\n",
       "       [251.93655989],\n",
       "       [246.30027367],\n",
       "       [248.88109946],\n",
       "       [250.76974976],\n",
       "       [253.17258757],\n",
       "       [249.55349852],\n",
       "       [255.20956118],\n",
       "       [255.82065327],\n",
       "       [261.26609681],\n",
       "       [261.34025848],\n",
       "       [257.60251077],\n",
       "       [259.90646637],\n",
       "       [258.65066224],\n",
       "       [257.54318144],\n",
       "       [259.88668992],\n",
       "       [259.17473798],\n",
       "       [257.6529407 ],\n",
       "       [257.2020378 ],\n",
       "       [256.98647458],\n",
       "       [254.46794458],\n",
       "       [252.64851183],\n",
       "       [252.54962962],\n",
       "       [247.64507178],\n",
       "       [247.44730736],\n",
       "       [242.65151996],\n",
       "       [238.40947296],\n",
       "       [232.91162184],\n",
       "       [233.51974746],\n",
       "       [236.55048733],\n",
       "       [231.56682373],\n",
       "       [235.27490677],\n",
       "       [237.79145912],\n",
       "       [237.43548315],\n",
       "       [230.30113138],\n",
       "       [231.04274799],\n",
       "       [232.56553409],\n",
       "       [236.11540559],\n",
       "       [236.24395247],\n",
       "       [234.93870724],\n",
       "       [233.9993262 ],\n",
       "       [234.93870724],\n",
       "       [236.95590441],\n",
       "       [232.88195718],\n",
       "       [231.38883574],\n",
       "       [229.55654831],\n",
       "       [226.80564511],\n",
       "       [232.16506112],\n",
       "       [236.96579263],\n",
       "       [235.86820005],\n",
       "       [231.54210317],\n",
       "       [232.09089946],\n",
       "       [230.04403763],\n",
       "       [230.3555166 ],\n",
       "       [237.37120971],\n",
       "       [243.63045388],\n",
       "       [241.7022507 ],\n",
       "       [241.22761607],\n",
       "       [244.89614623],\n",
       "       [243.81140833],\n",
       "       [244.64894069],\n",
       "       [244.86648156],\n",
       "       [241.77146825],\n",
       "       [243.0371606 ],\n",
       "       [242.12744422],\n",
       "       [242.55263774],\n",
       "       [239.49717732],\n",
       "       [241.20783963],\n",
       "       [235.03758945],\n",
       "       [235.95719405],\n",
       "       [235.58144163],\n",
       "       [237.94472656],\n",
       "       [231.87335859],\n",
       "       [229.16398592],\n",
       "       [227.14678875],\n",
       "       [224.79339204],\n",
       "       [217.87163704],\n",
       "       [213.96578957],\n",
       "       [213.73836048],\n",
       "       [216.1016454 ],\n",
       "       [214.23277155],\n",
       "       [216.68505046],\n",
       "       [218.63303009],\n",
       "       [218.84068274],\n",
       "       [214.25254799],\n",
       "       [212.40345058],\n",
       "       [217.43655529],\n",
       "       [222.64764799],\n",
       "       [221.82692561],\n",
       "       [225.31746778],\n",
       "       [226.38539569],\n",
       "       [224.54618651],\n",
       "       [221.55005541],\n",
       "       [223.22116483],\n",
       "       [222.80585953],\n",
       "       [217.72331372],\n",
       "       [218.75168875],\n",
       "       [220.01738109],\n",
       "       [214.95461171],\n",
       "       [215.3649729 ],\n",
       "       [213.32305518],\n",
       "       [210.30714764],\n",
       "       [212.00792173],\n",
       "       [215.36002879],\n",
       "       [214.18333044],\n",
       "       [214.5788593 ],\n",
       "       [214.43053598],\n",
       "       [214.81617661],\n",
       "       [215.08315859],\n",
       "       [214.7172944 ],\n",
       "       [214.31187732],\n",
       "       [215.05349393],\n",
       "       [215.31058769],\n",
       "       [209.85228945],\n",
       "       [211.19708757],\n",
       "       [212.43311525],\n",
       "       [211.62228109],\n",
       "       [213.86690736],\n",
       "       [216.28952161],\n",
       "       [215.07327037],\n",
       "       [216.54661536],\n",
       "       [217.38711419],\n",
       "       [212.62099145],\n",
       "       [214.70740618],\n",
       "       [224.53135418],\n",
       "       [222.38066601],\n",
       "       [222.16312514],\n",
       "       [214.23277155],\n",
       "       [204.21600323],\n",
       "       [204.61153209],\n",
       "       [203.8303626 ],\n",
       "       [204.39399122],\n",
       "       [207.95375094],\n",
       "       [211.82993374],\n",
       "       [214.06467178],\n",
       "       [215.23148191],\n",
       "       [214.14377756],\n",
       "       [213.34283162],\n",
       "       [215.99287496],\n",
       "       [220.55628916],\n",
       "       [220.29425129],\n",
       "       [217.27834375],\n",
       "       [223.1123944 ],\n",
       "       [222.8355242 ],\n",
       "       [218.94945317],\n",
       "       [211.47395777],\n",
       "       [210.76200582],\n",
       "       [207.35056943],\n",
       "       [209.0908964 ],\n",
       "       [207.50878097],\n",
       "       [208.28006224],\n",
       "       [213.70869581],\n",
       "       [208.01308026],\n",
       "       [209.61497214],\n",
       "       [211.12787002],\n",
       "       [203.8798037 ],\n",
       "       [200.22116177],\n",
       "       [208.18118003],\n",
       "       [205.37292514],\n",
       "       [197.59089487],\n",
       "       [203.1381871 ],\n",
       "       [200.4189262 ],\n",
       "       [210.87077626],\n",
       "       [208.69536754],\n",
       "       [204.56209098],\n",
       "       [207.48900453],\n",
       "       [213.61970182],\n",
       "       [207.88453339],\n",
       "       [206.79682903],\n",
       "       [215.30069946],\n",
       "       [229.31230924],\n",
       "       [228.02684045],\n",
       "       [225.59433798],\n",
       "       [227.06768297],\n",
       "       [228.2344931 ],\n",
       "       [223.00362396],\n",
       "       [218.04962502],\n",
       "       [213.32305518],\n",
       "       [214.9941646 ],\n",
       "       [214.07456001],\n",
       "       [209.80284834],\n",
       "       [211.73105152],\n",
       "       [210.78178227],\n",
       "       [209.86217767],\n",
       "       [209.03156707],\n",
       "       [209.70396613],\n",
       "       [205.60035423],\n",
       "       [207.44450753],\n",
       "       [211.90903951],\n",
       "       [215.05349393],\n",
       "       [212.57155035],\n",
       "       [215.10293503],\n",
       "       [214.38109487],\n",
       "       [211.76071619],\n",
       "       [204.72030253],\n",
       "       [201.35830724],\n",
       "       [202.84154045],\n",
       "       [203.93913303],\n",
       "       [201.82305364],\n",
       "       [200.78479039],\n",
       "       [207.47911631],\n",
       "       [209.46664882],\n",
       "       [213.87679558],\n",
       "       [205.31359581],\n",
       "       [204.78952008],\n",
       "       [205.70912467],\n",
       "       [209.82262479],\n",
       "       [206.43096483],\n",
       "       [214.68762973],\n",
       "       [213.83724269],\n",
       "       [216.5169507 ],\n",
       "       [210.32692408],\n",
       "       [210.7026765 ],\n",
       "       [209.10473991],\n",
       "       [205.98599487],\n",
       "       [203.47438662],\n",
       "       [198.27515979],\n",
       "       [196.19665565],\n",
       "       [200.10250311],\n",
       "       [198.19407638],\n",
       "       [201.95555581],\n",
       "       [202.43612337],\n",
       "       [196.20654387],\n",
       "       [198.97524587],\n",
       "       [194.43655223],\n",
       "       [195.45503904],\n",
       "       [193.33895965],\n",
       "       [185.12184764],\n",
       "       [191.01522761],\n",
       "       [193.57627697],\n",
       "       [191.59368857],\n",
       "       [188.50361937],\n",
       "       [186.46664575],\n",
       "       [183.18375624],\n",
       "       [184.84497744],\n",
       "       [185.35422084],\n",
       "       [184.79553633],\n",
       "       [183.10465046],\n",
       "       [183.29252667],\n",
       "       [181.32477061],\n",
       "       [180.79080665],\n",
       "       [186.86217461]])"
      ]
     },
     "execution_count": 28,
     "metadata": {},
     "output_type": "execute_result"
    }
   ],
   "source": [
    "# Predicting the price\n",
    "lr.predict(X_ls)"
   ]
  },
  {
   "cell_type": "code",
   "execution_count": 29,
   "metadata": {},
   "outputs": [
    {
     "data": {
      "text/plain": [
       "Text(0.5, 1.0, '1 Year CLosing Price vs Predicted Closing Price')"
      ]
     },
     "execution_count": 29,
     "metadata": {},
     "output_type": "execute_result"
    },
    {
     "data": {
      "image/png": "[encoded data removed]",
      "text/plain": [
       "<Figure size 864x576 with 1 Axes>"
      ]
     },
     "metadata": {
      "needs_background": "light"
     },
     "output_type": "display_data"
    }
   ],
   "source": [
    "plt.figure(figsize=(12,8))\n",
    "plt.scatter(MSFT_df_ls['Close/Last'], lr.predict(X_ls))\n",
    "plt.plot(X_ls, lr.predict(X_ls), color = 'red')\n",
    "plt.xlabel('Closing Price')\n",
    "plt.ylabel('Predicted Closing Price')\n",
    "plt.savefig('images/MSFT_ls.jpg', dpi=40)\n",
    "plt.grid()\n",
    "plt.title('1 Year CLosing Price vs Predicted Closing Price')"
   ]
  },
  {
   "cell_type": "code",
   "execution_count": null,
   "metadata": {},
   "outputs": [],
   "source": []
  }
 ],
 "metadata": {
  "kernelspec": {
   "display_name": "Python 3",
   "language": "python",
   "name": "python3"
  },
  "language_info": {
   "codemirror_mode": {
    "name": "ipython",
    "version": 3
   },
   "file_extension": ".py",
   "mimetype": "text/x-python",
   "name": "python",
   "nbconvert_exporter": "python",
   "pygments_lexer": "ipython3",
   "version": "3.8.5"
  }
 },
 "nbformat": 4,
 "nbformat_minor": 4
}
