{
 "cells": [
  {
   "cell_type": "code",
   "execution_count": 8,
   "metadata": {},
   "outputs": [],
   "source": [
    "#dependencies\n",
    "import pandas as pd\n",
    "import numpy as np\n",
    "import matplotlib.pyplot as plt\n",
    "import datetime\n",
    "import os\n",
    "import tensorflow as tf\n",
    "from tensorflow import keras\n",
    "from tensorflow.keras.utils import to_categorical\n",
    "from tensorflow.keras.models import Sequential\n",
    "from tensorflow.keras.layers import Dense\n",
    "from sklearn.model_selection import train_test_split\n",
    "from sklearn.preprocessing import LabelEncoder, MinMaxScaler\n",
    "from sklearn import model_selection\n",
    "from sklearn.svm import SVC\n",
    "from sklearn.linear_model import LinearRegression"
   ]
  },
  {
   "cell_type": "code",
   "execution_count": 9,
   "metadata": {},
   "outputs": [
    {
     "data": {
      "text/html": [
       "<div>\n",
       "<style scoped>\n",
       "    .dataframe tbody tr th:only-of-type {\n",
       "        vertical-align: middle;\n",
       "    }\n",
       "\n",
       "    .dataframe tbody tr th {\n",
       "        vertical-align: top;\n",
       "    }\n",
       "\n",
       "    .dataframe thead th {\n",
       "        text-align: right;\n",
       "    }\n",
       "</style>\n",
       "<table border=\"1\" class=\"dataframe\">\n",
       "  <thead>\n",
       "    <tr style=\"text-align: right;\">\n",
       "      <th></th>\n",
       "      <th>Date</th>\n",
       "      <th>Close/Last</th>\n",
       "      <th>Volume</th>\n",
       "      <th>Open</th>\n",
       "      <th>High</th>\n",
       "      <th>Low</th>\n",
       "    </tr>\n",
       "  </thead>\n",
       "  <tbody>\n",
       "    <tr>\n",
       "      <th>0</th>\n",
       "      <td>05/24/2021</td>\n",
       "      <td>$53.39</td>\n",
       "      <td>21128860</td>\n",
       "      <td>$52.96</td>\n",
       "      <td>$53.765</td>\n",
       "      <td>$52.79</td>\n",
       "    </tr>\n",
       "    <tr>\n",
       "      <th>1</th>\n",
       "      <td>05/21/2021</td>\n",
       "      <td>$52.43</td>\n",
       "      <td>24468370</td>\n",
       "      <td>$52.765</td>\n",
       "      <td>$52.93</td>\n",
       "      <td>$52.24</td>\n",
       "    </tr>\n",
       "    <tr>\n",
       "      <th>2</th>\n",
       "      <td>05/20/2021</td>\n",
       "      <td>$52.85</td>\n",
       "      <td>48830760</td>\n",
       "      <td>$50.41</td>\n",
       "      <td>$52.97</td>\n",
       "      <td>$50.1</td>\n",
       "    </tr>\n",
       "    <tr>\n",
       "      <th>3</th>\n",
       "      <td>05/19/2021</td>\n",
       "      <td>$52.47</td>\n",
       "      <td>29187940</td>\n",
       "      <td>$51.88</td>\n",
       "      <td>$52.66</td>\n",
       "      <td>$51.86</td>\n",
       "    </tr>\n",
       "    <tr>\n",
       "      <th>4</th>\n",
       "      <td>05/18/2021</td>\n",
       "      <td>$52.93</td>\n",
       "      <td>20177200</td>\n",
       "      <td>$52.8</td>\n",
       "      <td>$53.34</td>\n",
       "      <td>$52.74</td>\n",
       "    </tr>\n",
       "  </tbody>\n",
       "</table>\n",
       "</div>"
      ],
      "text/plain": [
       "         Date Close/Last    Volume     Open     High     Low\n",
       "0  05/24/2021     $53.39  21128860   $52.96  $53.765  $52.79\n",
       "1  05/21/2021     $52.43  24468370  $52.765   $52.93  $52.24\n",
       "2  05/20/2021     $52.85  48830760   $50.41   $52.97   $50.1\n",
       "3  05/19/2021     $52.47  29187940   $51.88   $52.66  $51.86\n",
       "4  05/18/2021     $52.93  20177200    $52.8   $53.34  $52.74"
      ]
     },
     "execution_count": 9,
     "metadata": {},
     "output_type": "execute_result"
    }
   ],
   "source": [
    "#load assesment file\n",
    "CSCO = \"resources/HistoricalData_CSCO.csv\"\n",
    "CSCO_df = pd.read_csv(CSCO)\n",
    "CSCO_df.head()"
   ]
  },
  {
   "cell_type": "markdown",
   "metadata": {},
   "source": [
    "CLEAN, RESHAPE AND CONVERT DATATYPE"
   ]
  },
  {
   "cell_type": "code",
   "execution_count": 10,
   "metadata": {},
   "outputs": [
    {
     "name": "stderr",
     "output_type": "stream",
     "text": [
      "<ipython-input-10-8171b38c4446>:2: FutureWarning: The default value of regex will change from True to False in a future version. In addition, single character regular expressions will*not* be treated as literal strings when regex=True.\n",
      "  CSCO_df['Close/Last'] = CSCO_df['Close/Last'].str.replace('$','')\n",
      "<ipython-input-10-8171b38c4446>:3: FutureWarning: The default value of regex will change from True to False in a future version. In addition, single character regular expressions will*not* be treated as literal strings when regex=True.\n",
      "  CSCO_df['Open'] = CSCO_df['Open'].str.replace('$','')\n",
      "<ipython-input-10-8171b38c4446>:4: FutureWarning: The default value of regex will change from True to False in a future version. In addition, single character regular expressions will*not* be treated as literal strings when regex=True.\n",
      "  CSCO_df['High'] = CSCO_df['High'].str.replace('$','')\n",
      "<ipython-input-10-8171b38c4446>:5: FutureWarning: The default value of regex will change from True to False in a future version. In addition, single character regular expressions will*not* be treated as literal strings when regex=True.\n",
      "  CSCO_df['Low'] = CSCO_df['Low'].str.replace('$','')\n"
     ]
    }
   ],
   "source": [
    "CSCO_df['Date']= pd.to_datetime(CSCO_df['Date'])\n",
    "CSCO_df['Close/Last'] = CSCO_df['Close/Last'].str.replace('$','')\n",
    "CSCO_df['Open'] = CSCO_df['Open'].str.replace('$','')\n",
    "CSCO_df['High'] = CSCO_df['High'].str.replace('$','')\n",
    "CSCO_df['Low'] = CSCO_df['Low'].str.replace('$','')\n",
    "CSCO_df = CSCO_df.apply( pd.to_numeric)"
   ]
  },
  {
   "cell_type": "markdown",
   "metadata": {},
   "source": [
    "FORMAT DATE COLUMN"
   ]
  },
  {
   "cell_type": "code",
   "execution_count": 11,
   "metadata": {},
   "outputs": [
    {
     "data": {
      "text/html": [
       "<div>\n",
       "<style scoped>\n",
       "    .dataframe tbody tr th:only-of-type {\n",
       "        vertical-align: middle;\n",
       "    }\n",
       "\n",
       "    .dataframe tbody tr th {\n",
       "        vertical-align: top;\n",
       "    }\n",
       "\n",
       "    .dataframe thead th {\n",
       "        text-align: right;\n",
       "    }\n",
       "</style>\n",
       "<table border=\"1\" class=\"dataframe\">\n",
       "  <thead>\n",
       "    <tr style=\"text-align: right;\">\n",
       "      <th></th>\n",
       "      <th>Date</th>\n",
       "      <th>Close/Last</th>\n",
       "      <th>Volume</th>\n",
       "      <th>Open</th>\n",
       "      <th>High</th>\n",
       "      <th>Low</th>\n",
       "    </tr>\n",
       "  </thead>\n",
       "  <tbody>\n",
       "    <tr>\n",
       "      <th>0</th>\n",
       "      <td>2021-05-24</td>\n",
       "      <td>53.39</td>\n",
       "      <td>21128860</td>\n",
       "      <td>52.960</td>\n",
       "      <td>53.765</td>\n",
       "      <td>52.79</td>\n",
       "    </tr>\n",
       "    <tr>\n",
       "      <th>1</th>\n",
       "      <td>2021-05-21</td>\n",
       "      <td>52.43</td>\n",
       "      <td>24468370</td>\n",
       "      <td>52.765</td>\n",
       "      <td>52.930</td>\n",
       "      <td>52.24</td>\n",
       "    </tr>\n",
       "    <tr>\n",
       "      <th>2</th>\n",
       "      <td>2021-05-20</td>\n",
       "      <td>52.85</td>\n",
       "      <td>48830760</td>\n",
       "      <td>50.410</td>\n",
       "      <td>52.970</td>\n",
       "      <td>50.10</td>\n",
       "    </tr>\n",
       "    <tr>\n",
       "      <th>3</th>\n",
       "      <td>2021-05-19</td>\n",
       "      <td>52.47</td>\n",
       "      <td>29187940</td>\n",
       "      <td>51.880</td>\n",
       "      <td>52.660</td>\n",
       "      <td>51.86</td>\n",
       "    </tr>\n",
       "    <tr>\n",
       "      <th>4</th>\n",
       "      <td>2021-05-18</td>\n",
       "      <td>52.93</td>\n",
       "      <td>20177200</td>\n",
       "      <td>52.800</td>\n",
       "      <td>53.340</td>\n",
       "      <td>52.74</td>\n",
       "    </tr>\n",
       "  </tbody>\n",
       "</table>\n",
       "</div>"
      ],
      "text/plain": [
       "        Date  Close/Last    Volume    Open    High    Low\n",
       "0 2021-05-24       53.39  21128860  52.960  53.765  52.79\n",
       "1 2021-05-21       52.43  24468370  52.765  52.930  52.24\n",
       "2 2021-05-20       52.85  48830760  50.410  52.970  50.10\n",
       "3 2021-05-19       52.47  29187940  51.880  52.660  51.86\n",
       "4 2021-05-18       52.93  20177200  52.800  53.340  52.74"
      ]
     },
     "execution_count": 11,
     "metadata": {},
     "output_type": "execute_result"
    }
   ],
   "source": [
    "CSCO_df['Date']= pd.to_datetime(CSCO_df['Date'])\n",
    "CSCO_df.head()"
   ]
  },
  {
   "cell_type": "code",
   "execution_count": 12,
   "metadata": {},
   "outputs": [
    {
     "data": {
      "text/html": [
       "<div>\n",
       "<style scoped>\n",
       "    .dataframe tbody tr th:only-of-type {\n",
       "        vertical-align: middle;\n",
       "    }\n",
       "\n",
       "    .dataframe tbody tr th {\n",
       "        vertical-align: top;\n",
       "    }\n",
       "\n",
       "    .dataframe thead th {\n",
       "        text-align: right;\n",
       "    }\n",
       "</style>\n",
       "<table border=\"1\" class=\"dataframe\">\n",
       "  <thead>\n",
       "    <tr style=\"text-align: right;\">\n",
       "      <th></th>\n",
       "      <th>Date</th>\n",
       "      <th>Close/Last</th>\n",
       "      <th>Volume</th>\n",
       "      <th>Open</th>\n",
       "      <th>High</th>\n",
       "      <th>Low</th>\n",
       "      <th>Open_Close</th>\n",
       "      <th>High_Low</th>\n",
       "      <th>Increase_Decrease</th>\n",
       "      <th>Buy_Sell_on_Open</th>\n",
       "      <th>Buy_Sell</th>\n",
       "      <th>Returns</th>\n",
       "    </tr>\n",
       "  </thead>\n",
       "  <tbody>\n",
       "    <tr>\n",
       "      <th>1</th>\n",
       "      <td>2021-05-21</td>\n",
       "      <td>52.43</td>\n",
       "      <td>24468370</td>\n",
       "      <td>52.765</td>\n",
       "      <td>52.93</td>\n",
       "      <td>52.24</td>\n",
       "      <td>0.006349</td>\n",
       "      <td>0.013208</td>\n",
       "      <td>1</td>\n",
       "      <td>0</td>\n",
       "      <td>1</td>\n",
       "      <td>-0.017981</td>\n",
       "    </tr>\n",
       "    <tr>\n",
       "      <th>2</th>\n",
       "      <td>2021-05-20</td>\n",
       "      <td>52.85</td>\n",
       "      <td>48830760</td>\n",
       "      <td>50.410</td>\n",
       "      <td>52.97</td>\n",
       "      <td>50.10</td>\n",
       "      <td>-0.048403</td>\n",
       "      <td>0.057285</td>\n",
       "      <td>0</td>\n",
       "      <td>1</td>\n",
       "      <td>0</td>\n",
       "      <td>0.008011</td>\n",
       "    </tr>\n",
       "    <tr>\n",
       "      <th>3</th>\n",
       "      <td>2021-05-19</td>\n",
       "      <td>52.47</td>\n",
       "      <td>29187940</td>\n",
       "      <td>51.880</td>\n",
       "      <td>52.66</td>\n",
       "      <td>51.86</td>\n",
       "      <td>-0.011372</td>\n",
       "      <td>0.015426</td>\n",
       "      <td>0</td>\n",
       "      <td>1</td>\n",
       "      <td>1</td>\n",
       "      <td>-0.007190</td>\n",
       "    </tr>\n",
       "    <tr>\n",
       "      <th>4</th>\n",
       "      <td>2021-05-18</td>\n",
       "      <td>52.93</td>\n",
       "      <td>20177200</td>\n",
       "      <td>52.800</td>\n",
       "      <td>53.34</td>\n",
       "      <td>52.74</td>\n",
       "      <td>-0.002462</td>\n",
       "      <td>0.011377</td>\n",
       "      <td>0</td>\n",
       "      <td>0</td>\n",
       "      <td>1</td>\n",
       "      <td>0.008767</td>\n",
       "    </tr>\n",
       "    <tr>\n",
       "      <th>5</th>\n",
       "      <td>2021-05-17</td>\n",
       "      <td>52.94</td>\n",
       "      <td>15728680</td>\n",
       "      <td>52.760</td>\n",
       "      <td>53.15</td>\n",
       "      <td>52.68</td>\n",
       "      <td>-0.003412</td>\n",
       "      <td>0.008922</td>\n",
       "      <td>0</td>\n",
       "      <td>1</td>\n",
       "      <td>0</td>\n",
       "      <td>0.000189</td>\n",
       "    </tr>\n",
       "  </tbody>\n",
       "</table>\n",
       "</div>"
      ],
      "text/plain": [
       "        Date  Close/Last    Volume    Open   High    Low  Open_Close  \\\n",
       "1 2021-05-21       52.43  24468370  52.765  52.93  52.24    0.006349   \n",
       "2 2021-05-20       52.85  48830760  50.410  52.97  50.10   -0.048403   \n",
       "3 2021-05-19       52.47  29187940  51.880  52.66  51.86   -0.011372   \n",
       "4 2021-05-18       52.93  20177200  52.800  53.34  52.74   -0.002462   \n",
       "5 2021-05-17       52.94  15728680  52.760  53.15  52.68   -0.003412   \n",
       "\n",
       "   High_Low  Increase_Decrease  Buy_Sell_on_Open  Buy_Sell   Returns  \n",
       "1  0.013208                  1                 0         1 -0.017981  \n",
       "2  0.057285                  0                 1         0  0.008011  \n",
       "3  0.015426                  0                 1         1 -0.007190  \n",
       "4  0.011377                  0                 0         1  0.008767  \n",
       "5  0.008922                  0                 1         0  0.000189  "
      ]
     },
     "execution_count": 12,
     "metadata": {},
     "output_type": "execute_result"
    }
   ],
   "source": [
    "CSCO_df['Open_Close'] = (CSCO_df['Open'] - CSCO_df['Close/Last'])/CSCO_df['Open']\n",
    "CSCO_df['High_Low'] = (CSCO_df['High'] - CSCO_df['Low'])/CSCO_df['Low']\n",
    "CSCO_df['Increase_Decrease'] = np.where(CSCO_df['Volume'].shift(-1) > CSCO_df['Volume'],1,0)\n",
    "CSCO_df['Buy_Sell_on_Open'] = np.where(CSCO_df['Open'].shift(-1) > CSCO_df['Open'],1,0)\n",
    "CSCO_df['Buy_Sell'] = np.where(CSCO_df['Close/Last'].shift(-1) > CSCO_df['Close/Last'],1,0)\n",
    "CSCO_df['Returns'] = CSCO_df['Close/Last'].pct_change()\n",
    "CSCO_df = CSCO_df.dropna()\n",
    "CSCO_df.head()"
   ]
  },
  {
   "cell_type": "markdown",
   "metadata": {},
   "source": [
    "SPLIT DATAFRAME"
   ]
  },
  {
   "cell_type": "code",
   "execution_count": 13,
   "metadata": {},
   "outputs": [
    {
     "data": {
      "text/html": [
       "<div>\n",
       "<style scoped>\n",
       "    .dataframe tbody tr th:only-of-type {\n",
       "        vertical-align: middle;\n",
       "    }\n",
       "\n",
       "    .dataframe tbody tr th {\n",
       "        vertical-align: top;\n",
       "    }\n",
       "\n",
       "    .dataframe thead th {\n",
       "        text-align: right;\n",
       "    }\n",
       "</style>\n",
       "<table border=\"1\" class=\"dataframe\">\n",
       "  <thead>\n",
       "    <tr style=\"text-align: right;\">\n",
       "      <th></th>\n",
       "      <th>Date</th>\n",
       "      <th>Close/Last</th>\n",
       "      <th>Volume</th>\n",
       "      <th>Open</th>\n",
       "      <th>High</th>\n",
       "      <th>Low</th>\n",
       "      <th>Open_Close</th>\n",
       "      <th>High_Low</th>\n",
       "      <th>Increase_Decrease</th>\n",
       "      <th>Buy_Sell_on_Open</th>\n",
       "      <th>Buy_Sell</th>\n",
       "      <th>Returns</th>\n",
       "    </tr>\n",
       "  </thead>\n",
       "  <tbody>\n",
       "    <tr>\n",
       "      <th>252</th>\n",
       "      <td>2020-05-22</td>\n",
       "      <td>44.900</td>\n",
       "      <td>12592810</td>\n",
       "      <td>44.67</td>\n",
       "      <td>44.950</td>\n",
       "      <td>44.1200</td>\n",
       "      <td>-0.005149</td>\n",
       "      <td>0.018812</td>\n",
       "      <td>1</td>\n",
       "      <td>1</td>\n",
       "      <td>0</td>\n",
       "      <td>0.001338</td>\n",
       "    </tr>\n",
       "    <tr>\n",
       "      <th>253</th>\n",
       "      <td>2020-05-21</td>\n",
       "      <td>44.640</td>\n",
       "      <td>18674890</td>\n",
       "      <td>45.45</td>\n",
       "      <td>45.655</td>\n",
       "      <td>44.5550</td>\n",
       "      <td>0.017822</td>\n",
       "      <td>0.024689</td>\n",
       "      <td>1</td>\n",
       "      <td>0</td>\n",
       "      <td>1</td>\n",
       "      <td>-0.005791</td>\n",
       "    </tr>\n",
       "    <tr>\n",
       "      <th>254</th>\n",
       "      <td>2020-05-20</td>\n",
       "      <td>45.440</td>\n",
       "      <td>20184460</td>\n",
       "      <td>45.05</td>\n",
       "      <td>45.820</td>\n",
       "      <td>45.0300</td>\n",
       "      <td>-0.008657</td>\n",
       "      <td>0.017544</td>\n",
       "      <td>1</td>\n",
       "      <td>0</td>\n",
       "      <td>0</td>\n",
       "      <td>0.017921</td>\n",
       "    </tr>\n",
       "    <tr>\n",
       "      <th>255</th>\n",
       "      <td>2020-05-19</td>\n",
       "      <td>44.605</td>\n",
       "      <td>24345420</td>\n",
       "      <td>44.83</td>\n",
       "      <td>44.980</td>\n",
       "      <td>44.4100</td>\n",
       "      <td>0.005019</td>\n",
       "      <td>0.012835</td>\n",
       "      <td>1</td>\n",
       "      <td>1</td>\n",
       "      <td>1</td>\n",
       "      <td>-0.018376</td>\n",
       "    </tr>\n",
       "    <tr>\n",
       "      <th>256</th>\n",
       "      <td>2020-05-18</td>\n",
       "      <td>45.060</td>\n",
       "      <td>26980080</td>\n",
       "      <td>45.21</td>\n",
       "      <td>45.295</td>\n",
       "      <td>44.3301</td>\n",
       "      <td>0.003318</td>\n",
       "      <td>0.021766</td>\n",
       "      <td>1</td>\n",
       "      <td>0</td>\n",
       "      <td>0</td>\n",
       "      <td>0.010201</td>\n",
       "    </tr>\n",
       "  </tbody>\n",
       "</table>\n",
       "</div>"
      ],
      "text/plain": [
       "          Date  Close/Last    Volume   Open    High      Low  Open_Close  \\\n",
       "252 2020-05-22      44.900  12592810  44.67  44.950  44.1200   -0.005149   \n",
       "253 2020-05-21      44.640  18674890  45.45  45.655  44.5550    0.017822   \n",
       "254 2020-05-20      45.440  20184460  45.05  45.820  45.0300   -0.008657   \n",
       "255 2020-05-19      44.605  24345420  44.83  44.980  44.4100    0.005019   \n",
       "256 2020-05-18      45.060  26980080  45.21  45.295  44.3301    0.003318   \n",
       "\n",
       "     High_Low  Increase_Decrease  Buy_Sell_on_Open  Buy_Sell   Returns  \n",
       "252  0.018812                  1                 1         0  0.001338  \n",
       "253  0.024689                  1                 0         1 -0.005791  \n",
       "254  0.017544                  1                 0         0  0.017921  \n",
       "255  0.012835                  1                 1         1 -0.018376  \n",
       "256  0.021766                  1                 0         0  0.010201  "
      ]
     },
     "execution_count": 13,
     "metadata": {},
     "output_type": "execute_result"
    }
   ],
   "source": [
    "#setup datetime for first 4 years\n",
    "start_date = \"2016-05-24\"\n",
    "end_date = \"2020-05-24\"\n",
    "\n",
    "after_start_date = CSCO_df[\"Date\"] >= start_date\n",
    "before_end_date = CSCO_df[\"Date\"] <= end_date\n",
    "between_two_dates = after_start_date & before_end_date\n",
    "CSCO_df_4 = CSCO_df.loc[between_two_dates]\n",
    "CSCO_df_4.head()"
   ]
  },
  {
   "cell_type": "markdown",
   "metadata": {},
   "source": [
    "SPLIT DATAFRAME"
   ]
  },
  {
   "cell_type": "code",
   "execution_count": 14,
   "metadata": {},
   "outputs": [
    {
     "data": {
      "text/html": [
       "<div>\n",
       "<style scoped>\n",
       "    .dataframe tbody tr th:only-of-type {\n",
       "        vertical-align: middle;\n",
       "    }\n",
       "\n",
       "    .dataframe tbody tr th {\n",
       "        vertical-align: top;\n",
       "    }\n",
       "\n",
       "    .dataframe thead th {\n",
       "        text-align: right;\n",
       "    }\n",
       "</style>\n",
       "<table border=\"1\" class=\"dataframe\">\n",
       "  <thead>\n",
       "    <tr style=\"text-align: right;\">\n",
       "      <th></th>\n",
       "      <th>Date</th>\n",
       "      <th>Close/Last</th>\n",
       "      <th>Volume</th>\n",
       "      <th>Open</th>\n",
       "      <th>High</th>\n",
       "      <th>Low</th>\n",
       "      <th>Open_Close</th>\n",
       "      <th>High_Low</th>\n",
       "      <th>Increase_Decrease</th>\n",
       "      <th>Buy_Sell_on_Open</th>\n",
       "      <th>Buy_Sell</th>\n",
       "      <th>Returns</th>\n",
       "    </tr>\n",
       "  </thead>\n",
       "  <tbody>\n",
       "    <tr>\n",
       "      <th>1</th>\n",
       "      <td>2021-05-21</td>\n",
       "      <td>52.43</td>\n",
       "      <td>24468370</td>\n",
       "      <td>52.765</td>\n",
       "      <td>52.93</td>\n",
       "      <td>52.24</td>\n",
       "      <td>0.006349</td>\n",
       "      <td>0.013208</td>\n",
       "      <td>1</td>\n",
       "      <td>0</td>\n",
       "      <td>1</td>\n",
       "      <td>-0.017981</td>\n",
       "    </tr>\n",
       "    <tr>\n",
       "      <th>2</th>\n",
       "      <td>2021-05-20</td>\n",
       "      <td>52.85</td>\n",
       "      <td>48830760</td>\n",
       "      <td>50.410</td>\n",
       "      <td>52.97</td>\n",
       "      <td>50.10</td>\n",
       "      <td>-0.048403</td>\n",
       "      <td>0.057285</td>\n",
       "      <td>0</td>\n",
       "      <td>1</td>\n",
       "      <td>0</td>\n",
       "      <td>0.008011</td>\n",
       "    </tr>\n",
       "    <tr>\n",
       "      <th>3</th>\n",
       "      <td>2021-05-19</td>\n",
       "      <td>52.47</td>\n",
       "      <td>29187940</td>\n",
       "      <td>51.880</td>\n",
       "      <td>52.66</td>\n",
       "      <td>51.86</td>\n",
       "      <td>-0.011372</td>\n",
       "      <td>0.015426</td>\n",
       "      <td>0</td>\n",
       "      <td>1</td>\n",
       "      <td>1</td>\n",
       "      <td>-0.007190</td>\n",
       "    </tr>\n",
       "    <tr>\n",
       "      <th>4</th>\n",
       "      <td>2021-05-18</td>\n",
       "      <td>52.93</td>\n",
       "      <td>20177200</td>\n",
       "      <td>52.800</td>\n",
       "      <td>53.34</td>\n",
       "      <td>52.74</td>\n",
       "      <td>-0.002462</td>\n",
       "      <td>0.011377</td>\n",
       "      <td>0</td>\n",
       "      <td>0</td>\n",
       "      <td>1</td>\n",
       "      <td>0.008767</td>\n",
       "    </tr>\n",
       "    <tr>\n",
       "      <th>5</th>\n",
       "      <td>2021-05-17</td>\n",
       "      <td>52.94</td>\n",
       "      <td>15728680</td>\n",
       "      <td>52.760</td>\n",
       "      <td>53.15</td>\n",
       "      <td>52.68</td>\n",
       "      <td>-0.003412</td>\n",
       "      <td>0.008922</td>\n",
       "      <td>0</td>\n",
       "      <td>1</td>\n",
       "      <td>0</td>\n",
       "      <td>0.000189</td>\n",
       "    </tr>\n",
       "  </tbody>\n",
       "</table>\n",
       "</div>"
      ],
      "text/plain": [
       "        Date  Close/Last    Volume    Open   High    Low  Open_Close  \\\n",
       "1 2021-05-21       52.43  24468370  52.765  52.93  52.24    0.006349   \n",
       "2 2021-05-20       52.85  48830760  50.410  52.97  50.10   -0.048403   \n",
       "3 2021-05-19       52.47  29187940  51.880  52.66  51.86   -0.011372   \n",
       "4 2021-05-18       52.93  20177200  52.800  53.34  52.74   -0.002462   \n",
       "5 2021-05-17       52.94  15728680  52.760  53.15  52.68   -0.003412   \n",
       "\n",
       "   High_Low  Increase_Decrease  Buy_Sell_on_Open  Buy_Sell   Returns  \n",
       "1  0.013208                  1                 0         1 -0.017981  \n",
       "2  0.057285                  0                 1         0  0.008011  \n",
       "3  0.015426                  0                 1         1 -0.007190  \n",
       "4  0.011377                  0                 0         1  0.008767  \n",
       "5  0.008922                  0                 1         0  0.000189  "
      ]
     },
     "execution_count": 14,
     "metadata": {},
     "output_type": "execute_result"
    }
   ],
   "source": [
    "#setup datetime for last year\n",
    "start_date = \"2020-05-25\"\n",
    "end_date = \"2021-05-24\"\n",
    "\n",
    "after_start_date = CSCO_df[\"Date\"] >= start_date\n",
    "before_end_date = CSCO_df[\"Date\"] <= end_date\n",
    "between_two_dates = after_start_date & before_end_date\n",
    "CSCO_df_ls = CSCO_df.loc[between_two_dates]\n",
    "CSCO_df_ls.head()"
   ]
  },
  {
   "cell_type": "markdown",
   "metadata": {},
   "source": [
    "PLOT FIRST DF (4YEARS)"
   ]
  },
  {
   "cell_type": "code",
   "execution_count": 15,
   "metadata": {},
   "outputs": [
    {
     "data": {
      "image/png": "[encoded data removed]",
      "text/plain": [
       "<Figure size 864x576 with 1 Axes>"
      ]
     },
     "metadata": {
      "needs_background": "light"
     },
     "output_type": "display_data"
    }
   ],
   "source": [
    "plt.figure(figsize=(12,8))\n",
    "plt.plot(CSCO_df_4['Close/Last'])\n",
    "plt.title(\"Cisco Line Chart\")\n",
    "plt.xlabel(\"Date\")\n",
    "plt.ylabel(\"Close\")\n",
    "plt.show()"
   ]
  },
  {
   "cell_type": "markdown",
   "metadata": {},
   "source": [
    "PLOT SECOND DF (LAST YEAR)"
   ]
  },
  {
   "cell_type": "code",
   "execution_count": 16,
   "metadata": {},
   "outputs": [
    {
     "data": {
      "image/png": "[encoded data removed]",
      "text/plain": [
       "<Figure size 864x576 with 1 Axes>"
      ]
     },
     "metadata": {
      "needs_background": "light"
     },
     "output_type": "display_data"
    }
   ],
   "source": [
    "plt.figure(figsize=(12,8))\n",
    "plt.plot(CSCO_df_ls['Close/Last'])\n",
    "plt.title(\"Cisco Line Chart\")\n",
    "plt.xlabel(\"Date\")\n",
    "plt.ylabel(\"Close\")\n",
    "plt.show()"
   ]
  },
  {
   "cell_type": "markdown",
   "metadata": {},
   "source": [
    "SHAPPING, FITTING, TRAINING, TESTING ML ON 1ST DF"
   ]
  },
  {
   "cell_type": "code",
   "execution_count": 17,
   "metadata": {},
   "outputs": [
    {
     "data": {
      "text/plain": [
       "(1006, 12)"
      ]
     },
     "execution_count": 17,
     "metadata": {},
     "output_type": "execute_result"
    }
   ],
   "source": [
    "CSCO_df_4.shape"
   ]
  },
  {
   "cell_type": "code",
   "execution_count": 18,
   "metadata": {},
   "outputs": [],
   "source": [
    "X = np.array(CSCO_df_4['Open']).reshape(1006,-1)\n",
    "Y = np.array(CSCO_df_4['Close/Last']).reshape(1006,-1)"
   ]
  },
  {
   "cell_type": "code",
   "execution_count": 19,
   "metadata": {},
   "outputs": [],
   "source": [
    "from sklearn.linear_model import LinearRegression"
   ]
  },
  {
   "cell_type": "code",
   "execution_count": 20,
   "metadata": {},
   "outputs": [],
   "source": [
    "lr = LinearRegression()"
   ]
  },
  {
   "cell_type": "code",
   "execution_count": 21,
   "metadata": {},
   "outputs": [
    {
     "data": {
      "text/plain": [
       "LinearRegression()"
      ]
     },
     "execution_count": 21,
     "metadata": {},
     "output_type": "execute_result"
    }
   ],
   "source": [
    "lr.fit(X, Y)"
   ]
  },
  {
   "cell_type": "code",
   "execution_count": 22,
   "metadata": {},
   "outputs": [
    {
     "name": "stdout",
     "output_type": "stream",
     "text": [
      "Linear Regression intercept: [0.18821674]\n",
      "coefficient count: 1\n"
     ]
    }
   ],
   "source": [
    "print('Linear Regression intercept:', lr.intercept_)\n",
    "print('coefficient count:', len(lr.coef_))"
   ]
  },
  {
   "cell_type": "code",
   "execution_count": 23,
   "metadata": {},
   "outputs": [
    {
     "name": "stdout",
     "output_type": "stream",
     "text": [
      "Accuracy: 0.9959163112941813\n"
     ]
    }
   ],
   "source": [
    "from sklearn.metrics import accuracy_score\n",
    "print('Accuracy:', lr.score(X, Y))"
   ]
  },
  {
   "cell_type": "code",
   "execution_count": 24,
   "metadata": {},
   "outputs": [
    {
     "data": {
      "text/plain": [
       "array([[44.65815329],\n",
       "       [45.43465991],\n",
       "       [45.03645139],\n",
       "       ...,\n",
       "       [29.00855843],\n",
       "       [28.91896151],\n",
       "       [28.64021555]])"
      ]
     },
     "execution_count": 24,
     "metadata": {},
     "output_type": "execute_result"
    }
   ],
   "source": [
    "# Predicting the price\n",
    "lr.predict(X)"
   ]
  },
  {
   "cell_type": "code",
   "execution_count": 25,
   "metadata": {},
   "outputs": [
    {
     "data": {
      "text/plain": [
       "252         NaN\n",
       "253   -0.005791\n",
       "254    0.017921\n",
       "255   -0.018376\n",
       "256    0.010201\n",
       "Name: Close/Last, dtype: float64"
      ]
     },
     "execution_count": 25,
     "metadata": {},
     "output_type": "execute_result"
    }
   ],
   "source": [
    "#daily Return\n",
    "DA_RE = CSCO_df_4['Close/Last'].pct_change(1)\n",
    "DA_RE.head()"
   ]
  },
  {
   "cell_type": "code",
   "execution_count": 31,
   "metadata": {},
   "outputs": [
    {
     "data": {
      "text/plain": [
       "Text(0.5, 1.0, '4 Years CLosing Price vs Predicted Closing Price')"
      ]
     },
     "execution_count": 31,
     "metadata": {},
     "output_type": "execute_result"
    },
    {
     "data": {
      "image/png": "[encoded data removed]",
      "text/plain": [
       "<Figure size 864x576 with 1 Axes>"
      ]
     },
     "metadata": {
      "needs_background": "light"
     },
     "output_type": "display_data"
    }
   ],
   "source": [
    "plt.figure(figsize=(12,8))\n",
    "plt.scatter(CSCO_df_4['Close/Last'], lr.predict(X))\n",
    "plt.plot(X, lr.predict(X), color = 'red')\n",
    "plt.xlabel('Closing Price')\n",
    "plt.ylabel('Predicted Closing Price')\n",
    "plt.savefig('images/CSCO_4y.jpg', dpi=40)\n",
    "plt.grid()\n",
    "plt.title('4 Years CLosing Price vs Predicted Closing Price')"
   ]
  },
  {
   "cell_type": "markdown",
   "metadata": {},
   "source": [
    "TRAINING, TESTING ML ON 2ND DF"
   ]
  },
  {
   "cell_type": "code",
   "execution_count": 32,
   "metadata": {},
   "outputs": [
    {
     "data": {
      "text/plain": [
       "(251, 12)"
      ]
     },
     "execution_count": 32,
     "metadata": {},
     "output_type": "execute_result"
    }
   ],
   "source": [
    "CSCO_df_ls.shape"
   ]
  },
  {
   "cell_type": "code",
   "execution_count": 34,
   "metadata": {},
   "outputs": [],
   "source": [
    "X_ls = np.array(CSCO_df_ls['Open']).reshape(251,-1)\n",
    "Y_ls = np.array(CSCO_df_ls['Close/Last']).reshape(251,-1)"
   ]
  },
  {
   "cell_type": "code",
   "execution_count": 35,
   "metadata": {},
   "outputs": [
    {
     "data": {
      "text/plain": [
       "LinearRegression()"
      ]
     },
     "execution_count": 35,
     "metadata": {},
     "output_type": "execute_result"
    }
   ],
   "source": [
    "lr.fit(X_ls, Y_ls)"
   ]
  },
  {
   "cell_type": "code",
   "execution_count": 36,
   "metadata": {},
   "outputs": [
    {
     "name": "stdout",
     "output_type": "stream",
     "text": [
      "Linear Regression intercept: [-0.291846]\n",
      "coefficient count: 1\n"
     ]
    }
   ],
   "source": [
    "print('Linear Regression intercept:', lr.intercept_)\n",
    "print('coefficient count:', len(lr.coef_))"
   ]
  },
  {
   "cell_type": "code",
   "execution_count": 37,
   "metadata": {},
   "outputs": [
    {
     "name": "stdout",
     "output_type": "stream",
     "text": [
      "Accuracy: 0.9828976853820317\n"
     ]
    }
   ],
   "source": [
    "print('Accuracy:', lr.score(X_ls, Y_ls))"
   ]
  },
  {
   "cell_type": "code",
   "execution_count": 38,
   "metadata": {},
   "outputs": [
    {
     "data": {
      "text/plain": [
       "array([[52.88161495],\n",
       "       [50.50838458],\n",
       "       [51.98976404],\n",
       "       [52.91688589],\n",
       "       [52.87657624],\n",
       "       [53.04789223],\n",
       "       [52.2215445 ],\n",
       "       [52.29208638],\n",
       "       [53.21920823],\n",
       "       [54.09594301],\n",
       "       [52.59440872],\n",
       "       [51.17349373],\n",
       "       [51.09287443],\n",
       "       [51.21380337],\n",
       "       [51.31457748],\n",
       "       [51.3246549 ],\n",
       "       [51.28434525],\n",
       "       [51.66728688],\n",
       "       [51.6874417 ],\n",
       "       [51.75798358],\n",
       "       [51.61034951],\n",
       "       [51.91922216],\n",
       "       [51.9494544 ],\n",
       "       [52.70526025],\n",
       "       [52.63975708],\n",
       "       [52.56417649],\n",
       "       [51.86883511],\n",
       "       [51.61689982],\n",
       "       [51.74790617],\n",
       "       [52.18123486],\n",
       "       [51.93937699],\n",
       "       [52.05022851],\n",
       "       [52.12077039],\n",
       "       [52.09053816],\n",
       "       [51.73581328],\n",
       "       [51.8587577 ],\n",
       "       [51.93937699],\n",
       "       [52.2215445 ],\n",
       "       [52.51459563],\n",
       "       [50.69985539],\n",
       "       [50.67466186],\n",
       "       [50.03474624],\n",
       "       [50.11536553],\n",
       "       [49.02700511],\n",
       "       [48.79522465],\n",
       "       [48.60375383],\n",
       "       [49.70219167],\n",
       "       [49.27894039],\n",
       "       [48.98669546],\n",
       "       [48.89599876],\n",
       "       [48.59367642],\n",
       "       [48.55336678],\n",
       "       [47.902366  ],\n",
       "       [46.30610405],\n",
       "       [45.50595759],\n",
       "       [45.19255009],\n",
       "       [45.48983373],\n",
       "       [45.99471204],\n",
       "       [45.27820809],\n",
       "       [45.6409949 ],\n",
       "       [45.6460336 ],\n",
       "       [45.29836291],\n",
       "       [45.31851774],\n",
       "       [45.34874997],\n",
       "       [46.60842639],\n",
       "       [46.45726522],\n",
       "       [46.38168463],\n",
       "       [47.334     ],\n",
       "       [47.50027729],\n",
       "       [47.42368896],\n",
       "       [46.21540734],\n",
       "       [48.85165815],\n",
       "       [48.64406348],\n",
       "       [47.64639976],\n",
       "       [45.93323983],\n",
       "       [45.81231089],\n",
       "       [45.58053043],\n",
       "       [44.97588575],\n",
       "       [44.90534387],\n",
       "       [45.97758044],\n",
       "       [45.29836291],\n",
       "       [44.94061481],\n",
       "       [45.09681469],\n",
       "       [44.80456976],\n",
       "       [45.25805327],\n",
       "       [45.38905961],\n",
       "       [45.38905961],\n",
       "       [45.01619539],\n",
       "       [44.92549869],\n",
       "       [45.34874997],\n",
       "       [45.35882738],\n",
       "       [45.20766621],\n",
       "       [44.53247965],\n",
       "       [44.25031213],\n",
       "       [44.17977025],\n",
       "       [43.72628674],\n",
       "       [44.36116366],\n",
       "       [44.43170554],\n",
       "       [44.79449235],\n",
       "       [45.02627281],\n",
       "       [44.98596316],\n",
       "       [44.50224742],\n",
       "       [44.70379564],\n",
       "       [44.49217001],\n",
       "       [44.52240224],\n",
       "       [44.95573093],\n",
       "       [44.96580834],\n",
       "       [44.74914399],\n",
       "       [44.44178295],\n",
       "       [44.32085401],\n",
       "       [43.98829944],\n",
       "       [44.59294412],\n",
       "       [44.52240224],\n",
       "       [44.25635858],\n",
       "       [44.33798561],\n",
       "       [43.93791238],\n",
       "       [43.82706086],\n",
       "       [43.43404181],\n",
       "       [43.05110018],\n",
       "       [42.47668774],\n",
       "       [42.89490031],\n",
       "       [42.81931972],\n",
       "       [42.1743654 ],\n",
       "       [41.05577274],\n",
       "       [41.07592756],\n",
       "       [41.0255405 ],\n",
       "       [41.93250752],\n",
       "       [41.95266235],\n",
       "       [41.77126894],\n",
       "       [41.22708873],\n",
       "       [38.98990341],\n",
       "       [39.02013565],\n",
       "       [38.21394274],\n",
       "       [39.93718008],\n",
       "       [37.558911  ],\n",
       "       [37.01473079],\n",
       "       [37.02581594],\n",
       "       [36.34962164],\n",
       "       [36.17830565],\n",
       "       [35.57869967],\n",
       "       [35.49304168],\n",
       "       [36.30427329],\n",
       "       [37.3775176 ],\n",
       "       [38.40541355],\n",
       "       [38.93951636],\n",
       "       [38.85889706],\n",
       "       [39.32245799],\n",
       "       [39.45346433],\n",
       "       [40.16896054],\n",
       "       [39.89687043],\n",
       "       [39.48369657],\n",
       "       [39.8666382 ],\n",
       "       [40.56197958],\n",
       "       [39.94725749],\n",
       "       [40.16392183],\n",
       "       [39.81625114],\n",
       "       [38.98990341],\n",
       "       [38.50618767],\n",
       "       [38.48603285],\n",
       "       [38.04867319],\n",
       "       [39.11083235],\n",
       "       [39.10075494],\n",
       "       [39.08060011],\n",
       "       [39.20656776],\n",
       "       [37.76045923],\n",
       "       [38.0023171 ],\n",
       "       [39.2418387 ],\n",
       "       [39.19145164],\n",
       "       [39.32245799],\n",
       "       [40.19919277],\n",
       "       [39.67516738],\n",
       "       [40.74337299],\n",
       "       [40.53174735],\n",
       "       [40.23446371],\n",
       "       [39.7809802 ],\n",
       "       [40.0480316 ],\n",
       "       [40.11857348],\n",
       "       [40.06818643],\n",
       "       [41.22708873],\n",
       "       [41.78134635],\n",
       "       [42.07359128],\n",
       "       [42.03328164],\n",
       "       [42.13405575],\n",
       "       [42.1743654 ],\n",
       "       [42.43637809],\n",
       "       [41.68057224],\n",
       "       [42.2650621 ],\n",
       "       [42.10382352],\n",
       "       [42.08366869],\n",
       "       [41.90227529],\n",
       "       [42.13405575],\n",
       "       [42.16428799],\n",
       "       [42.58753926],\n",
       "       [42.52707479],\n",
       "       [43.83713827],\n",
       "       [47.35415483],\n",
       "       [47.97895433],\n",
       "       [47.23322589],\n",
       "       [47.40454188],\n",
       "       [47.30376777],\n",
       "       [47.74717387],\n",
       "       [47.08206472],\n",
       "       [47.21307107],\n",
       "       [46.45222651],\n",
       "       [46.19525252],\n",
       "       [46.46734263],\n",
       "       [47.05183249],\n",
       "       [46.72935532],\n",
       "       [47.56578046],\n",
       "       [47.04679378],\n",
       "       [47.08811117],\n",
       "       [47.35415483],\n",
       "       [46.73943273],\n",
       "       [46.10455582],\n",
       "       [45.76192383],\n",
       "       [46.56811674],\n",
       "       [45.5502982 ],\n",
       "       [46.94098096],\n",
       "       [46.7998972 ],\n",
       "       [46.66889086],\n",
       "       [45.65107231],\n",
       "       [46.18517511],\n",
       "       [46.13478805],\n",
       "       [46.13478805],\n",
       "       [46.60842639],\n",
       "       [46.21036864],\n",
       "       [46.40687816],\n",
       "       [45.17642624],\n",
       "       [44.82472458],\n",
       "       [45.34673449],\n",
       "       [45.98362688],\n",
       "       [45.16735657],\n",
       "       [46.32625887],\n",
       "       [45.85262054],\n",
       "       [46.82005203],\n",
       "       [47.48516117],\n",
       "       [44.16969284],\n",
       "       [45.01619539],\n",
       "       [47.0619099 ],\n",
       "       [47.73709646],\n",
       "       [48.09988327],\n",
       "       [47.53554823],\n",
       "       [47.34407742],\n",
       "       [46.84020685],\n",
       "       [47.05183249],\n",
       "       [46.46734263],\n",
       "       [47.22314848],\n",
       "       [46.10455582],\n",
       "       [45.96347206],\n",
       "       [45.09883017],\n",
       "       [45.84254313]])"
      ]
     },
     "execution_count": 38,
     "metadata": {},
     "output_type": "execute_result"
    }
   ],
   "source": [
    "# Predicting the price\n",
    "lr.predict(X_ls)"
   ]
  },
  {
   "cell_type": "code",
   "execution_count": 39,
   "metadata": {},
   "outputs": [
    {
     "data": {
      "text/plain": [
       "Text(0.5, 1.0, '1 Year CLosing Price vs Predicted Closing Price')"
      ]
     },
     "execution_count": 39,
     "metadata": {},
     "output_type": "execute_result"
    },
    {
     "data": {
      "image/png": "[encoded data removed]",
      "text/plain": [
       "<Figure size 864x576 with 1 Axes>"
      ]
     },
     "metadata": {
      "needs_background": "light"
     },
     "output_type": "display_data"
    }
   ],
   "source": [
    "plt.figure(figsize=(12,8))\n",
    "plt.scatter(CSCO_df_ls['Close/Last'], lr.predict(X_ls))\n",
    "plt.plot(X_ls, lr.predict(X_ls), color = 'red')\n",
    "plt.xlabel('Closing Price')\n",
    "plt.ylabel('Predicted Closing Price')\n",
    "plt.savefig('images/CSCO_ls.jpg', dpi=40)\n",
    "plt.grid()\n",
    "plt.title('1 Year CLosing Price vs Predicted Closing Price')"
   ]
  },
  {
   "cell_type": "code",
   "execution_count": null,
   "metadata": {},
   "outputs": [],
   "source": []
  },
  {
   "cell_type": "code",
   "execution_count": null,
   "metadata": {},
   "outputs": [],
   "source": []
  }
 ],
 "metadata": {
  "kernelspec": {
   "display_name": "Python 3",
   "language": "python",
   "name": "python3"
  },
  "language_info": {
   "codemirror_mode": {
    "name": "ipython",
    "version": 3
   },
   "file_extension": ".py",
   "mimetype": "text/x-python",
   "name": "python",
   "nbconvert_exporter": "python",
   "pygments_lexer": "ipython3",
   "version": "3.8.5"
  }
 },
 "nbformat": 4,
 "nbformat_minor": 4
}
