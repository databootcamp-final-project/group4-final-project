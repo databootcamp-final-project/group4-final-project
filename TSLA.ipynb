{
 "cells": [
  {
   "cell_type": "markdown",
   "metadata": {},
   "source": [
    "### STOCK ANALYSIS\n",
    "\n",
    "This Stock analysis is examination of a specific index from the Stock market. this is more of a technical analysis than a fundamental one. it's being based on the history of a stock price, and predict future movement. \n",
    "\n",
    "we will be doing the following:\n",
    "1. Import Librarier and Dependencies\n",
    "2. Import Stock Data\n",
    "3. Clean Data\n",
    "4. plot existing data (analysis)\n",
    "5. build ML to train and test Data (Linear Regression)\n",
    "6. present our predicted Findings"
   ]
  },
  {
   "cell_type": "markdown",
   "metadata": {},
   "source": [
    "### DEPENDENCIES"
   ]
  },
  {
   "cell_type": "code",
   "execution_count": 1,
   "metadata": {},
   "outputs": [],
   "source": [
    "#dependencies\n",
    "import pandas as pd\n",
    "import numpy as np\n",
    "import matplotlib.pyplot as plt\n",
    "import datetime\n",
    "import os\n",
    "import tensorflow as tf\n",
    "from tensorflow import keras\n",
    "from tensorflow.keras.utils import to_categorical\n",
    "from tensorflow.keras.models import Sequential\n",
    "from tensorflow.keras.layers import Dense\n",
    "from sklearn.model_selection import train_test_split\n",
    "from sklearn.preprocessing import LabelEncoder, MinMaxScaler\n",
    "from sklearn import model_selection\n",
    "from sklearn.svm import SVC\n",
    "from sklearn.linear_model import LinearRegression"
   ]
  },
  {
   "cell_type": "markdown",
   "metadata": {},
   "source": [
    "### IMPORT CSV"
   ]
  },
  {
   "cell_type": "code",
   "execution_count": 2,
   "metadata": {
    "scrolled": false
   },
   "outputs": [
    {
     "data": {
      "text/html": [
       "<div>\n",
       "<style scoped>\n",
       "    .dataframe tbody tr th:only-of-type {\n",
       "        vertical-align: middle;\n",
       "    }\n",
       "\n",
       "    .dataframe tbody tr th {\n",
       "        vertical-align: top;\n",
       "    }\n",
       "\n",
       "    .dataframe thead th {\n",
       "        text-align: right;\n",
       "    }\n",
       "</style>\n",
       "<table border=\"1\" class=\"dataframe\">\n",
       "  <thead>\n",
       "    <tr style=\"text-align: right;\">\n",
       "      <th></th>\n",
       "      <th>Date</th>\n",
       "      <th>Close/Last</th>\n",
       "      <th>Volume</th>\n",
       "      <th>Open</th>\n",
       "      <th>High</th>\n",
       "      <th>Low</th>\n",
       "    </tr>\n",
       "  </thead>\n",
       "  <tbody>\n",
       "    <tr>\n",
       "      <th>0</th>\n",
       "      <td>05/24/2021</td>\n",
       "      <td>$606.44</td>\n",
       "      <td>34558090</td>\n",
       "      <td>$581.6</td>\n",
       "      <td>$614.48</td>\n",
       "      <td>$573.65</td>\n",
       "    </tr>\n",
       "    <tr>\n",
       "      <th>1</th>\n",
       "      <td>05/21/2021</td>\n",
       "      <td>$580.88</td>\n",
       "      <td>26030600</td>\n",
       "      <td>$596.11</td>\n",
       "      <td>$596.68</td>\n",
       "      <td>$580</td>\n",
       "    </tr>\n",
       "    <tr>\n",
       "      <th>2</th>\n",
       "      <td>05/20/2021</td>\n",
       "      <td>$586.78</td>\n",
       "      <td>30821120</td>\n",
       "      <td>$575</td>\n",
       "      <td>$588.85</td>\n",
       "      <td>$571.07</td>\n",
       "    </tr>\n",
       "    <tr>\n",
       "      <th>3</th>\n",
       "      <td>05/19/2021</td>\n",
       "      <td>$563.46</td>\n",
       "      <td>39578400</td>\n",
       "      <td>$552.55</td>\n",
       "      <td>$566.21</td>\n",
       "      <td>$546.98</td>\n",
       "    </tr>\n",
       "    <tr>\n",
       "      <th>4</th>\n",
       "      <td>05/18/2021</td>\n",
       "      <td>$577.87</td>\n",
       "      <td>36830570</td>\n",
       "      <td>$568</td>\n",
       "      <td>$596.25</td>\n",
       "      <td>$563.38</td>\n",
       "    </tr>\n",
       "  </tbody>\n",
       "</table>\n",
       "</div>"
      ],
      "text/plain": [
       "         Date Close/Last    Volume     Open     High      Low\n",
       "0  05/24/2021    $606.44  34558090   $581.6  $614.48  $573.65\n",
       "1  05/21/2021    $580.88  26030600  $596.11  $596.68     $580\n",
       "2  05/20/2021    $586.78  30821120     $575  $588.85  $571.07\n",
       "3  05/19/2021    $563.46  39578400  $552.55  $566.21  $546.98\n",
       "4  05/18/2021    $577.87  36830570     $568  $596.25  $563.38"
      ]
     },
     "execution_count": 2,
     "metadata": {},
     "output_type": "execute_result"
    }
   ],
   "source": [
    "#load assesment file\n",
    "\n",
    "tsla = \"resources/HistoricalData_TSLA.csv\"\n",
    "tsla_df = pd.read_csv(tsla)\n",
    "tsla_df.head()"
   ]
  },
  {
   "cell_type": "markdown",
   "metadata": {},
   "source": [
    "### CLEAN, RESHAPE AND CONVERT DATATYPE"
   ]
  },
  {
   "cell_type": "code",
   "execution_count": 3,
   "metadata": {},
   "outputs": [],
   "source": [
    "tsla_df['Date']= pd.to_datetime(tsla_df['Date'])\n",
    "tsla_df['Close/Last'] = tsla_df['Close/Last'].str.replace('$','')\n",
    "tsla_df['Open'] = tsla_df['Open'].str.replace('$','')\n",
    "tsla_df['High'] = tsla_df['High'].str.replace('$','')\n",
    "tsla_df['Low'] = tsla_df['Low'].str.replace('$','')\n",
    "tsla_df = tsla_df.apply( pd.to_numeric)"
   ]
  },
  {
   "cell_type": "markdown",
   "metadata": {},
   "source": [
    "### FORMAT DATE COLUMN"
   ]
  },
  {
   "cell_type": "code",
   "execution_count": 4,
   "metadata": {
    "scrolled": true
   },
   "outputs": [
    {
     "data": {
      "text/html": [
       "<div>\n",
       "<style scoped>\n",
       "    .dataframe tbody tr th:only-of-type {\n",
       "        vertical-align: middle;\n",
       "    }\n",
       "\n",
       "    .dataframe tbody tr th {\n",
       "        vertical-align: top;\n",
       "    }\n",
       "\n",
       "    .dataframe thead th {\n",
       "        text-align: right;\n",
       "    }\n",
       "</style>\n",
       "<table border=\"1\" class=\"dataframe\">\n",
       "  <thead>\n",
       "    <tr style=\"text-align: right;\">\n",
       "      <th></th>\n",
       "      <th>Date</th>\n",
       "      <th>Close/Last</th>\n",
       "      <th>Volume</th>\n",
       "      <th>Open</th>\n",
       "      <th>High</th>\n",
       "      <th>Low</th>\n",
       "    </tr>\n",
       "  </thead>\n",
       "  <tbody>\n",
       "    <tr>\n",
       "      <th>0</th>\n",
       "      <td>2021-05-24</td>\n",
       "      <td>606.44</td>\n",
       "      <td>34558090</td>\n",
       "      <td>581.60</td>\n",
       "      <td>614.48</td>\n",
       "      <td>573.65</td>\n",
       "    </tr>\n",
       "    <tr>\n",
       "      <th>1</th>\n",
       "      <td>2021-05-21</td>\n",
       "      <td>580.88</td>\n",
       "      <td>26030600</td>\n",
       "      <td>596.11</td>\n",
       "      <td>596.68</td>\n",
       "      <td>580.00</td>\n",
       "    </tr>\n",
       "    <tr>\n",
       "      <th>2</th>\n",
       "      <td>2021-05-20</td>\n",
       "      <td>586.78</td>\n",
       "      <td>30821120</td>\n",
       "      <td>575.00</td>\n",
       "      <td>588.85</td>\n",
       "      <td>571.07</td>\n",
       "    </tr>\n",
       "    <tr>\n",
       "      <th>3</th>\n",
       "      <td>2021-05-19</td>\n",
       "      <td>563.46</td>\n",
       "      <td>39578400</td>\n",
       "      <td>552.55</td>\n",
       "      <td>566.21</td>\n",
       "      <td>546.98</td>\n",
       "    </tr>\n",
       "    <tr>\n",
       "      <th>4</th>\n",
       "      <td>2021-05-18</td>\n",
       "      <td>577.87</td>\n",
       "      <td>36830570</td>\n",
       "      <td>568.00</td>\n",
       "      <td>596.25</td>\n",
       "      <td>563.38</td>\n",
       "    </tr>\n",
       "  </tbody>\n",
       "</table>\n",
       "</div>"
      ],
      "text/plain": [
       "        Date  Close/Last    Volume    Open    High     Low\n",
       "0 2021-05-24      606.44  34558090  581.60  614.48  573.65\n",
       "1 2021-05-21      580.88  26030600  596.11  596.68  580.00\n",
       "2 2021-05-20      586.78  30821120  575.00  588.85  571.07\n",
       "3 2021-05-19      563.46  39578400  552.55  566.21  546.98\n",
       "4 2021-05-18      577.87  36830570  568.00  596.25  563.38"
      ]
     },
     "execution_count": 4,
     "metadata": {},
     "output_type": "execute_result"
    }
   ],
   "source": [
    "tsla_df['Date']= pd.to_datetime(tsla_df['Date'])\n",
    "tsla_df.head()"
   ]
  },
  {
   "cell_type": "markdown",
   "metadata": {},
   "source": [
    "### DATA MANIPULATION\n",
    "By understanding the Data and creating new data to be consumed by our models such as below"
   ]
  },
  {
   "cell_type": "markdown",
   "metadata": {},
   "source": [
    "#### CREATE ADDITIONAL DATA"
   ]
  },
  {
   "cell_type": "code",
   "execution_count": 5,
   "metadata": {},
   "outputs": [
    {
     "data": {
      "text/html": [
       "<div>\n",
       "<style scoped>\n",
       "    .dataframe tbody tr th:only-of-type {\n",
       "        vertical-align: middle;\n",
       "    }\n",
       "\n",
       "    .dataframe tbody tr th {\n",
       "        vertical-align: top;\n",
       "    }\n",
       "\n",
       "    .dataframe thead th {\n",
       "        text-align: right;\n",
       "    }\n",
       "</style>\n",
       "<table border=\"1\" class=\"dataframe\">\n",
       "  <thead>\n",
       "    <tr style=\"text-align: right;\">\n",
       "      <th></th>\n",
       "      <th>Date</th>\n",
       "      <th>Close/Last</th>\n",
       "      <th>Volume</th>\n",
       "      <th>Open</th>\n",
       "      <th>High</th>\n",
       "      <th>Low</th>\n",
       "      <th>Open_Close</th>\n",
       "      <th>High_Low</th>\n",
       "      <th>Increase_Decrease</th>\n",
       "      <th>Buy_Sell_on_Open</th>\n",
       "      <th>Buy_Sell</th>\n",
       "      <th>Returns</th>\n",
       "    </tr>\n",
       "  </thead>\n",
       "  <tbody>\n",
       "    <tr>\n",
       "      <th>1</th>\n",
       "      <td>2021-05-21</td>\n",
       "      <td>580.88</td>\n",
       "      <td>26030600</td>\n",
       "      <td>596.110</td>\n",
       "      <td>596.68</td>\n",
       "      <td>580.00</td>\n",
       "      <td>0.025549</td>\n",
       "      <td>0.028759</td>\n",
       "      <td>1</td>\n",
       "      <td>0</td>\n",
       "      <td>1</td>\n",
       "      <td>-0.042148</td>\n",
       "    </tr>\n",
       "    <tr>\n",
       "      <th>2</th>\n",
       "      <td>2021-05-20</td>\n",
       "      <td>586.78</td>\n",
       "      <td>30821120</td>\n",
       "      <td>575.000</td>\n",
       "      <td>588.85</td>\n",
       "      <td>571.07</td>\n",
       "      <td>-0.020487</td>\n",
       "      <td>0.031135</td>\n",
       "      <td>1</td>\n",
       "      <td>0</td>\n",
       "      <td>0</td>\n",
       "      <td>0.010157</td>\n",
       "    </tr>\n",
       "    <tr>\n",
       "      <th>3</th>\n",
       "      <td>2021-05-19</td>\n",
       "      <td>563.46</td>\n",
       "      <td>39578400</td>\n",
       "      <td>552.550</td>\n",
       "      <td>566.21</td>\n",
       "      <td>546.98</td>\n",
       "      <td>-0.019745</td>\n",
       "      <td>0.035157</td>\n",
       "      <td>0</td>\n",
       "      <td>1</td>\n",
       "      <td>1</td>\n",
       "      <td>-0.039742</td>\n",
       "    </tr>\n",
       "    <tr>\n",
       "      <th>4</th>\n",
       "      <td>2021-05-18</td>\n",
       "      <td>577.87</td>\n",
       "      <td>36830570</td>\n",
       "      <td>568.000</td>\n",
       "      <td>596.25</td>\n",
       "      <td>563.38</td>\n",
       "      <td>-0.017377</td>\n",
       "      <td>0.058344</td>\n",
       "      <td>0</td>\n",
       "      <td>1</td>\n",
       "      <td>0</td>\n",
       "      <td>0.025574</td>\n",
       "    </tr>\n",
       "    <tr>\n",
       "      <th>5</th>\n",
       "      <td>2021-05-17</td>\n",
       "      <td>576.83</td>\n",
       "      <td>32247800</td>\n",
       "      <td>575.553</td>\n",
       "      <td>589.73</td>\n",
       "      <td>561.20</td>\n",
       "      <td>-0.002219</td>\n",
       "      <td>0.050837</td>\n",
       "      <td>1</td>\n",
       "      <td>1</td>\n",
       "      <td>1</td>\n",
       "      <td>-0.001800</td>\n",
       "    </tr>\n",
       "  </tbody>\n",
       "</table>\n",
       "</div>"
      ],
      "text/plain": [
       "        Date  Close/Last    Volume     Open    High     Low  Open_Close  \\\n",
       "1 2021-05-21      580.88  26030600  596.110  596.68  580.00    0.025549   \n",
       "2 2021-05-20      586.78  30821120  575.000  588.85  571.07   -0.020487   \n",
       "3 2021-05-19      563.46  39578400  552.550  566.21  546.98   -0.019745   \n",
       "4 2021-05-18      577.87  36830570  568.000  596.25  563.38   -0.017377   \n",
       "5 2021-05-17      576.83  32247800  575.553  589.73  561.20   -0.002219   \n",
       "\n",
       "   High_Low  Increase_Decrease  Buy_Sell_on_Open  Buy_Sell   Returns  \n",
       "1  0.028759                  1                 0         1 -0.042148  \n",
       "2  0.031135                  1                 0         0  0.010157  \n",
       "3  0.035157                  0                 1         1 -0.039742  \n",
       "4  0.058344                  0                 1         0  0.025574  \n",
       "5  0.050837                  1                 1         1 -0.001800  "
      ]
     },
     "execution_count": 5,
     "metadata": {},
     "output_type": "execute_result"
    }
   ],
   "source": [
    "tsla_df['Open_Close'] = (tsla_df['Open'] - tsla_df['Close/Last'])/tsla_df['Open']\n",
    "tsla_df['High_Low'] = (tsla_df['High'] - tsla_df['Low'])/tsla_df['Low']\n",
    "tsla_df['Increase_Decrease'] = np.where(tsla_df['Volume'].shift(-1) > tsla_df['Volume'],1,0)\n",
    "tsla_df['Buy_Sell_on_Open'] = np.where(tsla_df['Open'].shift(-1) > tsla_df['Open'],1,0)\n",
    "tsla_df['Buy_Sell'] = np.where(tsla_df['Close/Last'].shift(-1) > tsla_df['Close/Last'],1,0)\n",
    "tsla_df['Returns'] = tsla_df['Close/Last'].pct_change()\n",
    "tsla_df = tsla_df.dropna()\n",
    "tsla_df.head()"
   ]
  },
  {
   "cell_type": "markdown",
   "metadata": {},
   "source": [
    "### SPLIT DATAFRAME"
   ]
  },
  {
   "cell_type": "code",
   "execution_count": 6,
   "metadata": {
    "scrolled": true
   },
   "outputs": [
    {
     "data": {
      "text/html": [
       "<div>\n",
       "<style scoped>\n",
       "    .dataframe tbody tr th:only-of-type {\n",
       "        vertical-align: middle;\n",
       "    }\n",
       "\n",
       "    .dataframe tbody tr th {\n",
       "        vertical-align: top;\n",
       "    }\n",
       "\n",
       "    .dataframe thead th {\n",
       "        text-align: right;\n",
       "    }\n",
       "</style>\n",
       "<table border=\"1\" class=\"dataframe\">\n",
       "  <thead>\n",
       "    <tr style=\"text-align: right;\">\n",
       "      <th></th>\n",
       "      <th>Date</th>\n",
       "      <th>Close/Last</th>\n",
       "      <th>Volume</th>\n",
       "      <th>Open</th>\n",
       "      <th>High</th>\n",
       "      <th>Low</th>\n",
       "      <th>Open_Close</th>\n",
       "      <th>High_Low</th>\n",
       "      <th>Increase_Decrease</th>\n",
       "      <th>Buy_Sell_on_Open</th>\n",
       "      <th>Buy_Sell</th>\n",
       "      <th>Returns</th>\n",
       "    </tr>\n",
       "  </thead>\n",
       "  <tbody>\n",
       "    <tr>\n",
       "      <th>252</th>\n",
       "      <td>2020-05-22</td>\n",
       "      <td>163.376</td>\n",
       "      <td>49937375</td>\n",
       "      <td>164.4348</td>\n",
       "      <td>166.356</td>\n",
       "      <td>162.400</td>\n",
       "      <td>0.006439</td>\n",
       "      <td>0.024360</td>\n",
       "      <td>1</td>\n",
       "      <td>0</td>\n",
       "      <td>1</td>\n",
       "      <td>-0.002430</td>\n",
       "    </tr>\n",
       "    <tr>\n",
       "      <th>253</th>\n",
       "      <td>2020-05-21</td>\n",
       "      <td>165.520</td>\n",
       "      <td>61272900</td>\n",
       "      <td>163.2000</td>\n",
       "      <td>166.500</td>\n",
       "      <td>159.200</td>\n",
       "      <td>-0.014216</td>\n",
       "      <td>0.045854</td>\n",
       "      <td>0</td>\n",
       "      <td>1</td>\n",
       "      <td>0</td>\n",
       "      <td>0.013123</td>\n",
       "    </tr>\n",
       "    <tr>\n",
       "      <th>254</th>\n",
       "      <td>2020-05-20</td>\n",
       "      <td>163.112</td>\n",
       "      <td>36546355</td>\n",
       "      <td>164.1000</td>\n",
       "      <td>165.200</td>\n",
       "      <td>162.360</td>\n",
       "      <td>0.006021</td>\n",
       "      <td>0.017492</td>\n",
       "      <td>1</td>\n",
       "      <td>0</td>\n",
       "      <td>0</td>\n",
       "      <td>-0.014548</td>\n",
       "    </tr>\n",
       "    <tr>\n",
       "      <th>255</th>\n",
       "      <td>2020-05-19</td>\n",
       "      <td>161.602</td>\n",
       "      <td>48182610</td>\n",
       "      <td>163.0340</td>\n",
       "      <td>164.414</td>\n",
       "      <td>161.216</td>\n",
       "      <td>0.008783</td>\n",
       "      <td>0.019837</td>\n",
       "      <td>1</td>\n",
       "      <td>1</td>\n",
       "      <td>1</td>\n",
       "      <td>-0.009257</td>\n",
       "    </tr>\n",
       "    <tr>\n",
       "      <th>256</th>\n",
       "      <td>2020-05-18</td>\n",
       "      <td>162.726</td>\n",
       "      <td>58490500</td>\n",
       "      <td>165.5560</td>\n",
       "      <td>166.944</td>\n",
       "      <td>160.776</td>\n",
       "      <td>0.017094</td>\n",
       "      <td>0.038364</td>\n",
       "      <td>0</td>\n",
       "      <td>0</td>\n",
       "      <td>0</td>\n",
       "      <td>0.006955</td>\n",
       "    </tr>\n",
       "  </tbody>\n",
       "</table>\n",
       "</div>"
      ],
      "text/plain": [
       "          Date  Close/Last    Volume      Open     High      Low  Open_Close  \\\n",
       "252 2020-05-22     163.376  49937375  164.4348  166.356  162.400    0.006439   \n",
       "253 2020-05-21     165.520  61272900  163.2000  166.500  159.200   -0.014216   \n",
       "254 2020-05-20     163.112  36546355  164.1000  165.200  162.360    0.006021   \n",
       "255 2020-05-19     161.602  48182610  163.0340  164.414  161.216    0.008783   \n",
       "256 2020-05-18     162.726  58490500  165.5560  166.944  160.776    0.017094   \n",
       "\n",
       "     High_Low  Increase_Decrease  Buy_Sell_on_Open  Buy_Sell   Returns  \n",
       "252  0.024360                  1                 0         1 -0.002430  \n",
       "253  0.045854                  0                 1         0  0.013123  \n",
       "254  0.017492                  1                 0         0 -0.014548  \n",
       "255  0.019837                  1                 1         1 -0.009257  \n",
       "256  0.038364                  0                 0         0  0.006955  "
      ]
     },
     "execution_count": 6,
     "metadata": {},
     "output_type": "execute_result"
    }
   ],
   "source": [
    "#setup datetime for first 4 years\n",
    "start_date = \"2016-05-24\"\n",
    "end_date = \"2020-05-24\"\n",
    "\n",
    "after_start_date = tsla_df[\"Date\"] >= start_date\n",
    "before_end_date = tsla_df[\"Date\"] <= end_date\n",
    "between_two_dates = after_start_date & before_end_date\n",
    "tsla_df_4 = tsla_df.loc[between_two_dates]\n",
    "tsla_df_4.head()"
   ]
  },
  {
   "cell_type": "markdown",
   "metadata": {},
   "source": [
    "### SPLIT DATAFRAME"
   ]
  },
  {
   "cell_type": "code",
   "execution_count": 7,
   "metadata": {
    "scrolled": true
   },
   "outputs": [
    {
     "data": {
      "text/html": [
       "<div>\n",
       "<style scoped>\n",
       "    .dataframe tbody tr th:only-of-type {\n",
       "        vertical-align: middle;\n",
       "    }\n",
       "\n",
       "    .dataframe tbody tr th {\n",
       "        vertical-align: top;\n",
       "    }\n",
       "\n",
       "    .dataframe thead th {\n",
       "        text-align: right;\n",
       "    }\n",
       "</style>\n",
       "<table border=\"1\" class=\"dataframe\">\n",
       "  <thead>\n",
       "    <tr style=\"text-align: right;\">\n",
       "      <th></th>\n",
       "      <th>Date</th>\n",
       "      <th>Close/Last</th>\n",
       "      <th>Volume</th>\n",
       "      <th>Open</th>\n",
       "      <th>High</th>\n",
       "      <th>Low</th>\n",
       "      <th>Open_Close</th>\n",
       "      <th>High_Low</th>\n",
       "      <th>Increase_Decrease</th>\n",
       "      <th>Buy_Sell_on_Open</th>\n",
       "      <th>Buy_Sell</th>\n",
       "      <th>Returns</th>\n",
       "    </tr>\n",
       "  </thead>\n",
       "  <tbody>\n",
       "    <tr>\n",
       "      <th>1</th>\n",
       "      <td>2021-05-21</td>\n",
       "      <td>580.88</td>\n",
       "      <td>26030600</td>\n",
       "      <td>596.110</td>\n",
       "      <td>596.68</td>\n",
       "      <td>580.00</td>\n",
       "      <td>0.025549</td>\n",
       "      <td>0.028759</td>\n",
       "      <td>1</td>\n",
       "      <td>0</td>\n",
       "      <td>1</td>\n",
       "      <td>-0.042148</td>\n",
       "    </tr>\n",
       "    <tr>\n",
       "      <th>2</th>\n",
       "      <td>2021-05-20</td>\n",
       "      <td>586.78</td>\n",
       "      <td>30821120</td>\n",
       "      <td>575.000</td>\n",
       "      <td>588.85</td>\n",
       "      <td>571.07</td>\n",
       "      <td>-0.020487</td>\n",
       "      <td>0.031135</td>\n",
       "      <td>1</td>\n",
       "      <td>0</td>\n",
       "      <td>0</td>\n",
       "      <td>0.010157</td>\n",
       "    </tr>\n",
       "    <tr>\n",
       "      <th>3</th>\n",
       "      <td>2021-05-19</td>\n",
       "      <td>563.46</td>\n",
       "      <td>39578400</td>\n",
       "      <td>552.550</td>\n",
       "      <td>566.21</td>\n",
       "      <td>546.98</td>\n",
       "      <td>-0.019745</td>\n",
       "      <td>0.035157</td>\n",
       "      <td>0</td>\n",
       "      <td>1</td>\n",
       "      <td>1</td>\n",
       "      <td>-0.039742</td>\n",
       "    </tr>\n",
       "    <tr>\n",
       "      <th>4</th>\n",
       "      <td>2021-05-18</td>\n",
       "      <td>577.87</td>\n",
       "      <td>36830570</td>\n",
       "      <td>568.000</td>\n",
       "      <td>596.25</td>\n",
       "      <td>563.38</td>\n",
       "      <td>-0.017377</td>\n",
       "      <td>0.058344</td>\n",
       "      <td>0</td>\n",
       "      <td>1</td>\n",
       "      <td>0</td>\n",
       "      <td>0.025574</td>\n",
       "    </tr>\n",
       "    <tr>\n",
       "      <th>5</th>\n",
       "      <td>2021-05-17</td>\n",
       "      <td>576.83</td>\n",
       "      <td>32247800</td>\n",
       "      <td>575.553</td>\n",
       "      <td>589.73</td>\n",
       "      <td>561.20</td>\n",
       "      <td>-0.002219</td>\n",
       "      <td>0.050837</td>\n",
       "      <td>1</td>\n",
       "      <td>1</td>\n",
       "      <td>1</td>\n",
       "      <td>-0.001800</td>\n",
       "    </tr>\n",
       "  </tbody>\n",
       "</table>\n",
       "</div>"
      ],
      "text/plain": [
       "        Date  Close/Last    Volume     Open    High     Low  Open_Close  \\\n",
       "1 2021-05-21      580.88  26030600  596.110  596.68  580.00    0.025549   \n",
       "2 2021-05-20      586.78  30821120  575.000  588.85  571.07   -0.020487   \n",
       "3 2021-05-19      563.46  39578400  552.550  566.21  546.98   -0.019745   \n",
       "4 2021-05-18      577.87  36830570  568.000  596.25  563.38   -0.017377   \n",
       "5 2021-05-17      576.83  32247800  575.553  589.73  561.20   -0.002219   \n",
       "\n",
       "   High_Low  Increase_Decrease  Buy_Sell_on_Open  Buy_Sell   Returns  \n",
       "1  0.028759                  1                 0         1 -0.042148  \n",
       "2  0.031135                  1                 0         0  0.010157  \n",
       "3  0.035157                  0                 1         1 -0.039742  \n",
       "4  0.058344                  0                 1         0  0.025574  \n",
       "5  0.050837                  1                 1         1 -0.001800  "
      ]
     },
     "execution_count": 7,
     "metadata": {},
     "output_type": "execute_result"
    }
   ],
   "source": [
    "#setup datetime for last year\n",
    "start_date = \"2020-05-25\"\n",
    "end_date = \"2021-05-24\"\n",
    "\n",
    "after_start_date = tsla_df[\"Date\"] >= start_date\n",
    "before_end_date = tsla_df[\"Date\"] <= end_date\n",
    "between_two_dates = after_start_date & before_end_date\n",
    "tsla_df_ls = tsla_df.loc[between_two_dates]\n",
    "tsla_df_ls.head()"
   ]
  },
  {
   "cell_type": "markdown",
   "metadata": {},
   "source": [
    "### PLOT 1ST  DF (4YEARS)"
   ]
  },
  {
   "cell_type": "code",
   "execution_count": 8,
   "metadata": {
    "scrolled": false
   },
   "outputs": [
    {
     "data": {
      "image/png": "[encoded data removed]",
      "text/plain": [
       "<Figure size 864x576 with 1 Axes>"
      ]
     },
     "metadata": {
      "needs_background": "light"
     },
     "output_type": "display_data"
    }
   ],
   "source": [
    "plt.figure(figsize=(12,8))\n",
    "plt.plot(tsla_df_4['Close/Last'])\n",
    "plt.title(\"Tesla Line Chart\")\n",
    "plt.xlabel(\"Date\")\n",
    "plt.ylabel(\"Close\")\n",
    "plt.show()"
   ]
  },
  {
   "cell_type": "markdown",
   "metadata": {},
   "source": [
    "### PLOT SECOND DF (LAST YEAR)"
   ]
  },
  {
   "cell_type": "code",
   "execution_count": 9,
   "metadata": {},
   "outputs": [
    {
     "data": {
      "image/png": "[encoded data removed]",
      "text/plain": [
       "<Figure size 864x576 with 1 Axes>"
      ]
     },
     "metadata": {
      "needs_background": "light"
     },
     "output_type": "display_data"
    }
   ],
   "source": [
    "plt.figure(figsize=(12,8))\n",
    "plt.plot(tsla_df_ls['Close/Last'])\n",
    "plt.title(\"Tesla Line Chart\")\n",
    "plt.xlabel(\"Date\")\n",
    "plt.ylabel(\"Close\")\n",
    "plt.show()"
   ]
  },
  {
   "cell_type": "markdown",
   "metadata": {},
   "source": [
    "### SHAPPING, FITTING, TRAINING, TESTING ML ON 1ST DF"
   ]
  },
  {
   "cell_type": "code",
   "execution_count": 10,
   "metadata": {
    "scrolled": true
   },
   "outputs": [
    {
     "data": {
      "text/plain": [
       "(1006, 12)"
      ]
     },
     "execution_count": 10,
     "metadata": {},
     "output_type": "execute_result"
    }
   ],
   "source": [
    "tsla_df_4.shape"
   ]
  },
  {
   "cell_type": "markdown",
   "metadata": {},
   "source": [
    "#### DEFINING THE X & Y"
   ]
  },
  {
   "cell_type": "code",
   "execution_count": 11,
   "metadata": {},
   "outputs": [],
   "source": [
    "X = np.array(tsla_df_4['Open']).reshape(1006,-1)\n",
    "Y = np.array(tsla_df_4['Close/Last']).reshape(1006,-1)"
   ]
  },
  {
   "cell_type": "code",
   "execution_count": 12,
   "metadata": {},
   "outputs": [],
   "source": [
    "lr = LinearRegression()"
   ]
  },
  {
   "cell_type": "code",
   "execution_count": 13,
   "metadata": {},
   "outputs": [
    {
     "data": {
      "text/plain": [
       "LinearRegression()"
      ]
     },
     "execution_count": 13,
     "metadata": {},
     "output_type": "execute_result"
    }
   ],
   "source": [
    "lr.fit(X, Y)"
   ]
  },
  {
   "cell_type": "markdown",
   "metadata": {},
   "source": [
    "#### PRINTING OUR LR AND COEF COUNT"
   ]
  },
  {
   "cell_type": "code",
   "execution_count": 14,
   "metadata": {},
   "outputs": [
    {
     "name": "stdout",
     "output_type": "stream",
     "text": [
      "Linear Regression intercept: [0.32366725]\n",
      "coefficient count: 1\n"
     ]
    }
   ],
   "source": [
    "print('Linear Regression intercept:', lr.intercept_)\n",
    "print('coefficient count:', len(lr.coef_))"
   ]
  },
  {
   "cell_type": "markdown",
   "metadata": {},
   "source": [
    "#### SCORING "
   ]
  },
  {
   "cell_type": "code",
   "execution_count": 15,
   "metadata": {},
   "outputs": [
    {
     "name": "stdout",
     "output_type": "stream",
     "text": [
      "Accuracy: 0.9927719900839321\n"
     ]
    }
   ],
   "source": [
    "from sklearn.metrics import accuracy_score\n",
    "print('Accuracy:', lr.score(X, Y))"
   ]
  },
  {
   "cell_type": "markdown",
   "metadata": {},
   "source": [
    "#### PRICE PREDICTION"
   ]
  },
  {
   "cell_type": "code",
   "execution_count": 16,
   "metadata": {
    "scrolled": true
   },
   "outputs": [
    {
     "data": {
      "text/plain": [
       "array([[164.01615779],\n",
       "       [162.78693206],\n",
       "       [163.68286918],\n",
       "       ...,\n",
       "       [ 45.11853238],\n",
       "       [ 44.22458623],\n",
       "       [ 43.70892465]])"
      ]
     },
     "execution_count": 16,
     "metadata": {},
     "output_type": "execute_result"
    }
   ],
   "source": [
    "# Predicting the price\n",
    "lr.predict(X)"
   ]
  },
  {
   "cell_type": "markdown",
   "metadata": {},
   "source": [
    "#### DAILY RETURN"
   ]
  },
  {
   "cell_type": "code",
   "execution_count": 17,
   "metadata": {},
   "outputs": [
    {
     "data": {
      "text/plain": [
       "252         NaN\n",
       "253    0.013123\n",
       "254   -0.014548\n",
       "255   -0.009257\n",
       "256    0.006955\n",
       "Name: Close/Last, dtype: float64"
      ]
     },
     "execution_count": 17,
     "metadata": {},
     "output_type": "execute_result"
    }
   ],
   "source": [
    "#daily Return\n",
    "DA_RE = tsla_df_4['Close/Last'].pct_change(1)\n",
    "DA_RE.head()"
   ]
  },
  {
   "cell_type": "markdown",
   "metadata": {},
   "source": [
    "### PLOT LR PREDICTION OF 1ST DF"
   ]
  },
  {
   "cell_type": "code",
   "execution_count": 18,
   "metadata": {},
   "outputs": [
    {
     "data": {
      "text/plain": [
       "Text(0.5, 1.0, '4 Years CLosing Price vs Predicted Closing Price')"
      ]
     },
     "execution_count": 18,
     "metadata": {},
     "output_type": "execute_result"
    },
    {
     "data": {
      "image/png": "[encoded data removed]",
      "text/plain": [
       "<Figure size 864x576 with 1 Axes>"
      ]
     },
     "metadata": {
      "needs_background": "light"
     },
     "output_type": "display_data"
    }
   ],
   "source": [
    "plt.figure(figsize=(12,8))\n",
    "plt.scatter(tsla_df_4['Close/Last'], lr.predict(X))\n",
    "plt.plot(X, lr.predict(X), color = 'red')\n",
    "plt.xlabel('Closing Price')\n",
    "plt.ylabel('Predicted Closing Price')\n",
    "plt.savefig('images/tsla_4y.jpg', dpi=40)\n",
    "plt.grid()\n",
    "plt.title('4 Years CLosing Price vs Predicted Closing Price')"
   ]
  },
  {
   "cell_type": "markdown",
   "metadata": {},
   "source": [
    "### TRAINING, TESTING ML ON 2ND DF"
   ]
  },
  {
   "cell_type": "code",
   "execution_count": 19,
   "metadata": {},
   "outputs": [
    {
     "data": {
      "text/plain": [
       "(251, 12)"
      ]
     },
     "execution_count": 19,
     "metadata": {},
     "output_type": "execute_result"
    }
   ],
   "source": [
    "tsla_df_ls.shape"
   ]
  },
  {
   "cell_type": "markdown",
   "metadata": {},
   "source": [
    "#### DEFINING THE X & Y"
   ]
  },
  {
   "cell_type": "code",
   "execution_count": 20,
   "metadata": {},
   "outputs": [],
   "source": [
    "X_ls = np.array(tsla_df_ls['Open']).reshape(251,-1)\n",
    "Y_ls = np.array(tsla_df_ls['Close/Last']).reshape(251,-1)"
   ]
  },
  {
   "cell_type": "code",
   "execution_count": 21,
   "metadata": {},
   "outputs": [
    {
     "data": {
      "text/plain": [
       "LinearRegression()"
      ]
     },
     "execution_count": 21,
     "metadata": {},
     "output_type": "execute_result"
    }
   ],
   "source": [
    "lr.fit(X_ls, Y_ls)"
   ]
  },
  {
   "cell_type": "markdown",
   "metadata": {},
   "source": [
    "#### PRINTING OUR LR AND COEF COUNT"
   ]
  },
  {
   "cell_type": "code",
   "execution_count": 22,
   "metadata": {},
   "outputs": [
    {
     "name": "stdout",
     "output_type": "stream",
     "text": [
      "Linear Regression intercept: [3.38102435]\n",
      "coefficient count: 1\n"
     ]
    }
   ],
   "source": [
    "print('Linear Regression intercept:', lr.intercept_)\n",
    "print('coefficient count:', len(lr.coef_))"
   ]
  },
  {
   "cell_type": "markdown",
   "metadata": {},
   "source": [
    "#### SCORING"
   ]
  },
  {
   "cell_type": "code",
   "execution_count": 23,
   "metadata": {},
   "outputs": [
    {
     "name": "stdout",
     "output_type": "stream",
     "text": [
      "Accuracy: 0.991127567383132\n"
     ]
    }
   ],
   "source": [
    "print('Accuracy:', lr.score(X_ls, Y_ls))"
   ]
  },
  {
   "cell_type": "markdown",
   "metadata": {},
   "source": [
    "#### PRICE PREDICTION"
   ]
  },
  {
   "cell_type": "code",
   "execution_count": 24,
   "metadata": {},
   "outputs": [
    {
     "data": {
      "text/plain": [
       "array([[595.74883469],\n",
       "       [574.77135658],\n",
       "       [552.46229056],\n",
       "       [567.81530036],\n",
       "       [575.32088502],\n",
       "       [583.12856126],\n",
       "       [601.14971548],\n",
       "       [602.08878307],\n",
       "       [598.85918554],\n",
       "       [664.10699287],\n",
       "       [665.00134295],\n",
       "       [679.86742881],\n",
       "       [680.16554551],\n",
       "       [678.0588542 ],\n",
       "       [702.762791  ],\n",
       "       [666.7801059 ],\n",
       "       [698.49972226],\n",
       "       [695.41918307],\n",
       "       [716.833899  ],\n",
       "       [739.72926119],\n",
       "       [718.66234807],\n",
       "       [740.22612234],\n",
       "       [703.72670164],\n",
       "       [716.29728895],\n",
       "       [718.4636036 ],\n",
       "       [727.45679057],\n",
       "       [741.81607805],\n",
       "       [769.242814  ],\n",
       "       [711.60691962],\n",
       "       [684.77641706],\n",
       "       [676.89619909],\n",
       "       [676.50864738],\n",
       "       [686.06825607],\n",
       "       [689.34753972],\n",
       "       [706.64824526],\n",
       "       [687.42965565],\n",
       "       [645.94174891],\n",
       "       [601.35342855],\n",
       "       [615.15623154],\n",
       "       [641.22156791],\n",
       "       [612.53280462],\n",
       "       [667.09809704],\n",
       "       [674.90875445],\n",
       "       [683.67338529],\n",
       "       [645.92187447],\n",
       "       [683.37526859],\n",
       "       [656.12740266],\n",
       "       [702.31561595],\n",
       "       [693.1137473 ],\n",
       "       [669.17497668],\n",
       "       [698.3904128 ],\n",
       "       [699.28476289],\n",
       "       [607.74306305],\n",
       "       [600.16096177],\n",
       "       [625.51081808],\n",
       "       [655.06411978],\n",
       "       [687.05204117],\n",
       "       [717.15189015],\n",
       "       [689.15873248],\n",
       "       [698.98664619],\n",
       "       [724.97248478],\n",
       "       [710.76225565],\n",
       "       [661.35438205],\n",
       "       [761.23341212],\n",
       "       [793.3902663 ],\n",
       "       [779.37878163],\n",
       "       [777.58014424],\n",
       "       [816.24587959],\n",
       "       [799.610968  ],\n",
       "       [810.72078351],\n",
       "       [841.71995118],\n",
       "       [853.13285199],\n",
       "       [867.5915117 ],\n",
       "       [843.07638215],\n",
       "       [853.01360531],\n",
       "       [874.89537073],\n",
       "       [842.758391  ],\n",
       "       [812.55916979],\n",
       "       [828.17054739],\n",
       "       [818.23332422],\n",
       "       [868.26724288],\n",
       "       [889.1652232 ],\n",
       "       [853.01360531],\n",
       "       [832.45349058],\n",
       "       [853.01360531],\n",
       "       [856.73012678],\n",
       "       [835.92158146],\n",
       "       [850.03243836],\n",
       "       [841.47648921],\n",
       "       [850.78766732],\n",
       "       [829.16426971],\n",
       "       [847.44876034],\n",
       "       [854.00732763],\n",
       "       [776.12930965],\n",
       "       [757.10946451],\n",
       "       [722.49811621],\n",
       "       [718.32448248],\n",
       "       [698.97670897],\n",
       "       [671.16242132],\n",
       "       [660.23147583],\n",
       "       [673.65666433],\n",
       "       [642.3345369 ],\n",
       "       [631.6122731 ],\n",
       "       [647.31308571],\n",
       "       [665.43858077],\n",
       "       [668.08188214],\n",
       "       [627.62744661],\n",
       "       [627.66719551],\n",
       "       [642.62271638],\n",
       "       [618.49513852],\n",
       "       [614.53018648],\n",
       "       [574.14531152],\n",
       "       [652.9673657 ],\n",
       "       [624.95930219],\n",
       "       [604.50323018],\n",
       "       [590.68085087],\n",
       "       [589.69706578],\n",
       "       [556.32787037],\n",
       "       [597.21954372],\n",
       "       [601.81054082],\n",
       "       [580.89268605],\n",
       "       [549.98792199],\n",
       "       [540.38856441],\n",
       "       [503.72021092],\n",
       "       [498.24480095],\n",
       "       [492.29240427],\n",
       "       [448.91642514],\n",
       "       [460.66222293],\n",
       "       [409.74389141],\n",
       "       [411.65183825],\n",
       "       [415.82547199],\n",
       "       [417.21668323],\n",
       "       [420.83383246],\n",
       "       [440.12198263],\n",
       "       [436.74332676],\n",
       "       [428.99229268],\n",
       "       [431.29772846],\n",
       "       [410.53886926],\n",
       "       [394.90761721],\n",
       "       [407.72206398],\n",
       "       [410.76742539],\n",
       "       [417.2464949 ],\n",
       "       [424.48079337],\n",
       "       [412.42694166],\n",
       "       [422.57284652],\n",
       "       [442.52679064],\n",
       "       [423.42744771],\n",
       "       [432.42063468],\n",
       "       [446.81967105],\n",
       "       [454.96819405],\n",
       "       [450.86412088],\n",
       "       [450.33744805],\n",
       "       [443.94781355],\n",
       "       [442.60628843],\n",
       "       [430.81080452],\n",
       "       [439.06863698],\n",
       "       [420.61521355],\n",
       "       [424.51060504],\n",
       "       [424.07336722],\n",
       "       [422.12567147],\n",
       "       [441.37407275],\n",
       "       [422.05611091],\n",
       "       [416.76950819],\n",
       "       [425.33539456],\n",
       "       [394.38094439],\n",
       "       [364.89720324],\n",
       "       [405.99755827],\n",
       "       [430.2841317 ],\n",
       "       [453.66641781],\n",
       "       [448.50899899],\n",
       "       [416.37201926],\n",
       "       [440.48965989],\n",
       "       [437.20043902],\n",
       "       [381.93954098],\n",
       "       [382.92332607],\n",
       "       [387.16652037],\n",
       "       [357.74240256],\n",
       "       [357.14616917],\n",
       "       [403.66231083],\n",
       "       [408.05456347],\n",
       "       [479.36407693],\n",
       "       [502.36874857],\n",
       "       [445.19990367],\n",
       "       [459.52341715],\n",
       "       [436.73537698],\n",
       "       [412.79461892],\n",
       "       [395.87947764],\n",
       "       [425.96640823],\n",
       "       [409.7657533 ],\n",
       "       [373.18087248],\n",
       "       [374.03944856],\n",
       "       [380.79477287],\n",
       "       [336.67548944],\n",
       "       [334.28856844],\n",
       "       [323.55835486],\n",
       "       [295.53538552],\n",
       "       [280.82829523],\n",
       "       [291.16300733],\n",
       "       [301.40570074],\n",
       "       [299.67523269],\n",
       "       [300.10452074],\n",
       "       [300.50598455],\n",
       "       [291.40150068],\n",
       "       [304.47888637],\n",
       "       [299.11278586],\n",
       "       [301.69646389],\n",
       "       [302.29269728],\n",
       "       [288.5793293 ],\n",
       "       [284.80517194],\n",
       "       [337.06304115],\n",
       "       [321.1734213 ],\n",
       "       [329.30803219],\n",
       "       [305.27585167],\n",
       "       [304.17083246],\n",
       "       [296.95839588],\n",
       "       [310.04373135],\n",
       "       [312.62740937],\n",
       "       [333.0980891 ],\n",
       "       [280.82829523],\n",
       "       [281.02505225],\n",
       "       [282.6169954 ],\n",
       "       [282.61898285],\n",
       "       [257.11609331],\n",
       "       [246.14341148],\n",
       "       [218.62127819],\n",
       "       [203.41732674],\n",
       "       [195.96639681],\n",
       "       [201.08804163],\n",
       "       [193.03690342],\n",
       "       [200.95488284],\n",
       "       [201.90289393],\n",
       "       [202.11555051],\n",
       "       [204.66544197],\n",
       "       [202.72172112],\n",
       "       [199.68291828],\n",
       "       [204.48060962],\n",
       "       [185.7867054 ],\n",
       "       [198.15059846],\n",
       "       [200.17779199],\n",
       "       [200.51168269],\n",
       "       [190.20280737],\n",
       "       [186.0271862 ],\n",
       "       [177.84686409],\n",
       "       [180.23974742],\n",
       "       [179.88995717],\n",
       "       [181.19769574],\n",
       "       [173.90377393],\n",
       "       [164.11560911],\n",
       "       [165.06163276],\n",
       "       [166.52240456],\n",
       "       [169.23327904]])"
      ]
     },
     "execution_count": 24,
     "metadata": {},
     "output_type": "execute_result"
    }
   ],
   "source": [
    "# Predicting the price\n",
    "lr.predict(X_ls)"
   ]
  },
  {
   "cell_type": "markdown",
   "metadata": {},
   "source": [
    "### PLOT LR PREDICTION OF 2ND DF"
   ]
  },
  {
   "cell_type": "code",
   "execution_count": 25,
   "metadata": {
    "scrolled": true
   },
   "outputs": [
    {
     "data": {
      "text/plain": [
       "Text(0.5, 1.0, '1 Year CLosing Price vs Predicted Closing Price')"
      ]
     },
     "execution_count": 25,
     "metadata": {},
     "output_type": "execute_result"
    },
    {
     "data": {
      "image/png": "[encoded data removed]",
      "text/plain": [
       "<Figure size 864x576 with 1 Axes>"
      ]
     },
     "metadata": {
      "needs_background": "light"
     },
     "output_type": "display_data"
    }
   ],
   "source": [
    "plt.figure(figsize=(12,8))\n",
    "plt.scatter(tsla_df_ls['Close/Last'], lr.predict(X_ls))\n",
    "plt.plot(X_ls, lr.predict(X_ls), color = 'red')\n",
    "plt.xlabel('Closing Price')\n",
    "plt.ylabel('Predicted Closing Price')\n",
    "plt.savefig('images/tsla_ls.jpg', dpi=40)\n",
    "plt.grid()\n",
    "plt.title('1 Year CLosing Price vs Predicted Closing Price')"
   ]
  },
  {
   "cell_type": "markdown",
   "metadata": {},
   "source": [
    "### MODEL COMPARISON"
   ]
  },
  {
   "cell_type": "markdown",
   "metadata": {},
   "source": [
    "<tr>\n",
    "    <td> <img src=\"images/amzn_4y.jpg\"style=\"width: 550px;\"/> </td>\n",
    "    <td> <img src=\"images/amzn_ls.jpg\"style=\"width: 550px;\"/> </td>\n",
    "</tr>\n"
   ]
  },
  {
   "cell_type": "markdown",
   "metadata": {},
   "source": [
    "#### SHAPING OUR DF FOR TF SEQUENTIAL MODEL"
   ]
  },
  {
   "cell_type": "code",
   "execution_count": 26,
   "metadata": {},
   "outputs": [
    {
     "data": {
      "text/plain": [
       "(1257, 12)"
      ]
     },
     "execution_count": 26,
     "metadata": {},
     "output_type": "execute_result"
    }
   ],
   "source": [
    "tsla_df.shape"
   ]
  },
  {
   "cell_type": "markdown",
   "metadata": {},
   "source": [
    "#### BUILDING OUR MODEL"
   ]
  },
  {
   "cell_type": "code",
   "execution_count": 27,
   "metadata": {},
   "outputs": [],
   "source": [
    "model = tf.keras.Sequential([keras.layers.Dense(units=1, input_shape=[1])])\n",
    "model.compile(optimizer='sgd', loss='mean_squared_error')"
   ]
  },
  {
   "cell_type": "markdown",
   "metadata": {},
   "source": [
    "#### IDENTIFY X & Y"
   ]
  },
  {
   "cell_type": "code",
   "execution_count": 28,
   "metadata": {},
   "outputs": [],
   "source": [
    "Xc = np.array(tsla_df['Returns'], dtype = float) # Feature\n",
    "Yc = np.array(tsla_df['Close/Last'], dtype = float) # Target"
   ]
  },
  {
   "cell_type": "markdown",
   "metadata": {},
   "source": [
    "#### RUN & FIT MODEL"
   ]
  },
  {
   "cell_type": "code",
   "execution_count": 29,
   "metadata": {},
   "outputs": [
    {
     "name": "stdout",
     "output_type": "stream",
     "text": [
      "Epoch 1/100\n",
      "40/40 [==============================] - 0s 846us/step - loss: 54282.2969\n",
      "Epoch 2/100\n",
      "40/40 [==============================] - 0s 872us/step - loss: 44413.5938\n",
      "Epoch 3/100\n",
      "40/40 [==============================] - 0s 975us/step - loss: 42418.2891\n",
      "Epoch 4/100\n",
      "40/40 [==============================] - 0s 872us/step - loss: 41989.5703\n",
      "Epoch 5/100\n",
      "40/40 [==============================] - 0s 744us/step - loss: 41909.9531\n",
      "Epoch 6/100\n",
      "40/40 [==============================] - 0s 769us/step - loss: 41902.5703\n",
      "Epoch 7/100\n",
      "40/40 [==============================] - 0s 1ms/step - loss: 41899.1602\n",
      "Epoch 8/100\n",
      "40/40 [==============================] - 0s 1ms/step - loss: 41883.7227\n",
      "Epoch 9/100\n",
      "40/40 [==============================] - 0s 1ms/step - loss: 41890.3516\n",
      "Epoch 10/100\n",
      "40/40 [==============================] - 0s 846us/step - loss: 41894.2344\n",
      "Epoch 11/100\n",
      "40/40 [==============================] - 0s 769us/step - loss: 41885.5039\n",
      "Epoch 12/100\n",
      "40/40 [==============================] - 0s 769us/step - loss: 41880.3359\n",
      "Epoch 13/100\n",
      "40/40 [==============================] - 0s 744us/step - loss: 41887.4961\n",
      "Epoch 14/100\n",
      "40/40 [==============================] - 0s 821us/step - loss: 41876.1094\n",
      "Epoch 15/100\n",
      "40/40 [==============================] - 0s 821us/step - loss: 41877.0312\n",
      "Epoch 16/100\n",
      "40/40 [==============================] - 0s 795us/step - loss: 41883.1953\n",
      "Epoch 17/100\n",
      "40/40 [==============================] - 0s 846us/step - loss: 41901.9648\n",
      "Epoch 18/100\n",
      "40/40 [==============================] - 0s 795us/step - loss: 41894.4648\n",
      "Epoch 19/100\n",
      "40/40 [==============================] - 0s 846us/step - loss: 41880.7188\n",
      "Epoch 20/100\n",
      "40/40 [==============================] - 0s 872us/step - loss: 41882.5312\n",
      "Epoch 21/100\n",
      "40/40 [==============================] - 0s 795us/step - loss: 41891.6016\n",
      "Epoch 22/100\n",
      "40/40 [==============================] - 0s 795us/step - loss: 41900.8320\n",
      "Epoch 23/100\n",
      "40/40 [==============================] - 0s 846us/step - loss: 41890.7305\n",
      "Epoch 24/100\n",
      "40/40 [==============================] - 0s 872us/step - loss: 41884.7461\n",
      "Epoch 25/100\n",
      "40/40 [==============================] - 0s 795us/step - loss: 41890.4609\n",
      "Epoch 26/100\n",
      "40/40 [==============================] - 0s 821us/step - loss: 41877.5156\n",
      "Epoch 27/100\n",
      "40/40 [==============================] - 0s 821us/step - loss: 41879.8594\n",
      "Epoch 28/100\n",
      "40/40 [==============================] - 0s 821us/step - loss: 41894.9219\n",
      "Epoch 29/100\n",
      "40/40 [==============================] - 0s 897us/step - loss: 41887.3633\n",
      "Epoch 30/100\n",
      "40/40 [==============================] - 0s 872us/step - loss: 41877.5078\n",
      "Epoch 31/100\n",
      "40/40 [==============================] - 0s 1ms/step - loss: 41886.1914\n",
      "Epoch 32/100\n",
      "40/40 [==============================] - 0s 795us/step - loss: 41884.1172\n",
      "Epoch 33/100\n",
      "40/40 [==============================] - 0s 846us/step - loss: 41878.5547\n",
      "Epoch 34/100\n",
      "40/40 [==============================] - 0s 769us/step - loss: 41875.7773\n",
      "Epoch 35/100\n",
      "40/40 [==============================] - 0s 795us/step - loss: 41889.1758\n",
      "Epoch 36/100\n",
      "40/40 [==============================] - 0s 846us/step - loss: 41885.4219\n",
      "Epoch 37/100\n",
      "40/40 [==============================] - 0s 821us/step - loss: 41887.1875\n",
      "Epoch 38/100\n",
      "40/40 [==============================] - 0s 795us/step - loss: 41886.3008\n",
      "Epoch 39/100\n",
      "40/40 [==============================] - 0s 821us/step - loss: 41890.4805\n",
      "Epoch 40/100\n",
      "40/40 [==============================] - 0s 872us/step - loss: 41885.0039\n",
      "Epoch 41/100\n",
      "40/40 [==============================] - 0s 846us/step - loss: 41882.8477\n",
      "Epoch 42/100\n",
      "40/40 [==============================] - 0s 923us/step - loss: 41886.0703\n",
      "Epoch 43/100\n",
      "40/40 [==============================] - 0s 846us/step - loss: 41871.4570\n",
      "Epoch 44/100\n",
      "40/40 [==============================] - 0s 846us/step - loss: 41884.7969\n",
      "Epoch 45/100\n",
      "40/40 [==============================] - 0s 872us/step - loss: 41891.9258\n",
      "Epoch 46/100\n",
      "40/40 [==============================] - 0s 923us/step - loss: 41888.1055\n",
      "Epoch 47/100\n",
      "40/40 [==============================] - 0s 949us/step - loss: 41877.3281\n",
      "Epoch 48/100\n",
      "40/40 [==============================] - 0s 821us/step - loss: 41884.6484\n",
      "Epoch 49/100\n",
      "40/40 [==============================] - 0s 821us/step - loss: 41884.5664\n",
      "Epoch 50/100\n",
      "40/40 [==============================] - 0s 923us/step - loss: 41888.4219\n",
      "Epoch 51/100\n",
      "40/40 [==============================] - 0s 846us/step - loss: 41884.6953\n",
      "Epoch 52/100\n",
      "40/40 [==============================] - 0s 821us/step - loss: 41882.5312\n",
      "Epoch 53/100\n",
      "40/40 [==============================] - 0s 1ms/step - loss: 41892.3867\n",
      "Epoch 54/100\n",
      "40/40 [==============================] - 0s 897us/step - loss: 41889.7734\n",
      "Epoch 55/100\n",
      "40/40 [==============================] - 0s 846us/step - loss: 41877.1562\n",
      "Epoch 56/100\n",
      "40/40 [==============================] - 0s 846us/step - loss: 41886.6875\n",
      "Epoch 57/100\n",
      "40/40 [==============================] - 0s 846us/step - loss: 41877.8945\n",
      "Epoch 58/100\n",
      "40/40 [==============================] - 0s 821us/step - loss: 41887.0312\n",
      "Epoch 59/100\n",
      "40/40 [==============================] - 0s 795us/step - loss: 41881.2266\n",
      "Epoch 60/100\n",
      "40/40 [==============================] - 0s 898us/step - loss: 41880.6367\n",
      "Epoch 61/100\n",
      "40/40 [==============================] - 0s 923us/step - loss: 41876.1133\n",
      "Epoch 62/100\n",
      "40/40 [==============================] - 0s 846us/step - loss: 41886.6602\n",
      "Epoch 63/100\n",
      "40/40 [==============================] - 0s 898us/step - loss: 41877.4336\n",
      "Epoch 64/100\n",
      "40/40 [==============================] - 0s 846us/step - loss: 41880.9062\n",
      "Epoch 65/100\n",
      "40/40 [==============================] - 0s 821us/step - loss: 41880.9336\n",
      "Epoch 66/100\n",
      "40/40 [==============================] - 0s 821us/step - loss: 41879.0547\n",
      "Epoch 67/100\n",
      "40/40 [==============================] - 0s 795us/step - loss: 41881.1602\n",
      "Epoch 68/100\n",
      "40/40 [==============================] - 0s 821us/step - loss: 41879.9062\n",
      "Epoch 69/100\n",
      "40/40 [==============================] - 0s 795us/step - loss: 41877.1836\n",
      "Epoch 70/100\n",
      "40/40 [==============================] - 0s 795us/step - loss: 41884.0078\n",
      "Epoch 71/100\n",
      "40/40 [==============================] - 0s 795us/step - loss: 41880.3203\n",
      "Epoch 72/100\n",
      "40/40 [==============================] - 0s 795us/step - loss: 41892.5586\n",
      "Epoch 73/100\n",
      "40/40 [==============================] - 0s 846us/step - loss: 41880.1133\n",
      "Epoch 74/100\n",
      "40/40 [==============================] - 0s 872us/step - loss: 41890.7617\n",
      "Epoch 75/100\n",
      "40/40 [==============================] - 0s 821us/step - loss: 41877.8438\n",
      "Epoch 76/100\n",
      "40/40 [==============================] - 0s 898us/step - loss: 41875.8438\n",
      "Epoch 77/100\n",
      "40/40 [==============================] - 0s 949us/step - loss: 41891.2539\n",
      "Epoch 78/100\n",
      "40/40 [==============================] - 0s 821us/step - loss: 41882.1367\n",
      "Epoch 79/100\n",
      "40/40 [==============================] - 0s 846us/step - loss: 41882.6641\n",
      "Epoch 80/100\n",
      "40/40 [==============================] - 0s 795us/step - loss: 41882.9414\n",
      "Epoch 81/100\n",
      "40/40 [==============================] - 0s 872us/step - loss: 41883.6836\n",
      "Epoch 82/100\n",
      "40/40 [==============================] - 0s 846us/step - loss: 41879.5469\n",
      "Epoch 83/100\n",
      "40/40 [==============================] - 0s 846us/step - loss: 41878.5977\n",
      "Epoch 84/100\n",
      "40/40 [==============================] - 0s 846us/step - loss: 41890.3203\n",
      "Epoch 85/100\n",
      "40/40 [==============================] - 0s 769us/step - loss: 41884.1719\n",
      "Epoch 86/100\n",
      "40/40 [==============================] - 0s 769us/step - loss: 41882.5391\n",
      "Epoch 87/100\n",
      "40/40 [==============================] - 0s 846us/step - loss: 41883.6250\n",
      "Epoch 88/100\n",
      "40/40 [==============================] - 0s 923us/step - loss: 41873.7773\n",
      "Epoch 89/100\n",
      "40/40 [==============================] - 0s 923us/step - loss: 41882.4062\n",
      "Epoch 90/100\n",
      "40/40 [==============================] - 0s 1ms/step - loss: 41876.2148\n",
      "Epoch 91/100\n",
      "40/40 [==============================] - 0s 2ms/step - loss: 41880.4219\n",
      "Epoch 92/100\n",
      "40/40 [==============================] - 0s 3ms/step - loss: 41880.9844\n",
      "Epoch 93/100\n",
      "40/40 [==============================] - 0s 2ms/step - loss: 41891.9062\n",
      "Epoch 94/100\n",
      "40/40 [==============================] - 0s 1ms/step - loss: 41892.0391\n",
      "Epoch 95/100\n"
     ]
    },
    {
     "name": "stdout",
     "output_type": "stream",
     "text": [
      "40/40 [==============================] - 0s 2ms/step - loss: 41875.8438\n",
      "Epoch 96/100\n",
      "40/40 [==============================] - 0s 1ms/step - loss: 41881.0586\n",
      "Epoch 97/100\n",
      "40/40 [==============================] - 0s 2ms/step - loss: 41875.4922\n",
      "Epoch 98/100\n",
      "40/40 [==============================] - 0s 1ms/step - loss: 41893.0117\n",
      "Epoch 99/100\n",
      "40/40 [==============================] - 0s 2ms/step - loss: 41880.2578\n",
      "Epoch 100/100\n",
      "40/40 [==============================] - 0s 1ms/step - loss: 41878.4297\n"
     ]
    },
    {
     "data": {
      "text/plain": [
       "<tensorflow.python.keras.callbacks.History at 0x28bbaf68ac0>"
      ]
     },
     "execution_count": 29,
     "metadata": {},
     "output_type": "execute_result"
    }
   ],
   "source": [
    "model.fit(Xc, Yc, epochs=100)"
   ]
  },
  {
   "cell_type": "markdown",
   "metadata": {},
   "source": [
    "#### TRANSFORM SCALE AND FIT MODEL"
   ]
  },
  {
   "cell_type": "code",
   "execution_count": 30,
   "metadata": {},
   "outputs": [],
   "source": [
    "scaler = MinMaxScaler()\n",
    "normalized_X = scaler.fit_transform(np.array(tsla_df['Returns']).reshape(1257,-1))\n",
    "X = np.array(normalized_X, dtype = float)\n",
    "normalized_Y = scaler.fit_transform(np.array(tsla_df['Close/Last']).reshape(1257,-1))\n",
    "Y = np.array(normalized_Y, dtype = float)"
   ]
  },
  {
   "cell_type": "code",
   "execution_count": 31,
   "metadata": {},
   "outputs": [],
   "source": [
    "def build_model():\n",
    "  model = keras.Sequential([\n",
    "    layers.Dense(64, activation=tf.nn.relu, input_shape=[len(train_dataset.keys())]),\n",
    "    layers.Dense(64, activation=tf.nn.relu),\n",
    "    layers.Dense(1)\n",
    "  ])\n",
    "\n",
    "  optimizer = tf.keras.optimizers.RMSprop(0.001)\n",
    "\n",
    "  model.compile(loss='mean_squared_error',\n",
    "                optimizer=optimizer,\n",
    "                metrics=['mean_absolute_error', 'mean_squared_error'])\n",
    "  return model"
   ]
  },
  {
   "cell_type": "markdown",
   "metadata": {},
   "source": [
    "#### PRINT OUR PREDICTION"
   ]
  },
  {
   "cell_type": "code",
   "execution_count": 32,
   "metadata": {
    "scrolled": true
   },
   "outputs": [
    {
     "name": "stdout",
     "output_type": "stream",
     "text": [
      "[[155.75699]]\n"
     ]
    }
   ],
   "source": [
    "print((model.predict([0])))"
   ]
  },
  {
   "cell_type": "code",
   "execution_count": null,
   "metadata": {},
   "outputs": [],
   "source": []
  }
 ],
 "metadata": {
  "kernelspec": {
   "display_name": "Python 3",
   "language": "python",
   "name": "python3"
  },
  "language_info": {
   "codemirror_mode": {
    "name": "ipython",
    "version": 3
   },
   "file_extension": ".py",
   "mimetype": "text/x-python",
   "name": "python",
   "nbconvert_exporter": "python",
   "pygments_lexer": "ipython3",
   "version": "3.8.5"
  }
 },
 "nbformat": 4,
 "nbformat_minor": 4
}
