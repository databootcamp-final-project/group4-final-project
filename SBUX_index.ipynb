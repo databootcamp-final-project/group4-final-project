{
 "cells": [
  {
   "cell_type": "code",
   "execution_count": 7,
   "metadata": {},
   "outputs": [],
   "source": [
    "#dependencies\n",
    "\n",
    "import pandas as pd\n",
    "import numpy as np\n",
    "import matplotlib.pyplot as plt\n",
    "import datetime\n",
    "import os\n",
    "import csv"
   ]
  },
  {
   "cell_type": "code",
   "execution_count": 8,
   "metadata": {},
   "outputs": [
    {
     "data": {
      "text/html": [
       "<div>\n",
       "<style scoped>\n",
       "    .dataframe tbody tr th:only-of-type {\n",
       "        vertical-align: middle;\n",
       "    }\n",
       "\n",
       "    .dataframe tbody tr th {\n",
       "        vertical-align: top;\n",
       "    }\n",
       "\n",
       "    .dataframe thead th {\n",
       "        text-align: right;\n",
       "    }\n",
       "</style>\n",
       "<table border=\"1\" class=\"dataframe\">\n",
       "  <thead>\n",
       "    <tr style=\"text-align: right;\">\n",
       "      <th></th>\n",
       "      <th>Date</th>\n",
       "      <th>Close/Last</th>\n",
       "      <th>Volume</th>\n",
       "      <th>Open</th>\n",
       "      <th>High</th>\n",
       "      <th>Low</th>\n",
       "    </tr>\n",
       "  </thead>\n",
       "  <tbody>\n",
       "    <tr>\n",
       "      <th>0</th>\n",
       "      <td>05/24/2021</td>\n",
       "      <td>$112.52</td>\n",
       "      <td>5436295</td>\n",
       "      <td>$111.798</td>\n",
       "      <td>$113.03</td>\n",
       "      <td>$111.52</td>\n",
       "    </tr>\n",
       "    <tr>\n",
       "      <th>1</th>\n",
       "      <td>05/21/2021</td>\n",
       "      <td>$110.92</td>\n",
       "      <td>5146620</td>\n",
       "      <td>$111.63</td>\n",
       "      <td>$112.22</td>\n",
       "      <td>$110.57</td>\n",
       "    </tr>\n",
       "    <tr>\n",
       "      <th>2</th>\n",
       "      <td>05/20/2021</td>\n",
       "      <td>$111.41</td>\n",
       "      <td>5345545</td>\n",
       "      <td>$109.98</td>\n",
       "      <td>$111.69</td>\n",
       "      <td>$109.87</td>\n",
       "    </tr>\n",
       "    <tr>\n",
       "      <th>3</th>\n",
       "      <td>05/19/2021</td>\n",
       "      <td>$109.67</td>\n",
       "      <td>5997454</td>\n",
       "      <td>$109.6</td>\n",
       "      <td>$109.94</td>\n",
       "      <td>$108.88</td>\n",
       "    </tr>\n",
       "    <tr>\n",
       "      <th>4</th>\n",
       "      <td>05/18/2021</td>\n",
       "      <td>$111.07</td>\n",
       "      <td>5177382</td>\n",
       "      <td>$111.37</td>\n",
       "      <td>$112.21</td>\n",
       "      <td>$111.01</td>\n",
       "    </tr>\n",
       "  </tbody>\n",
       "</table>\n",
       "</div>"
      ],
      "text/plain": [
       "         Date Close/Last   Volume      Open     High      Low\n",
       "0  05/24/2021    $112.52  5436295  $111.798  $113.03  $111.52\n",
       "1  05/21/2021    $110.92  5146620   $111.63  $112.22  $110.57\n",
       "2  05/20/2021    $111.41  5345545   $109.98  $111.69  $109.87\n",
       "3  05/19/2021    $109.67  5997454    $109.6  $109.94  $108.88\n",
       "4  05/18/2021    $111.07  5177382   $111.37  $112.21  $111.01"
      ]
     },
     "execution_count": 8,
     "metadata": {},
     "output_type": "execute_result"
    }
   ],
   "source": [
    "#load assesment file\n",
    "\n",
    "SBUX = \"resources/HistoricalData_SBUX.csv\"\n",
    "SBUX_df = pd.read_csv(SBUX)\n",
    "SBUX_df.head()\n"
   ]
  },
  {
   "cell_type": "code",
   "execution_count": null,
   "metadata": {},
   "outputs": [],
   "source": [
    "SBUX_df['Date']= pd.to_datetime(SBUX_df['Date'])\n",
    "SBUX_df['Close/Last'] = SBUX_df['Close/Last'].str.replace('$','')\n",
    "SBUX_df['Open'] = SBUX_df['Open'].str.replace('$','')\n",
    "SBUX_df['High'] = SBUX_df['High'].str.replace('$','')\n",
    "SBUX_df['Low'] = SBUX_df['Low'].str.replace('$','')\n",
    "SBUX_df = SBUX_df.apply( pd.to_numeric)"
   ]
  },
  {
   "cell_type": "code",
   "execution_count": 11,
   "metadata": {},
   "outputs": [
    {
     "data": {
      "text/html": [
       "<div>\n",
       "<style scoped>\n",
       "    .dataframe tbody tr th:only-of-type {\n",
       "        vertical-align: middle;\n",
       "    }\n",
       "\n",
       "    .dataframe tbody tr th {\n",
       "        vertical-align: top;\n",
       "    }\n",
       "\n",
       "    .dataframe thead th {\n",
       "        text-align: right;\n",
       "    }\n",
       "</style>\n",
       "<table border=\"1\" class=\"dataframe\">\n",
       "  <thead>\n",
       "    <tr style=\"text-align: right;\">\n",
       "      <th></th>\n",
       "      <th>Date</th>\n",
       "      <th>Close/Last</th>\n",
       "      <th>Volume</th>\n",
       "      <th>Open</th>\n",
       "      <th>High</th>\n",
       "      <th>Low</th>\n",
       "    </tr>\n",
       "  </thead>\n",
       "  <tbody>\n",
       "    <tr>\n",
       "      <th>0</th>\n",
       "      <td>2021-05-24</td>\n",
       "      <td>112.52</td>\n",
       "      <td>5436295</td>\n",
       "      <td>111.798</td>\n",
       "      <td>113.03</td>\n",
       "      <td>111.52</td>\n",
       "    </tr>\n",
       "    <tr>\n",
       "      <th>1</th>\n",
       "      <td>2021-05-21</td>\n",
       "      <td>110.92</td>\n",
       "      <td>5146620</td>\n",
       "      <td>111.630</td>\n",
       "      <td>112.22</td>\n",
       "      <td>110.57</td>\n",
       "    </tr>\n",
       "    <tr>\n",
       "      <th>2</th>\n",
       "      <td>2021-05-20</td>\n",
       "      <td>111.41</td>\n",
       "      <td>5345545</td>\n",
       "      <td>109.980</td>\n",
       "      <td>111.69</td>\n",
       "      <td>109.87</td>\n",
       "    </tr>\n",
       "    <tr>\n",
       "      <th>3</th>\n",
       "      <td>2021-05-19</td>\n",
       "      <td>109.67</td>\n",
       "      <td>5997454</td>\n",
       "      <td>109.600</td>\n",
       "      <td>109.94</td>\n",
       "      <td>108.88</td>\n",
       "    </tr>\n",
       "    <tr>\n",
       "      <th>4</th>\n",
       "      <td>2021-05-18</td>\n",
       "      <td>111.07</td>\n",
       "      <td>5177382</td>\n",
       "      <td>111.370</td>\n",
       "      <td>112.21</td>\n",
       "      <td>111.01</td>\n",
       "    </tr>\n",
       "  </tbody>\n",
       "</table>\n",
       "</div>"
      ],
      "text/plain": [
       "        Date  Close/Last   Volume     Open    High     Low\n",
       "0 2021-05-24      112.52  5436295  111.798  113.03  111.52\n",
       "1 2021-05-21      110.92  5146620  111.630  112.22  110.57\n",
       "2 2021-05-20      111.41  5345545  109.980  111.69  109.87\n",
       "3 2021-05-19      109.67  5997454  109.600  109.94  108.88\n",
       "4 2021-05-18      111.07  5177382  111.370  112.21  111.01"
      ]
     },
     "execution_count": 11,
     "metadata": {},
     "output_type": "execute_result"
    }
   ],
   "source": [
    "SBUX_df['Date']= pd.to_datetime(SBUX_df['Date'])\n",
    "SBUX_df.head()"
   ]
  },
  {
   "cell_type": "code",
   "execution_count": 12,
   "metadata": {},
   "outputs": [
    {
     "data": {
      "text/html": [
       "<div>\n",
       "<style scoped>\n",
       "    .dataframe tbody tr th:only-of-type {\n",
       "        vertical-align: middle;\n",
       "    }\n",
       "\n",
       "    .dataframe tbody tr th {\n",
       "        vertical-align: top;\n",
       "    }\n",
       "\n",
       "    .dataframe thead th {\n",
       "        text-align: right;\n",
       "    }\n",
       "</style>\n",
       "<table border=\"1\" class=\"dataframe\">\n",
       "  <thead>\n",
       "    <tr style=\"text-align: right;\">\n",
       "      <th></th>\n",
       "      <th>Date</th>\n",
       "      <th>Close/Last</th>\n",
       "      <th>Volume</th>\n",
       "      <th>Open</th>\n",
       "      <th>High</th>\n",
       "      <th>Low</th>\n",
       "    </tr>\n",
       "  </thead>\n",
       "  <tbody>\n",
       "    <tr>\n",
       "      <th>252</th>\n",
       "      <td>2020-05-22</td>\n",
       "      <td>77.62</td>\n",
       "      <td>7653305</td>\n",
       "      <td>77.90</td>\n",
       "      <td>78.050</td>\n",
       "      <td>76.52</td>\n",
       "    </tr>\n",
       "    <tr>\n",
       "      <th>253</th>\n",
       "      <td>2020-05-21</td>\n",
       "      <td>78.05</td>\n",
       "      <td>10312640</td>\n",
       "      <td>78.60</td>\n",
       "      <td>79.375</td>\n",
       "      <td>77.89</td>\n",
       "    </tr>\n",
       "    <tr>\n",
       "      <th>254</th>\n",
       "      <td>2020-05-20</td>\n",
       "      <td>77.76</td>\n",
       "      <td>7790481</td>\n",
       "      <td>77.23</td>\n",
       "      <td>77.840</td>\n",
       "      <td>76.52</td>\n",
       "    </tr>\n",
       "    <tr>\n",
       "      <th>255</th>\n",
       "      <td>2020-05-19</td>\n",
       "      <td>75.86</td>\n",
       "      <td>6484878</td>\n",
       "      <td>76.40</td>\n",
       "      <td>77.225</td>\n",
       "      <td>75.76</td>\n",
       "    </tr>\n",
       "    <tr>\n",
       "      <th>256</th>\n",
       "      <td>2020-05-18</td>\n",
       "      <td>76.23</td>\n",
       "      <td>8912473</td>\n",
       "      <td>76.86</td>\n",
       "      <td>77.500</td>\n",
       "      <td>76.20</td>\n",
       "    </tr>\n",
       "  </tbody>\n",
       "</table>\n",
       "</div>"
      ],
      "text/plain": [
       "          Date  Close/Last    Volume   Open    High    Low\n",
       "252 2020-05-22       77.62   7653305  77.90  78.050  76.52\n",
       "253 2020-05-21       78.05  10312640  78.60  79.375  77.89\n",
       "254 2020-05-20       77.76   7790481  77.23  77.840  76.52\n",
       "255 2020-05-19       75.86   6484878  76.40  77.225  75.76\n",
       "256 2020-05-18       76.23   8912473  76.86  77.500  76.20"
      ]
     },
     "execution_count": 12,
     "metadata": {},
     "output_type": "execute_result"
    }
   ],
   "source": [
    "#setup datetime for first 4 years\n",
    "start_date = \"2016-05-24\"\n",
    "end_date = \"2020-05-24\"\n",
    "\n",
    "after_start_date = SBUX_df[\"Date\"] >= start_date\n",
    "before_end_date = SBUX_df[\"Date\"] <= end_date\n",
    "between_two_dates = after_start_date & before_end_date\n",
    "SBUX_df_4 = SBUX_df.loc[between_two_dates]\n",
    "SBUX_df_4.head()"
   ]
  },
  {
   "cell_type": "code",
   "execution_count": 13,
   "metadata": {},
   "outputs": [
    {
     "data": {
      "text/html": [
       "<div>\n",
       "<style scoped>\n",
       "    .dataframe tbody tr th:only-of-type {\n",
       "        vertical-align: middle;\n",
       "    }\n",
       "\n",
       "    .dataframe tbody tr th {\n",
       "        vertical-align: top;\n",
       "    }\n",
       "\n",
       "    .dataframe thead th {\n",
       "        text-align: right;\n",
       "    }\n",
       "</style>\n",
       "<table border=\"1\" class=\"dataframe\">\n",
       "  <thead>\n",
       "    <tr style=\"text-align: right;\">\n",
       "      <th></th>\n",
       "      <th>Date</th>\n",
       "      <th>Close/Last</th>\n",
       "      <th>Volume</th>\n",
       "      <th>Open</th>\n",
       "      <th>High</th>\n",
       "      <th>Low</th>\n",
       "    </tr>\n",
       "  </thead>\n",
       "  <tbody>\n",
       "    <tr>\n",
       "      <th>0</th>\n",
       "      <td>2021-05-24</td>\n",
       "      <td>112.52</td>\n",
       "      <td>5436295</td>\n",
       "      <td>111.798</td>\n",
       "      <td>113.03</td>\n",
       "      <td>111.52</td>\n",
       "    </tr>\n",
       "    <tr>\n",
       "      <th>1</th>\n",
       "      <td>2021-05-21</td>\n",
       "      <td>110.92</td>\n",
       "      <td>5146620</td>\n",
       "      <td>111.630</td>\n",
       "      <td>112.22</td>\n",
       "      <td>110.57</td>\n",
       "    </tr>\n",
       "    <tr>\n",
       "      <th>2</th>\n",
       "      <td>2021-05-20</td>\n",
       "      <td>111.41</td>\n",
       "      <td>5345545</td>\n",
       "      <td>109.980</td>\n",
       "      <td>111.69</td>\n",
       "      <td>109.87</td>\n",
       "    </tr>\n",
       "    <tr>\n",
       "      <th>3</th>\n",
       "      <td>2021-05-19</td>\n",
       "      <td>109.67</td>\n",
       "      <td>5997454</td>\n",
       "      <td>109.600</td>\n",
       "      <td>109.94</td>\n",
       "      <td>108.88</td>\n",
       "    </tr>\n",
       "    <tr>\n",
       "      <th>4</th>\n",
       "      <td>2021-05-18</td>\n",
       "      <td>111.07</td>\n",
       "      <td>5177382</td>\n",
       "      <td>111.370</td>\n",
       "      <td>112.21</td>\n",
       "      <td>111.01</td>\n",
       "    </tr>\n",
       "  </tbody>\n",
       "</table>\n",
       "</div>"
      ],
      "text/plain": [
       "        Date  Close/Last   Volume     Open    High     Low\n",
       "0 2021-05-24      112.52  5436295  111.798  113.03  111.52\n",
       "1 2021-05-21      110.92  5146620  111.630  112.22  110.57\n",
       "2 2021-05-20      111.41  5345545  109.980  111.69  109.87\n",
       "3 2021-05-19      109.67  5997454  109.600  109.94  108.88\n",
       "4 2021-05-18      111.07  5177382  111.370  112.21  111.01"
      ]
     },
     "execution_count": 13,
     "metadata": {},
     "output_type": "execute_result"
    }
   ],
   "source": [
    "#setup datetime for last year\n",
    "start_date = \"2020-05-25\"\n",
    "end_date = \"2021-05-24\"\n",
    "\n",
    "after_start_date = SBUX_df[\"Date\"] >= start_date\n",
    "before_end_date = SBUX_df[\"Date\"] <= end_date\n",
    "between_two_dates = after_start_date & before_end_date\n",
    "SBUX_df_ls = SBUX_df.loc[between_two_dates]\n",
    "SBUX_df_ls.head()"
   ]
  },
  {
   "cell_type": "code",
   "execution_count": 16,
   "metadata": {},
   "outputs": [
    {
     "data": {
      "image/png": "[encoded data removed]",
      "text/plain": [
       "<Figure size 864x576 with 1 Axes>"
      ]
     },
     "metadata": {
      "needs_background": "light"
     },
     "output_type": "display_data"
    }
   ],
   "source": [
    "#Plot of the first four years\n",
    "plt.figure(figsize=(12,8))\n",
    "plt.plot(SBUX_df_4['Close/Last'])\n",
    "plt.title(\"SBUX Line Chart\")\n",
    "plt.xlabel(\"Date\")\n",
    "plt.ylabel(\"Close\")\n",
    "plt.show()"
   ]
  },
  {
   "cell_type": "code",
   "execution_count": 17,
   "metadata": {},
   "outputs": [
    {
     "data": {
      "image/png": "[encoded data removed]",
      "text/plain": [
       "<Figure size 864x576 with 1 Axes>"
      ]
     },
     "metadata": {
      "needs_background": "light"
     },
     "output_type": "display_data"
    }
   ],
   "source": [
    "#Second Plot of Last Year \n",
    "plt.figure(figsize=(12,8))\n",
    "plt.plot(SBUX_df_ls['Close/Last'])\n",
    "plt.title(\"SBUX Line Chart\")\n",
    "plt.xlabel(\"Date\")\n",
    "plt.ylabel(\"Close\")\n",
    "plt.show()"
   ]
  },
  {
   "cell_type": "code",
   "execution_count": 20,
   "metadata": {},
   "outputs": [
    {
     "data": {
      "text/plain": [
       "(1006, 6)"
      ]
     },
     "execution_count": 20,
     "metadata": {},
     "output_type": "execute_result"
    }
   ],
   "source": [
    "#SHAPPING, FITTING, TRAINING, TESTING ML ON 1ST DataFrame\n",
    "SBUX_df_4.shape"
   ]
  },
  {
   "cell_type": "code",
   "execution_count": 21,
   "metadata": {},
   "outputs": [],
   "source": [
    "X = np.array(SBUX_df_4['Open']).reshape(1006,-1)\n",
    "Y = np.array(SBUX_df_4['Close/Last']).reshape(1006,-1)"
   ]
  },
  {
   "cell_type": "code",
   "execution_count": 22,
   "metadata": {},
   "outputs": [],
   "source": [
    "from sklearn.linear_model import LinearRegression"
   ]
  },
  {
   "cell_type": "code",
   "execution_count": 23,
   "metadata": {},
   "outputs": [],
   "source": [
    "lr = LinearRegression()"
   ]
  },
  {
   "cell_type": "code",
   "execution_count": 24,
   "metadata": {},
   "outputs": [
    {
     "data": {
      "text/plain": [
       "LinearRegression()"
      ]
     },
     "execution_count": 24,
     "metadata": {},
     "output_type": "execute_result"
    }
   ],
   "source": [
    "lr.fit(X, Y)"
   ]
  },
  {
   "cell_type": "code",
   "execution_count": 25,
   "metadata": {},
   "outputs": [
    {
     "name": "stdout",
     "output_type": "stream",
     "text": [
      "Linear Regression intercept: [0.29206959]\n",
      "coefficient count: 1\n"
     ]
    }
   ],
   "source": [
    "print('Linear Regression intercept:', lr.intercept_)\n",
    "print('coefficient count:', len(lr.coef_))"
   ]
  },
  {
   "cell_type": "code",
   "execution_count": 26,
   "metadata": {},
   "outputs": [
    {
     "name": "stdout",
     "output_type": "stream",
     "text": [
      "Accuracy: 0.9961578307152368\n"
     ]
    }
   ],
   "source": [
    "from sklearn.metrics import accuracy_score\n",
    "print('Accuracy:', lr.score(X, Y))"
   ]
  },
  {
   "cell_type": "code",
   "execution_count": 27,
   "metadata": {},
   "outputs": [
    {
     "data": {
      "text/plain": [
       "array([[77.86133869],\n",
       "       [78.55836679],\n",
       "       [77.19418324],\n",
       "       ...,\n",
       "       [55.41703413],\n",
       "       [55.60622747],\n",
       "       [55.25771342]])"
      ]
     },
     "execution_count": 27,
     "metadata": {},
     "output_type": "execute_result"
    }
   ],
   "source": [
    "# Predicting the price\n",
    "lr.predict(X)"
   ]
  },
  {
   "cell_type": "code",
   "execution_count": 30,
   "metadata": {},
   "outputs": [
    {
     "data": {
      "text/plain": [
       "Text(0.5, 1.0, '4 Years CLosing Price vs Predicted Closing Price')"
      ]
     },
     "execution_count": 30,
     "metadata": {},
     "output_type": "execute_result"
    },
    {
     "data": {
      "image/png": "[encoded data removed]",
      "text/plain": [
       "<Figure size 864x576 with 1 Axes>"
      ]
     },
     "metadata": {
      "needs_background": "light"
     },
     "output_type": "display_data"
    }
   ],
   "source": [
    "plt.figure(figsize=(12,8))\n",
    "plt.scatter(SBUX_df_4['Close/Last'], lr.predict(X))\n",
    "plt.plot(X, lr.predict(X), color = 'red')\n",
    "plt.xlabel('Closing Price')\n",
    "plt.ylabel('Predicted Closing Price')\n",
    "plt.savefig('images/SBUX_4y.jpg', dpi=40)\n",
    "plt.grid()\n",
    "plt.title('4 Years CLosing Price vs Predicted Closing Price')"
   ]
  },
  {
   "cell_type": "code",
   "execution_count": 31,
   "metadata": {},
   "outputs": [
    {
     "data": {
      "text/plain": [
       "(252, 6)"
      ]
     },
     "execution_count": 31,
     "metadata": {},
     "output_type": "execute_result"
    }
   ],
   "source": [
    "#TRAINING, TESTING ML ON 2ND DF\n",
    "SBUX_df_ls.shape"
   ]
  },
  {
   "cell_type": "code",
   "execution_count": 32,
   "metadata": {},
   "outputs": [],
   "source": [
    "X_ls = np.array(SBUX_df_ls['Open']).reshape(252,-1)\n",
    "Y_ls = np.array(SBUX_df_ls['Close/Last']).reshape(252,-1)"
   ]
  },
  {
   "cell_type": "code",
   "execution_count": 33,
   "metadata": {},
   "outputs": [
    {
     "data": {
      "text/plain": [
       "LinearRegression()"
      ]
     },
     "execution_count": 33,
     "metadata": {},
     "output_type": "execute_result"
    }
   ],
   "source": [
    "lr.fit(X_ls, Y_ls)"
   ]
  },
  {
   "cell_type": "code",
   "execution_count": 34,
   "metadata": {},
   "outputs": [
    {
     "name": "stdout",
     "output_type": "stream",
     "text": [
      "Linear Regression intercept: [0.08613913]\n",
      "coefficient count: 1\n"
     ]
    }
   ],
   "source": [
    "print('Linear Regression intercept:', lr.intercept_)\n",
    "print('coefficient count:', len(lr.coef_))"
   ]
  },
  {
   "cell_type": "code",
   "execution_count": 35,
   "metadata": {},
   "outputs": [
    {
     "name": "stdout",
     "output_type": "stream",
     "text": [
      "Accuracy: 0.9926578351589651\n"
     ]
    }
   ],
   "source": [
    "print('Accuracy:', lr.score(X_ls, Y_ls))"
   ]
  },
  {
   "cell_type": "code",
   "execution_count": 36,
   "metadata": {},
   "outputs": [
    {
     "data": {
      "text/plain": [
       "array([[111.84546052],\n",
       "       [111.67751864],\n",
       "       [110.02808949],\n",
       "       [109.64822096],\n",
       "       [111.4176086 ],\n",
       "       [111.26766049],\n",
       "       [111.05773314],\n",
       "       [110.20802722],\n",
       "       [111.91743561],\n",
       "       [113.36693396],\n",
       "       [114.6165015 ],\n",
       "       [115.15631467],\n",
       "       [113.69681979],\n",
       "       [114.25662604],\n",
       "       [115.19630083],\n",
       "       [115.22629045],\n",
       "       [114.0466987 ],\n",
       "       [113.25697201],\n",
       "       [113.48689244],\n",
       "       [115.71612093],\n",
       "       [116.99567809],\n",
       "       [116.06599984],\n",
       "       [116.91370646],\n",
       "       [116.13597562],\n",
       "       [117.00567463],\n",
       "       [118.21525601],\n",
       "       [117.8653771 ],\n",
       "       [115.14631813],\n",
       "       [115.26627662],\n",
       "       [113.82677481],\n",
       "       [113.06703775],\n",
       "       [112.9570758 ],\n",
       "       [113.69681979],\n",
       "       [112.9570758 ],\n",
       "       [111.42760514],\n",
       "       [109.95811371],\n",
       "       [110.10806181],\n",
       "       [110.3779684 ],\n",
       "       [108.4686292 ],\n",
       "       [109.05842508],\n",
       "       [107.29903399],\n",
       "       [105.05680999],\n",
       "       [106.67924849],\n",
       "       [107.78886446],\n",
       "       [106.44932806],\n",
       "       [108.39865342],\n",
       "       [109.32833167],\n",
       "       [111.35762935],\n",
       "       [110.61588606],\n",
       "       [107.93881257],\n",
       "       [107.46897517],\n",
       "       [108.45863266],\n",
       "       [107.26904437],\n",
       "       [106.32936958],\n",
       "       [104.84988161],\n",
       "       [106.10944569],\n",
       "       [106.3093765 ],\n",
       "       [106.98914124],\n",
       "       [107.35901323],\n",
       "       [108.64856693],\n",
       "       [104.20010649],\n",
       "       [104.05015839],\n",
       "       [101.21114094],\n",
       "       [103.39038672],\n",
       "       [103.04050781],\n",
       "       [104.79989891],\n",
       "       [103.82523623],\n",
       "       [105.15477609],\n",
       "       [104.92985393],\n",
       "       [105.7895564 ],\n",
       "       [106.16442666],\n",
       "       [106.82919659],\n",
       "       [106.04946645],\n",
       "       [106.46932114],\n",
       "       [105.13688228],\n",
       "       [101.41107174],\n",
       "       [101.3011098 ],\n",
       "       [ 99.10187093],\n",
       "       [ 97.04258363],\n",
       "       [ 97.43744697],\n",
       "       [ 98.98691072],\n",
       "       [101.53103023],\n",
       "       [103.45036597],\n",
       "       [103.79524661],\n",
       "       [104.20910338],\n",
       "       [105.50965327],\n",
       "       [102.46070848],\n",
       "       [102.84757459],\n",
       "       [101.43106482],\n",
       "       [103.85022758],\n",
       "       [102.37073961],\n",
       "       [104.06015493],\n",
       "       [105.14977782],\n",
       "       [103.91020682],\n",
       "       [104.53998886],\n",
       "       [103.04050781],\n",
       "       [102.97053203],\n",
       "       [107.70889214],\n",
       "       [106.04946645],\n",
       "       [106.03946991],\n",
       "       [104.93685151],\n",
       "       [102.97053203],\n",
       "       [102.35074653],\n",
       "       [102.34074999],\n",
       "       [102.17080881],\n",
       "       [101.27112018],\n",
       "       [103.38039018],\n",
       "       [103.60031407],\n",
       "       [104.15012379],\n",
       "       [104.29007535],\n",
       "       [103.8802172 ],\n",
       "       [104.45501827],\n",
       "       [103.5583286 ],\n",
       "       [101.99087108],\n",
       "       [100.42141425],\n",
       "       [102.06084686],\n",
       "       [101.4010752 ],\n",
       "       [ 99.07188131],\n",
       "       [ 98.56205775],\n",
       "       [ 99.05188823],\n",
       "       [ 98.252165  ],\n",
       "       [ 98.53206813],\n",
       "       [ 98.55206121],\n",
       "       [ 97.56240372],\n",
       "       [ 97.67236567],\n",
       "       [ 97.47243486],\n",
       "       [ 97.29249713],\n",
       "       [ 98.68201624],\n",
       "       [ 97.26250751],\n",
       "       [ 96.84265282],\n",
       "       [ 94.4334866 ],\n",
       "       [ 94.71338973],\n",
       "       [ 94.16358002],\n",
       "       [ 93.79370802],\n",
       "       [ 97.37246946],\n",
       "       [ 90.20495005],\n",
       "       [ 90.74476323],\n",
       "       [ 88.95538251],\n",
       "       [ 86.83411666],\n",
       "       [ 87.59585303],\n",
       "       [ 87.80578038],\n",
       "       [ 87.22598104],\n",
       "       [ 88.70546901],\n",
       "       [ 89.53518185],\n",
       "       [ 90.08499157],\n",
       "       [ 89.85507114],\n",
       "       [ 88.07568697],\n",
       "       [ 88.43556242],\n",
       "       [ 88.73545863],\n",
       "       [ 88.75545171],\n",
       "       [ 89.44521299],\n",
       "       [ 88.21563853],\n",
       "       [ 90.22494313],\n",
       "       [ 90.63480129],\n",
       "       [ 90.51434297],\n",
       "       [ 89.85507114],\n",
       "       [ 88.51553474],\n",
       "       [ 87.87575616],\n",
       "       [ 88.70546901],\n",
       "       [ 87.32594644],\n",
       "       [ 85.2066799 ],\n",
       "       [ 87.09602602],\n",
       "       [ 86.68616786],\n",
       "       [ 86.30629933],\n",
       "       [ 85.57655189],\n",
       "       [ 82.58758633],\n",
       "       [ 82.68755174],\n",
       "       [ 84.43694629],\n",
       "       [ 84.10706046],\n",
       "       [ 82.91747216],\n",
       "       [ 86.86610559],\n",
       "       [ 87.10602256],\n",
       "       [ 88.05569389],\n",
       "       [ 87.23597758],\n",
       "       [ 85.80847162],\n",
       "       [ 85.00674909],\n",
       "       [ 85.85645502],\n",
       "       [ 85.99040866],\n",
       "       [ 85.32663838],\n",
       "       [ 87.15100699],\n",
       "       [ 88.65748561],\n",
       "       [ 86.56121111],\n",
       "       [ 84.75683558],\n",
       "       [ 84.68885911],\n",
       "       [ 83.84715041],\n",
       "       [ 82.80751022],\n",
       "       [ 82.47762439],\n",
       "       [ 80.11844088],\n",
       "       [ 77.7692539 ],\n",
       "       [ 76.9995203 ],\n",
       "       [ 77.08948916],\n",
       "       [ 79.24174429],\n",
       "       [ 79.20875571],\n",
       "       [ 78.65894599],\n",
       "       [ 78.59896675],\n",
       "       [ 78.97883528],\n",
       "       [ 79.64860348],\n",
       "       [ 78.32906016],\n",
       "       [ 75.87790848],\n",
       "       [ 75.54002541],\n",
       "       [ 75.26012228],\n",
       "       [ 75.41007039],\n",
       "       [ 75.43006347],\n",
       "       [ 76.53967944],\n",
       "       [ 76.29976248],\n",
       "       [ 76.68962755],\n",
       "       [ 77.6193058 ],\n",
       "       [ 76.35974172],\n",
       "       [ 75.94588495],\n",
       "       [ 75.34009461],\n",
       "       [ 76.93954106],\n",
       "       [ 75.58001157],\n",
       "       [ 75.83992162],\n",
       "       [ 74.22048209],\n",
       "       [ 74.49038868],\n",
       "       [ 74.96022608],\n",
       "       [ 74.5203783 ],\n",
       "       [ 72.06122938],\n",
       "       [ 74.6203437 ],\n",
       "       [ 73.06088342],\n",
       "       [ 73.79063086],\n",
       "       [ 74.13051323],\n",
       "       [ 75.1901465 ],\n",
       "       [ 74.9902157 ],\n",
       "       [ 75.10017764],\n",
       "       [ 74.06053745],\n",
       "       [ 73.64068275],\n",
       "       [ 71.47043385],\n",
       "       [ 73.69066546],\n",
       "       [ 73.27680869],\n",
       "       [ 74.96022608],\n",
       "       [ 76.38973134],\n",
       "       [ 74.96022608],\n",
       "       [ 77.08948916],\n",
       "       [ 76.77959641],\n",
       "       [ 78.12912935],\n",
       "       [ 78.84888026],\n",
       "       [ 74.36043366],\n",
       "       [ 75.06019148],\n",
       "       [ 75.809932  ],\n",
       "       [ 79.93850315],\n",
       "       [ 82.6775552 ],\n",
       "       [ 83.13739605],\n",
       "       [ 80.38834747],\n",
       "       [ 79.36870035],\n",
       "       [ 78.50899789],\n",
       "       [ 78.02916395],\n",
       "       [ 77.7192712 ],\n",
       "       [ 78.67893907],\n",
       "       [ 78.69893215],\n",
       "       [ 79.03881452],\n",
       "       [ 79.65860002]])"
      ]
     },
     "execution_count": 36,
     "metadata": {},
     "output_type": "execute_result"
    }
   ],
   "source": [
    "# Predicting the price\n",
    "lr.predict(X_ls)"
   ]
  },
  {
   "cell_type": "code",
   "execution_count": 37,
   "metadata": {},
   "outputs": [
    {
     "data": {
      "text/plain": [
       "Text(0.5, 1.0, '1 Year CLosing Price vs Predicted Closing Price')"
      ]
     },
     "execution_count": 37,
     "metadata": {},
     "output_type": "execute_result"
    },
    {
     "data": {
      "image/png": "[encoded data removed]",
      "text/plain": [
       "<Figure size 864x576 with 1 Axes>"
      ]
     },
     "metadata": {
      "needs_background": "light"
     },
     "output_type": "display_data"
    }
   ],
   "source": [
    "plt.figure(figsize=(12,8))\n",
    "plt.scatter(SBUX_df_ls['Close/Last'], lr.predict(X_ls))\n",
    "plt.plot(X_ls, lr.predict(X_ls), color = 'red')\n",
    "plt.xlabel('Closing Price')\n",
    "plt.ylabel('Predicted Closing Price')\n",
    "plt.savefig('images/SBUX_ls.jpg', dpi=40)\n",
    "plt.grid()\n",
    "plt.title('1 Year CLosing Price vs Predicted Closing Price')"
   ]
  },
  {
   "cell_type": "markdown",
   "metadata": {},
   "source": []
  }
 ],
 "metadata": {
  "kernelspec": {
   "display_name": "Python 3",
   "language": "python",
   "name": "python3"
  },
  "language_info": {
   "codemirror_mode": {
    "name": "ipython",
    "version": 3
   },
   "file_extension": ".py",
   "mimetype": "text/x-python",
   "name": "python",
   "nbconvert_exporter": "python",
   "pygments_lexer": "ipython3",
   "version": "3.8.5"
  }
 },
 "nbformat": 4,
 "nbformat_minor": 4
}
