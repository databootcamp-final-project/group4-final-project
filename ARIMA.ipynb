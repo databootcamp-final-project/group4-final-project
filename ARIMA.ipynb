{
 "cells": [
  {
   "cell_type": "code",
   "execution_count": 1,
   "metadata": {},
   "outputs": [
    {
     "data": {
      "application/javascript": [
       "\n",
       "            setTimeout(function() {\n",
       "                var nbb_cell_id = 1;\n",
       "                var nbb_unformatted_code = \"%load_ext nb_black\\n\\nimport time\\nimport os\\nimport pandas as pd\\nimport numpy as np\\nimport matplotlib.pyplot as plt\\n\\nfrom pmdarima import auto_arima\\nimport warnings\\n\\nplt.style.use(style=\\\"seaborn\\\")\\n\\n%matplotlib inline\";\n",
       "                var nbb_formatted_code = \"%load_ext nb_black\\n\\nimport time\\nimport os\\nimport pandas as pd\\nimport numpy as np\\nimport matplotlib.pyplot as plt\\n\\nfrom pmdarima import auto_arima\\nimport warnings\\n\\nplt.style.use(style=\\\"seaborn\\\")\\n\\n%matplotlib inline\";\n",
       "                var nbb_cells = Jupyter.notebook.get_cells();\n",
       "                for (var i = 0; i < nbb_cells.length; ++i) {\n",
       "                    if (nbb_cells[i].input_prompt_number == nbb_cell_id) {\n",
       "                        if (nbb_cells[i].get_text() == nbb_unformatted_code) {\n",
       "                             nbb_cells[i].set_text(nbb_formatted_code);\n",
       "                        }\n",
       "                        break;\n",
       "                    }\n",
       "                }\n",
       "            }, 500);\n",
       "            "
      ],
      "text/plain": [
       "<IPython.core.display.Javascript object>"
      ]
     },
     "metadata": {},
     "output_type": "display_data"
    }
   ],
   "source": [
    "%load_ext nb_black\n",
    "\n",
    "import time\n",
    "import os\n",
    "import pandas as pd\n",
    "import numpy as np\n",
    "import matplotlib.pyplot as plt\n",
    "\n",
    "from pmdarima import auto_arima\n",
    "import warnings\n",
    "\n",
    "plt.style.use(style=\"seaborn\")\n",
    "\n",
    "%matplotlib inline"
   ]
  },
  {
   "cell_type": "markdown",
   "metadata": {},
   "source": [
    "### Load Data"
   ]
  },
  {
   "cell_type": "code",
   "execution_count": 2,
   "metadata": {},
   "outputs": [
    {
     "data": {
      "text/html": [
       "<div>\n",
       "<style scoped>\n",
       "    .dataframe tbody tr th:only-of-type {\n",
       "        vertical-align: middle;\n",
       "    }\n",
       "\n",
       "    .dataframe tbody tr th {\n",
       "        vertical-align: top;\n",
       "    }\n",
       "\n",
       "    .dataframe thead th {\n",
       "        text-align: right;\n",
       "    }\n",
       "</style>\n",
       "<table border=\"1\" class=\"dataframe\">\n",
       "  <thead>\n",
       "    <tr style=\"text-align: right;\">\n",
       "      <th></th>\n",
       "      <th>Close/Last</th>\n",
       "      <th>Volume</th>\n",
       "      <th>Open</th>\n",
       "      <th>High</th>\n",
       "      <th>Low</th>\n",
       "    </tr>\n",
       "    <tr>\n",
       "      <th>Date</th>\n",
       "      <th></th>\n",
       "      <th></th>\n",
       "      <th></th>\n",
       "      <th></th>\n",
       "      <th></th>\n",
       "    </tr>\n",
       "  </thead>\n",
       "  <tbody>\n",
       "    <tr>\n",
       "      <th>2021-05-24</th>\n",
       "      <td>$250.78</td>\n",
       "      <td>21411550</td>\n",
       "      <td>$247.785</td>\n",
       "      <td>$251.16</td>\n",
       "      <td>$247.51</td>\n",
       "    </tr>\n",
       "    <tr>\n",
       "      <th>2021-05-21</th>\n",
       "      <td>$245.17</td>\n",
       "      <td>21863060</td>\n",
       "      <td>$247.565</td>\n",
       "      <td>$248.33</td>\n",
       "      <td>$244.74</td>\n",
       "    </tr>\n",
       "    <tr>\n",
       "      <th>2021-05-20</th>\n",
       "      <td>$246.48</td>\n",
       "      <td>21800720</td>\n",
       "      <td>$243.96</td>\n",
       "      <td>$247.95</td>\n",
       "      <td>$243.86</td>\n",
       "    </tr>\n",
       "    <tr>\n",
       "      <th>2021-05-19</th>\n",
       "      <td>$243.12</td>\n",
       "      <td>25739810</td>\n",
       "      <td>$239.31</td>\n",
       "      <td>$243.23</td>\n",
       "      <td>$238.6</td>\n",
       "    </tr>\n",
       "    <tr>\n",
       "      <th>2021-05-18</th>\n",
       "      <td>$243.08</td>\n",
       "      <td>20167980</td>\n",
       "      <td>$246.27</td>\n",
       "      <td>$246.41</td>\n",
       "      <td>$242.9</td>\n",
       "    </tr>\n",
       "    <tr>\n",
       "      <th>...</th>\n",
       "      <td>...</td>\n",
       "      <td>...</td>\n",
       "      <td>...</td>\n",
       "      <td>...</td>\n",
       "      <td>...</td>\n",
       "    </tr>\n",
       "    <tr>\n",
       "      <th>2021-01-06</th>\n",
       "      <td>$212.25</td>\n",
       "      <td>35930650</td>\n",
       "      <td>$212.17</td>\n",
       "      <td>$216.4899</td>\n",
       "      <td>$211.94</td>\n",
       "    </tr>\n",
       "    <tr>\n",
       "      <th>2021-01-05</th>\n",
       "      <td>$217.9</td>\n",
       "      <td>23822950</td>\n",
       "      <td>$217.26</td>\n",
       "      <td>$218.52</td>\n",
       "      <td>$215.7</td>\n",
       "    </tr>\n",
       "    <tr>\n",
       "      <th>2021-01-04</th>\n",
       "      <td>$217.69</td>\n",
       "      <td>37130140</td>\n",
       "      <td>$222.53</td>\n",
       "      <td>$223</td>\n",
       "      <td>$214.81</td>\n",
       "    </tr>\n",
       "    <tr>\n",
       "      <th>2020-12-31</th>\n",
       "      <td>$222.42</td>\n",
       "      <td>20942130</td>\n",
       "      <td>$221.7</td>\n",
       "      <td>$223</td>\n",
       "      <td>$219.68</td>\n",
       "    </tr>\n",
       "    <tr>\n",
       "      <th>2020-12-30</th>\n",
       "      <td>$221.68</td>\n",
       "      <td>20272340</td>\n",
       "      <td>$225.23</td>\n",
       "      <td>$225.63</td>\n",
       "      <td>$221.47</td>\n",
       "    </tr>\n",
       "  </tbody>\n",
       "</table>\n",
       "<p>100 rows × 5 columns</p>\n",
       "</div>"
      ],
      "text/plain": [
       "           Close/Last    Volume      Open       High      Low\n",
       "Date                                                         \n",
       "2021-05-24    $250.78  21411550  $247.785    $251.16  $247.51\n",
       "2021-05-21    $245.17  21863060  $247.565    $248.33  $244.74\n",
       "2021-05-20    $246.48  21800720   $243.96    $247.95  $243.86\n",
       "2021-05-19    $243.12  25739810   $239.31    $243.23   $238.6\n",
       "2021-05-18    $243.08  20167980   $246.27    $246.41   $242.9\n",
       "...               ...       ...       ...        ...      ...\n",
       "2021-01-06    $212.25  35930650   $212.17  $216.4899  $211.94\n",
       "2021-01-05     $217.9  23822950   $217.26    $218.52   $215.7\n",
       "2021-01-04    $217.69  37130140   $222.53       $223  $214.81\n",
       "2020-12-31    $222.42  20942130    $221.7       $223  $219.68\n",
       "2020-12-30    $221.68  20272340   $225.23    $225.63  $221.47\n",
       "\n",
       "[100 rows x 5 columns]"
      ]
     },
     "execution_count": 2,
     "metadata": {},
     "output_type": "execute_result"
    },
    {
     "data": {
      "application/javascript": [
       "\n",
       "            setTimeout(function() {\n",
       "                var nbb_cell_id = 2;\n",
       "                var nbb_unformatted_code = \"msft_df = pd.read_csv(\\n    \\\"resources/HistoricalData_MSFT.csv\\\", index_col=\\\"Date\\\", parse_dates=True\\n)\\nmsft_df.dropna()\\nmsft_df.head(100)\";\n",
       "                var nbb_formatted_code = \"msft_df = pd.read_csv(\\n    \\\"resources/HistoricalData_MSFT.csv\\\", index_col=\\\"Date\\\", parse_dates=True\\n)\\nmsft_df.dropna()\\nmsft_df.head(100)\";\n",
       "                var nbb_cells = Jupyter.notebook.get_cells();\n",
       "                for (var i = 0; i < nbb_cells.length; ++i) {\n",
       "                    if (nbb_cells[i].input_prompt_number == nbb_cell_id) {\n",
       "                        if (nbb_cells[i].get_text() == nbb_unformatted_code) {\n",
       "                             nbb_cells[i].set_text(nbb_formatted_code);\n",
       "                        }\n",
       "                        break;\n",
       "                    }\n",
       "                }\n",
       "            }, 500);\n",
       "            "
      ],
      "text/plain": [
       "<IPython.core.display.Javascript object>"
      ]
     },
     "metadata": {},
     "output_type": "display_data"
    }
   ],
   "source": [
    "msft_df = pd.read_csv(\n",
    "    \"resources/HistoricalData_MSFT.csv\", index_col=\"Date\", parse_dates=True\n",
    ")\n",
    "msft_df.dropna()\n",
    "msft_df.head(100)"
   ]
  },
  {
   "cell_type": "markdown",
   "metadata": {},
   "source": [
    "### Data cleaning and slicing, sorting by ascending date."
   ]
  },
  {
   "cell_type": "code",
   "execution_count": 3,
   "metadata": {},
   "outputs": [
    {
     "data": {
      "text/html": [
       "<div>\n",
       "<style scoped>\n",
       "    .dataframe tbody tr th:only-of-type {\n",
       "        vertical-align: middle;\n",
       "    }\n",
       "\n",
       "    .dataframe tbody tr th {\n",
       "        vertical-align: top;\n",
       "    }\n",
       "\n",
       "    .dataframe thead th {\n",
       "        text-align: right;\n",
       "    }\n",
       "</style>\n",
       "<table border=\"1\" class=\"dataframe\">\n",
       "  <thead>\n",
       "    <tr style=\"text-align: right;\">\n",
       "      <th></th>\n",
       "      <th>Close/Last</th>\n",
       "    </tr>\n",
       "    <tr>\n",
       "      <th>Date</th>\n",
       "      <th></th>\n",
       "    </tr>\n",
       "  </thead>\n",
       "  <tbody>\n",
       "    <tr>\n",
       "      <th>2016-05-25</th>\n",
       "      <td>52.12</td>\n",
       "    </tr>\n",
       "    <tr>\n",
       "      <th>2016-05-26</th>\n",
       "      <td>51.89</td>\n",
       "    </tr>\n",
       "    <tr>\n",
       "      <th>2016-05-27</th>\n",
       "      <td>52.32</td>\n",
       "    </tr>\n",
       "    <tr>\n",
       "      <th>2016-05-31</th>\n",
       "      <td>53.00</td>\n",
       "    </tr>\n",
       "    <tr>\n",
       "      <th>2016-06-01</th>\n",
       "      <td>52.85</td>\n",
       "    </tr>\n",
       "    <tr>\n",
       "      <th>...</th>\n",
       "      <td>...</td>\n",
       "    </tr>\n",
       "    <tr>\n",
       "      <th>2021-05-18</th>\n",
       "      <td>243.08</td>\n",
       "    </tr>\n",
       "    <tr>\n",
       "      <th>2021-05-19</th>\n",
       "      <td>243.12</td>\n",
       "    </tr>\n",
       "    <tr>\n",
       "      <th>2021-05-20</th>\n",
       "      <td>246.48</td>\n",
       "    </tr>\n",
       "    <tr>\n",
       "      <th>2021-05-21</th>\n",
       "      <td>245.17</td>\n",
       "    </tr>\n",
       "    <tr>\n",
       "      <th>2021-05-24</th>\n",
       "      <td>250.78</td>\n",
       "    </tr>\n",
       "  </tbody>\n",
       "</table>\n",
       "<p>1258 rows × 1 columns</p>\n",
       "</div>"
      ],
      "text/plain": [
       "            Close/Last\n",
       "Date                  \n",
       "2016-05-25       52.12\n",
       "2016-05-26       51.89\n",
       "2016-05-27       52.32\n",
       "2016-05-31       53.00\n",
       "2016-06-01       52.85\n",
       "...                ...\n",
       "2021-05-18      243.08\n",
       "2021-05-19      243.12\n",
       "2021-05-20      246.48\n",
       "2021-05-21      245.17\n",
       "2021-05-24      250.78\n",
       "\n",
       "[1258 rows x 1 columns]"
      ]
     },
     "execution_count": 3,
     "metadata": {},
     "output_type": "execute_result"
    },
    {
     "data": {
      "application/javascript": [
       "\n",
       "            setTimeout(function() {\n",
       "                var nbb_cell_id = 3;\n",
       "                var nbb_unformatted_code = \"df = msft_df[[\\\"Close/Last\\\"]].copy()\\ndf[\\\"Close/Last\\\"] = df[\\\"Close/Last\\\"].str.replace(\\\"$\\\", \\\"\\\")\\ndf[\\\"Close/Last\\\"] = df[\\\"Close/Last\\\"].astype(\\\"float\\\")\\ndf.sort_values(\\\"Date\\\", ascending=True, inplace=True)\\ndf\";\n",
       "                var nbb_formatted_code = \"df = msft_df[[\\\"Close/Last\\\"]].copy()\\ndf[\\\"Close/Last\\\"] = df[\\\"Close/Last\\\"].str.replace(\\\"$\\\", \\\"\\\")\\ndf[\\\"Close/Last\\\"] = df[\\\"Close/Last\\\"].astype(\\\"float\\\")\\ndf.sort_values(\\\"Date\\\", ascending=True, inplace=True)\\ndf\";\n",
       "                var nbb_cells = Jupyter.notebook.get_cells();\n",
       "                for (var i = 0; i < nbb_cells.length; ++i) {\n",
       "                    if (nbb_cells[i].input_prompt_number == nbb_cell_id) {\n",
       "                        if (nbb_cells[i].get_text() == nbb_unformatted_code) {\n",
       "                             nbb_cells[i].set_text(nbb_formatted_code);\n",
       "                        }\n",
       "                        break;\n",
       "                    }\n",
       "                }\n",
       "            }, 500);\n",
       "            "
      ],
      "text/plain": [
       "<IPython.core.display.Javascript object>"
      ]
     },
     "metadata": {},
     "output_type": "display_data"
    }
   ],
   "source": [
    "df = msft_df[[\"Close/Last\"]].copy()\n",
    "df[\"Close/Last\"] = df[\"Close/Last\"].str.replace(\"$\", \"\")\n",
    "df[\"Close/Last\"] = df[\"Close/Last\"].astype(\"float\")\n",
    "df.sort_values(\"Date\", ascending=True, inplace=True)\n",
    "df"
   ]
  },
  {
   "cell_type": "code",
   "execution_count": 4,
   "metadata": {},
   "outputs": [
    {
     "data": {
      "text/html": [
       "<div>\n",
       "<style scoped>\n",
       "    .dataframe tbody tr th:only-of-type {\n",
       "        vertical-align: middle;\n",
       "    }\n",
       "\n",
       "    .dataframe tbody tr th {\n",
       "        vertical-align: top;\n",
       "    }\n",
       "\n",
       "    .dataframe thead th {\n",
       "        text-align: right;\n",
       "    }\n",
       "</style>\n",
       "<table border=\"1\" class=\"dataframe\">\n",
       "  <thead>\n",
       "    <tr style=\"text-align: right;\">\n",
       "      <th></th>\n",
       "      <th>Close/Last</th>\n",
       "    </tr>\n",
       "  </thead>\n",
       "  <tbody>\n",
       "    <tr>\n",
       "      <th>count</th>\n",
       "      <td>1258.000000</td>\n",
       "    </tr>\n",
       "    <tr>\n",
       "      <th>mean</th>\n",
       "      <td>125.053303</td>\n",
       "    </tr>\n",
       "    <tr>\n",
       "      <th>std</th>\n",
       "      <td>58.159735</td>\n",
       "    </tr>\n",
       "    <tr>\n",
       "      <th>min</th>\n",
       "      <td>48.430000</td>\n",
       "    </tr>\n",
       "    <tr>\n",
       "      <th>25%</th>\n",
       "      <td>73.592500</td>\n",
       "    </tr>\n",
       "    <tr>\n",
       "      <th>50%</th>\n",
       "      <td>108.210000</td>\n",
       "    </tr>\n",
       "    <tr>\n",
       "      <th>75%</th>\n",
       "      <td>164.907500</td>\n",
       "    </tr>\n",
       "    <tr>\n",
       "      <th>max</th>\n",
       "      <td>261.970000</td>\n",
       "    </tr>\n",
       "  </tbody>\n",
       "</table>\n",
       "</div>"
      ],
      "text/plain": [
       "        Close/Last\n",
       "count  1258.000000\n",
       "mean    125.053303\n",
       "std      58.159735\n",
       "min      48.430000\n",
       "25%      73.592500\n",
       "50%     108.210000\n",
       "75%     164.907500\n",
       "max     261.970000"
      ]
     },
     "execution_count": 4,
     "metadata": {},
     "output_type": "execute_result"
    },
    {
     "data": {
      "application/javascript": [
       "\n",
       "            setTimeout(function() {\n",
       "                var nbb_cell_id = 4;\n",
       "                var nbb_unformatted_code = \"df.describe(include=\\\"all\\\")\";\n",
       "                var nbb_formatted_code = \"df.describe(include=\\\"all\\\")\";\n",
       "                var nbb_cells = Jupyter.notebook.get_cells();\n",
       "                for (var i = 0; i < nbb_cells.length; ++i) {\n",
       "                    if (nbb_cells[i].input_prompt_number == nbb_cell_id) {\n",
       "                        if (nbb_cells[i].get_text() == nbb_unformatted_code) {\n",
       "                             nbb_cells[i].set_text(nbb_formatted_code);\n",
       "                        }\n",
       "                        break;\n",
       "                    }\n",
       "                }\n",
       "            }, 500);\n",
       "            "
      ],
      "text/plain": [
       "<IPython.core.display.Javascript object>"
      ]
     },
     "metadata": {},
     "output_type": "display_data"
    }
   ],
   "source": [
    "df.describe(include=\"all\")"
   ]
  },
  {
   "cell_type": "markdown",
   "metadata": {},
   "source": [
    "### Stationarity\n",
    "A stationary time series is one where the properties of the series do not depend on the time of the observation.  In other words, the summary statistics of the series do not depend on the time the series is observed, as is the case with series that show a trend or their mean varies over time or show seasonal effects.  To make a time series stationary means to remove trend and seasonal structures that negatively affect the regression model. \n",
    "\n",
    " Here we use the adfuller() function to determine if our series is stationary.\n",
    "\n",
    "The Augmented Dickey-Fuller test is a type of statistical test called a unit root test.\n",
    "The intuition behind a unit root test is that it determines how strongly a time series is defined by a trend.\n",
    "\n",
    "Null Hypothesis (H0): If failed to be rejected, it suggests the time series has a unit root, meaning it is non-stationary. It has some time dependent structure.\n",
    "\n",
    "Alternate Hypothesis (H1): The null hypothesis is rejected; it suggests the time series does not have a unit root, meaning it is stationary. It does not have time-dependent structure.\n",
    "\n",
    "We interpret this result using the p-value from the test. A p-value below a threshold (such as 5% or 1%) suggests we reject the null hypothesis (stationary), otherwise a p-value above the threshold suggests we fail to reject the null hypothesis (non-stationary).\n",
    "\n",
    "p-value > 0.05: Fail to reject the null hypothesis (H0), the data has a unit root and is non-stationary.\n",
    "\n",
    "p-value <= 0.05: Reject the null hypothesis (H0), the data does not have a unit root and is stationary."
   ]
  },
  {
   "cell_type": "code",
   "execution_count": 5,
   "metadata": {},
   "outputs": [
    {
     "name": "stdout",
     "output_type": "stream",
     "text": [
      "ADF Statistic: 0.9627076722080757\n",
      "p-value: 0.9938564633476441\n"
     ]
    },
    {
     "data": {
      "application/javascript": [
       "\n",
       "            setTimeout(function() {\n",
       "                var nbb_cell_id = 5;\n",
       "                var nbb_unformatted_code = \"# Check if the series of close prices is stationary (Mean Reverting)\\nfrom statsmodels.tsa.stattools import adfuller\\n\\nresult = adfuller(df[\\\"Close/Last\\\"].dropna())\\nprint(f\\\"ADF Statistic: {result[0]}\\\")\\nprint(f\\\"p-value: {result[1]}\\\")\";\n",
       "                var nbb_formatted_code = \"# Check if the series of close prices is stationary (Mean Reverting)\\nfrom statsmodels.tsa.stattools import adfuller\\n\\nresult = adfuller(df[\\\"Close/Last\\\"].dropna())\\nprint(f\\\"ADF Statistic: {result[0]}\\\")\\nprint(f\\\"p-value: {result[1]}\\\")\";\n",
       "                var nbb_cells = Jupyter.notebook.get_cells();\n",
       "                for (var i = 0; i < nbb_cells.length; ++i) {\n",
       "                    if (nbb_cells[i].input_prompt_number == nbb_cell_id) {\n",
       "                        if (nbb_cells[i].get_text() == nbb_unformatted_code) {\n",
       "                             nbb_cells[i].set_text(nbb_formatted_code);\n",
       "                        }\n",
       "                        break;\n",
       "                    }\n",
       "                }\n",
       "            }, 500);\n",
       "            "
      ],
      "text/plain": [
       "<IPython.core.display.Javascript object>"
      ]
     },
     "metadata": {},
     "output_type": "display_data"
    }
   ],
   "source": [
    "# Check if the series of close prices is stationary (Mean Reverting)\n",
    "from statsmodels.tsa.stattools import adfuller\n",
    "\n",
    "result = adfuller(df[\"Close/Last\"].dropna())\n",
    "print(f\"ADF Statistic: {result[0]}\")\n",
    "print(f\"p-value: {result[1]}\")"
   ]
  },
  {
   "cell_type": "markdown",
   "metadata": {},
   "source": [
    "p-value > 0.05: Fail to reject the null hypothesis (H0), the data has a unit root and is non-stationary."
   ]
  },
  {
   "cell_type": "markdown",
   "metadata": {},
   "source": [
    "### Differencing and the \"i\" term."
   ]
  },
  {
   "cell_type": "code",
   "execution_count": 6,
   "metadata": {},
   "outputs": [
    {
     "data": {
      "image/png": "[encoded data removed]",
      "text/plain": [
       "<Figure size 1152x288 with 2 Axes>"
      ]
     },
     "execution_count": 6,
     "metadata": {},
     "output_type": "execute_result"
    },
    {
     "data": {
      "image/png": "[encoded data removed]",
      "text/plain": [
       "<Figure size 1152x288 with 2 Axes>"
      ]
     },
     "metadata": {
      "needs_background": "light"
     },
     "output_type": "display_data"
    },
    {
     "data": {
      "application/javascript": [
       "\n",
       "            setTimeout(function() {\n",
       "                var nbb_cell_id = 6;\n",
       "                var nbb_unformatted_code = \"from statsmodels.graphics.tsaplots import plot_acf\\n\\nfig, (ax1, ax2) = plt.subplots(1, 2, figsize=(16, 4))\\n\\nax1.plot(df[\\\"Close/Last\\\"])\\nax1.set_title(\\\"Original Series\\\")\\n\\nplot_acf(df[\\\"Close/Last\\\"], ax=ax2)\";\n",
       "                var nbb_formatted_code = \"from statsmodels.graphics.tsaplots import plot_acf\\n\\nfig, (ax1, ax2) = plt.subplots(1, 2, figsize=(16, 4))\\n\\nax1.plot(df[\\\"Close/Last\\\"])\\nax1.set_title(\\\"Original Series\\\")\\n\\nplot_acf(df[\\\"Close/Last\\\"], ax=ax2)\";\n",
       "                var nbb_cells = Jupyter.notebook.get_cells();\n",
       "                for (var i = 0; i < nbb_cells.length; ++i) {\n",
       "                    if (nbb_cells[i].input_prompt_number == nbb_cell_id) {\n",
       "                        if (nbb_cells[i].get_text() == nbb_unformatted_code) {\n",
       "                             nbb_cells[i].set_text(nbb_formatted_code);\n",
       "                        }\n",
       "                        break;\n",
       "                    }\n",
       "                }\n",
       "            }, 500);\n",
       "            "
      ],
      "text/plain": [
       "<IPython.core.display.Javascript object>"
      ]
     },
     "metadata": {},
     "output_type": "display_data"
    }
   ],
   "source": [
    "from statsmodels.graphics.tsaplots import plot_acf\n",
    "\n",
    "fig, (ax1, ax2) = plt.subplots(1, 2, figsize=(16, 4))\n",
    "\n",
    "ax1.plot(df[\"Close/Last\"])\n",
    "ax1.set_title(\"Original Series\")\n",
    "\n",
    "plot_acf(df[\"Close/Last\"], ax=ax2)"
   ]
  },
  {
   "cell_type": "markdown",
   "metadata": {},
   "source": [
    "Note: The pair of charts is being repeated because of a bug in the plot_acf() function. \n",
    "\n",
    "All the ACF values are close to 1, this is indicative of a non-stationary sequence. Differencing is needed to make the sequence stationary."
   ]
  },
  {
   "cell_type": "code",
   "execution_count": 7,
   "metadata": {},
   "outputs": [
    {
     "data": {
      "image/png": "[encoded data removed]",
      "text/plain": [
       "<Figure size 1152x288 with 2 Axes>"
      ]
     },
     "execution_count": 7,
     "metadata": {},
     "output_type": "execute_result"
    },
    {
     "data": {
      "image/png": "[encoded data removed]",
      "text/plain": [
       "<Figure size 1152x288 with 2 Axes>"
      ]
     },
     "metadata": {
      "needs_background": "light"
     },
     "output_type": "display_data"
    },
    {
     "data": {
      "application/javascript": [
       "\n",
       "            setTimeout(function() {\n",
       "                var nbb_cell_id = 7;\n",
       "                var nbb_unformatted_code = \"diff = df[\\\"Close/Last\\\"].diff().dropna()\\n\\nfig, (ax1, ax2) = plt.subplots(1, 2, figsize=(16, 4))\\n\\nax1.plot(diff)\\nax1.set_title(\\\"After First Difference\\\")\\n\\nplot_acf(diff, ax=ax2)\";\n",
       "                var nbb_formatted_code = \"diff = df[\\\"Close/Last\\\"].diff().dropna()\\n\\nfig, (ax1, ax2) = plt.subplots(1, 2, figsize=(16, 4))\\n\\nax1.plot(diff)\\nax1.set_title(\\\"After First Difference\\\")\\n\\nplot_acf(diff, ax=ax2)\";\n",
       "                var nbb_cells = Jupyter.notebook.get_cells();\n",
       "                for (var i = 0; i < nbb_cells.length; ++i) {\n",
       "                    if (nbb_cells[i].input_prompt_number == nbb_cell_id) {\n",
       "                        if (nbb_cells[i].get_text() == nbb_unformatted_code) {\n",
       "                             nbb_cells[i].set_text(nbb_formatted_code);\n",
       "                        }\n",
       "                        break;\n",
       "                    }\n",
       "                }\n",
       "            }, 500);\n",
       "            "
      ],
      "text/plain": [
       "<IPython.core.display.Javascript object>"
      ]
     },
     "metadata": {},
     "output_type": "display_data"
    }
   ],
   "source": [
    "diff = df[\"Close/Last\"].diff().dropna()\n",
    "\n",
    "fig, (ax1, ax2) = plt.subplots(1, 2, figsize=(16, 4))\n",
    "\n",
    "ax1.plot(diff)\n",
    "ax1.set_title(\"After First Difference\")\n",
    "\n",
    "plot_acf(diff, ax=ax2)"
   ]
  },
  {
   "cell_type": "code",
   "execution_count": 8,
   "metadata": {},
   "outputs": [
    {
     "data": {
      "image/png": "[encoded data removed]",
      "text/plain": [
       "<Figure size 432x288 with 1 Axes>"
      ]
     },
     "metadata": {
      "needs_background": "light"
     },
     "output_type": "display_data"
    },
    {
     "data": {
      "application/javascript": [
       "\n",
       "            setTimeout(function() {\n",
       "                var nbb_cell_id = 8;\n",
       "                var nbb_unformatted_code = \"from pandas.plotting import autocorrelation_plot\\n\\nax = autocorrelation_plot(diff)\\nax.set_xlim(0, 50)\\nax.set_ylim(-0.5, 0.5)\\nplt.show()\";\n",
       "                var nbb_formatted_code = \"from pandas.plotting import autocorrelation_plot\\n\\nax = autocorrelation_plot(diff)\\nax.set_xlim(0, 50)\\nax.set_ylim(-0.5, 0.5)\\nplt.show()\";\n",
       "                var nbb_cells = Jupyter.notebook.get_cells();\n",
       "                for (var i = 0; i < nbb_cells.length; ++i) {\n",
       "                    if (nbb_cells[i].input_prompt_number == nbb_cell_id) {\n",
       "                        if (nbb_cells[i].get_text() == nbb_unformatted_code) {\n",
       "                             nbb_cells[i].set_text(nbb_formatted_code);\n",
       "                        }\n",
       "                        break;\n",
       "                    }\n",
       "                }\n",
       "            }, 500);\n",
       "            "
      ],
      "text/plain": [
       "<IPython.core.display.Javascript object>"
      ]
     },
     "metadata": {},
     "output_type": "display_data"
    }
   ],
   "source": [
    "from pandas.plotting import autocorrelation_plot\n",
    "\n",
    "ax = autocorrelation_plot(diff)\n",
    "ax.set_xlim(0, 50)\n",
    "ax.set_ylim(-0.5, 0.5)\n",
    "plt.show()"
   ]
  },
  {
   "cell_type": "markdown",
   "metadata": {},
   "source": [
    "After the first differencing, one can intuitively see that the sequence's mean value is stationary."
   ]
  },
  {
   "cell_type": "markdown",
   "metadata": {},
   "source": [
    "The correct value for the \"i\" term in the ARIMA(p,i,q) model is 1, since that is the number of times the series had to be differentiated to achieve stationarity."
   ]
  },
  {
   "cell_type": "markdown",
   "metadata": {},
   "source": [
    "Another way to get the correct value for the number of differences needed is by use of the ```pmdarima.ndiffs()``` function:"
   ]
  },
  {
   "cell_type": "code",
   "execution_count": 9,
   "metadata": {},
   "outputs": [
    {
     "data": {
      "text/plain": [
       "1"
      ]
     },
     "execution_count": 9,
     "metadata": {},
     "output_type": "execute_result"
    },
    {
     "data": {
      "application/javascript": [
       "\n",
       "            setTimeout(function() {\n",
       "                var nbb_cell_id = 9;\n",
       "                var nbb_unformatted_code = \"# pip install pmdarima\\n\\nfrom pmdarima.arima.utils import ndiffs\\n\\nndiffs(df[\\\"Close/Last\\\"], test=\\\"adf\\\")\";\n",
       "                var nbb_formatted_code = \"# pip install pmdarima\\n\\nfrom pmdarima.arima.utils import ndiffs\\n\\nndiffs(df[\\\"Close/Last\\\"], test=\\\"adf\\\")\";\n",
       "                var nbb_cells = Jupyter.notebook.get_cells();\n",
       "                for (var i = 0; i < nbb_cells.length; ++i) {\n",
       "                    if (nbb_cells[i].input_prompt_number == nbb_cell_id) {\n",
       "                        if (nbb_cells[i].get_text() == nbb_unformatted_code) {\n",
       "                             nbb_cells[i].set_text(nbb_formatted_code);\n",
       "                        }\n",
       "                        break;\n",
       "                    }\n",
       "                }\n",
       "            }, 500);\n",
       "            "
      ],
      "text/plain": [
       "<IPython.core.display.Javascript object>"
      ]
     },
     "metadata": {},
     "output_type": "display_data"
    }
   ],
   "source": [
    "# pip install pmdarima\n",
    "\n",
    "from pmdarima.arima.utils import ndiffs\n",
    "\n",
    "ndiffs(df[\"Close/Last\"], test=\"adf\")"
   ]
  },
  {
   "cell_type": "markdown",
   "metadata": {},
   "source": [
    "**p** and **q**\n",
    "\n",
    "```p``` is the number of lags to be used as predictors and represents the order of the Auto Regressive term of the model equation (the \"p\" in ARIMA(p,i,q)).  The autocorrelation (plotted above) and partial autocorrelation (plotted below) \n",
    "functions are used for determining the \"p\" and \"q\" terms. \n",
    "\n",
    "The **q** term is the order of the **MA** term, or moving average term (the \"q\" in ARIMA(p,i,q) ) .\n",
    "\n"
   ]
  },
  {
   "cell_type": "code",
   "execution_count": 10,
   "metadata": {},
   "outputs": [
    {
     "data": {
      "image/png": "[encoded data removed]",
      "text/plain": [
       "<Figure size 1152x288 with 2 Axes>"
      ]
     },
     "execution_count": 10,
     "metadata": {},
     "output_type": "execute_result"
    },
    {
     "data": {
      "image/png": "[encoded data removed]",
      "text/plain": [
       "<Figure size 1152x288 with 2 Axes>"
      ]
     },
     "metadata": {
      "needs_background": "light"
     },
     "output_type": "display_data"
    },
    {
     "data": {
      "application/javascript": [
       "\n",
       "            setTimeout(function() {\n",
       "                var nbb_cell_id = 10;\n",
       "                var nbb_unformatted_code = \"from statsmodels.graphics.tsaplots import plot_pacf\\n\\ndiff = df[\\\"Close/Last\\\"].diff().dropna()\\nfig, (x1, x2) = plt.subplots(1, 2, figsize=(16, 4))\\n\\nax1.plot(diff)\\nax1.set_title(\\\"Difference once\\\")\\n# ax2.set_ylim(0, 1)\\n\\nplot_pacf(diff, ax=ax2)\";\n",
       "                var nbb_formatted_code = \"from statsmodels.graphics.tsaplots import plot_pacf\\n\\ndiff = df[\\\"Close/Last\\\"].diff().dropna()\\nfig, (x1, x2) = plt.subplots(1, 2, figsize=(16, 4))\\n\\nax1.plot(diff)\\nax1.set_title(\\\"Difference once\\\")\\n# ax2.set_ylim(0, 1)\\n\\nplot_pacf(diff, ax=ax2)\";\n",
       "                var nbb_cells = Jupyter.notebook.get_cells();\n",
       "                for (var i = 0; i < nbb_cells.length; ++i) {\n",
       "                    if (nbb_cells[i].input_prompt_number == nbb_cell_id) {\n",
       "                        if (nbb_cells[i].get_text() == nbb_unformatted_code) {\n",
       "                             nbb_cells[i].set_text(nbb_formatted_code);\n",
       "                        }\n",
       "                        break;\n",
       "                    }\n",
       "                }\n",
       "            }, 500);\n",
       "            "
      ],
      "text/plain": [
       "<IPython.core.display.Javascript object>"
      ]
     },
     "metadata": {},
     "output_type": "display_data"
    }
   ],
   "source": [
    "from statsmodels.graphics.tsaplots import plot_pacf\n",
    "\n",
    "diff = df[\"Close/Last\"].diff().dropna()\n",
    "fig, (x1, x2) = plt.subplots(1, 2, figsize=(16, 4))\n",
    "\n",
    "ax1.plot(diff)\n",
    "ax1.set_title(\"Difference once\")\n",
    "# ax2.set_ylim(0, 1)\n",
    "\n",
    "plot_pacf(diff, ax=ax2)"
   ]
  },
  {
   "cell_type": "markdown",
   "metadata": {},
   "source": [
    "(The second pair of plots in the bottom row is due to a bug in the plot_pacf() function.)"
   ]
  },
  {
   "cell_type": "markdown",
   "metadata": {},
   "source": [
    "A more effective method is to let the values for **p**, **i**, and **q** be computed automatically via the ```auto_arima()``` function:"
   ]
  },
  {
   "cell_type": "code",
   "execution_count": 11,
   "metadata": {},
   "outputs": [
    {
     "name": "stdout",
     "output_type": "stream",
     "text": [
      "Performing stepwise search to minimize aic\n",
      " ARIMA(2,1,2)(0,0,0)[0] intercept   : AIC=5905.568, Time=0.56 sec\n",
      " ARIMA(0,1,0)(0,0,0)[0] intercept   : AIC=5990.908, Time=0.03 sec\n",
      " ARIMA(1,1,0)(0,0,0)[0] intercept   : AIC=5901.782, Time=0.07 sec\n",
      " ARIMA(0,1,1)(0,0,0)[0] intercept   : AIC=5908.995, Time=0.09 sec\n",
      " ARIMA(0,1,0)(0,0,0)[0]             : AIC=5993.480, Time=0.03 sec\n",
      " ARIMA(2,1,0)(0,0,0)[0] intercept   : AIC=5903.780, Time=0.11 sec\n",
      " ARIMA(1,1,1)(0,0,0)[0] intercept   : AIC=5903.780, Time=0.17 sec\n",
      " ARIMA(2,1,1)(0,0,0)[0] intercept   : AIC=5905.598, Time=0.52 sec\n",
      " ARIMA(1,1,0)(0,0,0)[0]             : AIC=5907.523, Time=0.04 sec\n",
      "\n",
      "Best model:  ARIMA(1,1,0)(0,0,0)[0] intercept\n",
      "Total fit time: 1.625 seconds\n"
     ]
    },
    {
     "data": {
      "text/html": [
       "<table class=\"simpletable\">\n",
       "<caption>SARIMAX Results</caption>\n",
       "<tr>\n",
       "  <th>Dep. Variable:</th>           <td>y</td>        <th>  No. Observations:  </th>   <td>1258</td>   \n",
       "</tr>\n",
       "<tr>\n",
       "  <th>Model:</th>           <td>SARIMAX(1, 1, 0)</td> <th>  Log Likelihood     </th> <td>-2947.891</td>\n",
       "</tr>\n",
       "<tr>\n",
       "  <th>Date:</th>            <td>Thu, 03 Jun 2021</td> <th>  AIC                </th> <td>5901.782</td> \n",
       "</tr>\n",
       "<tr>\n",
       "  <th>Time:</th>                <td>21:09:31</td>     <th>  BIC                </th> <td>5917.191</td> \n",
       "</tr>\n",
       "<tr>\n",
       "  <th>Sample:</th>                  <td>0</td>        <th>  HQIC               </th> <td>5907.573</td> \n",
       "</tr>\n",
       "<tr>\n",
       "  <th></th>                      <td> - 1258</td>     <th>                     </th>     <td> </td>    \n",
       "</tr>\n",
       "<tr>\n",
       "  <th>Covariance Type:</th>        <td>opg</td>       <th>                     </th>     <td> </td>    \n",
       "</tr>\n",
       "</table>\n",
       "<table class=\"simpletable\">\n",
       "<tr>\n",
       "      <td></td>         <th>coef</th>     <th>std err</th>      <th>z</th>      <th>P>|z|</th>  <th>[0.025</th>    <th>0.975]</th>  \n",
       "</tr>\n",
       "<tr>\n",
       "  <th>intercept</th> <td>    0.1989</td> <td>    0.072</td> <td>    2.764</td> <td> 0.006</td> <td>    0.058</td> <td>    0.340</td>\n",
       "</tr>\n",
       "<tr>\n",
       "  <th>ar.L1</th>     <td>   -0.2648</td> <td>    0.012</td> <td>  -22.699</td> <td> 0.000</td> <td>   -0.288</td> <td>   -0.242</td>\n",
       "</tr>\n",
       "<tr>\n",
       "  <th>sigma2</th>    <td>    6.3752</td> <td>    0.114</td> <td>   56.126</td> <td> 0.000</td> <td>    6.153</td> <td>    6.598</td>\n",
       "</tr>\n",
       "</table>\n",
       "<table class=\"simpletable\">\n",
       "<tr>\n",
       "  <th>Ljung-Box (L1) (Q):</th>     <td>0.00</td>  <th>  Jarque-Bera (JB):  </th> <td>4380.55</td>\n",
       "</tr>\n",
       "<tr>\n",
       "  <th>Prob(Q):</th>                <td>1.00</td>  <th>  Prob(JB):          </th>  <td>0.00</td>  \n",
       "</tr>\n",
       "<tr>\n",
       "  <th>Heteroskedasticity (H):</th> <td>32.26</td> <th>  Skew:              </th>  <td>-0.47</td> \n",
       "</tr>\n",
       "<tr>\n",
       "  <th>Prob(H) (two-sided):</th>    <td>0.00</td>  <th>  Kurtosis:          </th>  <td>12.10</td> \n",
       "</tr>\n",
       "</table><br/><br/>Warnings:<br/>[1] Covariance matrix calculated using the outer product of gradients (complex-step)."
      ],
      "text/plain": [
       "<class 'statsmodels.iolib.summary.Summary'>\n",
       "\"\"\"\n",
       "                               SARIMAX Results                                \n",
       "==============================================================================\n",
       "Dep. Variable:                      y   No. Observations:                 1258\n",
       "Model:               SARIMAX(1, 1, 0)   Log Likelihood               -2947.891\n",
       "Date:                Thu, 03 Jun 2021   AIC                           5901.782\n",
       "Time:                        21:09:31   BIC                           5917.191\n",
       "Sample:                             0   HQIC                          5907.573\n",
       "                               - 1258                                         \n",
       "Covariance Type:                  opg                                         \n",
       "==============================================================================\n",
       "                 coef    std err          z      P>|z|      [0.025      0.975]\n",
       "------------------------------------------------------------------------------\n",
       "intercept      0.1989      0.072      2.764      0.006       0.058       0.340\n",
       "ar.L1         -0.2648      0.012    -22.699      0.000      -0.288      -0.242\n",
       "sigma2         6.3752      0.114     56.126      0.000       6.153       6.598\n",
       "===================================================================================\n",
       "Ljung-Box (L1) (Q):                   0.00   Jarque-Bera (JB):              4380.55\n",
       "Prob(Q):                              1.00   Prob(JB):                         0.00\n",
       "Heteroskedasticity (H):              32.26   Skew:                            -0.47\n",
       "Prob(H) (two-sided):                  0.00   Kurtosis:                        12.10\n",
       "===================================================================================\n",
       "\n",
       "Warnings:\n",
       "[1] Covariance matrix calculated using the outer product of gradients (complex-step).\n",
       "\"\"\""
      ]
     },
     "execution_count": 11,
     "metadata": {},
     "output_type": "execute_result"
    },
    {
     "data": {
      "application/javascript": [
       "\n",
       "            setTimeout(function() {\n",
       "                var nbb_cell_id = 11;\n",
       "                var nbb_unformatted_code = \"warnings.filterwarnings(\\\"ignore\\\")\\nstepwise_fit = auto_arima(df[\\\"Close/Last\\\"], trace=True, supress_warnings=True)\\n\\nstepwise_fit.summary()\";\n",
       "                var nbb_formatted_code = \"warnings.filterwarnings(\\\"ignore\\\")\\nstepwise_fit = auto_arima(df[\\\"Close/Last\\\"], trace=True, supress_warnings=True)\\n\\nstepwise_fit.summary()\";\n",
       "                var nbb_cells = Jupyter.notebook.get_cells();\n",
       "                for (var i = 0; i < nbb_cells.length; ++i) {\n",
       "                    if (nbb_cells[i].input_prompt_number == nbb_cell_id) {\n",
       "                        if (nbb_cells[i].get_text() == nbb_unformatted_code) {\n",
       "                             nbb_cells[i].set_text(nbb_formatted_code);\n",
       "                        }\n",
       "                        break;\n",
       "                    }\n",
       "                }\n",
       "            }, 500);\n",
       "            "
      ],
      "text/plain": [
       "<IPython.core.display.Javascript object>"
      ]
     },
     "metadata": {},
     "output_type": "display_data"
    }
   ],
   "source": [
    "warnings.filterwarnings(\"ignore\")\n",
    "stepwise_fit = auto_arima(df[\"Close/Last\"], trace=True, supress_warnings=True)\n",
    "\n",
    "stepwise_fit.summary()"
   ]
  },
  {
   "cell_type": "markdown",
   "metadata": {},
   "source": [
    "We can see that the automatically computed values (1,1,0) produces the lowest Akaike's Information Criterion (AIC)."
   ]
  },
  {
   "cell_type": "markdown",
   "metadata": {},
   "source": [
    "We now fit the ARIMA model:"
   ]
  },
  {
   "cell_type": "code",
   "execution_count": 12,
   "metadata": {},
   "outputs": [
    {
     "name": "stdout",
     "output_type": "stream",
     "text": [
      "                             ARIMA Model Results                              \n",
      "==============================================================================\n",
      "Dep. Variable:           D.Close/Last   No. Observations:                 1257\n",
      "Model:                 ARIMA(1, 1, 0)   Log Likelihood               -2947.891\n",
      "Method:                       css-mle   S.D. of innovations              2.525\n",
      "Date:                Thu, 03 Jun 2021   AIC                           5901.782\n",
      "Time:                        21:09:31   BIC                           5917.191\n",
      "Sample:                             1   HQIC                          5907.573\n",
      "                                                                              \n",
      "======================================================================================\n",
      "                         coef    std err          z      P>|z|      [0.025      0.975]\n",
      "--------------------------------------------------------------------------------------\n",
      "const                  0.1572      0.056      2.791      0.005       0.047       0.268\n",
      "ar.L1.D.Close/Last    -0.2648      0.027     -9.722      0.000      -0.318      -0.211\n",
      "                                    Roots                                    \n",
      "=============================================================================\n",
      "                  Real          Imaginary           Modulus         Frequency\n",
      "-----------------------------------------------------------------------------\n",
      "AR.1           -3.7765           +0.0000j            3.7765            0.5000\n",
      "-----------------------------------------------------------------------------\n"
     ]
    },
    {
     "data": {
      "application/javascript": [
       "\n",
       "            setTimeout(function() {\n",
       "                var nbb_cell_id = 12;\n",
       "                var nbb_unformatted_code = \"warnings.filterwarnings(\\\"ignore\\\")\\n\\nfrom statsmodels.tsa.arima_model import ARIMA\\n\\nmodel = ARIMA(df[\\\"Close/Last\\\"], order=(1, 1, 0))\\nresult = model.fit(disp=0)\\nprint(result.summary())\";\n",
       "                var nbb_formatted_code = \"warnings.filterwarnings(\\\"ignore\\\")\\n\\nfrom statsmodels.tsa.arima_model import ARIMA\\n\\nmodel = ARIMA(df[\\\"Close/Last\\\"], order=(1, 1, 0))\\nresult = model.fit(disp=0)\\nprint(result.summary())\";\n",
       "                var nbb_cells = Jupyter.notebook.get_cells();\n",
       "                for (var i = 0; i < nbb_cells.length; ++i) {\n",
       "                    if (nbb_cells[i].input_prompt_number == nbb_cell_id) {\n",
       "                        if (nbb_cells[i].get_text() == nbb_unformatted_code) {\n",
       "                             nbb_cells[i].set_text(nbb_formatted_code);\n",
       "                        }\n",
       "                        break;\n",
       "                    }\n",
       "                }\n",
       "            }, 500);\n",
       "            "
      ],
      "text/plain": [
       "<IPython.core.display.Javascript object>"
      ]
     },
     "metadata": {},
     "output_type": "display_data"
    }
   ],
   "source": [
    "warnings.filterwarnings(\"ignore\")\n",
    "\n",
    "from statsmodels.tsa.arima_model import ARIMA\n",
    "\n",
    "model = ARIMA(df[\"Close/Last\"], order=(1, 1, 0))\n",
    "result = model.fit(disp=0)\n",
    "print(result.summary())"
   ]
  },
  {
   "cell_type": "markdown",
   "metadata": {},
   "source": [
    "### Residuals \n",
    "\n",
    "The “residuals” in a time series model are what is left over after fitting a model. For many (but not all) time series models, the residuals are equal to the difference between the observations and the corresponding fitted values.\n",
    "\n",
    "Residuals are useful in checking whether a model has adequately captured the information in the data. A good forecasting method will yield residuals with the following properties:\n",
    "\n",
    "* The residuals are uncorrelated. If there are correlations between residuals, then there is information left in the residuals which should be used in computing forecasts.\n",
    "\n",
    "* The residuals have zero mean. If the residuals have a mean other than zero, then the forecasts are biased."
   ]
  },
  {
   "cell_type": "code",
   "execution_count": 13,
   "metadata": {},
   "outputs": [
    {
     "data": {
      "text/plain": [
       "(array([[0., 0., 0., ..., 0., 0., 0.],\n",
       "        [0., 0., 0., ..., 0., 0., 0.],\n",
       "        [0., 0., 0., ..., 0., 0., 0.],\n",
       "        ...,\n",
       "        [0., 0., 0., ..., 0., 0., 0.],\n",
       "        [0., 0., 0., ..., 0., 0., 0.],\n",
       "        [0., 0., 0., ..., 0., 0., 0.]]),\n",
       " array([-18.37387521, -14.96517291, -11.5564706 ,  -8.1477683 ,\n",
       "         -4.73906599,  -1.33036369,   2.07833862,   5.48704092,\n",
       "          8.89574322,  12.30444553,  15.71314783]),\n",
       " <a list of 1257 Lists of Patches objects>)"
      ]
     },
     "execution_count": 13,
     "metadata": {},
     "output_type": "execute_result"
    },
    {
     "data": {
      "image/png": "[encoded data removed]",
      "text/plain": [
       "<Figure size 1152x288 with 2 Axes>"
      ]
     },
     "metadata": {
      "needs_background": "light"
     },
     "output_type": "display_data"
    },
    {
     "data": {
      "application/javascript": [
       "\n",
       "            setTimeout(function() {\n",
       "                var nbb_cell_id = 13;\n",
       "                var nbb_unformatted_code = \"# Residuals\\n\\nresiduals = pd.DataFrame(result.resid)\\n\\nfig, (ax1, ax2) = plt.subplots(1, 2, figsize=(16, 4))\\n\\nax1.plot(residuals)\\nax2.hist(residuals, density=True)\";\n",
       "                var nbb_formatted_code = \"# Residuals\\n\\nresiduals = pd.DataFrame(result.resid)\\n\\nfig, (ax1, ax2) = plt.subplots(1, 2, figsize=(16, 4))\\n\\nax1.plot(residuals)\\nax2.hist(residuals, density=True)\";\n",
       "                var nbb_cells = Jupyter.notebook.get_cells();\n",
       "                for (var i = 0; i < nbb_cells.length; ++i) {\n",
       "                    if (nbb_cells[i].input_prompt_number == nbb_cell_id) {\n",
       "                        if (nbb_cells[i].get_text() == nbb_unformatted_code) {\n",
       "                             nbb_cells[i].set_text(nbb_formatted_code);\n",
       "                        }\n",
       "                        break;\n",
       "                    }\n",
       "                }\n",
       "            }, 500);\n",
       "            "
      ],
      "text/plain": [
       "<IPython.core.display.Javascript object>"
      ]
     },
     "metadata": {},
     "output_type": "display_data"
    }
   ],
   "source": [
    "# Residuals\n",
    "\n",
    "residuals = pd.DataFrame(result.resid)\n",
    "\n",
    "fig, (ax1, ax2) = plt.subplots(1, 2, figsize=(16, 4))\n",
    "\n",
    "ax1.plot(residuals)\n",
    "ax2.hist(residuals, density=True)"
   ]
  },
  {
   "cell_type": "markdown",
   "metadata": {},
   "source": [
    "Here we see the residuals' mean is around 0."
   ]
  },
  {
   "cell_type": "markdown",
   "metadata": {},
   "source": [
    "We not plot the first 60 days of the stock prices and the predicted values.  We can see the predicted values pretty much follow the actual values, which is a good indication that our model is a good fit.  But in this case the model is making predictions using the same training data."
   ]
  },
  {
   "cell_type": "code",
   "execution_count": 14,
   "metadata": {},
   "outputs": [
    {
     "data": {
      "image/png": "[encoded data removed]",
      "text/plain": [
       "<Figure size 432x288 with 1 Axes>"
      ]
     },
     "metadata": {
      "needs_background": "light"
     },
     "output_type": "display_data"
    },
    {
     "data": {
      "application/javascript": [
       "\n",
       "            setTimeout(function() {\n",
       "                var nbb_cell_id = 14;\n",
       "                var nbb_unformatted_code = \"fig, ax = plt.subplots()\\nax.plot(\\n    result.predict(start=1, end=60, dynamic=False, typ=\\\"levels\\\"),\\n    label=\\\"Predicted\\\",\\n)\\nax.plot(df[\\\"Close/Last\\\"].head(60), label=\\\"Actual\\\")\\nleg = ax.legend()\";\n",
       "                var nbb_formatted_code = \"fig, ax = plt.subplots()\\nax.plot(\\n    result.predict(start=1, end=60, dynamic=False, typ=\\\"levels\\\"),\\n    label=\\\"Predicted\\\",\\n)\\nax.plot(df[\\\"Close/Last\\\"].head(60), label=\\\"Actual\\\")\\nleg = ax.legend()\";\n",
       "                var nbb_cells = Jupyter.notebook.get_cells();\n",
       "                for (var i = 0; i < nbb_cells.length; ++i) {\n",
       "                    if (nbb_cells[i].input_prompt_number == nbb_cell_id) {\n",
       "                        if (nbb_cells[i].get_text() == nbb_unformatted_code) {\n",
       "                             nbb_cells[i].set_text(nbb_formatted_code);\n",
       "                        }\n",
       "                        break;\n",
       "                    }\n",
       "                }\n",
       "            }, 500);\n",
       "            "
      ],
      "text/plain": [
       "<IPython.core.display.Javascript object>"
      ]
     },
     "metadata": {},
     "output_type": "display_data"
    }
   ],
   "source": [
    "fig, ax = plt.subplots()\n",
    "ax.plot(\n",
    "    result.predict(start=1, end=60, dynamic=False, typ=\"levels\"),\n",
    "    label=\"Predicted\",\n",
    ")\n",
    "ax.plot(df[\"Close/Last\"].head(60), label=\"Actual\")\n",
    "leg = ax.legend()"
   ]
  },
  {
   "cell_type": "markdown",
   "metadata": {},
   "source": [
    "### Test sets and predictions\n",
    "\n",
    "\n",
    "Here we split the dataset into training and testing sets.\n",
    "Training set goes from the first date in the original dataset until the record at the 80% mark.\n",
    "Test set goes from 80% to the rest of the records.\n",
    "For example, if there are 1258 records, the training set will include the first 1006, while the test set will include the remaining 252."
   ]
  },
  {
   "cell_type": "code",
   "execution_count": 15,
   "metadata": {},
   "outputs": [
    {
     "name": "stdout",
     "output_type": "stream",
     "text": [
      "252\n",
      "1006\n",
      "1258\n"
     ]
    },
    {
     "data": {
      "text/plain": [
       "Date\n",
       "2020-05-26    181.57\n",
       "2020-05-27    181.81\n",
       "2020-05-28    181.40\n",
       "2020-05-29    183.25\n",
       "2020-06-01    182.83\n",
       "               ...  \n",
       "2021-05-18    243.08\n",
       "2021-05-19    243.12\n",
       "2021-05-20    246.48\n",
       "2021-05-21    245.17\n",
       "2021-05-24    250.78\n",
       "Name: Close/Last, Length: 252, dtype: float64"
      ]
     },
     "execution_count": 15,
     "metadata": {},
     "output_type": "execute_result"
    },
    {
     "data": {
      "application/javascript": [
       "\n",
       "            setTimeout(function() {\n",
       "                var nbb_cell_id = 15;\n",
       "                var nbb_unformatted_code = \"howmany = int(len(df) * 0.8)\\ntr_set = df[\\\"Close/Last\\\"][:howmany]\\nts_set = df[\\\"Close/Last\\\"][howmany:]\\nprint(len(ts_set))\\nprint(len(tr_set))\\nprint(len(df))\\nts_set\";\n",
       "                var nbb_formatted_code = \"howmany = int(len(df) * 0.8)\\ntr_set = df[\\\"Close/Last\\\"][:howmany]\\nts_set = df[\\\"Close/Last\\\"][howmany:]\\nprint(len(ts_set))\\nprint(len(tr_set))\\nprint(len(df))\\nts_set\";\n",
       "                var nbb_cells = Jupyter.notebook.get_cells();\n",
       "                for (var i = 0; i < nbb_cells.length; ++i) {\n",
       "                    if (nbb_cells[i].input_prompt_number == nbb_cell_id) {\n",
       "                        if (nbb_cells[i].get_text() == nbb_unformatted_code) {\n",
       "                             nbb_cells[i].set_text(nbb_formatted_code);\n",
       "                        }\n",
       "                        break;\n",
       "                    }\n",
       "                }\n",
       "            }, 500);\n",
       "            "
      ],
      "text/plain": [
       "<IPython.core.display.Javascript object>"
      ]
     },
     "metadata": {},
     "output_type": "display_data"
    }
   ],
   "source": [
    "howmany = int(len(df) * 0.8)\n",
    "tr_set = df[\"Close/Last\"][:howmany]\n",
    "ts_set = df[\"Close/Last\"][howmany:]\n",
    "print(len(ts_set))\n",
    "print(len(tr_set))\n",
    "print(len(df))\n",
    "ts_set"
   ]
  },
  {
   "cell_type": "code",
   "execution_count": 16,
   "metadata": {},
   "outputs": [
    {
     "data": {
      "text/plain": [
       "Date\n",
       "2016-05-25     52.12\n",
       "2016-05-26     51.89\n",
       "2016-05-27     52.32\n",
       "2016-05-31     53.00\n",
       "2016-06-01     52.85\n",
       "               ...  \n",
       "2020-05-18    184.91\n",
       "2020-05-19    183.63\n",
       "2020-05-20    185.66\n",
       "2020-05-21    183.43\n",
       "2020-05-22    183.51\n",
       "Name: Close/Last, Length: 1006, dtype: float64"
      ]
     },
     "execution_count": 16,
     "metadata": {},
     "output_type": "execute_result"
    },
    {
     "data": {
      "application/javascript": [
       "\n",
       "            setTimeout(function() {\n",
       "                var nbb_cell_id = 16;\n",
       "                var nbb_unformatted_code = \"tr_set\";\n",
       "                var nbb_formatted_code = \"tr_set\";\n",
       "                var nbb_cells = Jupyter.notebook.get_cells();\n",
       "                for (var i = 0; i < nbb_cells.length; ++i) {\n",
       "                    if (nbb_cells[i].input_prompt_number == nbb_cell_id) {\n",
       "                        if (nbb_cells[i].get_text() == nbb_unformatted_code) {\n",
       "                             nbb_cells[i].set_text(nbb_formatted_code);\n",
       "                        }\n",
       "                        break;\n",
       "                    }\n",
       "                }\n",
       "            }, 500);\n",
       "            "
      ],
      "text/plain": [
       "<IPython.core.display.Javascript object>"
      ]
     },
     "metadata": {},
     "output_type": "display_data"
    }
   ],
   "source": [
    "tr_set"
   ]
  },
  {
   "cell_type": "markdown",
   "metadata": {},
   "source": [
    "We now fit the model to our training set."
   ]
  },
  {
   "cell_type": "code",
   "execution_count": 17,
   "metadata": {},
   "outputs": [
    {
     "name": "stdout",
     "output_type": "stream",
     "text": [
      "                             ARIMA Model Results                              \n",
      "==============================================================================\n",
      "Dep. Variable:           D.Close/Last   No. Observations:                 1005\n",
      "Model:                 ARIMA(1, 1, 0)   Log Likelihood               -2156.064\n",
      "Method:                       css-mle   S.D. of innovations              2.067\n",
      "Date:                Thu, 03 Jun 2021   AIC                           4318.128\n",
      "Time:                        21:09:48   BIC                           4332.866\n",
      "Sample:                             1   HQIC                          4323.728\n",
      "                                                                              \n",
      "======================================================================================\n",
      "                         coef    std err          z      P>|z|      [0.025      0.975]\n",
      "--------------------------------------------------------------------------------------\n",
      "const                  0.1308      0.048      2.730      0.006       0.037       0.225\n",
      "ar.L1.D.Close/Last    -0.3609      0.029    -12.278      0.000      -0.419      -0.303\n",
      "                                    Roots                                    \n",
      "=============================================================================\n",
      "                  Real          Imaginary           Modulus         Frequency\n",
      "-----------------------------------------------------------------------------\n",
      "AR.1           -2.7707           +0.0000j            2.7707            0.5000\n",
      "-----------------------------------------------------------------------------\n"
     ]
    },
    {
     "data": {
      "application/javascript": [
       "\n",
       "            setTimeout(function() {\n",
       "                var nbb_cell_id = 17;\n",
       "                var nbb_unformatted_code = \"model = ARIMA(tr_set, order=(1, 1, 0))\\nresult = model.fit(disp=0)\\nprint(result.summary())\";\n",
       "                var nbb_formatted_code = \"model = ARIMA(tr_set, order=(1, 1, 0))\\nresult = model.fit(disp=0)\\nprint(result.summary())\";\n",
       "                var nbb_cells = Jupyter.notebook.get_cells();\n",
       "                for (var i = 0; i < nbb_cells.length; ++i) {\n",
       "                    if (nbb_cells[i].input_prompt_number == nbb_cell_id) {\n",
       "                        if (nbb_cells[i].get_text() == nbb_unformatted_code) {\n",
       "                             nbb_cells[i].set_text(nbb_formatted_code);\n",
       "                        }\n",
       "                        break;\n",
       "                    }\n",
       "                }\n",
       "            }, 500);\n",
       "            "
      ],
      "text/plain": [
       "<IPython.core.display.Javascript object>"
      ]
     },
     "metadata": {},
     "output_type": "display_data"
    }
   ],
   "source": [
    "model = ARIMA(tr_set, order=(1, 1, 0))\n",
    "result = model.fit(disp=0)\n",
    "print(result.summary())"
   ]
  },
  {
   "cell_type": "markdown",
   "metadata": {},
   "source": [
    "And here we forecast the next 30 days of closing prices, starting with the first date of the test set."
   ]
  },
  {
   "cell_type": "code",
   "execution_count": 18,
   "metadata": {},
   "outputs": [
    {
     "name": "stdout",
     "output_type": "stream",
     "text": [
      "[183.6591957  183.78341764 183.91665299 184.04663526 184.17779162\n",
      " 184.30852423 184.43940977 184.57024012 184.7010904  184.83193348\n",
      " 184.96277915 185.09362389 185.22446897 185.35531393 185.48615893\n",
      " 185.61700391 185.7478489  185.87869389 186.00953888 186.14038387\n",
      " 186.27122886 186.40207384 186.53291883 186.66376382 186.79460881\n",
      " 186.9254538  187.05629879 187.18714378 187.31798876 187.44883375\n",
      " 187.57967874 187.71052373 187.84136872 187.97221371 188.10305869\n",
      " 188.23390368 188.36474867 188.49559366 188.62643865 188.75728364\n",
      " 188.88812863 189.01897361 189.1498186  189.28066359 189.41150858\n",
      " 189.54235357 189.67319856 189.80404355 189.93488853 190.06573352\n",
      " 190.19657851 190.3274235  190.45826849 190.58911348 190.71995846\n",
      " 190.85080345 190.98164844 191.11249343 191.24333842 191.37418341\n",
      " 191.5050284  191.63587338 191.76671837 191.89756336 192.02840835\n",
      " 192.15925334 192.29009833 192.42094331 192.5517883  192.68263329\n",
      " 192.81347828 192.94432327 193.07516826 193.20601325 193.33685823\n",
      " 193.46770322 193.59854821 193.7293932  193.86023819 193.99108318\n",
      " 194.12192816 194.25277315 194.38361814 194.51446313 194.64530812\n",
      " 194.77615311 194.9069981  195.03784308 195.16868807 195.29953306]\n",
      "[ 2.06747784  2.45362665  2.92408993  3.28337667  3.62171654  3.92613746\n",
      "  4.21024394  4.47579496  4.72664102  4.96476359  5.19199915  5.40969018\n",
      "  5.61895642  5.82070301  6.0156878   6.20454789  6.3878267   6.56599155\n",
      "  6.73944807  6.9085509   7.07361228  7.23490884  7.39268701  7.54716744\n",
      "  7.69854867  7.84701006  7.99271431  8.13580956  8.27643114  8.41470307\n",
      "  8.55073932  8.68464496  8.81651707  8.94644558  9.07451397  9.20079991\n",
      "  9.32537582  9.44830934  9.56966377  9.68949843  9.80786904  9.92482797\n",
      " 10.04042457 10.15470535 10.26771425 10.37949281 10.49008038 10.59951421\n",
      " 10.70782969 10.81506042 10.92123835 11.0263939  11.13055603 11.23375239\n",
      " 11.33600935 11.43735211 11.53780475 11.63739033 11.73613092 11.83404766\n",
      " 11.93116085 12.02748995 12.12305365 12.2178699  12.31195598 12.40532851\n",
      " 12.49800346 12.58999626 12.68132174 12.77199421 12.8620275  12.95143493\n",
      " 13.04022936 13.12842325 13.21602861 13.30305707 13.38951988 13.47542793\n",
      " 13.56079176 13.64562158 13.7299273  13.8137185  13.8970045  13.97979432\n",
      " 14.06209673 14.14392024 14.2252731  14.30616336 14.38659881 14.46658704]\n",
      "[[179.6070136  187.71137779]\n",
      " [178.97439779 188.5924375 ]\n",
      " [178.18554203 189.64776394]\n",
      " [177.61133525 190.48193527]\n",
      " [177.07935764 191.27622559]\n",
      " [176.61343621 192.00361224]\n",
      " [176.18748329 192.69133626]\n",
      " [175.7978432  193.34263705]\n",
      " [175.43704422 193.96513657]\n",
      " [175.10117565 194.5626913 ]\n",
      " [174.78664781 195.1389105 ]\n",
      " [174.49082597 195.69642182]\n",
      " [174.21151677 196.23742118]\n",
      " [173.94694567 196.76368218]\n",
      " [173.69562749 197.27669037]\n",
      " [173.4563135  197.77769433]\n",
      " [173.22793863 198.26775917]\n",
      " [173.00958692 198.74780086]\n",
      " [172.80046338 199.21861438]\n",
      " [172.59987292 199.68089482]\n",
      " [172.40720354 200.13525417]\n",
      " [172.22191308 200.58223461]\n",
      " [172.04351855 201.02231912]\n",
      " [171.87158745 201.45594019]\n",
      " [171.70573069 201.88348693]\n",
      " [171.5455967  202.30531089]\n",
      " [171.3908666  202.72173097]\n",
      " [171.24125005 203.1330375 ]\n",
      " [171.0964818  203.53949572]\n",
      " [170.9563188  203.9413487 ]\n",
      " [170.82053764 204.33881985]\n",
      " [170.68893239 204.73211507]\n",
      " [170.56131278 205.12142465]\n",
      " [170.43750258 205.50692483]\n",
      " [170.31733814 205.88877925]\n",
      " [170.20066723 206.26714013]\n",
      " [170.08734792 206.64214942]\n",
      " [169.97724764 207.01393968]\n",
      " [169.87024232 207.38263497]\n",
      " [169.76621569 207.74835159]\n",
      " [169.66505855 208.1111987 ]\n",
      " [169.56666824 208.47127899]\n",
      " [169.47094807 208.82868914]\n",
      " [169.37780684 209.18352034]\n",
      " [169.28715845 209.53585871]\n",
      " [169.19892147 209.88578566]\n",
      " [169.11301882 210.23337829]\n",
      " [169.02937744 210.57870965]\n",
      " [168.94792798 210.92184908]\n",
      " [168.8686046  211.26286244]\n",
      " [168.79134467 211.60181235]\n",
      " [168.71608858 211.93875842]\n",
      " [168.64277954 212.27375744]\n",
      " [168.57136338 212.60686358]\n",
      " [168.50178841 212.93812852]\n",
      " [168.43400524 213.26760166]\n",
      " [168.36796667 213.59533021]\n",
      " [168.30362751 213.92135935]\n",
      " [168.24094451 214.24573233]\n",
      " [168.1798762  214.56849062]\n",
      " [168.12038283 214.88967396]\n",
      " [168.06242626 215.20932051]\n",
      " [168.00596984 215.5274669 ]\n",
      " [167.95097839 215.84414834]\n",
      " [167.89741804 216.15939866]\n",
      " [167.84525625 216.47325043]\n",
      " [167.79446166 216.78573499]\n",
      " [167.74500408 217.09688255]\n",
      " [167.69685442 217.40672218]\n",
      " [167.64998462 217.71528196]\n",
      " [167.60436761 218.02258895]\n",
      " [167.55997727 218.32866927]\n",
      " [167.51678835 218.63354816]\n",
      " [167.4747765  218.93724999]\n",
      " [167.43391813 219.23979833]\n",
      " [167.39419047 219.54121597]\n",
      " [167.35557147 219.84152495]\n",
      " [167.31803978 220.14074662]\n",
      " [167.28157474 220.43890164]\n",
      " [167.24615633 220.73601002]\n",
      " [167.21176515 221.03209118]\n",
      " [167.1783824  221.3271639 ]\n",
      " [167.14598983 221.62124645]\n",
      " [167.11456975 221.91435651]\n",
      " [167.08410498 222.20651126]\n",
      " [167.05457885 222.49772737]\n",
      " [167.02597514 222.78802105]\n",
      " [166.99827814 223.07740803]\n",
      " [166.97147255 223.3659036 ]\n",
      " [166.94554349 223.65352263]]\n"
     ]
    },
    {
     "data": {
      "application/javascript": [
       "\n",
       "            setTimeout(function() {\n",
       "                var nbb_cell_id = 18;\n",
       "                var nbb_unformatted_code = \"step = 90\\n\\nfc, se, conf = result.forecast(step)\\n\\nprint(fc)  # 30 day forecasts\\nprint(se)  # Standard errors\\nprint(conf)  # Confidence levels\";\n",
       "                var nbb_formatted_code = \"step = 90\\n\\nfc, se, conf = result.forecast(step)\\n\\nprint(fc)  # 30 day forecasts\\nprint(se)  # Standard errors\\nprint(conf)  # Confidence levels\";\n",
       "                var nbb_cells = Jupyter.notebook.get_cells();\n",
       "                for (var i = 0; i < nbb_cells.length; ++i) {\n",
       "                    if (nbb_cells[i].input_prompt_number == nbb_cell_id) {\n",
       "                        if (nbb_cells[i].get_text() == nbb_unformatted_code) {\n",
       "                             nbb_cells[i].set_text(nbb_formatted_code);\n",
       "                        }\n",
       "                        break;\n",
       "                    }\n",
       "                }\n",
       "            }, 500);\n",
       "            "
      ],
      "text/plain": [
       "<IPython.core.display.Javascript object>"
      ]
     },
     "metadata": {},
     "output_type": "display_data"
    }
   ],
   "source": [
    "step = 90\n",
    "\n",
    "fc, se, conf = result.forecast(step)\n",
    "\n",
    "print(fc)  # 30 day forecasts\n",
    "print(se)  # Standard errors\n",
    "print(conf)  # Confidence levels"
   ]
  },
  {
   "cell_type": "code",
   "execution_count": 19,
   "metadata": {},
   "outputs": [
    {
     "data": {
      "text/plain": [
       "<matplotlib.legend.Legend at 0x23c6cb61cf8>"
      ]
     },
     "execution_count": 19,
     "metadata": {},
     "output_type": "execute_result"
    },
    {
     "data": {
      "image/png": "[encoded data removed]",
      "text/plain": [
       "<Figure size 1152x576 with 1 Axes>"
      ]
     },
     "metadata": {
      "needs_background": "light"
     },
     "output_type": "display_data"
    },
    {
     "data": {
      "application/javascript": [
       "\n",
       "            setTimeout(function() {\n",
       "                var nbb_cell_id = 19;\n",
       "                var nbb_unformatted_code = \"fc = pd.Series(fc, index=ts_set[:step].index)\\n\\nlower = pd.Series(conf[:, 0], index=ts_set[:step].index)\\nupper = pd.Series(conf[:, 1], index=ts_set[:step].index)\\n\\nplt.figure(figsize=(16, 8))\\nplt.plot(ts_set[:step], label=\\\"actual\\\")\\nplt.plot(fc, label=\\\"forecast\\\")\\nplt.fill_between(lower.index, lower, upper, color=\\\"k\\\", alpha=0.1)\\nplt.title(\\\"Forecast vs Actual\\\")\\nplt.legend(loc=\\\"upper left\\\")\";\n",
       "                var nbb_formatted_code = \"fc = pd.Series(fc, index=ts_set[:step].index)\\n\\nlower = pd.Series(conf[:, 0], index=ts_set[:step].index)\\nupper = pd.Series(conf[:, 1], index=ts_set[:step].index)\\n\\nplt.figure(figsize=(16, 8))\\nplt.plot(ts_set[:step], label=\\\"actual\\\")\\nplt.plot(fc, label=\\\"forecast\\\")\\nplt.fill_between(lower.index, lower, upper, color=\\\"k\\\", alpha=0.1)\\nplt.title(\\\"Forecast vs Actual\\\")\\nplt.legend(loc=\\\"upper left\\\")\";\n",
       "                var nbb_cells = Jupyter.notebook.get_cells();\n",
       "                for (var i = 0; i < nbb_cells.length; ++i) {\n",
       "                    if (nbb_cells[i].input_prompt_number == nbb_cell_id) {\n",
       "                        if (nbb_cells[i].get_text() == nbb_unformatted_code) {\n",
       "                             nbb_cells[i].set_text(nbb_formatted_code);\n",
       "                        }\n",
       "                        break;\n",
       "                    }\n",
       "                }\n",
       "            }, 500);\n",
       "            "
      ],
      "text/plain": [
       "<IPython.core.display.Javascript object>"
      ]
     },
     "metadata": {},
     "output_type": "display_data"
    }
   ],
   "source": [
    "fc = pd.Series(fc, index=ts_set[:step].index)\n",
    "\n",
    "lower = pd.Series(conf[:, 0], index=ts_set[:step].index)\n",
    "upper = pd.Series(conf[:, 1], index=ts_set[:step].index)\n",
    "\n",
    "plt.figure(figsize=(16, 8))\n",
    "plt.plot(ts_set[:step], label=\"actual\")\n",
    "plt.plot(fc, label=\"forecast\")\n",
    "plt.fill_between(lower.index, lower, upper, color=\"k\", alpha=0.1)\n",
    "plt.title(\"Forecast vs Actual\")\n",
    "plt.legend(loc=\"upper left\")"
   ]
  },
  {
   "cell_type": "markdown",
   "metadata": {},
   "source": [
    "The model was able to predict correct values up to about a week in the future.  After that, predictions are not as precise, even leaving the confidence area during the second week.\n",
    "This demonstrates that this time-series algoritm cannot be used for long-term forcasting of stock prices. \n",
    "In general, there are many factors that go into determining a stock's price, and time-series anaylsis is not suitable to make these predictions, but the algorithm serves to give an idea of the trend followed by the stock price."
   ]
  }
 ],
 "metadata": {
  "kernelspec": {
   "display_name": "Python 3",
   "language": "python",
   "name": "python3"
  },
  "language_info": {
   "codemirror_mode": {
    "name": "ipython",
    "version": 3
   },
   "file_extension": ".py",
   "mimetype": "text/x-python",
   "name": "python",
   "nbconvert_exporter": "python",
   "pygments_lexer": "ipython3",
   "version": "3.6.10"
  }
 },
 "nbformat": 4,
 "nbformat_minor": 4
}
