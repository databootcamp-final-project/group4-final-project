{
 "cells": [
  {
   "cell_type": "code",
   "execution_count": 1,
   "metadata": {},
   "outputs": [],
   "source": [
    "#dependencies\n",
    "import pandas as pd\n",
    "import numpy as np\n",
    "import matplotlib.pyplot as plt\n",
    "import datetime\n",
    "import os\n",
    "import csv"
   ]
  },
  {
   "cell_type": "code",
   "execution_count": 2,
   "metadata": {},
   "outputs": [
    {
     "data": {
      "text/html": [
       "<div>\n",
       "<style scoped>\n",
       "    .dataframe tbody tr th:only-of-type {\n",
       "        vertical-align: middle;\n",
       "    }\n",
       "\n",
       "    .dataframe tbody tr th {\n",
       "        vertical-align: top;\n",
       "    }\n",
       "\n",
       "    .dataframe thead th {\n",
       "        text-align: right;\n",
       "    }\n",
       "</style>\n",
       "<table border=\"1\" class=\"dataframe\">\n",
       "  <thead>\n",
       "    <tr style=\"text-align: right;\">\n",
       "      <th></th>\n",
       "      <th>Date</th>\n",
       "      <th>Close/Last</th>\n",
       "      <th>Volume</th>\n",
       "      <th>Open</th>\n",
       "      <th>High</th>\n",
       "      <th>Low</th>\n",
       "    </tr>\n",
       "  </thead>\n",
       "  <tbody>\n",
       "    <tr>\n",
       "      <th>0</th>\n",
       "      <td>05/24/2021</td>\n",
       "      <td>$53.39</td>\n",
       "      <td>21128860</td>\n",
       "      <td>$52.96</td>\n",
       "      <td>$53.765</td>\n",
       "      <td>$52.79</td>\n",
       "    </tr>\n",
       "    <tr>\n",
       "      <th>1</th>\n",
       "      <td>05/21/2021</td>\n",
       "      <td>$52.43</td>\n",
       "      <td>24468370</td>\n",
       "      <td>$52.765</td>\n",
       "      <td>$52.93</td>\n",
       "      <td>$52.24</td>\n",
       "    </tr>\n",
       "    <tr>\n",
       "      <th>2</th>\n",
       "      <td>05/20/2021</td>\n",
       "      <td>$52.85</td>\n",
       "      <td>48830760</td>\n",
       "      <td>$50.41</td>\n",
       "      <td>$52.97</td>\n",
       "      <td>$50.1</td>\n",
       "    </tr>\n",
       "    <tr>\n",
       "      <th>3</th>\n",
       "      <td>05/19/2021</td>\n",
       "      <td>$52.47</td>\n",
       "      <td>29187940</td>\n",
       "      <td>$51.88</td>\n",
       "      <td>$52.66</td>\n",
       "      <td>$51.86</td>\n",
       "    </tr>\n",
       "    <tr>\n",
       "      <th>4</th>\n",
       "      <td>05/18/2021</td>\n",
       "      <td>$52.93</td>\n",
       "      <td>20177200</td>\n",
       "      <td>$52.8</td>\n",
       "      <td>$53.34</td>\n",
       "      <td>$52.74</td>\n",
       "    </tr>\n",
       "  </tbody>\n",
       "</table>\n",
       "</div>"
      ],
      "text/plain": [
       "         Date Close/Last    Volume     Open     High     Low\n",
       "0  05/24/2021     $53.39  21128860   $52.96  $53.765  $52.79\n",
       "1  05/21/2021     $52.43  24468370  $52.765   $52.93  $52.24\n",
       "2  05/20/2021     $52.85  48830760   $50.41   $52.97   $50.1\n",
       "3  05/19/2021     $52.47  29187940   $51.88   $52.66  $51.86\n",
       "4  05/18/2021     $52.93  20177200    $52.8   $53.34  $52.74"
      ]
     },
     "execution_count": 2,
     "metadata": {},
     "output_type": "execute_result"
    }
   ],
   "source": [
    "#load assesment file\n",
    "CSCO = \"resources/HistoricalData_CSCO.csv\"\n",
    "CSCO_df = pd.read_csv(CSCO)\n",
    "CSCO_df.head()"
   ]
  },
  {
   "cell_type": "markdown",
   "metadata": {},
   "source": [
    "CLEAN, RESHAPE AND CONVERT DATATYPE"
   ]
  },
  {
   "cell_type": "code",
   "execution_count": 3,
   "metadata": {},
   "outputs": [
    {
     "name": "stderr",
     "output_type": "stream",
     "text": [
      "<ipython-input-3-8171b38c4446>:2: FutureWarning: The default value of regex will change from True to False in a future version. In addition, single character regular expressions will*not* be treated as literal strings when regex=True.\n",
      "  CSCO_df['Close/Last'] = CSCO_df['Close/Last'].str.replace('$','')\n",
      "<ipython-input-3-8171b38c4446>:3: FutureWarning: The default value of regex will change from True to False in a future version. In addition, single character regular expressions will*not* be treated as literal strings when regex=True.\n",
      "  CSCO_df['Open'] = CSCO_df['Open'].str.replace('$','')\n",
      "<ipython-input-3-8171b38c4446>:4: FutureWarning: The default value of regex will change from True to False in a future version. In addition, single character regular expressions will*not* be treated as literal strings when regex=True.\n",
      "  CSCO_df['High'] = CSCO_df['High'].str.replace('$','')\n",
      "<ipython-input-3-8171b38c4446>:5: FutureWarning: The default value of regex will change from True to False in a future version. In addition, single character regular expressions will*not* be treated as literal strings when regex=True.\n",
      "  CSCO_df['Low'] = CSCO_df['Low'].str.replace('$','')\n"
     ]
    }
   ],
   "source": [
    "CSCO_df['Date']= pd.to_datetime(CSCO_df['Date'])\n",
    "CSCO_df['Close/Last'] = CSCO_df['Close/Last'].str.replace('$','')\n",
    "CSCO_df['Open'] = CSCO_df['Open'].str.replace('$','')\n",
    "CSCO_df['High'] = CSCO_df['High'].str.replace('$','')\n",
    "CSCO_df['Low'] = CSCO_df['Low'].str.replace('$','')\n",
    "CSCO_df = CSCO_df.apply( pd.to_numeric)"
   ]
  },
  {
   "cell_type": "markdown",
   "metadata": {},
   "source": [
    "FORMAT DATE COLUMN"
   ]
  },
  {
   "cell_type": "code",
   "execution_count": 4,
   "metadata": {},
   "outputs": [
    {
     "data": {
      "text/html": [
       "<div>\n",
       "<style scoped>\n",
       "    .dataframe tbody tr th:only-of-type {\n",
       "        vertical-align: middle;\n",
       "    }\n",
       "\n",
       "    .dataframe tbody tr th {\n",
       "        vertical-align: top;\n",
       "    }\n",
       "\n",
       "    .dataframe thead th {\n",
       "        text-align: right;\n",
       "    }\n",
       "</style>\n",
       "<table border=\"1\" class=\"dataframe\">\n",
       "  <thead>\n",
       "    <tr style=\"text-align: right;\">\n",
       "      <th></th>\n",
       "      <th>Date</th>\n",
       "      <th>Close/Last</th>\n",
       "      <th>Volume</th>\n",
       "      <th>Open</th>\n",
       "      <th>High</th>\n",
       "      <th>Low</th>\n",
       "    </tr>\n",
       "  </thead>\n",
       "  <tbody>\n",
       "    <tr>\n",
       "      <th>0</th>\n",
       "      <td>2021-05-24</td>\n",
       "      <td>53.39</td>\n",
       "      <td>21128860</td>\n",
       "      <td>52.960</td>\n",
       "      <td>53.765</td>\n",
       "      <td>52.79</td>\n",
       "    </tr>\n",
       "    <tr>\n",
       "      <th>1</th>\n",
       "      <td>2021-05-21</td>\n",
       "      <td>52.43</td>\n",
       "      <td>24468370</td>\n",
       "      <td>52.765</td>\n",
       "      <td>52.930</td>\n",
       "      <td>52.24</td>\n",
       "    </tr>\n",
       "    <tr>\n",
       "      <th>2</th>\n",
       "      <td>2021-05-20</td>\n",
       "      <td>52.85</td>\n",
       "      <td>48830760</td>\n",
       "      <td>50.410</td>\n",
       "      <td>52.970</td>\n",
       "      <td>50.10</td>\n",
       "    </tr>\n",
       "    <tr>\n",
       "      <th>3</th>\n",
       "      <td>2021-05-19</td>\n",
       "      <td>52.47</td>\n",
       "      <td>29187940</td>\n",
       "      <td>51.880</td>\n",
       "      <td>52.660</td>\n",
       "      <td>51.86</td>\n",
       "    </tr>\n",
       "    <tr>\n",
       "      <th>4</th>\n",
       "      <td>2021-05-18</td>\n",
       "      <td>52.93</td>\n",
       "      <td>20177200</td>\n",
       "      <td>52.800</td>\n",
       "      <td>53.340</td>\n",
       "      <td>52.74</td>\n",
       "    </tr>\n",
       "  </tbody>\n",
       "</table>\n",
       "</div>"
      ],
      "text/plain": [
       "        Date  Close/Last    Volume    Open    High    Low\n",
       "0 2021-05-24       53.39  21128860  52.960  53.765  52.79\n",
       "1 2021-05-21       52.43  24468370  52.765  52.930  52.24\n",
       "2 2021-05-20       52.85  48830760  50.410  52.970  50.10\n",
       "3 2021-05-19       52.47  29187940  51.880  52.660  51.86\n",
       "4 2021-05-18       52.93  20177200  52.800  53.340  52.74"
      ]
     },
     "execution_count": 4,
     "metadata": {},
     "output_type": "execute_result"
    }
   ],
   "source": [
    "CSCO_df['Date']= pd.to_datetime(CSCO_df['Date'])\n",
    "CSCO_df.head()"
   ]
  },
  {
   "cell_type": "markdown",
   "metadata": {},
   "source": [
    "SPLIT DATAFRAME"
   ]
  },
  {
   "cell_type": "code",
   "execution_count": 5,
   "metadata": {},
   "outputs": [
    {
     "data": {
      "text/html": [
       "<div>\n",
       "<style scoped>\n",
       "    .dataframe tbody tr th:only-of-type {\n",
       "        vertical-align: middle;\n",
       "    }\n",
       "\n",
       "    .dataframe tbody tr th {\n",
       "        vertical-align: top;\n",
       "    }\n",
       "\n",
       "    .dataframe thead th {\n",
       "        text-align: right;\n",
       "    }\n",
       "</style>\n",
       "<table border=\"1\" class=\"dataframe\">\n",
       "  <thead>\n",
       "    <tr style=\"text-align: right;\">\n",
       "      <th></th>\n",
       "      <th>Date</th>\n",
       "      <th>Close/Last</th>\n",
       "      <th>Volume</th>\n",
       "      <th>Open</th>\n",
       "      <th>High</th>\n",
       "      <th>Low</th>\n",
       "    </tr>\n",
       "  </thead>\n",
       "  <tbody>\n",
       "    <tr>\n",
       "      <th>252</th>\n",
       "      <td>2020-05-22</td>\n",
       "      <td>44.900</td>\n",
       "      <td>12592810</td>\n",
       "      <td>44.67</td>\n",
       "      <td>44.950</td>\n",
       "      <td>44.1200</td>\n",
       "    </tr>\n",
       "    <tr>\n",
       "      <th>253</th>\n",
       "      <td>2020-05-21</td>\n",
       "      <td>44.640</td>\n",
       "      <td>18674890</td>\n",
       "      <td>45.45</td>\n",
       "      <td>45.655</td>\n",
       "      <td>44.5550</td>\n",
       "    </tr>\n",
       "    <tr>\n",
       "      <th>254</th>\n",
       "      <td>2020-05-20</td>\n",
       "      <td>45.440</td>\n",
       "      <td>20184460</td>\n",
       "      <td>45.05</td>\n",
       "      <td>45.820</td>\n",
       "      <td>45.0300</td>\n",
       "    </tr>\n",
       "    <tr>\n",
       "      <th>255</th>\n",
       "      <td>2020-05-19</td>\n",
       "      <td>44.605</td>\n",
       "      <td>24345420</td>\n",
       "      <td>44.83</td>\n",
       "      <td>44.980</td>\n",
       "      <td>44.4100</td>\n",
       "    </tr>\n",
       "    <tr>\n",
       "      <th>256</th>\n",
       "      <td>2020-05-18</td>\n",
       "      <td>45.060</td>\n",
       "      <td>26980080</td>\n",
       "      <td>45.21</td>\n",
       "      <td>45.295</td>\n",
       "      <td>44.3301</td>\n",
       "    </tr>\n",
       "  </tbody>\n",
       "</table>\n",
       "</div>"
      ],
      "text/plain": [
       "          Date  Close/Last    Volume   Open    High      Low\n",
       "252 2020-05-22      44.900  12592810  44.67  44.950  44.1200\n",
       "253 2020-05-21      44.640  18674890  45.45  45.655  44.5550\n",
       "254 2020-05-20      45.440  20184460  45.05  45.820  45.0300\n",
       "255 2020-05-19      44.605  24345420  44.83  44.980  44.4100\n",
       "256 2020-05-18      45.060  26980080  45.21  45.295  44.3301"
      ]
     },
     "execution_count": 5,
     "metadata": {},
     "output_type": "execute_result"
    }
   ],
   "source": [
    "#setup datetime for first 4 years\n",
    "start_date = \"2016-05-24\"\n",
    "end_date = \"2020-05-24\"\n",
    "\n",
    "after_start_date = CSCO_df[\"Date\"] >= start_date\n",
    "before_end_date = CSCO_df[\"Date\"] <= end_date\n",
    "between_two_dates = after_start_date & before_end_date\n",
    "CSCO_df_4 = CSCO_df.loc[between_two_dates]\n",
    "CSCO_df_4.head()"
   ]
  },
  {
   "cell_type": "markdown",
   "metadata": {},
   "source": [
    "SPLIT DATAFRAME"
   ]
  },
  {
   "cell_type": "code",
   "execution_count": 6,
   "metadata": {},
   "outputs": [
    {
     "data": {
      "text/html": [
       "<div>\n",
       "<style scoped>\n",
       "    .dataframe tbody tr th:only-of-type {\n",
       "        vertical-align: middle;\n",
       "    }\n",
       "\n",
       "    .dataframe tbody tr th {\n",
       "        vertical-align: top;\n",
       "    }\n",
       "\n",
       "    .dataframe thead th {\n",
       "        text-align: right;\n",
       "    }\n",
       "</style>\n",
       "<table border=\"1\" class=\"dataframe\">\n",
       "  <thead>\n",
       "    <tr style=\"text-align: right;\">\n",
       "      <th></th>\n",
       "      <th>Date</th>\n",
       "      <th>Close/Last</th>\n",
       "      <th>Volume</th>\n",
       "      <th>Open</th>\n",
       "      <th>High</th>\n",
       "      <th>Low</th>\n",
       "    </tr>\n",
       "  </thead>\n",
       "  <tbody>\n",
       "    <tr>\n",
       "      <th>0</th>\n",
       "      <td>2021-05-24</td>\n",
       "      <td>53.39</td>\n",
       "      <td>21128860</td>\n",
       "      <td>52.960</td>\n",
       "      <td>53.765</td>\n",
       "      <td>52.79</td>\n",
       "    </tr>\n",
       "    <tr>\n",
       "      <th>1</th>\n",
       "      <td>2021-05-21</td>\n",
       "      <td>52.43</td>\n",
       "      <td>24468370</td>\n",
       "      <td>52.765</td>\n",
       "      <td>52.930</td>\n",
       "      <td>52.24</td>\n",
       "    </tr>\n",
       "    <tr>\n",
       "      <th>2</th>\n",
       "      <td>2021-05-20</td>\n",
       "      <td>52.85</td>\n",
       "      <td>48830760</td>\n",
       "      <td>50.410</td>\n",
       "      <td>52.970</td>\n",
       "      <td>50.10</td>\n",
       "    </tr>\n",
       "    <tr>\n",
       "      <th>3</th>\n",
       "      <td>2021-05-19</td>\n",
       "      <td>52.47</td>\n",
       "      <td>29187940</td>\n",
       "      <td>51.880</td>\n",
       "      <td>52.660</td>\n",
       "      <td>51.86</td>\n",
       "    </tr>\n",
       "    <tr>\n",
       "      <th>4</th>\n",
       "      <td>2021-05-18</td>\n",
       "      <td>52.93</td>\n",
       "      <td>20177200</td>\n",
       "      <td>52.800</td>\n",
       "      <td>53.340</td>\n",
       "      <td>52.74</td>\n",
       "    </tr>\n",
       "  </tbody>\n",
       "</table>\n",
       "</div>"
      ],
      "text/plain": [
       "        Date  Close/Last    Volume    Open    High    Low\n",
       "0 2021-05-24       53.39  21128860  52.960  53.765  52.79\n",
       "1 2021-05-21       52.43  24468370  52.765  52.930  52.24\n",
       "2 2021-05-20       52.85  48830760  50.410  52.970  50.10\n",
       "3 2021-05-19       52.47  29187940  51.880  52.660  51.86\n",
       "4 2021-05-18       52.93  20177200  52.800  53.340  52.74"
      ]
     },
     "execution_count": 6,
     "metadata": {},
     "output_type": "execute_result"
    }
   ],
   "source": [
    "#setup datetime for last year\n",
    "start_date = \"2020-05-25\"\n",
    "end_date = \"2021-05-24\"\n",
    "\n",
    "after_start_date = CSCO_df[\"Date\"] >= start_date\n",
    "before_end_date = CSCO_df[\"Date\"] <= end_date\n",
    "between_two_dates = after_start_date & before_end_date\n",
    "CSCO_df_ls = CSCO_df.loc[between_two_dates]\n",
    "CSCO_df_ls.head()"
   ]
  },
  {
   "cell_type": "markdown",
   "metadata": {},
   "source": [
    "PLOT FIRST DF (4YEARS)"
   ]
  },
  {
   "cell_type": "code",
   "execution_count": 7,
   "metadata": {},
   "outputs": [
    {
     "data": {
      "image/png": "[encoded data removed]",
      "text/plain": [
       "<Figure size 864x576 with 1 Axes>"
      ]
     },
     "metadata": {
      "needs_background": "light"
     },
     "output_type": "display_data"
    }
   ],
   "source": [
    "plt.figure(figsize=(12,8))\n",
    "plt.plot(CSCO_df_4['Close/Last'])\n",
    "plt.title(\"Cisco Line Chart\")\n",
    "plt.xlabel(\"Date\")\n",
    "plt.ylabel(\"Close\")\n",
    "plt.show()"
   ]
  },
  {
   "cell_type": "markdown",
   "metadata": {},
   "source": [
    "PLOT SECOND DF (LAST YEAR)"
   ]
  },
  {
   "cell_type": "code",
   "execution_count": 8,
   "metadata": {},
   "outputs": [
    {
     "data": {
      "image/png": "[encoded data removed]",
      "text/plain": [
       "<Figure size 864x576 with 1 Axes>"
      ]
     },
     "metadata": {
      "needs_background": "light"
     },
     "output_type": "display_data"
    }
   ],
   "source": [
    "plt.figure(figsize=(12,8))\n",
    "plt.plot(CSCO_df_ls['Close/Last'])\n",
    "plt.title(\"Cisco Line Chart\")\n",
    "plt.xlabel(\"Date\")\n",
    "plt.ylabel(\"Close\")\n",
    "plt.show()"
   ]
  },
  {
   "cell_type": "markdown",
   "metadata": {},
   "source": [
    "SHAPPING, FITTING, TRAINING, TESTING ML ON 1ST DF"
   ]
  },
  {
   "cell_type": "code",
   "execution_count": 9,
   "metadata": {},
   "outputs": [
    {
     "data": {
      "text/plain": [
       "(1006, 6)"
      ]
     },
     "execution_count": 9,
     "metadata": {},
     "output_type": "execute_result"
    }
   ],
   "source": [
    "CSCO_df_4.shape"
   ]
  },
  {
   "cell_type": "code",
   "execution_count": 10,
   "metadata": {},
   "outputs": [],
   "source": [
    "X = np.array(CSCO_df_4['Open']).reshape(1006,-1)\n",
    "Y = np.array(CSCO_df_4['Close/Last']).reshape(1006,-1)"
   ]
  },
  {
   "cell_type": "code",
   "execution_count": 11,
   "metadata": {},
   "outputs": [],
   "source": [
    "from sklearn.linear_model import LinearRegression"
   ]
  },
  {
   "cell_type": "code",
   "execution_count": 12,
   "metadata": {},
   "outputs": [],
   "source": [
    "lr = LinearRegression()"
   ]
  },
  {
   "cell_type": "code",
   "execution_count": 13,
   "metadata": {},
   "outputs": [
    {
     "data": {
      "text/plain": [
       "LinearRegression()"
      ]
     },
     "execution_count": 13,
     "metadata": {},
     "output_type": "execute_result"
    }
   ],
   "source": [
    "lr.fit(X, Y)"
   ]
  },
  {
   "cell_type": "code",
   "execution_count": 14,
   "metadata": {},
   "outputs": [
    {
     "name": "stdout",
     "output_type": "stream",
     "text": [
      "Linear Regression intercept: [0.18821674]\n",
      "coefficient count: 1\n"
     ]
    }
   ],
   "source": [
    "print('Linear Regression intercept:', lr.intercept_)\n",
    "print('coefficient count:', len(lr.coef_))"
   ]
  },
  {
   "cell_type": "code",
   "execution_count": 15,
   "metadata": {},
   "outputs": [
    {
     "name": "stdout",
     "output_type": "stream",
     "text": [
      "Accuracy: 0.9959163112941813\n"
     ]
    }
   ],
   "source": [
    "from sklearn.metrics import accuracy_score\n",
    "print('Accuracy:', lr.score(X, Y))"
   ]
  },
  {
   "cell_type": "code",
   "execution_count": 16,
   "metadata": {},
   "outputs": [
    {
     "data": {
      "text/plain": [
       "array([[44.65815329],\n",
       "       [45.43465991],\n",
       "       [45.03645139],\n",
       "       ...,\n",
       "       [29.00855843],\n",
       "       [28.91896151],\n",
       "       [28.64021555]])"
      ]
     },
     "execution_count": 16,
     "metadata": {},
     "output_type": "execute_result"
    }
   ],
   "source": [
    "# Predicting the price\n",
    "lr.predict(X)"
   ]
  },
  {
   "cell_type": "code",
   "execution_count": 18,
   "metadata": {},
   "outputs": [
    {
     "data": {
      "text/plain": [
       "Text(0.5, 1.0, '4 Years CLosing Price vs Predicted Closing Price')"
      ]
     },
     "execution_count": 18,
     "metadata": {},
     "output_type": "execute_result"
    },
    {
     "data": {
      "image/png": "[encoded data removed]",
      "text/plain": [
       "<Figure size 864x576 with 1 Axes>"
      ]
     },
     "metadata": {
      "needs_background": "light"
     },
     "output_type": "display_data"
    }
   ],
   "source": [
    "plt.figure(figsize=(12,8))\n",
    "plt.scatter(CSCO_df_4['Close/Last'], lr.predict(X))\n",
    "plt.plot(X, lr.predict(X), color = 'red')\n",
    "plt.xlabel('Closing Price')\n",
    "plt.ylabel('Predicted Closing Price')\n",
    "plt.savefig('images/CSCO_4y.jpg', dpi=40)\n",
    "plt.grid()\n",
    "plt.title('4 Years CLosing Price vs Predicted Closing Price')"
   ]
  },
  {
   "cell_type": "markdown",
   "metadata": {},
   "source": [
    "TRAINING, TESTING ML ON 2ND DF"
   ]
  },
  {
   "cell_type": "code",
   "execution_count": 19,
   "metadata": {},
   "outputs": [
    {
     "data": {
      "text/plain": [
       "(252, 6)"
      ]
     },
     "execution_count": 19,
     "metadata": {},
     "output_type": "execute_result"
    }
   ],
   "source": [
    "CSCO_df_ls.shape"
   ]
  },
  {
   "cell_type": "code",
   "execution_count": 20,
   "metadata": {},
   "outputs": [],
   "source": [
    "X_ls = np.array(CSCO_df_ls['Open']).reshape(252,-1)\n",
    "Y_ls = np.array(CSCO_df_ls['Close/Last']).reshape(252,-1)"
   ]
  },
  {
   "cell_type": "code",
   "execution_count": 21,
   "metadata": {},
   "outputs": [
    {
     "data": {
      "text/plain": [
       "LinearRegression()"
      ]
     },
     "execution_count": 21,
     "metadata": {},
     "output_type": "execute_result"
    }
   ],
   "source": [
    "lr.fit(X_ls, Y_ls)"
   ]
  },
  {
   "cell_type": "code",
   "execution_count": 22,
   "metadata": {},
   "outputs": [
    {
     "name": "stdout",
     "output_type": "stream",
     "text": [
      "Linear Regression intercept: [-0.31429754]\n",
      "coefficient count: 1\n"
     ]
    }
   ],
   "source": [
    "print('Linear Regression intercept:', lr.intercept_)\n",
    "print('coefficient count:', len(lr.coef_))"
   ]
  },
  {
   "cell_type": "code",
   "execution_count": 23,
   "metadata": {},
   "outputs": [
    {
     "name": "stdout",
     "output_type": "stream",
     "text": [
      "Accuracy: 0.9831147131271732\n"
     ]
    }
   ],
   "source": [
    "print('Accuracy:', lr.score(X_ls, Y_ls))"
   ]
  },
  {
   "cell_type": "code",
   "execution_count": 24,
   "metadata": {},
   "outputs": [
    {
     "data": {
      "text/plain": [
       "array([[53.0834176 ],\n",
       "       [52.88680592],\n",
       "       [50.51234182],\n",
       "       [51.99449139],\n",
       "       [52.9220952 ],\n",
       "       [52.8817646 ],\n",
       "       [53.05316965],\n",
       "       [52.22639234],\n",
       "       [52.29697089],\n",
       "       [53.2245747 ],\n",
       "       [54.10176527],\n",
       "       [52.5994504 ],\n",
       "       [51.17779673],\n",
       "       [51.09713552],\n",
       "       [51.21812733],\n",
       "       [51.31895383],\n",
       "       [51.32903648],\n",
       "       [51.28870588],\n",
       "       [51.67184658],\n",
       "       [51.69201188],\n",
       "       [51.76259043],\n",
       "       [51.61487961],\n",
       "       [51.92391284],\n",
       "       [51.95416079],\n",
       "       [52.71035955],\n",
       "       [52.64482232],\n",
       "       [52.56920245],\n",
       "       [51.87349959],\n",
       "       [51.62143333],\n",
       "       [51.75250778],\n",
       "       [52.18606174],\n",
       "       [51.94407814],\n",
       "       [52.05498729],\n",
       "       [52.12556584],\n",
       "       [52.09531789],\n",
       "       [51.7404086 ],\n",
       "       [51.86341694],\n",
       "       [51.94407814],\n",
       "       [52.22639234],\n",
       "       [52.51959581],\n",
       "       [50.70391217],\n",
       "       [50.67870554],\n",
       "       [50.03845726],\n",
       "       [50.11911846],\n",
       "       [49.03019225],\n",
       "       [48.79829129],\n",
       "       [48.60672094],\n",
       "       [49.70572981],\n",
       "       [49.2822585 ],\n",
       "       [48.98986165],\n",
       "       [48.89911779],\n",
       "       [48.59663829],\n",
       "       [48.55630769],\n",
       "       [47.90496849],\n",
       "       [46.30787671],\n",
       "       [45.50731429],\n",
       "       [45.19374387],\n",
       "       [45.49118205],\n",
       "       [45.99632282],\n",
       "       [45.27944639],\n",
       "       [45.6424218 ],\n",
       "       [45.64746312],\n",
       "       [45.29961169],\n",
       "       [45.31977699],\n",
       "       [45.35002494],\n",
       "       [46.61035621],\n",
       "       [46.45911646],\n",
       "       [46.38349658],\n",
       "       [47.33630702],\n",
       "       [47.50267075],\n",
       "       [47.42604261],\n",
       "       [46.21713286],\n",
       "       [48.85475413],\n",
       "       [48.64705154],\n",
       "       [47.64886918],\n",
       "       [45.93481865],\n",
       "       [45.81382685],\n",
       "       [45.5819259 ],\n",
       "       [44.97696689],\n",
       "       [44.90638834],\n",
       "       [45.97918231],\n",
       "       [45.29961169],\n",
       "       [44.94167761],\n",
       "       [45.09795869],\n",
       "       [44.80556184],\n",
       "       [45.25928109],\n",
       "       [45.39035554],\n",
       "       [45.39035554],\n",
       "       [45.01729749],\n",
       "       [44.92655364],\n",
       "       [45.35002494],\n",
       "       [45.36010759],\n",
       "       [45.20886784],\n",
       "       [44.53333028],\n",
       "       [44.25101608],\n",
       "       [44.18043753],\n",
       "       [43.72671827],\n",
       "       [44.36192523],\n",
       "       [44.43250378],\n",
       "       [44.79547919],\n",
       "       [45.02738014],\n",
       "       [44.98704954],\n",
       "       [44.50308233],\n",
       "       [44.70473534],\n",
       "       [44.49299968],\n",
       "       [44.52324763],\n",
       "       [44.95680159],\n",
       "       [44.96688424],\n",
       "       [44.75010726],\n",
       "       [44.44258643],\n",
       "       [44.32159463],\n",
       "       [43.98886718],\n",
       "       [44.59382618],\n",
       "       [44.52324763],\n",
       "       [44.25706567],\n",
       "       [44.33873514],\n",
       "       [43.93845392],\n",
       "       [43.82754477],\n",
       "       [43.43432142],\n",
       "       [43.05118071],\n",
       "       [42.47646965],\n",
       "       [42.89489963],\n",
       "       [42.81927976],\n",
       "       [42.17399015],\n",
       "       [41.05481598],\n",
       "       [41.07498128],\n",
       "       [41.02456803],\n",
       "       [41.93200655],\n",
       "       [41.95217185],\n",
       "       [41.77068414],\n",
       "       [41.22622104],\n",
       "       [38.98787271],\n",
       "       [39.01812066],\n",
       "       [38.21150864],\n",
       "       [39.93564182],\n",
       "       [37.55613639],\n",
       "       [37.01167328],\n",
       "       [37.02276419],\n",
       "       [36.34621837],\n",
       "       [36.17481332],\n",
       "       [35.57489563],\n",
       "       [35.48919311],\n",
       "       [36.30084644],\n",
       "       [37.37464868],\n",
       "       [38.403079  ],\n",
       "       [38.93745945],\n",
       "       [38.85679825],\n",
       "       [39.32060016],\n",
       "       [39.45167461],\n",
       "       [40.16754277],\n",
       "       [39.89531122],\n",
       "       [39.48192256],\n",
       "       [39.86506327],\n",
       "       [40.56076613],\n",
       "       [39.94572447],\n",
       "       [40.16250145],\n",
       "       [39.81465002],\n",
       "       [38.98787271],\n",
       "       [38.5039055 ],\n",
       "       [38.4837402 ],\n",
       "       [38.04615318],\n",
       "       [39.10886451],\n",
       "       [39.09878186],\n",
       "       [39.07861656],\n",
       "       [39.20464968],\n",
       "       [37.75778939],\n",
       "       [37.99977299],\n",
       "       [39.23993896],\n",
       "       [39.18952571],\n",
       "       [39.32060016],\n",
       "       [40.19779072],\n",
       "       [39.67349291],\n",
       "       [40.74225383],\n",
       "       [40.53051818],\n",
       "       [40.23308   ],\n",
       "       [39.77936074],\n",
       "       [40.04655097],\n",
       "       [40.11712952],\n",
       "       [40.06671627],\n",
       "       [41.22622104],\n",
       "       [41.78076679],\n",
       "       [42.07316365],\n",
       "       [42.03283305],\n",
       "       [42.13365955],\n",
       "       [42.17399015],\n",
       "       [42.43613905],\n",
       "       [41.67994029],\n",
       "       [42.264734  ],\n",
       "       [42.1034116 ],\n",
       "       [42.0832463 ],\n",
       "       [41.9017586 ],\n",
       "       [42.13365955],\n",
       "       [42.1639075 ],\n",
       "       [42.58737881],\n",
       "       [42.5268829 ],\n",
       "       [43.83762742],\n",
       "       [47.35647232],\n",
       "       [47.98159663],\n",
       "       [47.23548052],\n",
       "       [47.40688557],\n",
       "       [47.30605907],\n",
       "       [47.74969568],\n",
       "       [47.08424077],\n",
       "       [47.21531522],\n",
       "       [46.45407513],\n",
       "       [46.19696756],\n",
       "       [46.46919911],\n",
       "       [47.05399282],\n",
       "       [46.73134801],\n",
       "       [47.56820798],\n",
       "       [47.04895149],\n",
       "       [47.09029036],\n",
       "       [47.35647232],\n",
       "       [46.74143066],\n",
       "       [46.1062237 ],\n",
       "       [45.7634136 ],\n",
       "       [46.57002561],\n",
       "       [45.55167795],\n",
       "       [46.94308367],\n",
       "       [46.80192656],\n",
       "       [46.67085211],\n",
       "       [45.65250445],\n",
       "       [46.18688491],\n",
       "       [46.13647166],\n",
       "       [46.13647166],\n",
       "       [46.61035621],\n",
       "       [46.21209153],\n",
       "       [46.40870321],\n",
       "       [45.17761163],\n",
       "       [44.82572714],\n",
       "       [45.34800841],\n",
       "       [45.9852319 ],\n",
       "       [45.16853724],\n",
       "       [46.32804201],\n",
       "       [45.85415745],\n",
       "       [46.82209186],\n",
       "       [47.48754677],\n",
       "       [44.17035488],\n",
       "       [45.01729749],\n",
       "       [47.06407547],\n",
       "       [47.73961303],\n",
       "       [48.10258843],\n",
       "       [47.53796002],\n",
       "       [47.34638967],\n",
       "       [46.84225717],\n",
       "       [47.05399282],\n",
       "       [46.46919911],\n",
       "       [47.22539787],\n",
       "       [46.1062237 ],\n",
       "       [45.9650666 ],\n",
       "       [45.09997522],\n",
       "       [45.8440748 ]])"
      ]
     },
     "execution_count": 24,
     "metadata": {},
     "output_type": "execute_result"
    }
   ],
   "source": [
    "# Predicting the price\n",
    "lr.predict(X_ls)"
   ]
  },
  {
   "cell_type": "code",
   "execution_count": 26,
   "metadata": {},
   "outputs": [
    {
     "data": {
      "text/plain": [
       "Text(0.5, 1.0, '1 Year CLosing Price vs Predicted Closing Price')"
      ]
     },
     "execution_count": 26,
     "metadata": {},
     "output_type": "execute_result"
    },
    {
     "data": {
      "image/png": "[encoded data removed]",
      "text/plain": [
       "<Figure size 864x576 with 1 Axes>"
      ]
     },
     "metadata": {
      "needs_background": "light"
     },
     "output_type": "display_data"
    }
   ],
   "source": [
    "plt.figure(figsize=(12,8))\n",
    "plt.scatter(CSCO_df_ls['Close/Last'], lr.predict(X_ls))\n",
    "plt.plot(X_ls, lr.predict(X_ls), color = 'red')\n",
    "plt.xlabel('Closing Price')\n",
    "plt.ylabel('Predicted Closing Price')\n",
    "plt.savefig('images/CSCO_ls.jpg', dpi=40)\n",
    "plt.grid()\n",
    "plt.title('1 Year CLosing Price vs Predicted Closing Price')"
   ]
  },
  {
   "cell_type": "code",
   "execution_count": null,
   "metadata": {},
   "outputs": [],
   "source": []
  }
 ],
 "metadata": {
  "kernelspec": {
   "display_name": "Python 3",
   "language": "python",
   "name": "python3"
  },
  "language_info": {
   "codemirror_mode": {
    "name": "ipython",
    "version": 3
   },
   "file_extension": ".py",
   "mimetype": "text/x-python",
   "name": "python",
   "nbconvert_exporter": "python",
   "pygments_lexer": "ipython3",
   "version": "3.8.5"
  }
 },
 "nbformat": 4,
 "nbformat_minor": 4
}
