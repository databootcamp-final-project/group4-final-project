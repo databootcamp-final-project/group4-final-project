{
 "cells": [
  {
   "cell_type": "markdown",
   "metadata": {},
   "source": [
    "### DEPENDENCIES"
   ]
  },
  {
   "cell_type": "code",
   "execution_count": 1,
   "metadata": {},
   "outputs": [],
   "source": [
    "#dependencies\n",
    "import pandas as pd\n",
    "import numpy as np\n",
    "import matplotlib.pyplot as plt\n",
    "import datetime\n",
    "import os\n",
    "import tensorflow as tf\n",
    "from tensorflow import keras\n",
    "from tensorflow.keras.utils import to_categorical\n",
    "from tensorflow.keras.models import Sequential\n",
    "from tensorflow.keras.layers import Dense\n",
    "from sklearn.model_selection import train_test_split\n",
    "from sklearn.preprocessing import LabelEncoder, MinMaxScaler\n",
    "from sklearn import model_selection\n",
    "from sklearn.svm import SVC\n",
    "from sklearn.linear_model import LinearRegression"
   ]
  },
  {
   "cell_type": "markdown",
   "metadata": {},
   "source": [
    "### IMPORT CSV"
   ]
  },
  {
   "cell_type": "code",
   "execution_count": 2,
   "metadata": {
    "scrolled": false
   },
   "outputs": [
    {
     "data": {
      "text/html": [
       "<div>\n",
       "<style scoped>\n",
       "    .dataframe tbody tr th:only-of-type {\n",
       "        vertical-align: middle;\n",
       "    }\n",
       "\n",
       "    .dataframe tbody tr th {\n",
       "        vertical-align: top;\n",
       "    }\n",
       "\n",
       "    .dataframe thead th {\n",
       "        text-align: right;\n",
       "    }\n",
       "</style>\n",
       "<table border=\"1\" class=\"dataframe\">\n",
       "  <thead>\n",
       "    <tr style=\"text-align: right;\">\n",
       "      <th></th>\n",
       "      <th>Date</th>\n",
       "      <th>Close/Last</th>\n",
       "      <th>Volume</th>\n",
       "      <th>Open</th>\n",
       "      <th>High</th>\n",
       "      <th>Low</th>\n",
       "    </tr>\n",
       "  </thead>\n",
       "  <tbody>\n",
       "    <tr>\n",
       "      <th>0</th>\n",
       "      <td>05/24/2021</td>\n",
       "      <td>$112.52</td>\n",
       "      <td>5436295</td>\n",
       "      <td>$111.798</td>\n",
       "      <td>$113.03</td>\n",
       "      <td>$111.52</td>\n",
       "    </tr>\n",
       "    <tr>\n",
       "      <th>1</th>\n",
       "      <td>05/21/2021</td>\n",
       "      <td>$110.92</td>\n",
       "      <td>5146620</td>\n",
       "      <td>$111.63</td>\n",
       "      <td>$112.22</td>\n",
       "      <td>$110.57</td>\n",
       "    </tr>\n",
       "    <tr>\n",
       "      <th>2</th>\n",
       "      <td>05/20/2021</td>\n",
       "      <td>$111.41</td>\n",
       "      <td>5345545</td>\n",
       "      <td>$109.98</td>\n",
       "      <td>$111.69</td>\n",
       "      <td>$109.87</td>\n",
       "    </tr>\n",
       "    <tr>\n",
       "      <th>3</th>\n",
       "      <td>05/19/2021</td>\n",
       "      <td>$109.67</td>\n",
       "      <td>5997454</td>\n",
       "      <td>$109.6</td>\n",
       "      <td>$109.94</td>\n",
       "      <td>$108.88</td>\n",
       "    </tr>\n",
       "    <tr>\n",
       "      <th>4</th>\n",
       "      <td>05/18/2021</td>\n",
       "      <td>$111.07</td>\n",
       "      <td>5177382</td>\n",
       "      <td>$111.37</td>\n",
       "      <td>$112.21</td>\n",
       "      <td>$111.01</td>\n",
       "    </tr>\n",
       "  </tbody>\n",
       "</table>\n",
       "</div>"
      ],
      "text/plain": [
       "         Date Close/Last   Volume      Open     High      Low\n",
       "0  05/24/2021    $112.52  5436295  $111.798  $113.03  $111.52\n",
       "1  05/21/2021    $110.92  5146620   $111.63  $112.22  $110.57\n",
       "2  05/20/2021    $111.41  5345545   $109.98  $111.69  $109.87\n",
       "3  05/19/2021    $109.67  5997454    $109.6  $109.94  $108.88\n",
       "4  05/18/2021    $111.07  5177382   $111.37  $112.21  $111.01"
      ]
     },
     "execution_count": 2,
     "metadata": {},
     "output_type": "execute_result"
    }
   ],
   "source": [
    "#load assesment file\n",
    "\n",
    "sbux = \"resources/HistoricalData_SBUX.csv\"\n",
    "sbux_df = pd.read_csv(sbux)\n",
    "sbux_df.head()"
   ]
  },
  {
   "cell_type": "markdown",
   "metadata": {},
   "source": [
    "### CLEAN, RESHAPE AND CONVERT DATATYPE"
   ]
  },
  {
   "cell_type": "code",
   "execution_count": 3,
   "metadata": {},
   "outputs": [],
   "source": [
    "sbux_df['Date']= pd.to_datetime(sbux_df['Date'])\n",
    "sbux_df['Close/Last'] = sbux_df['Close/Last'].str.replace('$','')\n",
    "sbux_df['Open'] = sbux_df['Open'].str.replace('$','')\n",
    "sbux_df['High'] = sbux_df['High'].str.replace('$','')\n",
    "sbux_df['Low'] = sbux_df['Low'].str.replace('$','')\n",
    "sbux_df = sbux_df.apply( pd.to_numeric)"
   ]
  },
  {
   "cell_type": "markdown",
   "metadata": {},
   "source": [
    "### FORMAT DATE COLUMN"
   ]
  },
  {
   "cell_type": "code",
   "execution_count": 4,
   "metadata": {
    "scrolled": true
   },
   "outputs": [
    {
     "data": {
      "text/html": [
       "<div>\n",
       "<style scoped>\n",
       "    .dataframe tbody tr th:only-of-type {\n",
       "        vertical-align: middle;\n",
       "    }\n",
       "\n",
       "    .dataframe tbody tr th {\n",
       "        vertical-align: top;\n",
       "    }\n",
       "\n",
       "    .dataframe thead th {\n",
       "        text-align: right;\n",
       "    }\n",
       "</style>\n",
       "<table border=\"1\" class=\"dataframe\">\n",
       "  <thead>\n",
       "    <tr style=\"text-align: right;\">\n",
       "      <th></th>\n",
       "      <th>Date</th>\n",
       "      <th>Close/Last</th>\n",
       "      <th>Volume</th>\n",
       "      <th>Open</th>\n",
       "      <th>High</th>\n",
       "      <th>Low</th>\n",
       "    </tr>\n",
       "  </thead>\n",
       "  <tbody>\n",
       "    <tr>\n",
       "      <th>0</th>\n",
       "      <td>2021-05-24</td>\n",
       "      <td>112.52</td>\n",
       "      <td>5436295</td>\n",
       "      <td>111.798</td>\n",
       "      <td>113.03</td>\n",
       "      <td>111.52</td>\n",
       "    </tr>\n",
       "    <tr>\n",
       "      <th>1</th>\n",
       "      <td>2021-05-21</td>\n",
       "      <td>110.92</td>\n",
       "      <td>5146620</td>\n",
       "      <td>111.630</td>\n",
       "      <td>112.22</td>\n",
       "      <td>110.57</td>\n",
       "    </tr>\n",
       "    <tr>\n",
       "      <th>2</th>\n",
       "      <td>2021-05-20</td>\n",
       "      <td>111.41</td>\n",
       "      <td>5345545</td>\n",
       "      <td>109.980</td>\n",
       "      <td>111.69</td>\n",
       "      <td>109.87</td>\n",
       "    </tr>\n",
       "    <tr>\n",
       "      <th>3</th>\n",
       "      <td>2021-05-19</td>\n",
       "      <td>109.67</td>\n",
       "      <td>5997454</td>\n",
       "      <td>109.600</td>\n",
       "      <td>109.94</td>\n",
       "      <td>108.88</td>\n",
       "    </tr>\n",
       "    <tr>\n",
       "      <th>4</th>\n",
       "      <td>2021-05-18</td>\n",
       "      <td>111.07</td>\n",
       "      <td>5177382</td>\n",
       "      <td>111.370</td>\n",
       "      <td>112.21</td>\n",
       "      <td>111.01</td>\n",
       "    </tr>\n",
       "  </tbody>\n",
       "</table>\n",
       "</div>"
      ],
      "text/plain": [
       "        Date  Close/Last   Volume     Open    High     Low\n",
       "0 2021-05-24      112.52  5436295  111.798  113.03  111.52\n",
       "1 2021-05-21      110.92  5146620  111.630  112.22  110.57\n",
       "2 2021-05-20      111.41  5345545  109.980  111.69  109.87\n",
       "3 2021-05-19      109.67  5997454  109.600  109.94  108.88\n",
       "4 2021-05-18      111.07  5177382  111.370  112.21  111.01"
      ]
     },
     "execution_count": 4,
     "metadata": {},
     "output_type": "execute_result"
    }
   ],
   "source": [
    "sbux_df['Date']= pd.to_datetime(sbux_df['Date'])\n",
    "sbux_df.head()"
   ]
  },
  {
   "cell_type": "markdown",
   "metadata": {},
   "source": [
    "### CREATE ADDITIONAL DATA"
   ]
  },
  {
   "cell_type": "code",
   "execution_count": 5,
   "metadata": {},
   "outputs": [
    {
     "data": {
      "text/html": [
       "<div>\n",
       "<style scoped>\n",
       "    .dataframe tbody tr th:only-of-type {\n",
       "        vertical-align: middle;\n",
       "    }\n",
       "\n",
       "    .dataframe tbody tr th {\n",
       "        vertical-align: top;\n",
       "    }\n",
       "\n",
       "    .dataframe thead th {\n",
       "        text-align: right;\n",
       "    }\n",
       "</style>\n",
       "<table border=\"1\" class=\"dataframe\">\n",
       "  <thead>\n",
       "    <tr style=\"text-align: right;\">\n",
       "      <th></th>\n",
       "      <th>Date</th>\n",
       "      <th>Close/Last</th>\n",
       "      <th>Volume</th>\n",
       "      <th>Open</th>\n",
       "      <th>High</th>\n",
       "      <th>Low</th>\n",
       "      <th>Open_Close</th>\n",
       "      <th>High_Low</th>\n",
       "      <th>Increase_Decrease</th>\n",
       "      <th>Buy_Sell_on_Open</th>\n",
       "      <th>Buy_Sell</th>\n",
       "      <th>Returns</th>\n",
       "    </tr>\n",
       "  </thead>\n",
       "  <tbody>\n",
       "    <tr>\n",
       "      <th>1</th>\n",
       "      <td>2021-05-21</td>\n",
       "      <td>110.92</td>\n",
       "      <td>5146620</td>\n",
       "      <td>111.63</td>\n",
       "      <td>112.22</td>\n",
       "      <td>110.57</td>\n",
       "      <td>0.006360</td>\n",
       "      <td>0.014923</td>\n",
       "      <td>1</td>\n",
       "      <td>0</td>\n",
       "      <td>1</td>\n",
       "      <td>-0.014220</td>\n",
       "    </tr>\n",
       "    <tr>\n",
       "      <th>2</th>\n",
       "      <td>2021-05-20</td>\n",
       "      <td>111.41</td>\n",
       "      <td>5345545</td>\n",
       "      <td>109.98</td>\n",
       "      <td>111.69</td>\n",
       "      <td>109.87</td>\n",
       "      <td>-0.013002</td>\n",
       "      <td>0.016565</td>\n",
       "      <td>1</td>\n",
       "      <td>0</td>\n",
       "      <td>0</td>\n",
       "      <td>0.004418</td>\n",
       "    </tr>\n",
       "    <tr>\n",
       "      <th>3</th>\n",
       "      <td>2021-05-19</td>\n",
       "      <td>109.67</td>\n",
       "      <td>5997454</td>\n",
       "      <td>109.60</td>\n",
       "      <td>109.94</td>\n",
       "      <td>108.88</td>\n",
       "      <td>-0.000639</td>\n",
       "      <td>0.009735</td>\n",
       "      <td>0</td>\n",
       "      <td>1</td>\n",
       "      <td>1</td>\n",
       "      <td>-0.015618</td>\n",
       "    </tr>\n",
       "    <tr>\n",
       "      <th>4</th>\n",
       "      <td>2021-05-18</td>\n",
       "      <td>111.07</td>\n",
       "      <td>5177382</td>\n",
       "      <td>111.37</td>\n",
       "      <td>112.21</td>\n",
       "      <td>111.01</td>\n",
       "      <td>0.002694</td>\n",
       "      <td>0.010810</td>\n",
       "      <td>0</td>\n",
       "      <td>0</td>\n",
       "      <td>0</td>\n",
       "      <td>0.012766</td>\n",
       "    </tr>\n",
       "    <tr>\n",
       "      <th>5</th>\n",
       "      <td>2021-05-17</td>\n",
       "      <td>110.98</td>\n",
       "      <td>4519580</td>\n",
       "      <td>111.22</td>\n",
       "      <td>111.27</td>\n",
       "      <td>109.83</td>\n",
       "      <td>0.002158</td>\n",
       "      <td>0.013111</td>\n",
       "      <td>1</td>\n",
       "      <td>0</td>\n",
       "      <td>1</td>\n",
       "      <td>-0.000810</td>\n",
       "    </tr>\n",
       "  </tbody>\n",
       "</table>\n",
       "</div>"
      ],
      "text/plain": [
       "        Date  Close/Last   Volume    Open    High     Low  Open_Close  \\\n",
       "1 2021-05-21      110.92  5146620  111.63  112.22  110.57    0.006360   \n",
       "2 2021-05-20      111.41  5345545  109.98  111.69  109.87   -0.013002   \n",
       "3 2021-05-19      109.67  5997454  109.60  109.94  108.88   -0.000639   \n",
       "4 2021-05-18      111.07  5177382  111.37  112.21  111.01    0.002694   \n",
       "5 2021-05-17      110.98  4519580  111.22  111.27  109.83    0.002158   \n",
       "\n",
       "   High_Low  Increase_Decrease  Buy_Sell_on_Open  Buy_Sell   Returns  \n",
       "1  0.014923                  1                 0         1 -0.014220  \n",
       "2  0.016565                  1                 0         0  0.004418  \n",
       "3  0.009735                  0                 1         1 -0.015618  \n",
       "4  0.010810                  0                 0         0  0.012766  \n",
       "5  0.013111                  1                 0         1 -0.000810  "
      ]
     },
     "execution_count": 5,
     "metadata": {},
     "output_type": "execute_result"
    }
   ],
   "source": [
    "sbux_df['Open_Close'] = (sbux_df['Open'] - sbux_df['Close/Last'])/sbux_df['Open']\n",
    "sbux_df['High_Low'] = (sbux_df['High'] - sbux_df['Low'])/sbux_df['Low']\n",
    "sbux_df['Increase_Decrease'] = np.where(sbux_df['Volume'].shift(-1) > sbux_df['Volume'],1,0)\n",
    "sbux_df['Buy_Sell_on_Open'] = np.where(sbux_df['Open'].shift(-1) > sbux_df['Open'],1,0)\n",
    "sbux_df['Buy_Sell'] = np.where(sbux_df['Close/Last'].shift(-1) > sbux_df['Close/Last'],1,0)\n",
    "sbux_df['Returns'] = sbux_df['Close/Last'].pct_change()\n",
    "sbux_df = sbux_df.dropna()\n",
    "sbux_df.head()"
   ]
  },
  {
   "cell_type": "markdown",
   "metadata": {},
   "source": [
    "### SPLIT DATAFRAME"
   ]
  },
  {
   "cell_type": "code",
   "execution_count": 6,
   "metadata": {
    "scrolled": true
   },
   "outputs": [
    {
     "data": {
      "text/html": [
       "<div>\n",
       "<style scoped>\n",
       "    .dataframe tbody tr th:only-of-type {\n",
       "        vertical-align: middle;\n",
       "    }\n",
       "\n",
       "    .dataframe tbody tr th {\n",
       "        vertical-align: top;\n",
       "    }\n",
       "\n",
       "    .dataframe thead th {\n",
       "        text-align: right;\n",
       "    }\n",
       "</style>\n",
       "<table border=\"1\" class=\"dataframe\">\n",
       "  <thead>\n",
       "    <tr style=\"text-align: right;\">\n",
       "      <th></th>\n",
       "      <th>Date</th>\n",
       "      <th>Close/Last</th>\n",
       "      <th>Volume</th>\n",
       "      <th>Open</th>\n",
       "      <th>High</th>\n",
       "      <th>Low</th>\n",
       "      <th>Open_Close</th>\n",
       "      <th>High_Low</th>\n",
       "      <th>Increase_Decrease</th>\n",
       "      <th>Buy_Sell_on_Open</th>\n",
       "      <th>Buy_Sell</th>\n",
       "      <th>Returns</th>\n",
       "    </tr>\n",
       "  </thead>\n",
       "  <tbody>\n",
       "    <tr>\n",
       "      <th>252</th>\n",
       "      <td>2020-05-22</td>\n",
       "      <td>77.62</td>\n",
       "      <td>7653305</td>\n",
       "      <td>77.90</td>\n",
       "      <td>78.050</td>\n",
       "      <td>76.52</td>\n",
       "      <td>0.003594</td>\n",
       "      <td>0.019995</td>\n",
       "      <td>1</td>\n",
       "      <td>1</td>\n",
       "      <td>1</td>\n",
       "      <td>-0.001800</td>\n",
       "    </tr>\n",
       "    <tr>\n",
       "      <th>253</th>\n",
       "      <td>2020-05-21</td>\n",
       "      <td>78.05</td>\n",
       "      <td>10312640</td>\n",
       "      <td>78.60</td>\n",
       "      <td>79.375</td>\n",
       "      <td>77.89</td>\n",
       "      <td>0.006997</td>\n",
       "      <td>0.019065</td>\n",
       "      <td>0</td>\n",
       "      <td>0</td>\n",
       "      <td>0</td>\n",
       "      <td>0.005540</td>\n",
       "    </tr>\n",
       "    <tr>\n",
       "      <th>254</th>\n",
       "      <td>2020-05-20</td>\n",
       "      <td>77.76</td>\n",
       "      <td>7790481</td>\n",
       "      <td>77.23</td>\n",
       "      <td>77.840</td>\n",
       "      <td>76.52</td>\n",
       "      <td>-0.006863</td>\n",
       "      <td>0.017250</td>\n",
       "      <td>0</td>\n",
       "      <td>0</td>\n",
       "      <td>0</td>\n",
       "      <td>-0.003716</td>\n",
       "    </tr>\n",
       "    <tr>\n",
       "      <th>255</th>\n",
       "      <td>2020-05-19</td>\n",
       "      <td>75.86</td>\n",
       "      <td>6484878</td>\n",
       "      <td>76.40</td>\n",
       "      <td>77.225</td>\n",
       "      <td>75.76</td>\n",
       "      <td>0.007068</td>\n",
       "      <td>0.019337</td>\n",
       "      <td>1</td>\n",
       "      <td>1</td>\n",
       "      <td>1</td>\n",
       "      <td>-0.024434</td>\n",
       "    </tr>\n",
       "    <tr>\n",
       "      <th>256</th>\n",
       "      <td>2020-05-18</td>\n",
       "      <td>76.23</td>\n",
       "      <td>8912473</td>\n",
       "      <td>76.86</td>\n",
       "      <td>77.500</td>\n",
       "      <td>76.20</td>\n",
       "      <td>0.008197</td>\n",
       "      <td>0.017060</td>\n",
       "      <td>1</td>\n",
       "      <td>0</td>\n",
       "      <td>0</td>\n",
       "      <td>0.004877</td>\n",
       "    </tr>\n",
       "  </tbody>\n",
       "</table>\n",
       "</div>"
      ],
      "text/plain": [
       "          Date  Close/Last    Volume   Open    High    Low  Open_Close  \\\n",
       "252 2020-05-22       77.62   7653305  77.90  78.050  76.52    0.003594   \n",
       "253 2020-05-21       78.05  10312640  78.60  79.375  77.89    0.006997   \n",
       "254 2020-05-20       77.76   7790481  77.23  77.840  76.52   -0.006863   \n",
       "255 2020-05-19       75.86   6484878  76.40  77.225  75.76    0.007068   \n",
       "256 2020-05-18       76.23   8912473  76.86  77.500  76.20    0.008197   \n",
       "\n",
       "     High_Low  Increase_Decrease  Buy_Sell_on_Open  Buy_Sell   Returns  \n",
       "252  0.019995                  1                 1         1 -0.001800  \n",
       "253  0.019065                  0                 0         0  0.005540  \n",
       "254  0.017250                  0                 0         0 -0.003716  \n",
       "255  0.019337                  1                 1         1 -0.024434  \n",
       "256  0.017060                  1                 0         0  0.004877  "
      ]
     },
     "execution_count": 6,
     "metadata": {},
     "output_type": "execute_result"
    }
   ],
   "source": [
    "#setup datetime for first 4 years\n",
    "start_date = \"2016-05-24\"\n",
    "end_date = \"2020-05-24\"\n",
    "\n",
    "after_start_date = sbux_df[\"Date\"] >= start_date\n",
    "before_end_date = sbux_df[\"Date\"] <= end_date\n",
    "between_two_dates = after_start_date & before_end_date\n",
    "sbux_df_4 = sbux_df.loc[between_two_dates]\n",
    "sbux_df_4.head()"
   ]
  },
  {
   "cell_type": "markdown",
   "metadata": {},
   "source": [
    "### SPLIT DATAFRAME"
   ]
  },
  {
   "cell_type": "code",
   "execution_count": 7,
   "metadata": {
    "scrolled": true
   },
   "outputs": [
    {
     "data": {
      "text/html": [
       "<div>\n",
       "<style scoped>\n",
       "    .dataframe tbody tr th:only-of-type {\n",
       "        vertical-align: middle;\n",
       "    }\n",
       "\n",
       "    .dataframe tbody tr th {\n",
       "        vertical-align: top;\n",
       "    }\n",
       "\n",
       "    .dataframe thead th {\n",
       "        text-align: right;\n",
       "    }\n",
       "</style>\n",
       "<table border=\"1\" class=\"dataframe\">\n",
       "  <thead>\n",
       "    <tr style=\"text-align: right;\">\n",
       "      <th></th>\n",
       "      <th>Date</th>\n",
       "      <th>Close/Last</th>\n",
       "      <th>Volume</th>\n",
       "      <th>Open</th>\n",
       "      <th>High</th>\n",
       "      <th>Low</th>\n",
       "      <th>Open_Close</th>\n",
       "      <th>High_Low</th>\n",
       "      <th>Increase_Decrease</th>\n",
       "      <th>Buy_Sell_on_Open</th>\n",
       "      <th>Buy_Sell</th>\n",
       "      <th>Returns</th>\n",
       "    </tr>\n",
       "  </thead>\n",
       "  <tbody>\n",
       "    <tr>\n",
       "      <th>1</th>\n",
       "      <td>2021-05-21</td>\n",
       "      <td>110.92</td>\n",
       "      <td>5146620</td>\n",
       "      <td>111.63</td>\n",
       "      <td>112.22</td>\n",
       "      <td>110.57</td>\n",
       "      <td>0.006360</td>\n",
       "      <td>0.014923</td>\n",
       "      <td>1</td>\n",
       "      <td>0</td>\n",
       "      <td>1</td>\n",
       "      <td>-0.014220</td>\n",
       "    </tr>\n",
       "    <tr>\n",
       "      <th>2</th>\n",
       "      <td>2021-05-20</td>\n",
       "      <td>111.41</td>\n",
       "      <td>5345545</td>\n",
       "      <td>109.98</td>\n",
       "      <td>111.69</td>\n",
       "      <td>109.87</td>\n",
       "      <td>-0.013002</td>\n",
       "      <td>0.016565</td>\n",
       "      <td>1</td>\n",
       "      <td>0</td>\n",
       "      <td>0</td>\n",
       "      <td>0.004418</td>\n",
       "    </tr>\n",
       "    <tr>\n",
       "      <th>3</th>\n",
       "      <td>2021-05-19</td>\n",
       "      <td>109.67</td>\n",
       "      <td>5997454</td>\n",
       "      <td>109.60</td>\n",
       "      <td>109.94</td>\n",
       "      <td>108.88</td>\n",
       "      <td>-0.000639</td>\n",
       "      <td>0.009735</td>\n",
       "      <td>0</td>\n",
       "      <td>1</td>\n",
       "      <td>1</td>\n",
       "      <td>-0.015618</td>\n",
       "    </tr>\n",
       "    <tr>\n",
       "      <th>4</th>\n",
       "      <td>2021-05-18</td>\n",
       "      <td>111.07</td>\n",
       "      <td>5177382</td>\n",
       "      <td>111.37</td>\n",
       "      <td>112.21</td>\n",
       "      <td>111.01</td>\n",
       "      <td>0.002694</td>\n",
       "      <td>0.010810</td>\n",
       "      <td>0</td>\n",
       "      <td>0</td>\n",
       "      <td>0</td>\n",
       "      <td>0.012766</td>\n",
       "    </tr>\n",
       "    <tr>\n",
       "      <th>5</th>\n",
       "      <td>2021-05-17</td>\n",
       "      <td>110.98</td>\n",
       "      <td>4519580</td>\n",
       "      <td>111.22</td>\n",
       "      <td>111.27</td>\n",
       "      <td>109.83</td>\n",
       "      <td>0.002158</td>\n",
       "      <td>0.013111</td>\n",
       "      <td>1</td>\n",
       "      <td>0</td>\n",
       "      <td>1</td>\n",
       "      <td>-0.000810</td>\n",
       "    </tr>\n",
       "  </tbody>\n",
       "</table>\n",
       "</div>"
      ],
      "text/plain": [
       "        Date  Close/Last   Volume    Open    High     Low  Open_Close  \\\n",
       "1 2021-05-21      110.92  5146620  111.63  112.22  110.57    0.006360   \n",
       "2 2021-05-20      111.41  5345545  109.98  111.69  109.87   -0.013002   \n",
       "3 2021-05-19      109.67  5997454  109.60  109.94  108.88   -0.000639   \n",
       "4 2021-05-18      111.07  5177382  111.37  112.21  111.01    0.002694   \n",
       "5 2021-05-17      110.98  4519580  111.22  111.27  109.83    0.002158   \n",
       "\n",
       "   High_Low  Increase_Decrease  Buy_Sell_on_Open  Buy_Sell   Returns  \n",
       "1  0.014923                  1                 0         1 -0.014220  \n",
       "2  0.016565                  1                 0         0  0.004418  \n",
       "3  0.009735                  0                 1         1 -0.015618  \n",
       "4  0.010810                  0                 0         0  0.012766  \n",
       "5  0.013111                  1                 0         1 -0.000810  "
      ]
     },
     "execution_count": 7,
     "metadata": {},
     "output_type": "execute_result"
    }
   ],
   "source": [
    "#setup datetime for last year\n",
    "start_date = \"2020-05-25\"\n",
    "end_date = \"2021-05-24\"\n",
    "\n",
    "after_start_date = sbux_df[\"Date\"] >= start_date\n",
    "before_end_date = sbux_df[\"Date\"] <= end_date\n",
    "between_two_dates = after_start_date & before_end_date\n",
    "sbux_df_ls = sbux_df.loc[between_two_dates]\n",
    "sbux_df_ls.head()"
   ]
  },
  {
   "cell_type": "markdown",
   "metadata": {},
   "source": [
    "### PLOT 1ST  DF (4YEARS)"
   ]
  },
  {
   "cell_type": "code",
   "execution_count": 8,
   "metadata": {
    "scrolled": false
   },
   "outputs": [
    {
     "data": {
      "image/png": "[encoded data removed]",
      "text/plain": [
       "<Figure size 864x576 with 1 Axes>"
      ]
     },
     "metadata": {
      "needs_background": "light"
     },
     "output_type": "display_data"
    }
   ],
   "source": [
    "plt.figure(figsize=(12,8))\n",
    "plt.plot(sbux_df_4['Close/Last'])\n",
    "plt.title(\"Starbucks Line Chart\")\n",
    "plt.xlabel(\"Date\")\n",
    "plt.ylabel(\"Close\")\n",
    "plt.show()"
   ]
  },
  {
   "cell_type": "markdown",
   "metadata": {},
   "source": [
    "### PLOT SECOND DF (LAST YEAR)"
   ]
  },
  {
   "cell_type": "code",
   "execution_count": 9,
   "metadata": {},
   "outputs": [
    {
     "data": {
      "image/png": "[encoded data removed]",
      "text/plain": [
       "<Figure size 864x576 with 1 Axes>"
      ]
     },
     "metadata": {
      "needs_background": "light"
     },
     "output_type": "display_data"
    }
   ],
   "source": [
    "plt.figure(figsize=(12,8))\n",
    "plt.plot(sbux_df_ls['Close/Last'])\n",
    "plt.title(\"Starbucks Line Chart\")\n",
    "plt.xlabel(\"Date\")\n",
    "plt.ylabel(\"Close\")\n",
    "plt.show()"
   ]
  },
  {
   "cell_type": "markdown",
   "metadata": {},
   "source": [
    "### SHAPPING, FITTING, TRAINING, TESTING ML ON 1ST DF"
   ]
  },
  {
   "cell_type": "code",
   "execution_count": 10,
   "metadata": {
    "scrolled": true
   },
   "outputs": [
    {
     "data": {
      "text/plain": [
       "(1006, 12)"
      ]
     },
     "execution_count": 10,
     "metadata": {},
     "output_type": "execute_result"
    }
   ],
   "source": [
    "sbux_df_4.shape"
   ]
  },
  {
   "cell_type": "code",
   "execution_count": 11,
   "metadata": {},
   "outputs": [],
   "source": [
    "X = np.array(sbux_df_4['Open']).reshape(1006,-1)\n",
    "Y = np.array(sbux_df_4['Close/Last']).reshape(1006,-1)"
   ]
  },
  {
   "cell_type": "code",
   "execution_count": 12,
   "metadata": {},
   "outputs": [],
   "source": [
    "lr = LinearRegression()"
   ]
  },
  {
   "cell_type": "code",
   "execution_count": 13,
   "metadata": {},
   "outputs": [
    {
     "data": {
      "text/plain": [
       "LinearRegression()"
      ]
     },
     "execution_count": 13,
     "metadata": {},
     "output_type": "execute_result"
    }
   ],
   "source": [
    "lr.fit(X, Y)"
   ]
  },
  {
   "cell_type": "code",
   "execution_count": 14,
   "metadata": {},
   "outputs": [
    {
     "name": "stdout",
     "output_type": "stream",
     "text": [
      "Linear Regression intercept: [0.29206959]\n",
      "coefficient count: 1\n"
     ]
    }
   ],
   "source": [
    "print('Linear Regression intercept:', lr.intercept_)\n",
    "print('coefficient count:', len(lr.coef_))"
   ]
  },
  {
   "cell_type": "code",
   "execution_count": 15,
   "metadata": {},
   "outputs": [
    {
     "name": "stdout",
     "output_type": "stream",
     "text": [
      "Accuracy: 0.9961578307152368\n"
     ]
    }
   ],
   "source": [
    "from sklearn.metrics import accuracy_score\n",
    "print('Accuracy:', lr.score(X, Y))"
   ]
  },
  {
   "cell_type": "code",
   "execution_count": 16,
   "metadata": {
    "scrolled": true
   },
   "outputs": [
    {
     "data": {
      "text/plain": [
       "array([[77.86133869],\n",
       "       [78.55836679],\n",
       "       [77.19418324],\n",
       "       ...,\n",
       "       [55.41703413],\n",
       "       [55.60622747],\n",
       "       [55.25771342]])"
      ]
     },
     "execution_count": 16,
     "metadata": {},
     "output_type": "execute_result"
    }
   ],
   "source": [
    "# Predicting the price\n",
    "lr.predict(X)"
   ]
  },
  {
   "cell_type": "code",
   "execution_count": 17,
   "metadata": {},
   "outputs": [
    {
     "data": {
      "text/plain": [
       "252         NaN\n",
       "253    0.005540\n",
       "254   -0.003716\n",
       "255   -0.024434\n",
       "256    0.004877\n",
       "Name: Close/Last, dtype: float64"
      ]
     },
     "execution_count": 17,
     "metadata": {},
     "output_type": "execute_result"
    }
   ],
   "source": [
    "#daily Return\n",
    "DA_RE = sbux_df_4['Close/Last'].pct_change(1)\n",
    "DA_RE.head()"
   ]
  },
  {
   "cell_type": "code",
   "execution_count": 18,
   "metadata": {},
   "outputs": [
    {
     "data": {
      "text/plain": [
       "Text(0.5, 1.0, '4 Years CLosing Price vs Predicted Closing Price')"
      ]
     },
     "execution_count": 18,
     "metadata": {},
     "output_type": "execute_result"
    },
    {
     "data": {
      "image/png": "[encoded data removed]",
      "text/plain": [
       "<Figure size 864x576 with 1 Axes>"
      ]
     },
     "metadata": {
      "needs_background": "light"
     },
     "output_type": "display_data"
    }
   ],
   "source": [
    "plt.figure(figsize=(12,8))\n",
    "plt.scatter(sbux_df_4['Close/Last'], lr.predict(X))\n",
    "plt.plot(X, lr.predict(X), color = 'red')\n",
    "plt.xlabel('Closing Price')\n",
    "plt.ylabel('Predicted Closing Price')\n",
    "plt.savefig('images/sbux_4y.jpg', dpi=40)\n",
    "plt.grid()\n",
    "plt.title('4 Years CLosing Price vs Predicted Closing Price')"
   ]
  },
  {
   "cell_type": "markdown",
   "metadata": {},
   "source": [
    "### TRAINING, TESTING ML ON 2ND DF"
   ]
  },
  {
   "cell_type": "code",
   "execution_count": 19,
   "metadata": {},
   "outputs": [
    {
     "data": {
      "text/plain": [
       "(251, 12)"
      ]
     },
     "execution_count": 19,
     "metadata": {},
     "output_type": "execute_result"
    }
   ],
   "source": [
    "sbux_df_ls.shape"
   ]
  },
  {
   "cell_type": "code",
   "execution_count": 20,
   "metadata": {},
   "outputs": [],
   "source": [
    "X_ls = np.array(sbux_df_ls['Open']).reshape(251,-1)\n",
    "Y_ls = np.array(sbux_df_ls['Close/Last']).reshape(251,-1)"
   ]
  },
  {
   "cell_type": "code",
   "execution_count": 21,
   "metadata": {},
   "outputs": [
    {
     "data": {
      "text/plain": [
       "LinearRegression()"
      ]
     },
     "execution_count": 21,
     "metadata": {},
     "output_type": "execute_result"
    }
   ],
   "source": [
    "lr.fit(X_ls, Y_ls)"
   ]
  },
  {
   "cell_type": "code",
   "execution_count": 22,
   "metadata": {},
   "outputs": [
    {
     "name": "stdout",
     "output_type": "stream",
     "text": [
      "Linear Regression intercept: [0.10709064]\n",
      "coefficient count: 1\n"
     ]
    }
   ],
   "source": [
    "print('Linear Regression intercept:', lr.intercept_)\n",
    "print('coefficient count:', len(lr.coef_))"
   ]
  },
  {
   "cell_type": "code",
   "execution_count": 23,
   "metadata": {},
   "outputs": [
    {
     "name": "stdout",
     "output_type": "stream",
     "text": [
      "Accuracy: 0.9926171417129118\n"
     ]
    }
   ],
   "source": [
    "print('Accuracy:', lr.score(X_ls, Y_ls))"
   ]
  },
  {
   "cell_type": "code",
   "execution_count": 24,
   "metadata": {},
   "outputs": [
    {
     "data": {
      "text/plain": [
       "array([[111.67053184],\n",
       "       [110.02151564],\n",
       "       [109.64174221],\n",
       "       [111.41068686],\n",
       "       [111.2607763 ],\n",
       "       [111.05090151],\n",
       "       [110.20140832],\n",
       "       [111.91038874],\n",
       "       [113.35952418],\n",
       "       [114.60877888],\n",
       "       [115.14845691],\n",
       "       [113.68932742],\n",
       "       [114.24899353],\n",
       "       [115.18843306],\n",
       "       [115.21841517],\n",
       "       [114.03911874],\n",
       "       [113.24958977],\n",
       "       [113.47945263],\n",
       "       [115.70812301],\n",
       "       [116.98735982],\n",
       "       [116.05791432],\n",
       "       [116.90540871],\n",
       "       [116.12787259],\n",
       "       [116.99735385],\n",
       "       [118.2066324 ],\n",
       "       [117.85684108],\n",
       "       [115.13846287],\n",
       "       [115.25839132],\n",
       "       [113.81924991],\n",
       "       [113.05970306],\n",
       "       [112.94976864],\n",
       "       [113.68932742],\n",
       "       [112.94976864],\n",
       "       [111.4206809 ],\n",
       "       [109.95155738],\n",
       "       [110.10146794],\n",
       "       [110.37130696],\n",
       "       [108.46244578],\n",
       "       [109.052094  ],\n",
       "       [107.29314339],\n",
       "       [105.05148077],\n",
       "       [106.67351306],\n",
       "       [107.78285123],\n",
       "       [106.4436502 ],\n",
       "       [108.39248752],\n",
       "       [109.32193301],\n",
       "       [111.35072264],\n",
       "       [110.60916505],\n",
       "       [107.93276179],\n",
       "       [107.46304203],\n",
       "       [108.45245175],\n",
       "       [107.26316128],\n",
       "       [106.32372175],\n",
       "       [104.84460419],\n",
       "       [106.10385292],\n",
       "       [106.30373367],\n",
       "       [106.98332823],\n",
       "       [107.35310762],\n",
       "       [108.64233846],\n",
       "       [104.19499175],\n",
       "       [104.04508119],\n",
       "       [101.20677452],\n",
       "       [103.38547471],\n",
       "       [103.03568339],\n",
       "       [104.794634  ],\n",
       "       [103.82021534],\n",
       "       [105.14942233],\n",
       "       [104.92455649],\n",
       "       [105.78404372],\n",
       "       [106.15882013],\n",
       "       [106.82342362],\n",
       "       [106.0438887 ],\n",
       "       [106.46363827],\n",
       "       [105.13153301],\n",
       "       [101.40665527],\n",
       "       [101.29672086],\n",
       "       [ 99.0980326 ],\n",
       "       [ 97.03926086],\n",
       "       [ 97.43402534],\n",
       "       [ 98.98310117],\n",
       "       [101.52658372],\n",
       "       [103.44543893],\n",
       "       [103.79023323],\n",
       "       [104.20398638],\n",
       "       [105.50421067],\n",
       "       [102.45602921],\n",
       "       [102.84279847],\n",
       "       [101.42664335],\n",
       "       [103.84520043],\n",
       "       [102.36608288],\n",
       "       [104.05507522],\n",
       "       [105.14442532],\n",
       "       [103.90516466],\n",
       "       [104.53478903],\n",
       "       [103.03568339],\n",
       "       [102.96572513],\n",
       "       [107.70289893],\n",
       "       [106.0438887 ],\n",
       "       [106.03389466],\n",
       "       [104.93155232],\n",
       "       [102.96572513],\n",
       "       [102.3460948 ],\n",
       "       [102.33610076],\n",
       "       [102.16620213],\n",
       "       [101.26673875],\n",
       "       [103.37548067],\n",
       "       [103.5953495 ],\n",
       "       [104.14502156],\n",
       "       [104.28493809],\n",
       "       [103.87518255],\n",
       "       [104.44983971],\n",
       "       [103.55337454],\n",
       "       [101.98630945],\n",
       "       [100.41724555],\n",
       "       [102.05626771],\n",
       "       [101.39666123],\n",
       "       [ 99.06805048],\n",
       "       [ 98.55835457],\n",
       "       [ 99.04806241],\n",
       "       [ 98.24853941],\n",
       "       [ 98.52837246],\n",
       "       [ 98.54836053],\n",
       "       [ 97.55895081],\n",
       "       [ 97.66888523],\n",
       "       [ 97.46900448],\n",
       "       [ 97.2891118 ],\n",
       "       [ 98.67828302],\n",
       "       [ 97.25912969],\n",
       "       [ 96.83938011],\n",
       "       [ 94.43081706],\n",
       "       [ 94.71065011],\n",
       "       [ 94.16097805],\n",
       "       [ 93.79119866],\n",
       "       [ 97.3690641 ],\n",
       "       [ 90.20333918],\n",
       "       [ 90.7430172 ],\n",
       "       [ 88.95408448],\n",
       "       [ 86.83334971],\n",
       "       [ 87.59489537],\n",
       "       [ 87.80477016],\n",
       "       [ 87.22511598],\n",
       "       [ 88.70423354],\n",
       "       [ 89.53373866],\n",
       "       [ 90.08341072],\n",
       "       [ 89.85354786],\n",
       "       [ 88.07460918],\n",
       "       [ 88.43439453],\n",
       "       [ 88.73421566],\n",
       "       [ 88.75420373],\n",
       "       [ 89.44379232],\n",
       "       [ 88.2145257 ],\n",
       "       [ 90.22332725],\n",
       "       [ 90.63308279],\n",
       "       [ 90.51265464],\n",
       "       [ 89.85354786],\n",
       "       [ 88.51434683],\n",
       "       [ 87.87472843],\n",
       "       [ 88.70423354],\n",
       "       [ 87.32505636],\n",
       "       [ 85.2063204 ],\n",
       "       [ 87.0951935 ],\n",
       "       [ 86.68543796],\n",
       "       [ 86.30566453],\n",
       "       [ 85.57609979],\n",
       "       [ 82.58788256],\n",
       "       [ 82.68782294],\n",
       "       [ 84.43677951],\n",
       "       [ 84.10697627],\n",
       "       [ 82.9176858 ],\n",
       "       [ 86.86533063],\n",
       "       [ 87.10518753],\n",
       "       [ 88.0546211 ],\n",
       "       [ 87.23511002],\n",
       "       [ 85.80796146],\n",
       "       [ 85.00643965],\n",
       "       [ 85.85593284],\n",
       "       [ 85.98985294],\n",
       "       [ 85.32624885],\n",
       "       [ 87.1501607 ],\n",
       "       [ 88.65626216],\n",
       "       [ 86.56051249],\n",
       "       [ 84.75658871],\n",
       "       [ 84.68862925],\n",
       "       [ 83.84713129],\n",
       "       [ 82.80775139],\n",
       "       [ 82.47794815],\n",
       "       [ 80.11935529],\n",
       "       [ 77.77075646],\n",
       "       [ 77.00121557],\n",
       "       [ 77.09116191],\n",
       "       [ 79.24287819],\n",
       "       [ 79.20989787],\n",
       "       [ 78.6602258 ],\n",
       "       [ 78.60026158],\n",
       "       [ 78.980035  ],\n",
       "       [ 79.64963552],\n",
       "       [ 78.33042256],\n",
       "       [ 75.87988456],\n",
       "       [ 75.54208609],\n",
       "       [ 75.26225303],\n",
       "       [ 75.4121636 ],\n",
       "       [ 75.43215167],\n",
       "       [ 76.54148984],\n",
       "       [ 76.30163294],\n",
       "       [ 76.6914004 ],\n",
       "       [ 77.6208459 ],\n",
       "       [ 76.36159717],\n",
       "       [ 75.94784401],\n",
       "       [ 75.34220534],\n",
       "       [ 76.94125134],\n",
       "       [ 75.58206224],\n",
       "       [ 75.84190721],\n",
       "       [ 74.22287313],\n",
       "       [ 74.49271214],\n",
       "       [ 74.96243191],\n",
       "       [ 74.52269426],\n",
       "       [ 72.06416102],\n",
       "       [ 74.62263463],\n",
       "       [ 73.06356477],\n",
       "       [ 73.79312951],\n",
       "       [ 74.13292679],\n",
       "       [ 75.19229477],\n",
       "       [ 74.99241402],\n",
       "       [ 75.10234843],\n",
       "       [ 74.06296853],\n",
       "       [ 73.64321895],\n",
       "       [ 71.4735134 ],\n",
       "       [ 73.69318914],\n",
       "       [ 73.27943598],\n",
       "       [ 74.96243191],\n",
       "       [ 76.39157928],\n",
       "       [ 74.96243191],\n",
       "       [ 77.09116191],\n",
       "       [ 76.78134674],\n",
       "       [ 78.13054181],\n",
       "       [ 78.85011252],\n",
       "       [ 74.36278966],\n",
       "       [ 75.06237228],\n",
       "       [ 75.8119251 ],\n",
       "       [ 79.93946261],\n",
       "       [ 82.6778289 ],\n",
       "       [ 83.13755463],\n",
       "       [ 80.3891943 ],\n",
       "       [ 79.36980247],\n",
       "       [ 78.51031524],\n",
       "       [ 78.03060144],\n",
       "       [ 77.72078627],\n",
       "       [ 78.68021388],\n",
       "       [ 78.70020195],\n",
       "       [ 79.03999923],\n",
       "       [ 79.65962956]])"
      ]
     },
     "execution_count": 24,
     "metadata": {},
     "output_type": "execute_result"
    }
   ],
   "source": [
    "# Predicting the price\n",
    "lr.predict(X_ls)"
   ]
  },
  {
   "cell_type": "code",
   "execution_count": 25,
   "metadata": {},
   "outputs": [
    {
     "data": {
      "text/plain": [
       "Text(0.5, 1.0, '1 Year CLosing Price vs Predicted Closing Price')"
      ]
     },
     "execution_count": 25,
     "metadata": {},
     "output_type": "execute_result"
    },
    {
     "data": {
      "image/png": "[encoded data removed]",
      "text/plain": [
       "<Figure size 864x576 with 1 Axes>"
      ]
     },
     "metadata": {
      "needs_background": "light"
     },
     "output_type": "display_data"
    }
   ],
   "source": [
    "plt.figure(figsize=(12,8))\n",
    "plt.scatter(sbux_df_ls['Close/Last'], lr.predict(X_ls))\n",
    "plt.plot(X_ls, lr.predict(X_ls), color = 'red')\n",
    "plt.xlabel('Closing Price')\n",
    "plt.ylabel('Predicted Closing Price')\n",
    "plt.savefig('images/sbux_ls.jpg', dpi=40)\n",
    "plt.grid()\n",
    "plt.title('1 Year CLosing Price vs Predicted Closing Price')"
   ]
  },
  {
   "cell_type": "markdown",
   "metadata": {},
   "source": [
    "### MODEL COMPARISON"
   ]
  },
  {
   "cell_type": "markdown",
   "metadata": {},
   "source": [
    "<tr>\n",
    "    <td> <img src=\"images/sbux_4y.jpg\"style=\"width: 550px;\"/> </td>\n",
    "    <td> <img src=\"images/sbux_ls.jpg\"style=\"width: 550px;\"/> </td>\n",
    "</tr>\n"
   ]
  },
  {
   "cell_type": "code",
   "execution_count": 26,
   "metadata": {},
   "outputs": [
    {
     "data": {
      "text/plain": [
       "(1257, 12)"
      ]
     },
     "execution_count": 26,
     "metadata": {},
     "output_type": "execute_result"
    }
   ],
   "source": [
    "sbux_df.shape"
   ]
  },
  {
   "cell_type": "code",
   "execution_count": 27,
   "metadata": {},
   "outputs": [],
   "source": [
    "model = tf.keras.Sequential([keras.layers.Dense(units=1, input_shape=[1])])\n",
    "model.compile(optimizer='sgd', loss='mean_squared_error')"
   ]
  },
  {
   "cell_type": "code",
   "execution_count": 28,
   "metadata": {},
   "outputs": [],
   "source": [
    "Xc = np.array(sbux_df['Returns'], dtype = float) # Feature\n",
    "Yc = np.array(sbux_df['Close/Last'], dtype = float) # Target"
   ]
  },
  {
   "cell_type": "code",
   "execution_count": 29,
   "metadata": {},
   "outputs": [
    {
     "name": "stdout",
     "output_type": "stream",
     "text": [
      "Epoch 1/100\n",
      "40/40 [==============================] - 0s 846us/step - loss: 2887.5591\n",
      "Epoch 2/100\n",
      "40/40 [==============================] - 0s 872us/step - loss: 818.3184\n",
      "Epoch 3/100\n",
      "40/40 [==============================] - 0s 872us/step - loss: 409.6368\n",
      "Epoch 4/100\n",
      "40/40 [==============================] - 0s 949us/step - loss: 325.7896\n",
      "Epoch 5/100\n",
      "40/40 [==============================] - 0s 821us/step - loss: 311.4669\n",
      "Epoch 6/100\n",
      "40/40 [==============================] - 0s 872us/step - loss: 308.2054\n",
      "Epoch 7/100\n",
      "40/40 [==============================] - 0s 821us/step - loss: 307.5822\n",
      "Epoch 8/100\n",
      "40/40 [==============================] - 0s 974us/step - loss: 307.4904\n",
      "Epoch 9/100\n",
      "40/40 [==============================] - 0s 846us/step - loss: 307.3990\n",
      "Epoch 10/100\n",
      "40/40 [==============================] - 0s 821us/step - loss: 307.3977\n",
      "Epoch 11/100\n",
      "40/40 [==============================] - 0s 821us/step - loss: 307.4671\n",
      "Epoch 12/100\n",
      "40/40 [==============================] - 0s 1ms/step - loss: 307.4554\n",
      "Epoch 13/100\n",
      "40/40 [==============================] - 0s 769us/step - loss: 307.4613\n",
      "Epoch 14/100\n",
      "40/40 [==============================] - 0s 1ms/step - loss: 307.4049\n",
      "Epoch 15/100\n",
      "40/40 [==============================] - 0s 744us/step - loss: 307.3885\n",
      "Epoch 16/100\n",
      "40/40 [==============================] - 0s 846us/step - loss: 307.5182\n",
      "Epoch 17/100\n",
      "40/40 [==============================] - 0s 795us/step - loss: 307.4077\n",
      "Epoch 18/100\n",
      "40/40 [==============================] - 0s 949us/step - loss: 307.4200\n",
      "Epoch 19/100\n",
      "40/40 [==============================] - 0s 897us/step - loss: 307.4102\n",
      "Epoch 20/100\n",
      "40/40 [==============================] - 0s 846us/step - loss: 307.3946\n",
      "Epoch 21/100\n",
      "40/40 [==============================] - 0s 821us/step - loss: 307.4651\n",
      "Epoch 22/100\n",
      "40/40 [==============================] - 0s 923us/step - loss: 307.4533\n",
      "Epoch 23/100\n",
      "40/40 [==============================] - 0s 872us/step - loss: 307.4885\n",
      "Epoch 24/100\n",
      "40/40 [==============================] - 0s 744us/step - loss: 307.5008\n",
      "Epoch 25/100\n",
      "40/40 [==============================] - 0s 846us/step - loss: 307.5901\n",
      "Epoch 26/100\n",
      "40/40 [==============================] - 0s 795us/step - loss: 307.4429\n",
      "Epoch 27/100\n",
      "40/40 [==============================] - 0s 821us/step - loss: 307.4383\n",
      "Epoch 28/100\n",
      "40/40 [==============================] - 0s 795us/step - loss: 307.5635\n",
      "Epoch 29/100\n",
      "40/40 [==============================] - 0s 795us/step - loss: 307.4629\n",
      "Epoch 30/100\n",
      "40/40 [==============================] - 0s 795us/step - loss: 307.4482\n",
      "Epoch 31/100\n",
      "40/40 [==============================] - 0s 897us/step - loss: 307.4041\n",
      "Epoch 32/100\n",
      "40/40 [==============================] - 0s 846us/step - loss: 307.4185\n",
      "Epoch 33/100\n",
      "40/40 [==============================] - 0s 769us/step - loss: 307.5285\n",
      "Epoch 34/100\n",
      "40/40 [==============================] - 0s 769us/step - loss: 307.5059\n",
      "Epoch 35/100\n",
      "40/40 [==============================] - 0s 949us/step - loss: 307.4026\n",
      "Epoch 36/100\n",
      "40/40 [==============================] - 0s 1ms/step - loss: 307.5082\n",
      "Epoch 37/100\n",
      "40/40 [==============================] - 0s 2ms/step - loss: 307.4475\n",
      "Epoch 38/100\n",
      "40/40 [==============================] - 0s 872us/step - loss: 307.4236\n",
      "Epoch 39/100\n",
      "40/40 [==============================] - 0s 949us/step - loss: 307.4171\n",
      "Epoch 40/100\n",
      "40/40 [==============================] - 0s 795us/step - loss: 307.4839\n",
      "Epoch 41/100\n",
      "40/40 [==============================] - 0s 872us/step - loss: 307.4276\n",
      "Epoch 42/100\n",
      "40/40 [==============================] - 0s 769us/step - loss: 307.4393\n",
      "Epoch 43/100\n",
      "40/40 [==============================] - 0s 769us/step - loss: 307.4768\n",
      "Epoch 44/100\n",
      "40/40 [==============================] - 0s 846us/step - loss: 307.5156\n",
      "Epoch 45/100\n",
      "40/40 [==============================] - 0s 1ms/step - loss: 307.4246\n",
      "Epoch 46/100\n",
      "40/40 [==============================] - 0s 795us/step - loss: 307.4565\n",
      "Epoch 47/100\n",
      "40/40 [==============================] - 0s 718us/step - loss: 307.4993\n",
      "Epoch 48/100\n",
      "40/40 [==============================] - 0s 718us/step - loss: 307.5155\n",
      "Epoch 49/100\n",
      "40/40 [==============================] - 0s 744us/step - loss: 307.3932\n",
      "Epoch 50/100\n",
      "40/40 [==============================] - 0s 641us/step - loss: 307.4497\n",
      "Epoch 51/100\n",
      "40/40 [==============================] - 0s 718us/step - loss: 307.4378\n",
      "Epoch 52/100\n",
      "40/40 [==============================] - 0s 718us/step - loss: 307.4165\n",
      "Epoch 53/100\n",
      "40/40 [==============================] - 0s 821us/step - loss: 307.4238\n",
      "Epoch 54/100\n",
      "40/40 [==============================] - 0s 718us/step - loss: 307.4322\n",
      "Epoch 55/100\n",
      "40/40 [==============================] - 0s 667us/step - loss: 307.4446\n",
      "Epoch 56/100\n",
      "40/40 [==============================] - 0s 692us/step - loss: 307.3969\n",
      "Epoch 57/100\n",
      "40/40 [==============================] - 0s 718us/step - loss: 307.5555\n",
      "Epoch 58/100\n",
      "40/40 [==============================] - 0s 1ms/step - loss: 307.4704\n",
      "Epoch 59/100\n",
      "40/40 [==============================] - 0s 692us/step - loss: 307.3589\n",
      "Epoch 60/100\n",
      "40/40 [==============================] - 0s 667us/step - loss: 307.4439\n",
      "Epoch 61/100\n",
      "40/40 [==============================] - 0s 743us/step - loss: 307.4315\n",
      "Epoch 62/100\n",
      "40/40 [==============================] - 0s 744us/step - loss: 307.4318\n",
      "Epoch 63/100\n",
      "40/40 [==============================] - 0s 692us/step - loss: 307.3578\n",
      "Epoch 64/100\n",
      "40/40 [==============================] - 0s 718us/step - loss: 307.4009\n",
      "Epoch 65/100\n",
      "40/40 [==============================] - 0s 692us/step - loss: 307.4180\n",
      "Epoch 66/100\n",
      "40/40 [==============================] - 0s 667us/step - loss: 307.4597\n",
      "Epoch 67/100\n",
      "40/40 [==============================] - 0s 667us/step - loss: 307.4184\n",
      "Epoch 68/100\n",
      "40/40 [==============================] - 0s 667us/step - loss: 307.4918\n",
      "Epoch 69/100\n",
      "40/40 [==============================] - 0s 769us/step - loss: 307.4651\n",
      "Epoch 70/100\n",
      "40/40 [==============================] - 0s 795us/step - loss: 307.4330\n",
      "Epoch 71/100\n",
      "40/40 [==============================] - 0s 667us/step - loss: 307.4694\n",
      "Epoch 72/100\n",
      "40/40 [==============================] - 0s 718us/step - loss: 307.3972\n",
      "Epoch 73/100\n",
      "40/40 [==============================] - 0s 667us/step - loss: 307.5050\n",
      "Epoch 74/100\n",
      "40/40 [==============================] - 0s 718us/step - loss: 307.5112\n",
      "Epoch 75/100\n",
      "40/40 [==============================] - 0s 769us/step - loss: 307.4264\n",
      "Epoch 76/100\n",
      "40/40 [==============================] - 0s 744us/step - loss: 307.4267\n",
      "Epoch 77/100\n",
      "40/40 [==============================] - 0s 692us/step - loss: 307.4486\n",
      "Epoch 78/100\n",
      "40/40 [==============================] - 0s 692us/step - loss: 307.4132\n",
      "Epoch 79/100\n",
      "40/40 [==============================] - 0s 641us/step - loss: 307.4880\n",
      "Epoch 80/100\n",
      "40/40 [==============================] - 0s 744us/step - loss: 307.5747\n",
      "Epoch 81/100\n",
      "40/40 [==============================] - 0s 692us/step - loss: 307.4572\n",
      "Epoch 82/100\n",
      "40/40 [==============================] - 0s 821us/step - loss: 307.4174\n",
      "Epoch 83/100\n",
      "40/40 [==============================] - 0s 769us/step - loss: 307.3915\n",
      "Epoch 84/100\n",
      "40/40 [==============================] - 0s 820us/step - loss: 307.4504\n",
      "Epoch 85/100\n",
      "40/40 [==============================] - 0s 949us/step - loss: 307.4258\n",
      "Epoch 86/100\n",
      "40/40 [==============================] - 0s 769us/step - loss: 307.5428\n",
      "Epoch 87/100\n",
      "40/40 [==============================] - 0s 795us/step - loss: 307.3805\n",
      "Epoch 88/100\n",
      "40/40 [==============================] - 0s 769us/step - loss: 307.4796\n",
      "Epoch 89/100\n",
      "40/40 [==============================] - 0s 821us/step - loss: 307.4876\n",
      "Epoch 90/100\n",
      "40/40 [==============================] - 0s 744us/step - loss: 307.5251\n",
      "Epoch 91/100\n",
      "40/40 [==============================] - 0s 769us/step - loss: 307.4485\n",
      "Epoch 92/100\n",
      "40/40 [==============================] - 0s 744us/step - loss: 307.4294\n",
      "Epoch 93/100\n",
      "40/40 [==============================] - 0s 744us/step - loss: 307.4378\n",
      "Epoch 94/100\n",
      "40/40 [==============================] - 0s 744us/step - loss: 307.4543\n",
      "Epoch 95/100\n",
      "40/40 [==============================] - 0s 769us/step - loss: 307.4556\n",
      "Epoch 96/100\n",
      "40/40 [==============================] - 0s 692us/step - loss: 307.3883\n",
      "Epoch 97/100\n"
     ]
    },
    {
     "name": "stdout",
     "output_type": "stream",
     "text": [
      "40/40 [==============================] - 0s 718us/step - loss: 307.5531\n",
      "Epoch 98/100\n",
      "40/40 [==============================] - 0s 744us/step - loss: 307.4564\n",
      "Epoch 99/100\n",
      "40/40 [==============================] - 0s 692us/step - loss: 307.4410\n",
      "Epoch 100/100\n",
      "40/40 [==============================] - 0s 744us/step - loss: 307.4267\n"
     ]
    },
    {
     "data": {
      "text/plain": [
       "<tensorflow.python.keras.callbacks.History at 0x11a6fc8e6a0>"
      ]
     },
     "execution_count": 29,
     "metadata": {},
     "output_type": "execute_result"
    }
   ],
   "source": [
    "model.fit(Xc, Yc, epochs=100)"
   ]
  },
  {
   "cell_type": "code",
   "execution_count": 30,
   "metadata": {},
   "outputs": [],
   "source": [
    "scaler = MinMaxScaler()\n",
    "normalized_X = scaler.fit_transform(np.array(sbux_df['Returns']).reshape(1257,-1))\n",
    "X = np.array(normalized_X, dtype = float)\n",
    "normalized_Y = scaler.fit_transform(np.array(sbux_df['Close/Last']).reshape(1257,-1))\n",
    "Y = np.array(normalized_Y, dtype = float)"
   ]
  },
  {
   "cell_type": "code",
   "execution_count": 31,
   "metadata": {},
   "outputs": [],
   "source": [
    "def build_model():\n",
    "  model = keras.Sequential([\n",
    "    layers.Dense(64, activation=tf.nn.relu, input_shape=[len(train_dataset.keys())]),\n",
    "    layers.Dense(64, activation=tf.nn.relu),\n",
    "    layers.Dense(1)\n",
    "  ])\n",
    "\n",
    "  optimizer = tf.keras.optimizers.RMSprop(0.001)\n",
    "\n",
    "  model.compile(loss='mean_squared_error',\n",
    "                optimizer=optimizer,\n",
    "                metrics=['mean_absolute_error', 'mean_squared_error'])\n",
    "  return model"
   ]
  },
  {
   "cell_type": "code",
   "execution_count": 32,
   "metadata": {},
   "outputs": [
    {
     "name": "stdout",
     "output_type": "stream",
     "text": [
      "[[70.91989]]\n"
     ]
    }
   ],
   "source": [
    "print((model.predict([0])))"
   ]
  },
  {
   "cell_type": "code",
   "execution_count": null,
   "metadata": {},
   "outputs": [],
   "source": []
  }
 ],
 "metadata": {
  "kernelspec": {
   "display_name": "Python 3",
   "language": "python",
   "name": "python3"
  },
  "language_info": {
   "codemirror_mode": {
    "name": "ipython",
    "version": 3
   },
   "file_extension": ".py",
   "mimetype": "text/x-python",
   "name": "python",
   "nbconvert_exporter": "python",
   "pygments_lexer": "ipython3",
   "version": "3.8.5"
  }
 },
 "nbformat": 4,
 "nbformat_minor": 4
}
