{
 "cells": [
  {
   "cell_type": "code",
   "execution_count": 2,
   "metadata": {},
   "outputs": [],
   "source": [
    "#dependencies\n",
    "import pandas as pd\n",
    "import numpy as np\n",
    "import matplotlib.pyplot as plt\n",
    "import datetime\n",
    "import os\n",
    "import csv"
   ]
  },
  {
   "cell_type": "code",
   "execution_count": 3,
   "metadata": {},
   "outputs": [
    {
     "data": {
      "text/html": [
       "<div>\n",
       "<style scoped>\n",
       "    .dataframe tbody tr th:only-of-type {\n",
       "        vertical-align: middle;\n",
       "    }\n",
       "\n",
       "    .dataframe tbody tr th {\n",
       "        vertical-align: top;\n",
       "    }\n",
       "\n",
       "    .dataframe thead th {\n",
       "        text-align: right;\n",
       "    }\n",
       "</style>\n",
       "<table border=\"1\" class=\"dataframe\">\n",
       "  <thead>\n",
       "    <tr style=\"text-align: right;\">\n",
       "      <th></th>\n",
       "      <th>Date</th>\n",
       "      <th>Close/Last</th>\n",
       "      <th>Volume</th>\n",
       "      <th>Open</th>\n",
       "      <th>High</th>\n",
       "      <th>Low</th>\n",
       "    </tr>\n",
       "  </thead>\n",
       "  <tbody>\n",
       "    <tr>\n",
       "      <th>0</th>\n",
       "      <td>05/24/2021</td>\n",
       "      <td>$324.63</td>\n",
       "      <td>16445360</td>\n",
       "      <td>$318.21</td>\n",
       "      <td>$325.95</td>\n",
       "      <td>$318.03</td>\n",
       "    </tr>\n",
       "    <tr>\n",
       "      <th>1</th>\n",
       "      <td>05/21/2021</td>\n",
       "      <td>$316.23</td>\n",
       "      <td>13600900</td>\n",
       "      <td>$319.29</td>\n",
       "      <td>$319.93</td>\n",
       "      <td>$315.8101</td>\n",
       "    </tr>\n",
       "    <tr>\n",
       "      <th>2</th>\n",
       "      <td>05/20/2021</td>\n",
       "      <td>$318.61</td>\n",
       "      <td>17320240</td>\n",
       "      <td>$313.58</td>\n",
       "      <td>$319.25</td>\n",
       "      <td>$313.16</td>\n",
       "    </tr>\n",
       "    <tr>\n",
       "      <th>3</th>\n",
       "      <td>05/19/2021</td>\n",
       "      <td>$313.59</td>\n",
       "      <td>19106240</td>\n",
       "      <td>$304.185</td>\n",
       "      <td>$314.66</td>\n",
       "      <td>$303.57</td>\n",
       "    </tr>\n",
       "    <tr>\n",
       "      <th>4</th>\n",
       "      <td>05/18/2021</td>\n",
       "      <td>$309.96</td>\n",
       "      <td>14522400</td>\n",
       "      <td>$315.59</td>\n",
       "      <td>$316.5</td>\n",
       "      <td>$309.81</td>\n",
       "    </tr>\n",
       "  </tbody>\n",
       "</table>\n",
       "</div>"
      ],
      "text/plain": [
       "         Date Close/Last    Volume      Open     High        Low\n",
       "0  05/24/2021    $324.63  16445360   $318.21  $325.95    $318.03\n",
       "1  05/21/2021    $316.23  13600900   $319.29  $319.93  $315.8101\n",
       "2  05/20/2021    $318.61  17320240   $313.58  $319.25    $313.16\n",
       "3  05/19/2021    $313.59  19106240  $304.185  $314.66    $303.57\n",
       "4  05/18/2021    $309.96  14522400   $315.59   $316.5    $309.81"
      ]
     },
     "execution_count": 3,
     "metadata": {},
     "output_type": "execute_result"
    }
   ],
   "source": [
    "#load assesment file\n",
    "FB = \"resources/HistoricalData_fb.csv\"\n",
    "FB_df = pd.read_csv(FB)\n",
    "FB_df.head()"
   ]
  },
  {
   "cell_type": "markdown",
   "metadata": {},
   "source": [
    "CLEAN, RESHAPE AND CONVERT DATATYPE"
   ]
  },
  {
   "cell_type": "code",
   "execution_count": 4,
   "metadata": {},
   "outputs": [
    {
     "name": "stderr",
     "output_type": "stream",
     "text": [
      "<ipython-input-4-3fd67d6c6cd2>:2: FutureWarning: The default value of regex will change from True to False in a future version. In addition, single character regular expressions will*not* be treated as literal strings when regex=True.\n",
      "  FB_df['Close/Last'] = FB_df['Close/Last'].str.replace('$','')\n",
      "<ipython-input-4-3fd67d6c6cd2>:3: FutureWarning: The default value of regex will change from True to False in a future version. In addition, single character regular expressions will*not* be treated as literal strings when regex=True.\n",
      "  FB_df['Open'] = FB_df['Open'].str.replace('$','')\n",
      "<ipython-input-4-3fd67d6c6cd2>:4: FutureWarning: The default value of regex will change from True to False in a future version. In addition, single character regular expressions will*not* be treated as literal strings when regex=True.\n",
      "  FB_df['High'] = FB_df['High'].str.replace('$','')\n",
      "<ipython-input-4-3fd67d6c6cd2>:5: FutureWarning: The default value of regex will change from True to False in a future version. In addition, single character regular expressions will*not* be treated as literal strings when regex=True.\n",
      "  FB_df['Low'] = FB_df['Low'].str.replace('$','')\n"
     ]
    }
   ],
   "source": [
    "FB_df['Date']= pd.to_datetime(FB_df['Date'])\n",
    "FB_df['Close/Last'] = FB_df['Close/Last'].str.replace('$','')\n",
    "FB_df['Open'] = FB_df['Open'].str.replace('$','')\n",
    "FB_df['High'] = FB_df['High'].str.replace('$','')\n",
    "FB_df['Low'] = FB_df['Low'].str.replace('$','')\n",
    "FB_df = FB_df.apply( pd.to_numeric)"
   ]
  },
  {
   "cell_type": "markdown",
   "metadata": {},
   "source": [
    "FORMAT DATE COLUMN"
   ]
  },
  {
   "cell_type": "code",
   "execution_count": 5,
   "metadata": {},
   "outputs": [
    {
     "data": {
      "text/html": [
       "<div>\n",
       "<style scoped>\n",
       "    .dataframe tbody tr th:only-of-type {\n",
       "        vertical-align: middle;\n",
       "    }\n",
       "\n",
       "    .dataframe tbody tr th {\n",
       "        vertical-align: top;\n",
       "    }\n",
       "\n",
       "    .dataframe thead th {\n",
       "        text-align: right;\n",
       "    }\n",
       "</style>\n",
       "<table border=\"1\" class=\"dataframe\">\n",
       "  <thead>\n",
       "    <tr style=\"text-align: right;\">\n",
       "      <th></th>\n",
       "      <th>Date</th>\n",
       "      <th>Close/Last</th>\n",
       "      <th>Volume</th>\n",
       "      <th>Open</th>\n",
       "      <th>High</th>\n",
       "      <th>Low</th>\n",
       "    </tr>\n",
       "  </thead>\n",
       "  <tbody>\n",
       "    <tr>\n",
       "      <th>0</th>\n",
       "      <td>2021-05-24</td>\n",
       "      <td>324.63</td>\n",
       "      <td>16445360</td>\n",
       "      <td>318.210</td>\n",
       "      <td>325.95</td>\n",
       "      <td>318.0300</td>\n",
       "    </tr>\n",
       "    <tr>\n",
       "      <th>1</th>\n",
       "      <td>2021-05-21</td>\n",
       "      <td>316.23</td>\n",
       "      <td>13600900</td>\n",
       "      <td>319.290</td>\n",
       "      <td>319.93</td>\n",
       "      <td>315.8101</td>\n",
       "    </tr>\n",
       "    <tr>\n",
       "      <th>2</th>\n",
       "      <td>2021-05-20</td>\n",
       "      <td>318.61</td>\n",
       "      <td>17320240</td>\n",
       "      <td>313.580</td>\n",
       "      <td>319.25</td>\n",
       "      <td>313.1600</td>\n",
       "    </tr>\n",
       "    <tr>\n",
       "      <th>3</th>\n",
       "      <td>2021-05-19</td>\n",
       "      <td>313.59</td>\n",
       "      <td>19106240</td>\n",
       "      <td>304.185</td>\n",
       "      <td>314.66</td>\n",
       "      <td>303.5700</td>\n",
       "    </tr>\n",
       "    <tr>\n",
       "      <th>4</th>\n",
       "      <td>2021-05-18</td>\n",
       "      <td>309.96</td>\n",
       "      <td>14522400</td>\n",
       "      <td>315.590</td>\n",
       "      <td>316.50</td>\n",
       "      <td>309.8100</td>\n",
       "    </tr>\n",
       "  </tbody>\n",
       "</table>\n",
       "</div>"
      ],
      "text/plain": [
       "        Date  Close/Last    Volume     Open    High       Low\n",
       "0 2021-05-24      324.63  16445360  318.210  325.95  318.0300\n",
       "1 2021-05-21      316.23  13600900  319.290  319.93  315.8101\n",
       "2 2021-05-20      318.61  17320240  313.580  319.25  313.1600\n",
       "3 2021-05-19      313.59  19106240  304.185  314.66  303.5700\n",
       "4 2021-05-18      309.96  14522400  315.590  316.50  309.8100"
      ]
     },
     "execution_count": 5,
     "metadata": {},
     "output_type": "execute_result"
    }
   ],
   "source": [
    "FB_df['Date']= pd.to_datetime(FB_df['Date'])\n",
    "FB_df.head()"
   ]
  },
  {
   "cell_type": "markdown",
   "metadata": {},
   "source": [
    "SPLIT DATAFRAME"
   ]
  },
  {
   "cell_type": "code",
   "execution_count": 6,
   "metadata": {},
   "outputs": [
    {
     "data": {
      "text/html": [
       "<div>\n",
       "<style scoped>\n",
       "    .dataframe tbody tr th:only-of-type {\n",
       "        vertical-align: middle;\n",
       "    }\n",
       "\n",
       "    .dataframe tbody tr th {\n",
       "        vertical-align: top;\n",
       "    }\n",
       "\n",
       "    .dataframe thead th {\n",
       "        text-align: right;\n",
       "    }\n",
       "</style>\n",
       "<table border=\"1\" class=\"dataframe\">\n",
       "  <thead>\n",
       "    <tr style=\"text-align: right;\">\n",
       "      <th></th>\n",
       "      <th>Date</th>\n",
       "      <th>Close/Last</th>\n",
       "      <th>Volume</th>\n",
       "      <th>Open</th>\n",
       "      <th>High</th>\n",
       "      <th>Low</th>\n",
       "    </tr>\n",
       "  </thead>\n",
       "  <tbody>\n",
       "    <tr>\n",
       "      <th>252</th>\n",
       "      <td>2020-05-22</td>\n",
       "      <td>234.91</td>\n",
       "      <td>33925560</td>\n",
       "      <td>231.51</td>\n",
       "      <td>235.9900</td>\n",
       "      <td>228.74</td>\n",
       "    </tr>\n",
       "    <tr>\n",
       "      <th>253</th>\n",
       "      <td>2020-05-21</td>\n",
       "      <td>231.39</td>\n",
       "      <td>47782640</td>\n",
       "      <td>234.72</td>\n",
       "      <td>237.2000</td>\n",
       "      <td>231.20</td>\n",
       "    </tr>\n",
       "    <tr>\n",
       "      <th>254</th>\n",
       "      <td>2020-05-20</td>\n",
       "      <td>229.97</td>\n",
       "      <td>50162880</td>\n",
       "      <td>223.50</td>\n",
       "      <td>231.3400</td>\n",
       "      <td>223.19</td>\n",
       "    </tr>\n",
       "    <tr>\n",
       "      <th>255</th>\n",
       "      <td>2020-05-19</td>\n",
       "      <td>216.88</td>\n",
       "      <td>31843150</td>\n",
       "      <td>213.27</td>\n",
       "      <td>220.4900</td>\n",
       "      <td>212.83</td>\n",
       "    </tr>\n",
       "    <tr>\n",
       "      <th>256</th>\n",
       "      <td>2020-05-18</td>\n",
       "      <td>213.19</td>\n",
       "      <td>20167440</td>\n",
       "      <td>212.15</td>\n",
       "      <td>214.6445</td>\n",
       "      <td>210.94</td>\n",
       "    </tr>\n",
       "  </tbody>\n",
       "</table>\n",
       "</div>"
      ],
      "text/plain": [
       "          Date  Close/Last    Volume    Open      High     Low\n",
       "252 2020-05-22      234.91  33925560  231.51  235.9900  228.74\n",
       "253 2020-05-21      231.39  47782640  234.72  237.2000  231.20\n",
       "254 2020-05-20      229.97  50162880  223.50  231.3400  223.19\n",
       "255 2020-05-19      216.88  31843150  213.27  220.4900  212.83\n",
       "256 2020-05-18      213.19  20167440  212.15  214.6445  210.94"
      ]
     },
     "execution_count": 6,
     "metadata": {},
     "output_type": "execute_result"
    }
   ],
   "source": [
    "#setup datetime for first 4 years\n",
    "start_date = \"2016-05-24\"\n",
    "end_date = \"2020-05-24\"\n",
    "\n",
    "after_start_date = FB_df[\"Date\"] >= start_date\n",
    "before_end_date = FB_df[\"Date\"] <= end_date\n",
    "between_two_dates = after_start_date & before_end_date\n",
    "FB_df_4 = FB_df.loc[between_two_dates]\n",
    "FB_df_4.head()"
   ]
  },
  {
   "cell_type": "markdown",
   "metadata": {},
   "source": [
    "SPLIT DATAFRAME"
   ]
  },
  {
   "cell_type": "code",
   "execution_count": 7,
   "metadata": {},
   "outputs": [
    {
     "data": {
      "text/html": [
       "<div>\n",
       "<style scoped>\n",
       "    .dataframe tbody tr th:only-of-type {\n",
       "        vertical-align: middle;\n",
       "    }\n",
       "\n",
       "    .dataframe tbody tr th {\n",
       "        vertical-align: top;\n",
       "    }\n",
       "\n",
       "    .dataframe thead th {\n",
       "        text-align: right;\n",
       "    }\n",
       "</style>\n",
       "<table border=\"1\" class=\"dataframe\">\n",
       "  <thead>\n",
       "    <tr style=\"text-align: right;\">\n",
       "      <th></th>\n",
       "      <th>Date</th>\n",
       "      <th>Close/Last</th>\n",
       "      <th>Volume</th>\n",
       "      <th>Open</th>\n",
       "      <th>High</th>\n",
       "      <th>Low</th>\n",
       "    </tr>\n",
       "  </thead>\n",
       "  <tbody>\n",
       "    <tr>\n",
       "      <th>0</th>\n",
       "      <td>2021-05-24</td>\n",
       "      <td>324.63</td>\n",
       "      <td>16445360</td>\n",
       "      <td>318.210</td>\n",
       "      <td>325.95</td>\n",
       "      <td>318.0300</td>\n",
       "    </tr>\n",
       "    <tr>\n",
       "      <th>1</th>\n",
       "      <td>2021-05-21</td>\n",
       "      <td>316.23</td>\n",
       "      <td>13600900</td>\n",
       "      <td>319.290</td>\n",
       "      <td>319.93</td>\n",
       "      <td>315.8101</td>\n",
       "    </tr>\n",
       "    <tr>\n",
       "      <th>2</th>\n",
       "      <td>2021-05-20</td>\n",
       "      <td>318.61</td>\n",
       "      <td>17320240</td>\n",
       "      <td>313.580</td>\n",
       "      <td>319.25</td>\n",
       "      <td>313.1600</td>\n",
       "    </tr>\n",
       "    <tr>\n",
       "      <th>3</th>\n",
       "      <td>2021-05-19</td>\n",
       "      <td>313.59</td>\n",
       "      <td>19106240</td>\n",
       "      <td>304.185</td>\n",
       "      <td>314.66</td>\n",
       "      <td>303.5700</td>\n",
       "    </tr>\n",
       "    <tr>\n",
       "      <th>4</th>\n",
       "      <td>2021-05-18</td>\n",
       "      <td>309.96</td>\n",
       "      <td>14522400</td>\n",
       "      <td>315.590</td>\n",
       "      <td>316.50</td>\n",
       "      <td>309.8100</td>\n",
       "    </tr>\n",
       "  </tbody>\n",
       "</table>\n",
       "</div>"
      ],
      "text/plain": [
       "        Date  Close/Last    Volume     Open    High       Low\n",
       "0 2021-05-24      324.63  16445360  318.210  325.95  318.0300\n",
       "1 2021-05-21      316.23  13600900  319.290  319.93  315.8101\n",
       "2 2021-05-20      318.61  17320240  313.580  319.25  313.1600\n",
       "3 2021-05-19      313.59  19106240  304.185  314.66  303.5700\n",
       "4 2021-05-18      309.96  14522400  315.590  316.50  309.8100"
      ]
     },
     "execution_count": 7,
     "metadata": {},
     "output_type": "execute_result"
    }
   ],
   "source": [
    "#setup datetime for last year\n",
    "start_date = \"2020-05-25\"\n",
    "end_date = \"2021-05-24\"\n",
    "\n",
    "after_start_date = FB_df[\"Date\"] >= start_date\n",
    "before_end_date = FB_df[\"Date\"] <= end_date\n",
    "between_two_dates = after_start_date & before_end_date\n",
    "FB_df_ls = FB_df.loc[between_two_dates]\n",
    "FB_df_ls.head()"
   ]
  },
  {
   "cell_type": "markdown",
   "metadata": {},
   "source": [
    "PLOT FIRST DF (4YEARS"
   ]
  },
  {
   "cell_type": "code",
   "execution_count": 9,
   "metadata": {},
   "outputs": [
    {
     "data": {
      "image/png": "[encoded data removed]",
      "text/plain": [
       "<Figure size 864x576 with 1 Axes>"
      ]
     },
     "metadata": {
      "needs_background": "light"
     },
     "output_type": "display_data"
    }
   ],
   "source": [
    "plt.figure(figsize=(12,8))\n",
    "plt.plot(FB_df_4['Close/Last'])\n",
    "plt.title(\"Facebook Line Chart\")\n",
    "plt.xlabel(\"Date\")\n",
    "plt.ylabel(\"Close\")\n",
    "plt.show()"
   ]
  },
  {
   "cell_type": "markdown",
   "metadata": {},
   "source": [
    "PLOT SECOND DF (LAST YEAR)"
   ]
  },
  {
   "cell_type": "code",
   "execution_count": 10,
   "metadata": {},
   "outputs": [
    {
     "data": {
      "image/png": "[encoded data removed]",
      "text/plain": [
       "<Figure size 864x576 with 1 Axes>"
      ]
     },
     "metadata": {
      "needs_background": "light"
     },
     "output_type": "display_data"
    }
   ],
   "source": [
    "plt.figure(figsize=(12,8))\n",
    "plt.plot(FB_df_ls['Close/Last'])\n",
    "plt.title(\"Facebook Line Chart\")\n",
    "plt.xlabel(\"Date\")\n",
    "plt.ylabel(\"Close\")\n",
    "plt.show()"
   ]
  },
  {
   "cell_type": "markdown",
   "metadata": {},
   "source": [
    "SHAPPING, FITTING, TRAINING, TESTING ML ON 1ST DF"
   ]
  },
  {
   "cell_type": "code",
   "execution_count": 12,
   "metadata": {},
   "outputs": [
    {
     "data": {
      "text/plain": [
       "(1006, 6)"
      ]
     },
     "execution_count": 12,
     "metadata": {},
     "output_type": "execute_result"
    }
   ],
   "source": [
    "FB_df_4.shape"
   ]
  },
  {
   "cell_type": "code",
   "execution_count": 13,
   "metadata": {},
   "outputs": [],
   "source": [
    "X = np.array(FB_df_4['Open']).reshape(1006,-1)\n",
    "Y = np.array(FB_df_4['Close/Last']).reshape(1006,-1)"
   ]
  },
  {
   "cell_type": "code",
   "execution_count": 14,
   "metadata": {},
   "outputs": [],
   "source": [
    "from sklearn.linear_model import LinearRegression"
   ]
  },
  {
   "cell_type": "code",
   "execution_count": 15,
   "metadata": {},
   "outputs": [],
   "source": [
    "lr = LinearRegression()"
   ]
  },
  {
   "cell_type": "code",
   "execution_count": 16,
   "metadata": {},
   "outputs": [
    {
     "data": {
      "text/plain": [
       "LinearRegression()"
      ]
     },
     "execution_count": 16,
     "metadata": {},
     "output_type": "execute_result"
    }
   ],
   "source": [
    "lr.fit(X, Y)"
   ]
  },
  {
   "cell_type": "code",
   "execution_count": 17,
   "metadata": {},
   "outputs": [
    {
     "name": "stdout",
     "output_type": "stream",
     "text": [
      "Linear Regression intercept: [0.30037687]\n",
      "coefficient count: 1\n"
     ]
    }
   ],
   "source": [
    "print('Linear Regression intercept:', lr.intercept_)\n",
    "print('coefficient count:', len(lr.coef_))"
   ]
  },
  {
   "cell_type": "code",
   "execution_count": 18,
   "metadata": {},
   "outputs": [
    {
     "name": "stdout",
     "output_type": "stream",
     "text": [
      "Accuracy: 0.992608787883672\n"
     ]
    }
   ],
   "source": [
    "from sklearn.metrics import accuracy_score\n",
    "print('Accuracy:', lr.score(X, Y))"
   ]
  },
  {
   "cell_type": "code",
   "execution_count": 19,
   "metadata": {},
   "outputs": [
    {
     "data": {
      "text/plain": [
       "array([[231.52151514],\n",
       "       [234.72750993],\n",
       "       [223.52150945],\n",
       "       ...,\n",
       "       [119.7111984 ],\n",
       "       [118.3928454 ],\n",
       "       [118.28298265]])"
      ]
     },
     "execution_count": 19,
     "metadata": {},
     "output_type": "execute_result"
    }
   ],
   "source": [
    "# Predicting the price\n",
    "lr.predict(X)"
   ]
  },
  {
   "cell_type": "code",
   "execution_count": 20,
   "metadata": {},
   "outputs": [
    {
     "data": {
      "text/plain": [
       "Text(0.5, 1.0, '4 Years CLosing Price vs Predicted Closing Price')"
      ]
     },
     "execution_count": 20,
     "metadata": {},
     "output_type": "execute_result"
    },
    {
     "data": {
      "image/png": "[encoded data removed]",
      "text/plain": [
       "<Figure size 864x576 with 1 Axes>"
      ]
     },
     "metadata": {
      "needs_background": "light"
     },
     "output_type": "display_data"
    }
   ],
   "source": [
    "plt.figure(figsize=(12,8))\n",
    "plt.scatter(FB_df_4['Close/Last'], lr.predict(X))\n",
    "plt.plot(X, lr.predict(X), color = 'red')\n",
    "plt.xlabel('Closing Price')\n",
    "plt.ylabel('Predicted Closing Price')\n",
    "plt.savefig('images/FB_4y.jpg', dpi=40)\n",
    "plt.grid()\n",
    "plt.title('4 Years CLosing Price vs Predicted Closing Price')"
   ]
  },
  {
   "cell_type": "markdown",
   "metadata": {},
   "source": [
    "TRAINING, TESTING ML ON 2ND DF"
   ]
  },
  {
   "cell_type": "code",
   "execution_count": 22,
   "metadata": {},
   "outputs": [
    {
     "data": {
      "text/plain": [
       "(252, 6)"
      ]
     },
     "execution_count": 22,
     "metadata": {},
     "output_type": "execute_result"
    }
   ],
   "source": [
    "FB_df_ls.shape"
   ]
  },
  {
   "cell_type": "code",
   "execution_count": 25,
   "metadata": {},
   "outputs": [],
   "source": [
    "X_ls = np.array(FB_df_ls['Open']).reshape(252,-1)\n",
    "Y_ls = np.array(FB_df_ls['Close/Last']).reshape(252,-1)"
   ]
  },
  {
   "cell_type": "code",
   "execution_count": 26,
   "metadata": {},
   "outputs": [
    {
     "data": {
      "text/plain": [
       "LinearRegression()"
      ]
     },
     "execution_count": 26,
     "metadata": {},
     "output_type": "execute_result"
    }
   ],
   "source": [
    "lr.fit(X_ls, Y_ls)"
   ]
  },
  {
   "cell_type": "code",
   "execution_count": 27,
   "metadata": {},
   "outputs": [
    {
     "name": "stdout",
     "output_type": "stream",
     "text": [
      "Linear Regression intercept: [4.61820212]\n",
      "coefficient count: 1\n"
     ]
    }
   ],
   "source": [
    "print('Linear Regression intercept:', lr.intercept_)\n",
    "print('coefficient count:', len(lr.coef_))"
   ]
  },
  {
   "cell_type": "code",
   "execution_count": 28,
   "metadata": {},
   "outputs": [
    {
     "name": "stdout",
     "output_type": "stream",
     "text": [
      "Accuracy: 0.9622563933971614\n"
     ]
    }
   ],
   "source": [
    "print('Accuracy:', lr.score(X_ls, Y_ls))"
   ]
  },
  {
   "cell_type": "code",
   "execution_count": 29,
   "metadata": {},
   "outputs": [
    {
     "data": {
      "text/plain": [
       "array([[317.42290526],\n",
       "       [318.48455976],\n",
       "       [312.87155308],\n",
       "       [303.63614192],\n",
       "       [314.84741008],\n",
       "       [312.84206268],\n",
       "       [308.90017883],\n",
       "       [305.50219631],\n",
       "       [300.6330359 ],\n",
       "       [300.25949079],\n",
       "       [313.62847342],\n",
       "       [321.52207126],\n",
       "       [313.79558571],\n",
       "       [317.40324499],\n",
       "       [319.20707463],\n",
       "       [325.24769215],\n",
       "       [325.2221338 ],\n",
       "       [329.13059519],\n",
       "       [306.75720956],\n",
       "       [303.7295282 ],\n",
       "       [302.80549557],\n",
       "       [298.30329407],\n",
       "       [300.82963858],\n",
       "       [301.43419184],\n",
       "       [301.47842745],\n",
       "       [304.44417896],\n",
       "       [307.55345043],\n",
       "       [305.75453586],\n",
       "       [306.69822875],\n",
       "       [311.52482469],\n",
       "       [310.38452911],\n",
       "       [310.72858381],\n",
       "       [314.11998014],\n",
       "       [305.75453586],\n",
       "       [308.20912039],\n",
       "       [300.39711267],\n",
       "       [297.94940924],\n",
       "       [289.6822663 ],\n",
       "       [289.52498415],\n",
       "       [285.53394963],\n",
       "       [278.19280535],\n",
       "       [280.82531531],\n",
       "       [290.67510986],\n",
       "       [292.78858874],\n",
       "       [290.13445248],\n",
       "       [281.06123853],\n",
       "       [279.7341704 ],\n",
       "       [275.63991947],\n",
       "       [276.01346458],\n",
       "       [269.12745551],\n",
       "       [269.18643631],\n",
       "       [268.17393248],\n",
       "       [268.6949296 ],\n",
       "       [261.35673435],\n",
       "       [265.6574181 ],\n",
       "       [260.86031257],\n",
       "       [256.73165617],\n",
       "       [260.48676747],\n",
       "       [265.88351119],\n",
       "       [261.00776459],\n",
       "       [256.73165617],\n",
       "       [262.46262446],\n",
       "       [262.4871998 ],\n",
       "       [259.71018686],\n",
       "       [258.18651605],\n",
       "       [269.89420598],\n",
       "       [269.60421702],\n",
       "       [271.25076451],\n",
       "       [270.8182386 ],\n",
       "       [270.54299484],\n",
       "       [271.88972324],\n",
       "       [272.43677022],\n",
       "       [266.53230006],\n",
       "       [268.80306108],\n",
       "       [266.88618489],\n",
       "       [267.09261771],\n",
       "       [265.72622904],\n",
       "       [264.13374729],\n",
       "       [259.72984713],\n",
       "       [265.41166475],\n",
       "       [277.08986428],\n",
       "       [282.34898612],\n",
       "       [278.03355717],\n",
       "       [278.03355717],\n",
       "       [272.00768485],\n",
       "       [269.30439792],\n",
       "       [268.98000349],\n",
       "       [257.15435195],\n",
       "       [248.30723109],\n",
       "       [253.71380495],\n",
       "       [251.8952301 ],\n",
       "       [256.88893832],\n",
       "       [260.67354002],\n",
       "       [268.37053517],\n",
       "       [266.0014728 ],\n",
       "       [262.16772043],\n",
       "       [268.3508749 ],\n",
       "       [274.73063205],\n",
       "       [271.99785472],\n",
       "       [277.84678462],\n",
       "       [276.86377119],\n",
       "       [268.79323094],\n",
       "       [268.92593775],\n",
       "       [266.9746561 ],\n",
       "       [271.506348  ],\n",
       "       [272.95924185],\n",
       "       [275.70873041],\n",
       "       [276.9817328 ],\n",
       "       [274.71097178],\n",
       "       [274.77978272],\n",
       "       [273.34654914],\n",
       "       [274.48487869],\n",
       "       [275.47280719],\n",
       "       [283.4597913 ],\n",
       "       [285.76987286],\n",
       "       [279.06572127],\n",
       "       [280.15686618],\n",
       "       [286.00579608],\n",
       "       [285.13091413],\n",
       "       [279.03623087],\n",
       "       [275.95939884],\n",
       "       [277.2962971 ],\n",
       "       [278.03355717],\n",
       "       [268.54747758],\n",
       "       [270.90670981],\n",
       "       [272.54834224],\n",
       "       [271.03941663],\n",
       "       [274.47504856],\n",
       "       [277.58137099],\n",
       "       [274.99604568],\n",
       "       [277.62069153],\n",
       "       [277.08986428],\n",
       "       [273.44288446],\n",
       "       [273.07916949],\n",
       "       [289.56430469],\n",
       "       [293.57499948],\n",
       "       [291.55687291],\n",
       "       [280.84497558],\n",
       "       [263.30801601],\n",
       "       [264.72355535],\n",
       "       [274.45538829],\n",
       "       [276.47056582],\n",
       "       [278.6725159 ],\n",
       "       [278.6430255 ],\n",
       "       [282.96828458],\n",
       "       [278.68431206],\n",
       "       [279.7341704 ],\n",
       "       [279.42943624],\n",
       "       [263.20971467],\n",
       "       [265.63775784],\n",
       "       [267.45141761],\n",
       "       [267.67259563],\n",
       "       [277.52239019],\n",
       "       [277.48306965],\n",
       "       [270.22843055],\n",
       "       [264.64491427],\n",
       "       [259.95594022],\n",
       "       [259.42511297],\n",
       "       [261.95145748],\n",
       "       [262.36432312],\n",
       "       [261.39113982],\n",
       "       [265.46081542],\n",
       "       [262.14806016],\n",
       "       [258.04889417],\n",
       "       [259.61188552],\n",
       "       [249.78175123],\n",
       "       [246.93101229],\n",
       "       [255.54220992],\n",
       "       [253.62533374],\n",
       "       [247.95334625],\n",
       "       [258.63378716],\n",
       "       [258.51091048],\n",
       "       [267.36786147],\n",
       "       [270.69044686],\n",
       "       [270.96569062],\n",
       "       [270.09080867],\n",
       "       [275.44823185],\n",
       "       [275.70381535],\n",
       "       [271.29008505],\n",
       "       [286.98880951],\n",
       "       [295.58034687],\n",
       "       [298.42125568],\n",
       "       [294.32208968],\n",
       "       [293.57499948],\n",
       "       [294.60716358],\n",
       "       [299.67951287],\n",
       "       [283.79401586],\n",
       "       [272.40089023],\n",
       "       [271.08365223],\n",
       "       [268.74408027],\n",
       "       [261.67621372],\n",
       "       [261.56611621],\n",
       "       [261.13555633],\n",
       "       [262.65922715],\n",
       "       [262.46753953],\n",
       "       [261.72536439],\n",
       "       [259.18918974],\n",
       "       [260.38355106],\n",
       "       [268.10512154],\n",
       "       [264.21238836],\n",
       "       [249.4278664 ],\n",
       "       [250.55833184],\n",
       "       [251.90506024],\n",
       "       [252.97654487],\n",
       "       [256.09269744],\n",
       "       [230.92755367],\n",
       "       [231.83192602],\n",
       "       [235.26264289],\n",
       "       [232.14649032],\n",
       "       [230.89806327],\n",
       "       [240.17771003],\n",
       "       [240.79700849],\n",
       "       [246.65576853],\n",
       "       [240.60040581],\n",
       "       [241.52443843],\n",
       "       [238.57539814],\n",
       "       [242.06509582],\n",
       "       [237.35646149],\n",
       "       [247.42743407],\n",
       "       [244.16382949],\n",
       "       [245.45649214],\n",
       "       [238.68352962],\n",
       "       [239.96144708],\n",
       "       [234.40742121],\n",
       "       [239.55841157],\n",
       "       [229.23677057],\n",
       "       [221.46113435],\n",
       "       [210.80526878],\n",
       "       [233.30644617],\n",
       "       [235.25281276],\n",
       "       [241.72104112],\n",
       "       [241.79968219],\n",
       "       [239.12588566],\n",
       "       [238.36896532],\n",
       "       [235.61652772],\n",
       "       [235.62635786],\n",
       "       [237.7300066 ],\n",
       "       [225.88469478],\n",
       "       [230.61298937],\n",
       "       [230.65230991],\n",
       "       [241.48511789],\n",
       "       [232.20547113],\n",
       "       [229.75776769],\n",
       "       [227.47717653],\n",
       "       [230.27876481],\n",
       "       [232.78544905],\n",
       "       [231.63532334],\n",
       "       [225.39318807],\n",
       "       [225.99282626],\n",
       "       [225.10811417],\n",
       "       [229.79708823],\n",
       "       [240.31533191]])"
      ]
     },
     "execution_count": 29,
     "metadata": {},
     "output_type": "execute_result"
    }
   ],
   "source": [
    "# Predicting the price\n",
    "lr.predict(X_ls)"
   ]
  },
  {
   "cell_type": "code",
   "execution_count": 32,
   "metadata": {},
   "outputs": [
    {
     "data": {
      "text/plain": [
       "Text(0.5, 1.0, '1 Year CLosing Price vs Predicted Closing Price')"
      ]
     },
     "execution_count": 32,
     "metadata": {},
     "output_type": "execute_result"
    },
    {
     "data": {
      "image/png": "[encoded data removed]",
      "text/plain": [
       "<Figure size 864x576 with 1 Axes>"
      ]
     },
     "metadata": {
      "needs_background": "light"
     },
     "output_type": "display_data"
    }
   ],
   "source": [
    "plt.figure(figsize=(12,8))\n",
    "plt.scatter(FB_df_ls['Close/Last'], lr.predict(X_ls))\n",
    "plt.plot(X_ls, lr.predict(X_ls), color = 'red')\n",
    "plt.xlabel('Closing Price')\n",
    "plt.ylabel('Predicted Closing Price')\n",
    "plt.savefig('images/FB_ls.jpg', dpi=40)\n",
    "plt.grid()\n",
    "plt.title('1 Year CLosing Price vs Predicted Closing Price')"
   ]
  },
  {
   "cell_type": "code",
   "execution_count": null,
   "metadata": {},
   "outputs": [],
   "source": []
  }
 ],
 "metadata": {
  "kernelspec": {
   "display_name": "Python 3",
   "language": "python",
   "name": "python3"
  },
  "language_info": {
   "codemirror_mode": {
    "name": "ipython",
    "version": 3
   },
   "file_extension": ".py",
   "mimetype": "text/x-python",
   "name": "python",
   "nbconvert_exporter": "python",
   "pygments_lexer": "ipython3",
   "version": "3.8.5"
  }
 },
 "nbformat": 4,
 "nbformat_minor": 4
}
