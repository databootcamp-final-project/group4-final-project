{
 "cells": [
  {
   "cell_type": "markdown",
   "metadata": {},
   "source": [
    "### DEPENDENCIES"
   ]
  },
  {
   "cell_type": "code",
   "execution_count": 1,
   "metadata": {},
   "outputs": [],
   "source": [
    "#dependencies\n",
    "import pandas as pd\n",
    "import numpy as np\n",
    "import matplotlib.pyplot as plt\n",
    "import datetime\n",
    "import os\n",
    "import tensorflow as tf\n",
    "from tensorflow import keras\n",
    "from tensorflow.keras.utils import to_categorical\n",
    "from tensorflow.keras.models import Sequential\n",
    "from tensorflow.keras.layers import Dense\n",
    "from sklearn.model_selection import train_test_split\n",
    "from sklearn.preprocessing import LabelEncoder, MinMaxScaler\n",
    "from sklearn import model_selection\n",
    "from sklearn.svm import SVC\n",
    "from sklearn.linear_model import LinearRegression"
   ]
  },
  {
   "cell_type": "markdown",
   "metadata": {},
   "source": [
    "### IMPORT CSV"
   ]
  },
  {
   "cell_type": "code",
   "execution_count": 2,
   "metadata": {
    "scrolled": false
   },
   "outputs": [
    {
     "data": {
      "text/html": [
       "<div>\n",
       "<style scoped>\n",
       "    .dataframe tbody tr th:only-of-type {\n",
       "        vertical-align: middle;\n",
       "    }\n",
       "\n",
       "    .dataframe tbody tr th {\n",
       "        vertical-align: top;\n",
       "    }\n",
       "\n",
       "    .dataframe thead th {\n",
       "        text-align: right;\n",
       "    }\n",
       "</style>\n",
       "<table border=\"1\" class=\"dataframe\">\n",
       "  <thead>\n",
       "    <tr style=\"text-align: right;\">\n",
       "      <th></th>\n",
       "      <th>Date</th>\n",
       "      <th>Close/Last</th>\n",
       "      <th>Volume</th>\n",
       "      <th>Open</th>\n",
       "      <th>High</th>\n",
       "      <th>Low</th>\n",
       "    </tr>\n",
       "  </thead>\n",
       "  <tbody>\n",
       "    <tr>\n",
       "      <th>0</th>\n",
       "      <td>05/24/2021</td>\n",
       "      <td>$324.63</td>\n",
       "      <td>16445360</td>\n",
       "      <td>$318.21</td>\n",
       "      <td>$325.95</td>\n",
       "      <td>$318.03</td>\n",
       "    </tr>\n",
       "    <tr>\n",
       "      <th>1</th>\n",
       "      <td>05/21/2021</td>\n",
       "      <td>$316.23</td>\n",
       "      <td>13600900</td>\n",
       "      <td>$319.29</td>\n",
       "      <td>$319.93</td>\n",
       "      <td>$315.8101</td>\n",
       "    </tr>\n",
       "    <tr>\n",
       "      <th>2</th>\n",
       "      <td>05/20/2021</td>\n",
       "      <td>$318.61</td>\n",
       "      <td>17320240</td>\n",
       "      <td>$313.58</td>\n",
       "      <td>$319.25</td>\n",
       "      <td>$313.16</td>\n",
       "    </tr>\n",
       "    <tr>\n",
       "      <th>3</th>\n",
       "      <td>05/19/2021</td>\n",
       "      <td>$313.59</td>\n",
       "      <td>19106240</td>\n",
       "      <td>$304.185</td>\n",
       "      <td>$314.66</td>\n",
       "      <td>$303.57</td>\n",
       "    </tr>\n",
       "    <tr>\n",
       "      <th>4</th>\n",
       "      <td>05/18/2021</td>\n",
       "      <td>$309.96</td>\n",
       "      <td>14522400</td>\n",
       "      <td>$315.59</td>\n",
       "      <td>$316.5</td>\n",
       "      <td>$309.81</td>\n",
       "    </tr>\n",
       "  </tbody>\n",
       "</table>\n",
       "</div>"
      ],
      "text/plain": [
       "         Date Close/Last    Volume      Open     High        Low\n",
       "0  05/24/2021    $324.63  16445360   $318.21  $325.95    $318.03\n",
       "1  05/21/2021    $316.23  13600900   $319.29  $319.93  $315.8101\n",
       "2  05/20/2021    $318.61  17320240   $313.58  $319.25    $313.16\n",
       "3  05/19/2021    $313.59  19106240  $304.185  $314.66    $303.57\n",
       "4  05/18/2021    $309.96  14522400   $315.59   $316.5    $309.81"
      ]
     },
     "execution_count": 2,
     "metadata": {},
     "output_type": "execute_result"
    }
   ],
   "source": [
    "#load assesment file\n",
    "\n",
    "fb = \"resources/HistoricalData_fb.csv\"\n",
    "fb_df = pd.read_csv(fb)\n",
    "fb_df.head()"
   ]
  },
  {
   "cell_type": "markdown",
   "metadata": {},
   "source": [
    "### CLEAN, RESHAPE AND CONVERT DATATYPE"
   ]
  },
  {
   "cell_type": "code",
   "execution_count": 3,
   "metadata": {},
   "outputs": [],
   "source": [
    "fb_df['Date']= pd.to_datetime(fb_df['Date'])\n",
    "fb_df['Close/Last'] = fb_df['Close/Last'].str.replace('$','')\n",
    "fb_df['Open'] = fb_df['Open'].str.replace('$','')\n",
    "fb_df['High'] = fb_df['High'].str.replace('$','')\n",
    "fb_df['Low'] = fb_df['Low'].str.replace('$','')\n",
    "fb_df = fb_df.apply( pd.to_numeric)"
   ]
  },
  {
   "cell_type": "markdown",
   "metadata": {},
   "source": [
    "### FORMAT DATE COLUMN"
   ]
  },
  {
   "cell_type": "code",
   "execution_count": 4,
   "metadata": {
    "scrolled": true
   },
   "outputs": [
    {
     "data": {
      "text/html": [
       "<div>\n",
       "<style scoped>\n",
       "    .dataframe tbody tr th:only-of-type {\n",
       "        vertical-align: middle;\n",
       "    }\n",
       "\n",
       "    .dataframe tbody tr th {\n",
       "        vertical-align: top;\n",
       "    }\n",
       "\n",
       "    .dataframe thead th {\n",
       "        text-align: right;\n",
       "    }\n",
       "</style>\n",
       "<table border=\"1\" class=\"dataframe\">\n",
       "  <thead>\n",
       "    <tr style=\"text-align: right;\">\n",
       "      <th></th>\n",
       "      <th>Date</th>\n",
       "      <th>Close/Last</th>\n",
       "      <th>Volume</th>\n",
       "      <th>Open</th>\n",
       "      <th>High</th>\n",
       "      <th>Low</th>\n",
       "    </tr>\n",
       "  </thead>\n",
       "  <tbody>\n",
       "    <tr>\n",
       "      <th>0</th>\n",
       "      <td>2021-05-24</td>\n",
       "      <td>324.63</td>\n",
       "      <td>16445360</td>\n",
       "      <td>318.210</td>\n",
       "      <td>325.95</td>\n",
       "      <td>318.0300</td>\n",
       "    </tr>\n",
       "    <tr>\n",
       "      <th>1</th>\n",
       "      <td>2021-05-21</td>\n",
       "      <td>316.23</td>\n",
       "      <td>13600900</td>\n",
       "      <td>319.290</td>\n",
       "      <td>319.93</td>\n",
       "      <td>315.8101</td>\n",
       "    </tr>\n",
       "    <tr>\n",
       "      <th>2</th>\n",
       "      <td>2021-05-20</td>\n",
       "      <td>318.61</td>\n",
       "      <td>17320240</td>\n",
       "      <td>313.580</td>\n",
       "      <td>319.25</td>\n",
       "      <td>313.1600</td>\n",
       "    </tr>\n",
       "    <tr>\n",
       "      <th>3</th>\n",
       "      <td>2021-05-19</td>\n",
       "      <td>313.59</td>\n",
       "      <td>19106240</td>\n",
       "      <td>304.185</td>\n",
       "      <td>314.66</td>\n",
       "      <td>303.5700</td>\n",
       "    </tr>\n",
       "    <tr>\n",
       "      <th>4</th>\n",
       "      <td>2021-05-18</td>\n",
       "      <td>309.96</td>\n",
       "      <td>14522400</td>\n",
       "      <td>315.590</td>\n",
       "      <td>316.50</td>\n",
       "      <td>309.8100</td>\n",
       "    </tr>\n",
       "  </tbody>\n",
       "</table>\n",
       "</div>"
      ],
      "text/plain": [
       "        Date  Close/Last    Volume     Open    High       Low\n",
       "0 2021-05-24      324.63  16445360  318.210  325.95  318.0300\n",
       "1 2021-05-21      316.23  13600900  319.290  319.93  315.8101\n",
       "2 2021-05-20      318.61  17320240  313.580  319.25  313.1600\n",
       "3 2021-05-19      313.59  19106240  304.185  314.66  303.5700\n",
       "4 2021-05-18      309.96  14522400  315.590  316.50  309.8100"
      ]
     },
     "execution_count": 4,
     "metadata": {},
     "output_type": "execute_result"
    }
   ],
   "source": [
    "fb_df['Date']= pd.to_datetime(fb_df['Date'])\n",
    "fb_df.head()"
   ]
  },
  {
   "cell_type": "markdown",
   "metadata": {},
   "source": [
    "### CREATE ADDITIONAL DATA"
   ]
  },
  {
   "cell_type": "code",
   "execution_count": 5,
   "metadata": {},
   "outputs": [
    {
     "data": {
      "text/html": [
       "<div>\n",
       "<style scoped>\n",
       "    .dataframe tbody tr th:only-of-type {\n",
       "        vertical-align: middle;\n",
       "    }\n",
       "\n",
       "    .dataframe tbody tr th {\n",
       "        vertical-align: top;\n",
       "    }\n",
       "\n",
       "    .dataframe thead th {\n",
       "        text-align: right;\n",
       "    }\n",
       "</style>\n",
       "<table border=\"1\" class=\"dataframe\">\n",
       "  <thead>\n",
       "    <tr style=\"text-align: right;\">\n",
       "      <th></th>\n",
       "      <th>Date</th>\n",
       "      <th>Close/Last</th>\n",
       "      <th>Volume</th>\n",
       "      <th>Open</th>\n",
       "      <th>High</th>\n",
       "      <th>Low</th>\n",
       "      <th>Open_Close</th>\n",
       "      <th>High_Low</th>\n",
       "      <th>Increase_Decrease</th>\n",
       "      <th>Buy_Sell_on_Open</th>\n",
       "      <th>Buy_Sell</th>\n",
       "      <th>Returns</th>\n",
       "    </tr>\n",
       "  </thead>\n",
       "  <tbody>\n",
       "    <tr>\n",
       "      <th>1</th>\n",
       "      <td>2021-05-21</td>\n",
       "      <td>316.23</td>\n",
       "      <td>13600900</td>\n",
       "      <td>319.290</td>\n",
       "      <td>319.93</td>\n",
       "      <td>315.8101</td>\n",
       "      <td>0.009584</td>\n",
       "      <td>0.013045</td>\n",
       "      <td>1</td>\n",
       "      <td>0</td>\n",
       "      <td>1</td>\n",
       "      <td>-0.025876</td>\n",
       "    </tr>\n",
       "    <tr>\n",
       "      <th>2</th>\n",
       "      <td>2021-05-20</td>\n",
       "      <td>318.61</td>\n",
       "      <td>17320240</td>\n",
       "      <td>313.580</td>\n",
       "      <td>319.25</td>\n",
       "      <td>313.1600</td>\n",
       "      <td>-0.016041</td>\n",
       "      <td>0.019447</td>\n",
       "      <td>1</td>\n",
       "      <td>0</td>\n",
       "      <td>0</td>\n",
       "      <td>0.007526</td>\n",
       "    </tr>\n",
       "    <tr>\n",
       "      <th>3</th>\n",
       "      <td>2021-05-19</td>\n",
       "      <td>313.59</td>\n",
       "      <td>19106240</td>\n",
       "      <td>304.185</td>\n",
       "      <td>314.66</td>\n",
       "      <td>303.5700</td>\n",
       "      <td>-0.030919</td>\n",
       "      <td>0.036532</td>\n",
       "      <td>0</td>\n",
       "      <td>1</td>\n",
       "      <td>0</td>\n",
       "      <td>-0.015756</td>\n",
       "    </tr>\n",
       "    <tr>\n",
       "      <th>4</th>\n",
       "      <td>2021-05-18</td>\n",
       "      <td>309.96</td>\n",
       "      <td>14522400</td>\n",
       "      <td>315.590</td>\n",
       "      <td>316.50</td>\n",
       "      <td>309.8100</td>\n",
       "      <td>0.017840</td>\n",
       "      <td>0.021594</td>\n",
       "      <td>1</td>\n",
       "      <td>0</td>\n",
       "      <td>1</td>\n",
       "      <td>-0.011576</td>\n",
       "    </tr>\n",
       "    <tr>\n",
       "      <th>5</th>\n",
       "      <td>2021-05-17</td>\n",
       "      <td>315.46</td>\n",
       "      <td>15371050</td>\n",
       "      <td>313.550</td>\n",
       "      <td>315.68</td>\n",
       "      <td>311.5800</td>\n",
       "      <td>-0.006092</td>\n",
       "      <td>0.013159</td>\n",
       "      <td>1</td>\n",
       "      <td>0</td>\n",
       "      <td>1</td>\n",
       "      <td>0.017744</td>\n",
       "    </tr>\n",
       "  </tbody>\n",
       "</table>\n",
       "</div>"
      ],
      "text/plain": [
       "        Date  Close/Last    Volume     Open    High       Low  Open_Close  \\\n",
       "1 2021-05-21      316.23  13600900  319.290  319.93  315.8101    0.009584   \n",
       "2 2021-05-20      318.61  17320240  313.580  319.25  313.1600   -0.016041   \n",
       "3 2021-05-19      313.59  19106240  304.185  314.66  303.5700   -0.030919   \n",
       "4 2021-05-18      309.96  14522400  315.590  316.50  309.8100    0.017840   \n",
       "5 2021-05-17      315.46  15371050  313.550  315.68  311.5800   -0.006092   \n",
       "\n",
       "   High_Low  Increase_Decrease  Buy_Sell_on_Open  Buy_Sell   Returns  \n",
       "1  0.013045                  1                 0         1 -0.025876  \n",
       "2  0.019447                  1                 0         0  0.007526  \n",
       "3  0.036532                  0                 1         0 -0.015756  \n",
       "4  0.021594                  1                 0         1 -0.011576  \n",
       "5  0.013159                  1                 0         1  0.017744  "
      ]
     },
     "execution_count": 5,
     "metadata": {},
     "output_type": "execute_result"
    }
   ],
   "source": [
    "fb_df['Open_Close'] = (fb_df['Open'] - fb_df['Close/Last'])/fb_df['Open']\n",
    "fb_df['High_Low'] = (fb_df['High'] - fb_df['Low'])/fb_df['Low']\n",
    "fb_df['Increase_Decrease'] = np.where(fb_df['Volume'].shift(-1) > fb_df['Volume'],1,0)\n",
    "fb_df['Buy_Sell_on_Open'] = np.where(fb_df['Open'].shift(-1) > fb_df['Open'],1,0)\n",
    "fb_df['Buy_Sell'] = np.where(fb_df['Close/Last'].shift(-1) > fb_df['Close/Last'],1,0)\n",
    "fb_df['Returns'] = fb_df['Close/Last'].pct_change()\n",
    "fb_df = fb_df.dropna()\n",
    "fb_df.head()"
   ]
  },
  {
   "cell_type": "markdown",
   "metadata": {},
   "source": [
    "### SPLIT DATAFRAME"
   ]
  },
  {
   "cell_type": "code",
   "execution_count": 6,
   "metadata": {
    "scrolled": true
   },
   "outputs": [
    {
     "data": {
      "text/html": [
       "<div>\n",
       "<style scoped>\n",
       "    .dataframe tbody tr th:only-of-type {\n",
       "        vertical-align: middle;\n",
       "    }\n",
       "\n",
       "    .dataframe tbody tr th {\n",
       "        vertical-align: top;\n",
       "    }\n",
       "\n",
       "    .dataframe thead th {\n",
       "        text-align: right;\n",
       "    }\n",
       "</style>\n",
       "<table border=\"1\" class=\"dataframe\">\n",
       "  <thead>\n",
       "    <tr style=\"text-align: right;\">\n",
       "      <th></th>\n",
       "      <th>Date</th>\n",
       "      <th>Close/Last</th>\n",
       "      <th>Volume</th>\n",
       "      <th>Open</th>\n",
       "      <th>High</th>\n",
       "      <th>Low</th>\n",
       "      <th>Open_Close</th>\n",
       "      <th>High_Low</th>\n",
       "      <th>Increase_Decrease</th>\n",
       "      <th>Buy_Sell_on_Open</th>\n",
       "      <th>Buy_Sell</th>\n",
       "      <th>Returns</th>\n",
       "    </tr>\n",
       "  </thead>\n",
       "  <tbody>\n",
       "    <tr>\n",
       "      <th>252</th>\n",
       "      <td>2020-05-22</td>\n",
       "      <td>234.91</td>\n",
       "      <td>33925560</td>\n",
       "      <td>231.51</td>\n",
       "      <td>235.9900</td>\n",
       "      <td>228.74</td>\n",
       "      <td>-0.014686</td>\n",
       "      <td>0.031695</td>\n",
       "      <td>1</td>\n",
       "      <td>1</td>\n",
       "      <td>0</td>\n",
       "      <td>0.011671</td>\n",
       "    </tr>\n",
       "    <tr>\n",
       "      <th>253</th>\n",
       "      <td>2020-05-21</td>\n",
       "      <td>231.39</td>\n",
       "      <td>47782640</td>\n",
       "      <td>234.72</td>\n",
       "      <td>237.2000</td>\n",
       "      <td>231.20</td>\n",
       "      <td>0.014187</td>\n",
       "      <td>0.025952</td>\n",
       "      <td>1</td>\n",
       "      <td>0</td>\n",
       "      <td>0</td>\n",
       "      <td>-0.014984</td>\n",
       "    </tr>\n",
       "    <tr>\n",
       "      <th>254</th>\n",
       "      <td>2020-05-20</td>\n",
       "      <td>229.97</td>\n",
       "      <td>50162880</td>\n",
       "      <td>223.50</td>\n",
       "      <td>231.3400</td>\n",
       "      <td>223.19</td>\n",
       "      <td>-0.028949</td>\n",
       "      <td>0.036516</td>\n",
       "      <td>0</td>\n",
       "      <td>0</td>\n",
       "      <td>0</td>\n",
       "      <td>-0.006137</td>\n",
       "    </tr>\n",
       "    <tr>\n",
       "      <th>255</th>\n",
       "      <td>2020-05-19</td>\n",
       "      <td>216.88</td>\n",
       "      <td>31843150</td>\n",
       "      <td>213.27</td>\n",
       "      <td>220.4900</td>\n",
       "      <td>212.83</td>\n",
       "      <td>-0.016927</td>\n",
       "      <td>0.035991</td>\n",
       "      <td>0</td>\n",
       "      <td>0</td>\n",
       "      <td>0</td>\n",
       "      <td>-0.056920</td>\n",
       "    </tr>\n",
       "    <tr>\n",
       "      <th>256</th>\n",
       "      <td>2020-05-18</td>\n",
       "      <td>213.19</td>\n",
       "      <td>20167440</td>\n",
       "      <td>212.15</td>\n",
       "      <td>214.6445</td>\n",
       "      <td>210.94</td>\n",
       "      <td>-0.004902</td>\n",
       "      <td>0.017562</td>\n",
       "      <td>0</td>\n",
       "      <td>0</td>\n",
       "      <td>0</td>\n",
       "      <td>-0.017014</td>\n",
       "    </tr>\n",
       "  </tbody>\n",
       "</table>\n",
       "</div>"
      ],
      "text/plain": [
       "          Date  Close/Last    Volume    Open      High     Low  Open_Close  \\\n",
       "252 2020-05-22      234.91  33925560  231.51  235.9900  228.74   -0.014686   \n",
       "253 2020-05-21      231.39  47782640  234.72  237.2000  231.20    0.014187   \n",
       "254 2020-05-20      229.97  50162880  223.50  231.3400  223.19   -0.028949   \n",
       "255 2020-05-19      216.88  31843150  213.27  220.4900  212.83   -0.016927   \n",
       "256 2020-05-18      213.19  20167440  212.15  214.6445  210.94   -0.004902   \n",
       "\n",
       "     High_Low  Increase_Decrease  Buy_Sell_on_Open  Buy_Sell   Returns  \n",
       "252  0.031695                  1                 1         0  0.011671  \n",
       "253  0.025952                  1                 0         0 -0.014984  \n",
       "254  0.036516                  0                 0         0 -0.006137  \n",
       "255  0.035991                  0                 0         0 -0.056920  \n",
       "256  0.017562                  0                 0         0 -0.017014  "
      ]
     },
     "execution_count": 6,
     "metadata": {},
     "output_type": "execute_result"
    }
   ],
   "source": [
    "#setup datetime for first 4 years\n",
    "start_date = \"2016-05-24\"\n",
    "end_date = \"2020-05-24\"\n",
    "\n",
    "after_start_date = fb_df[\"Date\"] >= start_date\n",
    "before_end_date = fb_df[\"Date\"] <= end_date\n",
    "between_two_dates = after_start_date & before_end_date\n",
    "fb_df_4 = fb_df.loc[between_two_dates]\n",
    "fb_df_4.head()"
   ]
  },
  {
   "cell_type": "markdown",
   "metadata": {},
   "source": [
    "### SPLIT DATAFRAME"
   ]
  },
  {
   "cell_type": "code",
   "execution_count": 7,
   "metadata": {
    "scrolled": true
   },
   "outputs": [
    {
     "data": {
      "text/html": [
       "<div>\n",
       "<style scoped>\n",
       "    .dataframe tbody tr th:only-of-type {\n",
       "        vertical-align: middle;\n",
       "    }\n",
       "\n",
       "    .dataframe tbody tr th {\n",
       "        vertical-align: top;\n",
       "    }\n",
       "\n",
       "    .dataframe thead th {\n",
       "        text-align: right;\n",
       "    }\n",
       "</style>\n",
       "<table border=\"1\" class=\"dataframe\">\n",
       "  <thead>\n",
       "    <tr style=\"text-align: right;\">\n",
       "      <th></th>\n",
       "      <th>Date</th>\n",
       "      <th>Close/Last</th>\n",
       "      <th>Volume</th>\n",
       "      <th>Open</th>\n",
       "      <th>High</th>\n",
       "      <th>Low</th>\n",
       "      <th>Open_Close</th>\n",
       "      <th>High_Low</th>\n",
       "      <th>Increase_Decrease</th>\n",
       "      <th>Buy_Sell_on_Open</th>\n",
       "      <th>Buy_Sell</th>\n",
       "      <th>Returns</th>\n",
       "    </tr>\n",
       "  </thead>\n",
       "  <tbody>\n",
       "    <tr>\n",
       "      <th>1</th>\n",
       "      <td>2021-05-21</td>\n",
       "      <td>316.23</td>\n",
       "      <td>13600900</td>\n",
       "      <td>319.290</td>\n",
       "      <td>319.93</td>\n",
       "      <td>315.8101</td>\n",
       "      <td>0.009584</td>\n",
       "      <td>0.013045</td>\n",
       "      <td>1</td>\n",
       "      <td>0</td>\n",
       "      <td>1</td>\n",
       "      <td>-0.025876</td>\n",
       "    </tr>\n",
       "    <tr>\n",
       "      <th>2</th>\n",
       "      <td>2021-05-20</td>\n",
       "      <td>318.61</td>\n",
       "      <td>17320240</td>\n",
       "      <td>313.580</td>\n",
       "      <td>319.25</td>\n",
       "      <td>313.1600</td>\n",
       "      <td>-0.016041</td>\n",
       "      <td>0.019447</td>\n",
       "      <td>1</td>\n",
       "      <td>0</td>\n",
       "      <td>0</td>\n",
       "      <td>0.007526</td>\n",
       "    </tr>\n",
       "    <tr>\n",
       "      <th>3</th>\n",
       "      <td>2021-05-19</td>\n",
       "      <td>313.59</td>\n",
       "      <td>19106240</td>\n",
       "      <td>304.185</td>\n",
       "      <td>314.66</td>\n",
       "      <td>303.5700</td>\n",
       "      <td>-0.030919</td>\n",
       "      <td>0.036532</td>\n",
       "      <td>0</td>\n",
       "      <td>1</td>\n",
       "      <td>0</td>\n",
       "      <td>-0.015756</td>\n",
       "    </tr>\n",
       "    <tr>\n",
       "      <th>4</th>\n",
       "      <td>2021-05-18</td>\n",
       "      <td>309.96</td>\n",
       "      <td>14522400</td>\n",
       "      <td>315.590</td>\n",
       "      <td>316.50</td>\n",
       "      <td>309.8100</td>\n",
       "      <td>0.017840</td>\n",
       "      <td>0.021594</td>\n",
       "      <td>1</td>\n",
       "      <td>0</td>\n",
       "      <td>1</td>\n",
       "      <td>-0.011576</td>\n",
       "    </tr>\n",
       "    <tr>\n",
       "      <th>5</th>\n",
       "      <td>2021-05-17</td>\n",
       "      <td>315.46</td>\n",
       "      <td>15371050</td>\n",
       "      <td>313.550</td>\n",
       "      <td>315.68</td>\n",
       "      <td>311.5800</td>\n",
       "      <td>-0.006092</td>\n",
       "      <td>0.013159</td>\n",
       "      <td>1</td>\n",
       "      <td>0</td>\n",
       "      <td>1</td>\n",
       "      <td>0.017744</td>\n",
       "    </tr>\n",
       "  </tbody>\n",
       "</table>\n",
       "</div>"
      ],
      "text/plain": [
       "        Date  Close/Last    Volume     Open    High       Low  Open_Close  \\\n",
       "1 2021-05-21      316.23  13600900  319.290  319.93  315.8101    0.009584   \n",
       "2 2021-05-20      318.61  17320240  313.580  319.25  313.1600   -0.016041   \n",
       "3 2021-05-19      313.59  19106240  304.185  314.66  303.5700   -0.030919   \n",
       "4 2021-05-18      309.96  14522400  315.590  316.50  309.8100    0.017840   \n",
       "5 2021-05-17      315.46  15371050  313.550  315.68  311.5800   -0.006092   \n",
       "\n",
       "   High_Low  Increase_Decrease  Buy_Sell_on_Open  Buy_Sell   Returns  \n",
       "1  0.013045                  1                 0         1 -0.025876  \n",
       "2  0.019447                  1                 0         0  0.007526  \n",
       "3  0.036532                  0                 1         0 -0.015756  \n",
       "4  0.021594                  1                 0         1 -0.011576  \n",
       "5  0.013159                  1                 0         1  0.017744  "
      ]
     },
     "execution_count": 7,
     "metadata": {},
     "output_type": "execute_result"
    }
   ],
   "source": [
    "#setup datetime for last year\n",
    "start_date = \"2020-05-25\"\n",
    "end_date = \"2021-05-24\"\n",
    "\n",
    "after_start_date = fb_df[\"Date\"] >= start_date\n",
    "before_end_date = fb_df[\"Date\"] <= end_date\n",
    "between_two_dates = after_start_date & before_end_date\n",
    "fb_df_ls = fb_df.loc[between_two_dates]\n",
    "fb_df_ls.head()"
   ]
  },
  {
   "cell_type": "markdown",
   "metadata": {},
   "source": [
    "### PLOT 1ST  DF (4YEARS)"
   ]
  },
  {
   "cell_type": "code",
   "execution_count": 8,
   "metadata": {
    "scrolled": false
   },
   "outputs": [
    {
     "data": {
      "image/png": "[encoded data removed]",
      "text/plain": [
       "<Figure size 864x576 with 1 Axes>"
      ]
     },
     "metadata": {
      "needs_background": "light"
     },
     "output_type": "display_data"
    }
   ],
   "source": [
    "plt.figure(figsize=(12,8))\n",
    "plt.plot(fb_df_4['Close/Last'])\n",
    "plt.title(\"Facebook Line Chart\")\n",
    "plt.xlabel(\"Date\")\n",
    "plt.ylabel(\"Close\")\n",
    "plt.show()"
   ]
  },
  {
   "cell_type": "markdown",
   "metadata": {},
   "source": [
    "### PLOT SECOND DF (LAST YEAR)"
   ]
  },
  {
   "cell_type": "code",
   "execution_count": 9,
   "metadata": {},
   "outputs": [
    {
     "data": {
      "image/png": "[encoded data removed]",
      "text/plain": [
       "<Figure size 864x576 with 1 Axes>"
      ]
     },
     "metadata": {
      "needs_background": "light"
     },
     "output_type": "display_data"
    }
   ],
   "source": [
    "plt.figure(figsize=(12,8))\n",
    "plt.plot(fb_df_ls['Close/Last'])\n",
    "plt.title(\"Facebook Line Chart\")\n",
    "plt.xlabel(\"Date\")\n",
    "plt.ylabel(\"Close\")\n",
    "plt.show()"
   ]
  },
  {
   "cell_type": "markdown",
   "metadata": {},
   "source": [
    "### SHAPPING, FITTING, TRAINING, TESTING ML ON 1ST DF"
   ]
  },
  {
   "cell_type": "code",
   "execution_count": 11,
   "metadata": {
    "scrolled": true
   },
   "outputs": [
    {
     "data": {
      "text/plain": [
       "(1006, 12)"
      ]
     },
     "execution_count": 11,
     "metadata": {},
     "output_type": "execute_result"
    }
   ],
   "source": [
    "fb_df_4.shape"
   ]
  },
  {
   "cell_type": "code",
   "execution_count": 13,
   "metadata": {},
   "outputs": [],
   "source": [
    "X = np.array(fb_df_4['Open']).reshape(1006,-1)\n",
    "Y = np.array(fb_df_4['Close/Last']).reshape(1006,-1)"
   ]
  },
  {
   "cell_type": "code",
   "execution_count": 14,
   "metadata": {},
   "outputs": [],
   "source": [
    "lr = LinearRegression()"
   ]
  },
  {
   "cell_type": "code",
   "execution_count": 15,
   "metadata": {},
   "outputs": [
    {
     "data": {
      "text/plain": [
       "LinearRegression()"
      ]
     },
     "execution_count": 15,
     "metadata": {},
     "output_type": "execute_result"
    }
   ],
   "source": [
    "lr.fit(X, Y)"
   ]
  },
  {
   "cell_type": "code",
   "execution_count": 16,
   "metadata": {},
   "outputs": [
    {
     "name": "stdout",
     "output_type": "stream",
     "text": [
      "Linear Regression intercept: [0.30037687]\n",
      "coefficient count: 1\n"
     ]
    }
   ],
   "source": [
    "print('Linear Regression intercept:', lr.intercept_)\n",
    "print('coefficient count:', len(lr.coef_))"
   ]
  },
  {
   "cell_type": "code",
   "execution_count": 17,
   "metadata": {},
   "outputs": [
    {
     "name": "stdout",
     "output_type": "stream",
     "text": [
      "Accuracy: 0.992608787883672\n"
     ]
    }
   ],
   "source": [
    "from sklearn.metrics import accuracy_score\n",
    "print('Accuracy:', lr.score(X, Y))"
   ]
  },
  {
   "cell_type": "code",
   "execution_count": 18,
   "metadata": {
    "scrolled": true
   },
   "outputs": [
    {
     "data": {
      "text/plain": [
       "array([[231.52151514],\n",
       "       [234.72750993],\n",
       "       [223.52150945],\n",
       "       ...,\n",
       "       [119.7111984 ],\n",
       "       [118.3928454 ],\n",
       "       [118.28298265]])"
      ]
     },
     "execution_count": 18,
     "metadata": {},
     "output_type": "execute_result"
    }
   ],
   "source": [
    "# Predicting the price\n",
    "lr.predict(X)"
   ]
  },
  {
   "cell_type": "code",
   "execution_count": 19,
   "metadata": {},
   "outputs": [
    {
     "data": {
      "text/plain": [
       "252         NaN\n",
       "253   -0.014984\n",
       "254   -0.006137\n",
       "255   -0.056920\n",
       "256   -0.017014\n",
       "Name: Close/Last, dtype: float64"
      ]
     },
     "execution_count": 19,
     "metadata": {},
     "output_type": "execute_result"
    }
   ],
   "source": [
    "#daily Return\n",
    "DA_RE = fb_df_4['Close/Last'].pct_change(1)\n",
    "DA_RE.head()"
   ]
  },
  {
   "cell_type": "code",
   "execution_count": 20,
   "metadata": {},
   "outputs": [
    {
     "data": {
      "text/plain": [
       "Text(0.5, 1.0, '4 Years CLosing Price vs Predicted Closing Price')"
      ]
     },
     "execution_count": 20,
     "metadata": {},
     "output_type": "execute_result"
    },
    {
     "data": {
      "image/png": "[encoded data removed]",
      "text/plain": [
       "<Figure size 864x576 with 1 Axes>"
      ]
     },
     "metadata": {
      "needs_background": "light"
     },
     "output_type": "display_data"
    }
   ],
   "source": [
    "plt.figure(figsize=(12,8))\n",
    "plt.scatter(fb_df_4['Close/Last'], lr.predict(X))\n",
    "plt.plot(X, lr.predict(X), color = 'red')\n",
    "plt.xlabel('Closing Price')\n",
    "plt.ylabel('Predicted Closing Price')\n",
    "plt.savefig('images/fb_4y.jpg', dpi=40)\n",
    "plt.grid()\n",
    "plt.title('4 Years CLosing Price vs Predicted Closing Price')"
   ]
  },
  {
   "cell_type": "markdown",
   "metadata": {},
   "source": [
    "### TRAINING, TESTING ML ON 2ND DF"
   ]
  },
  {
   "cell_type": "code",
   "execution_count": 22,
   "metadata": {},
   "outputs": [
    {
     "data": {
      "text/plain": [
       "(251, 12)"
      ]
     },
     "execution_count": 22,
     "metadata": {},
     "output_type": "execute_result"
    }
   ],
   "source": [
    "fb_df_ls.shape"
   ]
  },
  {
   "cell_type": "code",
   "execution_count": 24,
   "metadata": {},
   "outputs": [],
   "source": [
    "X_ls = np.array(fb_df_ls['Open']).reshape(251,-1)\n",
    "Y_ls = np.array(fb_df_ls['Close/Last']).reshape(251,-1)"
   ]
  },
  {
   "cell_type": "code",
   "execution_count": 25,
   "metadata": {},
   "outputs": [
    {
     "data": {
      "text/plain": [
       "LinearRegression()"
      ]
     },
     "execution_count": 25,
     "metadata": {},
     "output_type": "execute_result"
    }
   ],
   "source": [
    "lr.fit(X_ls, Y_ls)"
   ]
  },
  {
   "cell_type": "code",
   "execution_count": 26,
   "metadata": {},
   "outputs": [
    {
     "name": "stdout",
     "output_type": "stream",
     "text": [
      "Linear Regression intercept: [5.24631465]\n",
      "coefficient count: 1\n"
     ]
    }
   ],
   "source": [
    "print('Linear Regression intercept:', lr.intercept_)\n",
    "print('coefficient count:', len(lr.coef_))"
   ]
  },
  {
   "cell_type": "code",
   "execution_count": 27,
   "metadata": {},
   "outputs": [
    {
     "name": "stdout",
     "output_type": "stream",
     "text": [
      "Accuracy: 0.9618323464269558\n"
     ]
    }
   ],
   "source": [
    "print('Accuracy:', lr.score(X_ls, Y_ls))"
   ]
  },
  {
   "cell_type": "code",
   "execution_count": 28,
   "metadata": {},
   "outputs": [
    {
     "data": {
      "text/plain": [
       "array([[318.33463695],\n",
       "       [312.73554421],\n",
       "       [303.52302647],\n",
       "       [314.7065033 ],\n",
       "       [312.70612691],\n",
       "       [308.7740145 ],\n",
       "       [305.38445515],\n",
       "       [300.52736477],\n",
       "       [300.15474564],\n",
       "       [313.49058824],\n",
       "       [321.36461883],\n",
       "       [313.65728627],\n",
       "       [317.25600262],\n",
       "       [319.05536079],\n",
       "       [325.08100438],\n",
       "       [325.05550939],\n",
       "       [328.95428219],\n",
       "       [306.63635737],\n",
       "       [303.61618126],\n",
       "       [302.69443919],\n",
       "       [298.20339808],\n",
       "       [300.7234801 ],\n",
       "       [301.32653475],\n",
       "       [301.3706607 ],\n",
       "       [304.32906049],\n",
       "       [307.43062447],\n",
       "       [305.63616918],\n",
       "       [306.57752277],\n",
       "       [311.39215418],\n",
       "       [310.25468525],\n",
       "       [310.59788709],\n",
       "       [313.98087657],\n",
       "       [305.63616918],\n",
       "       [308.0846691 ],\n",
       "       [300.29202637],\n",
       "       [297.85039049],\n",
       "       [289.60374076],\n",
       "       [289.4468485 ],\n",
       "       [285.46570725],\n",
       "       [278.14276074],\n",
       "       [280.76874504],\n",
       "       [290.59412319],\n",
       "       [292.70236301],\n",
       "       [290.05480603],\n",
       "       [281.00408344],\n",
       "       [279.68030495],\n",
       "       [275.59620315],\n",
       "       [275.96882228],\n",
       "       [269.09988277],\n",
       "       [269.15871737],\n",
       "       [268.1487234 ],\n",
       "       [268.66842904],\n",
       "       [261.34842426],\n",
       "       [265.63844715],\n",
       "       [260.85323304],\n",
       "       [256.73481106],\n",
       "       [260.48061391],\n",
       "       [265.86397978],\n",
       "       [261.00031954],\n",
       "       [256.73481106],\n",
       "       [262.451573  ],\n",
       "       [262.47608742],\n",
       "       [259.70595835],\n",
       "       [258.18606452],\n",
       "       [269.86473256],\n",
       "       [269.57546245],\n",
       "       [271.21792836],\n",
       "       [270.78647462],\n",
       "       [270.51191316],\n",
       "       [271.85530319],\n",
       "       [272.4009941 ],\n",
       "       [266.51116038],\n",
       "       [268.77629247],\n",
       "       [266.86416798],\n",
       "       [267.07008908],\n",
       "       [265.70708752],\n",
       "       [264.11855333],\n",
       "       [259.72556988],\n",
       "       [265.39330299],\n",
       "       [277.04255373],\n",
       "       [282.28863887],\n",
       "       [277.98390732],\n",
       "       [277.98390732],\n",
       "       [271.97297238],\n",
       "       [269.27638657],\n",
       "       [268.95279627],\n",
       "       [257.15645903],\n",
       "       [248.33126907],\n",
       "       [253.72444071],\n",
       "       [251.91037389],\n",
       "       [256.89170333],\n",
       "       [260.66692348],\n",
       "       [268.34483874],\n",
       "       [265.98164898],\n",
       "       [262.1574    ],\n",
       "       [268.3252272 ],\n",
       "       [274.68916974],\n",
       "       [271.96316662],\n",
       "       [277.79759775],\n",
       "       [276.81702109],\n",
       "       [268.7664867 ],\n",
       "       [268.89886455],\n",
       "       [266.95241988],\n",
       "       [271.47287829],\n",
       "       [272.92217059],\n",
       "       [275.66484352],\n",
       "       [276.93469029],\n",
       "       [274.6695582 ],\n",
       "       [274.73819857],\n",
       "       [273.3085178 ],\n",
       "       [274.44402557],\n",
       "       [275.42950512],\n",
       "       [283.39669049],\n",
       "       [285.70104565],\n",
       "       [279.01351282],\n",
       "       [280.10195291],\n",
       "       [285.93638405],\n",
       "       [285.06367082],\n",
       "       [278.98409552],\n",
       "       [275.91489056],\n",
       "       [277.24847482],\n",
       "       [277.98390732],\n",
       "       [268.52134254],\n",
       "       [270.87472652],\n",
       "       [272.51228955],\n",
       "       [271.00710437],\n",
       "       [274.43421981],\n",
       "       [277.53284206],\n",
       "       [274.95392544],\n",
       "       [277.57206512],\n",
       "       [277.04255373],\n",
       "       [273.40461431],\n",
       "       [273.04180095],\n",
       "       [289.48607156],\n",
       "       [293.48682434],\n",
       "       [291.47370045],\n",
       "       [280.78835657],\n",
       "       [263.29486893],\n",
       "       [264.70689932],\n",
       "       [274.41460827],\n",
       "       [276.42479043],\n",
       "       [278.62128215],\n",
       "       [278.59186485],\n",
       "       [282.90640216],\n",
       "       [278.63304907],\n",
       "       [279.68030495],\n",
       "       [279.37632618],\n",
       "       [263.19681126],\n",
       "       [265.61883562],\n",
       "       [267.42799956],\n",
       "       [267.64862931],\n",
       "       [277.47400746],\n",
       "       [277.43478439],\n",
       "       [270.19812863],\n",
       "       [264.62845319],\n",
       "       [259.95110251],\n",
       "       [259.42159112],\n",
       "       [261.94167314],\n",
       "       [262.35351533],\n",
       "       [261.38274444],\n",
       "       [265.44233182],\n",
       "       [262.13778847],\n",
       "       [258.04878379],\n",
       "       [259.60790068],\n",
       "       [249.80213407],\n",
       "       [246.95846175],\n",
       "       [255.5483133 ],\n",
       "       [253.63618881],\n",
       "       [247.97826147],\n",
       "       [258.6322269 ],\n",
       "       [258.50965482],\n",
       "       [267.34465054],\n",
       "       [270.65899966],\n",
       "       [270.93356112],\n",
       "       [270.06084789],\n",
       "       [275.4049907 ],\n",
       "       [275.65994063],\n",
       "       [271.25715142],\n",
       "       [286.91696071],\n",
       "       [295.48720073],\n",
       "       [298.32106728],\n",
       "       [294.2320626 ],\n",
       "       [293.48682434],\n",
       "       [294.51642984],\n",
       "       [299.57620541],\n",
       "       [283.73008656],\n",
       "       [272.36520305],\n",
       "       [271.05123032],\n",
       "       [268.71745787],\n",
       "       [261.66711167],\n",
       "       [261.55728709],\n",
       "       [261.12779451],\n",
       "       [262.64768833],\n",
       "       [262.45647588],\n",
       "       [261.7161405 ],\n",
       "       [259.18625272],\n",
       "       [260.37765336],\n",
       "       [268.08008304],\n",
       "       [264.19699946],\n",
       "       [249.44912647],\n",
       "       [250.57678963],\n",
       "       [251.92017965],\n",
       "       [252.98900822],\n",
       "       [256.09743623],\n",
       "       [230.9946737 ],\n",
       "       [231.89680422],\n",
       "       [235.31901677],\n",
       "       [232.21058876],\n",
       "       [230.9652564 ],\n",
       "       [240.22190008],\n",
       "       [240.83966338],\n",
       "       [246.68390028],\n",
       "       [240.64354805],\n",
       "       [241.56529011],\n",
       "       [238.62356012],\n",
       "       [242.10460727],\n",
       "       [237.40764506],\n",
       "       [247.45365296],\n",
       "       [244.19813844],\n",
       "       [245.48759675],\n",
       "       [238.73142356],\n",
       "       [240.00617322],\n",
       "       [234.46591508],\n",
       "       [239.60413678],\n",
       "       [229.30808184],\n",
       "       [221.55172044],\n",
       "       [210.92226943],\n",
       "       [233.36766922],\n",
       "       [235.30921101],\n",
       "       [241.76140544],\n",
       "       [241.83985157],\n",
       "       [239.17268305],\n",
       "       [238.41763902],\n",
       "       [235.67202437],\n",
       "       [235.68183014],\n",
       "       [237.78026419],\n",
       "       [225.96431542],\n",
       "       [230.68088916],\n",
       "       [230.72011223],\n",
       "       [241.52606704],\n",
       "       [232.26942336],\n",
       "       [229.82778747],\n",
       "       [227.55284961],\n",
       "       [230.3474931 ],\n",
       "       [232.84796359],\n",
       "       [231.70068889],\n",
       "       [225.47402709],\n",
       "       [226.07217885],\n",
       "       [225.18965986],\n",
       "       [229.86701053],\n",
       "       [240.35918081]])"
      ]
     },
     "execution_count": 28,
     "metadata": {},
     "output_type": "execute_result"
    }
   ],
   "source": [
    "# Predicting the price\n",
    "lr.predict(X_ls)"
   ]
  },
  {
   "cell_type": "code",
   "execution_count": 31,
   "metadata": {},
   "outputs": [
    {
     "data": {
      "text/plain": [
       "Text(0.5, 1.0, '1 Year CLosing Price vs Predicted Closing Price')"
      ]
     },
     "execution_count": 31,
     "metadata": {},
     "output_type": "execute_result"
    },
    {
     "data": {
      "image/png": "[encoded data removed]",
      "text/plain": [
       "<Figure size 864x576 with 1 Axes>"
      ]
     },
     "metadata": {
      "needs_background": "light"
     },
     "output_type": "display_data"
    }
   ],
   "source": [
    "plt.figure(figsize=(12,8))\n",
    "plt.scatter(fb_df_ls['Close/Last'], lr.predict(X_ls))\n",
    "plt.plot(X_ls, lr.predict(X_ls), color = 'red')\n",
    "plt.xlabel('Closing Price')\n",
    "plt.ylabel('Predicted Closing Price')\n",
    "plt.savefig('images/fb_ls.jpg', dpi=40)\n",
    "plt.grid()\n",
    "plt.title('1 Year CLosing Price vs Predicted Closing Price')"
   ]
  },
  {
   "cell_type": "markdown",
   "metadata": {},
   "source": [
    "### MODEL COMPARISON"
   ]
  },
  {
   "cell_type": "markdown",
   "metadata": {},
   "source": [
    "<tr>\n",
    "    <td> <img src=\"images/fb_4y.jpg\"style=\"width: 550px;\"/> </td>\n",
    "    <td> <img src=\"images/fb_ls.jpg\"style=\"width: 550px;\"/> </td>\n",
    "</tr>\n"
   ]
  },
  {
   "cell_type": "code",
   "execution_count": 33,
   "metadata": {},
   "outputs": [
    {
     "data": {
      "text/plain": [
       "(1257, 12)"
      ]
     },
     "execution_count": 33,
     "metadata": {},
     "output_type": "execute_result"
    }
   ],
   "source": [
    "fb_df.shape"
   ]
  },
  {
   "cell_type": "code",
   "execution_count": 34,
   "metadata": {},
   "outputs": [],
   "source": [
    "model = tf.keras.Sequential([keras.layers.Dense(units=1, input_shape=[1])])\n",
    "model.compile(optimizer='sgd', loss='mean_squared_error')"
   ]
  },
  {
   "cell_type": "code",
   "execution_count": 38,
   "metadata": {},
   "outputs": [],
   "source": [
    "Xc = np.array(fb_df['Returns'], dtype = float) # Feature\n",
    "Yc = np.array(fb_df['Close/Last'], dtype = float) # Target"
   ]
  },
  {
   "cell_type": "code",
   "execution_count": 39,
   "metadata": {},
   "outputs": [
    {
     "name": "stdout",
     "output_type": "stream",
     "text": [
      "Epoch 1/100\n",
      "40/40 [==============================] - 0s 769us/step - loss: 20183.8359\n",
      "Epoch 2/100\n",
      "40/40 [==============================] - 0s 615us/step - loss: 6015.7715\n",
      "Epoch 3/100\n",
      "40/40 [==============================] - 0s 667us/step - loss: 3182.8557\n",
      "Epoch 4/100\n",
      "40/40 [==============================] - 0s 692us/step - loss: 2616.1448\n",
      "Epoch 5/100\n",
      "40/40 [==============================] - 0s 692us/step - loss: 2501.2910\n",
      "Epoch 6/100\n",
      "40/40 [==============================] - 0s 615us/step - loss: 2476.4897\n",
      "Epoch 7/100\n",
      "40/40 [==============================] - 0s 615us/step - loss: 2470.4238\n",
      "Epoch 8/100\n",
      "40/40 [==============================] - 0s 590us/step - loss: 2469.6992\n",
      "Epoch 9/100\n",
      "40/40 [==============================] - 0s 744us/step - loss: 2468.6968\n",
      "Epoch 10/100\n",
      "40/40 [==============================] - 0s 667us/step - loss: 2469.9050\n",
      "Epoch 11/100\n",
      "40/40 [==============================] - 0s 692us/step - loss: 2469.0906\n",
      "Epoch 12/100\n",
      "40/40 [==============================] - 0s 615us/step - loss: 2468.7651\n",
      "Epoch 13/100\n",
      "40/40 [==============================] - 0s 667us/step - loss: 2468.9565\n",
      "Epoch 14/100\n",
      "40/40 [==============================] - 0s 667us/step - loss: 2469.3013\n",
      "Epoch 15/100\n",
      "40/40 [==============================] - 0s 641us/step - loss: 2468.9136\n",
      "Epoch 16/100\n",
      "40/40 [==============================] - 0s 821us/step - loss: 2468.7144\n",
      "Epoch 17/100\n",
      "40/40 [==============================] - 0s 1ms/step - loss: 2468.3948\n",
      "Epoch 18/100\n",
      "40/40 [==============================] - 0s 718us/step - loss: 2468.4111\n",
      "Epoch 19/100\n",
      "40/40 [==============================] - 0s 667us/step - loss: 2469.4807\n",
      "Epoch 20/100\n",
      "40/40 [==============================] - 0s 667us/step - loss: 2468.8342\n",
      "Epoch 21/100\n",
      "40/40 [==============================] - 0s 641us/step - loss: 2469.3645\n",
      "Epoch 22/100\n",
      "40/40 [==============================] - 0s 667us/step - loss: 2469.1292\n",
      "Epoch 23/100\n",
      "40/40 [==============================] - 0s 590us/step - loss: 2468.5903\n",
      "Epoch 24/100\n",
      "40/40 [==============================] - 0s 692us/step - loss: 2468.9524\n",
      "Epoch 25/100\n",
      "40/40 [==============================] - 0s 641us/step - loss: 2468.8108\n",
      "Epoch 26/100\n",
      "40/40 [==============================] - 0s 615us/step - loss: 2468.8386\n",
      "Epoch 27/100\n",
      "40/40 [==============================] - 0s 718us/step - loss: 2468.2678\n",
      "Epoch 28/100\n",
      "40/40 [==============================] - 0s 718us/step - loss: 2469.1162\n",
      "Epoch 29/100\n",
      "40/40 [==============================] - 0s 846us/step - loss: 2468.4688\n",
      "Epoch 30/100\n",
      "40/40 [==============================] - 0s 667us/step - loss: 2468.3503\n",
      "Epoch 31/100\n",
      "40/40 [==============================] - 0s 615us/step - loss: 2468.4834\n",
      "Epoch 32/100\n",
      "40/40 [==============================] - 0s 641us/step - loss: 2468.3928\n",
      "Epoch 33/100\n",
      "40/40 [==============================] - 0s 667us/step - loss: 2468.4673\n",
      "Epoch 34/100\n",
      "40/40 [==============================] - 0s 616us/step - loss: 2469.2432\n",
      "Epoch 35/100\n",
      "40/40 [==============================] - 0s 615us/step - loss: 2469.2668\n",
      "Epoch 36/100\n",
      "40/40 [==============================] - 0s 692us/step - loss: 2468.9602\n",
      "Epoch 37/100\n",
      "40/40 [==============================] - 0s 615us/step - loss: 2469.0259\n",
      "Epoch 38/100\n",
      "40/40 [==============================] - 0s 744us/step - loss: 2468.7051\n",
      "Epoch 39/100\n",
      "40/40 [==============================] - 0s 641us/step - loss: 2468.4653\n",
      "Epoch 40/100\n",
      "40/40 [==============================] - 0s 692us/step - loss: 2468.6780\n",
      "Epoch 41/100\n",
      "40/40 [==============================] - 0s 615us/step - loss: 2468.7786\n",
      "Epoch 42/100\n",
      "40/40 [==============================] - 0s 692us/step - loss: 2468.7502\n",
      "Epoch 43/100\n",
      "40/40 [==============================] - 0s 718us/step - loss: 2469.0217\n",
      "Epoch 44/100\n",
      "40/40 [==============================] - 0s 846us/step - loss: 2468.9783\n",
      "Epoch 45/100\n",
      "40/40 [==============================] - 0s 897us/step - loss: 2468.5747\n",
      "Epoch 46/100\n",
      "40/40 [==============================] - 0s 667us/step - loss: 2468.2739\n",
      "Epoch 47/100\n",
      "40/40 [==============================] - 0s 641us/step - loss: 2468.6594\n",
      "Epoch 48/100\n",
      "40/40 [==============================] - 0s 641us/step - loss: 2469.5032\n",
      "Epoch 49/100\n",
      "40/40 [==============================] - 0s 692us/step - loss: 2468.5281\n",
      "Epoch 50/100\n",
      "40/40 [==============================] - 0s 590us/step - loss: 2468.6863\n",
      "Epoch 51/100\n",
      "40/40 [==============================] - 0s 641us/step - loss: 2467.8875\n",
      "Epoch 52/100\n",
      "40/40 [==============================] - 0s 667us/step - loss: 2468.8167\n",
      "Epoch 53/100\n",
      "40/40 [==============================] - 0s 641us/step - loss: 2469.0024\n",
      "Epoch 54/100\n",
      "40/40 [==============================] - 0s 564us/step - loss: 2469.4360\n",
      "Epoch 55/100\n",
      "40/40 [==============================] - 0s 564us/step - loss: 2468.6106\n",
      "Epoch 56/100\n",
      "40/40 [==============================] - 0s 564us/step - loss: 2469.0129\n",
      "Epoch 57/100\n",
      "40/40 [==============================] - 0s 872us/step - loss: 2468.4995\n",
      "Epoch 58/100\n",
      "40/40 [==============================] - 0s 615us/step - loss: 2468.3408\n",
      "Epoch 59/100\n",
      "40/40 [==============================] - 0s 538us/step - loss: 2469.0735\n",
      "Epoch 60/100\n",
      "40/40 [==============================] - 0s 590us/step - loss: 2469.0085\n",
      "Epoch 61/100\n",
      "40/40 [==============================] - 0s 564us/step - loss: 2468.7996\n",
      "Epoch 62/100\n",
      "40/40 [==============================] - 0s 615us/step - loss: 2468.9822\n",
      "Epoch 63/100\n",
      "40/40 [==============================] - 0s 564us/step - loss: 2468.5820\n",
      "Epoch 64/100\n",
      "40/40 [==============================] - 0s 564us/step - loss: 2469.4888\n",
      "Epoch 65/100\n",
      "40/40 [==============================] - 0s 641us/step - loss: 2468.8298\n",
      "Epoch 66/100\n",
      "40/40 [==============================] - 0s 641us/step - loss: 2468.8777\n",
      "Epoch 67/100\n",
      "40/40 [==============================] - 0s 718us/step - loss: 2468.8850\n",
      "Epoch 68/100\n",
      "40/40 [==============================] - 0s 564us/step - loss: 2467.9717\n",
      "Epoch 69/100\n",
      "40/40 [==============================] - 0s 590us/step - loss: 2468.1111\n",
      "Epoch 70/100\n",
      "40/40 [==============================] - 0s 590us/step - loss: 2468.5208\n",
      "Epoch 71/100\n",
      "40/40 [==============================] - 0s 615us/step - loss: 2468.2871\n",
      "Epoch 72/100\n",
      "40/40 [==============================] - 0s 538us/step - loss: 2469.2397\n",
      "Epoch 73/100\n",
      "40/40 [==============================] - 0s 667us/step - loss: 2468.8569\n",
      "Epoch 74/100\n",
      "40/40 [==============================] - 0s 769us/step - loss: 2468.5510\n",
      "Epoch 75/100\n",
      "40/40 [==============================] - 0s 590us/step - loss: 2468.0867\n",
      "Epoch 76/100\n",
      "40/40 [==============================] - 0s 590us/step - loss: 2468.6008\n",
      "Epoch 77/100\n",
      "40/40 [==============================] - 0s 667us/step - loss: 2468.3828\n",
      "Epoch 78/100\n",
      "40/40 [==============================] - 0s 692us/step - loss: 2469.1213\n",
      "Epoch 79/100\n",
      "40/40 [==============================] - 0s 667us/step - loss: 2468.7087\n",
      "Epoch 80/100\n",
      "40/40 [==============================] - 0s 615us/step - loss: 2468.3921\n",
      "Epoch 81/100\n",
      "40/40 [==============================] - 0s 641us/step - loss: 2468.7617\n",
      "Epoch 82/100\n",
      "40/40 [==============================] - 0s 667us/step - loss: 2468.5691\n",
      "Epoch 83/100\n",
      "40/40 [==============================] - 0s 744us/step - loss: 2468.6353\n",
      "Epoch 84/100\n",
      "40/40 [==============================] - 0s 718us/step - loss: 2468.6648\n",
      "Epoch 85/100\n",
      "40/40 [==============================] - 0s 615us/step - loss: 2468.6882\n",
      "Epoch 86/100\n",
      "40/40 [==============================] - 0s 897us/step - loss: 2468.7856\n",
      "Epoch 87/100\n",
      "40/40 [==============================] - 0s 1ms/step - loss: 2469.0789\n",
      "Epoch 88/100\n",
      "40/40 [==============================] - 0s 590us/step - loss: 2468.4854\n",
      "Epoch 89/100\n",
      "40/40 [==============================] - 0s 693us/step - loss: 2469.0295\n",
      "Epoch 90/100\n",
      "40/40 [==============================] - 0s 667us/step - loss: 2469.4480\n",
      "Epoch 91/100\n",
      "40/40 [==============================] - 0s 615us/step - loss: 2468.9480\n",
      "Epoch 92/100\n",
      "40/40 [==============================] - 0s 744us/step - loss: 2468.5684\n",
      "Epoch 93/100\n",
      "40/40 [==============================] - 0s 692us/step - loss: 2468.7710\n",
      "Epoch 94/100\n",
      "40/40 [==============================] - 0s 692us/step - loss: 2468.2634\n",
      "Epoch 95/100\n",
      "40/40 [==============================] - 0s 590us/step - loss: 2468.9221\n",
      "Epoch 96/100\n",
      "40/40 [==============================] - 0s 641us/step - loss: 2468.7734\n",
      "Epoch 97/100\n",
      "40/40 [==============================] - 0s 641us/step - loss: 2468.4150\n",
      "Epoch 98/100\n",
      "40/40 [==============================] - 0s 615us/step - loss: 2469.0698\n",
      "Epoch 99/100\n",
      "40/40 [==============================] - 0s 564us/step - loss: 2469.0935\n",
      "Epoch 100/100\n",
      "40/40 [==============================] - 0s 590us/step - loss: 2469.4270\n"
     ]
    },
    {
     "data": {
      "text/plain": [
       "<tensorflow.python.keras.callbacks.History at 0x260b73ad6d0>"
      ]
     },
     "execution_count": 39,
     "metadata": {},
     "output_type": "execute_result"
    }
   ],
   "source": [
    "model.fit(Xc, Yc, epochs=100)"
   ]
  },
  {
   "cell_type": "code",
   "execution_count": 40,
   "metadata": {},
   "outputs": [],
   "source": [
    "scaler = MinMaxScaler()\n",
    "normalized_X = scaler.fit_transform(np.array(fb_df['Returns']).reshape(1257,-1))\n",
    "X = np.array(normalized_X, dtype = float)\n",
    "normalized_Y = scaler.fit_transform(np.array(fb_df['Close/Last']).reshape(1257,-1))\n",
    "Y = np.array(normalized_Y, dtype = float)"
   ]
  },
  {
   "cell_type": "code",
   "execution_count": 41,
   "metadata": {},
   "outputs": [],
   "source": [
    "def build_model():\n",
    "  model = keras.Sequential([\n",
    "    layers.Dense(64, activation=tf.nn.relu, input_shape=[len(train_dataset.keys())]),\n",
    "    layers.Dense(64, activation=tf.nn.relu),\n",
    "    layers.Dense(1)\n",
    "  ])\n",
    "\n",
    "  optimizer = tf.keras.optimizers.RMSprop(0.001)\n",
    "\n",
    "  model.compile(loss='mean_squared_error',\n",
    "                optimizer=optimizer,\n",
    "                metrics=['mean_absolute_error', 'mean_squared_error'])\n",
    "  return model"
   ]
  },
  {
   "cell_type": "code",
   "execution_count": 42,
   "metadata": {},
   "outputs": [
    {
     "name": "stdout",
     "output_type": "stream",
     "text": [
      "[[186.07227]]\n"
     ]
    }
   ],
   "source": [
    "print((model.predict([0])))"
   ]
  },
  {
   "cell_type": "code",
   "execution_count": null,
   "metadata": {},
   "outputs": [],
   "source": []
  }
 ],
 "metadata": {
  "kernelspec": {
   "display_name": "Python 3",
   "language": "python",
   "name": "python3"
  },
  "language_info": {
   "codemirror_mode": {
    "name": "ipython",
    "version": 3
   },
   "file_extension": ".py",
   "mimetype": "text/x-python",
   "name": "python",
   "nbconvert_exporter": "python",
   "pygments_lexer": "ipython3",
   "version": "3.8.5"
  }
 },
 "nbformat": 4,
 "nbformat_minor": 4
}
