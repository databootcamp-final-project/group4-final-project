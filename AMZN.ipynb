{
 "cells": [
  {
   "cell_type": "markdown",
   "metadata": {},
   "source": [
    "### STOCK ANALYSIS\n",
    "\n",
    "This Stock analysis is examination of a specific index from the Stock market. this is more of a technical analysis than a fundamental one. it's being based on the history of a stock price, and predict future movement. \n",
    "\n",
    "we will be doing the following:\n",
    "1. Import Librarier and Dependencies\n",
    "2. Import Stock Data\n",
    "3. Clean Data\n",
    "4. plot existing data (analysis)\n",
    "5. build ML to train and test Data (Linear Regression)\n",
    "6. present our predicted Findings"
   ]
  },
  {
   "cell_type": "markdown",
   "metadata": {},
   "source": [
    "### DEPENDENCIES"
   ]
  },
  {
   "cell_type": "code",
   "execution_count": 1,
   "metadata": {},
   "outputs": [],
   "source": [
    "#dependencies\n",
    "import pandas as pd\n",
    "import numpy as np\n",
    "import matplotlib.pyplot as plt\n",
    "import datetime\n",
    "import os\n",
    "import tensorflow as tf\n",
    "from tensorflow import keras\n",
    "from tensorflow.keras.utils import to_categorical\n",
    "from tensorflow.keras.models import Sequential\n",
    "from tensorflow.keras.layers import Dense\n",
    "from sklearn.model_selection import train_test_split\n",
    "from sklearn.preprocessing import LabelEncoder, MinMaxScaler\n",
    "from sklearn import model_selection\n",
    "from sklearn.svm import SVC\n",
    "from sklearn.linear_model import LinearRegression"
   ]
  },
  {
   "cell_type": "markdown",
   "metadata": {},
   "source": [
    "### IMPORT CSV"
   ]
  },
  {
   "cell_type": "code",
   "execution_count": 2,
   "metadata": {
    "scrolled": false
   },
   "outputs": [
    {
     "data": {
      "text/html": [
       "<div>\n",
       "<style scoped>\n",
       "    .dataframe tbody tr th:only-of-type {\n",
       "        vertical-align: middle;\n",
       "    }\n",
       "\n",
       "    .dataframe tbody tr th {\n",
       "        vertical-align: top;\n",
       "    }\n",
       "\n",
       "    .dataframe thead th {\n",
       "        text-align: right;\n",
       "    }\n",
       "</style>\n",
       "<table border=\"1\" class=\"dataframe\">\n",
       "  <thead>\n",
       "    <tr style=\"text-align: right;\">\n",
       "      <th></th>\n",
       "      <th>Date</th>\n",
       "      <th>Close/Last</th>\n",
       "      <th>Volume</th>\n",
       "      <th>Open</th>\n",
       "      <th>High</th>\n",
       "      <th>Low</th>\n",
       "    </tr>\n",
       "  </thead>\n",
       "  <tbody>\n",
       "    <tr>\n",
       "      <th>0</th>\n",
       "      <td>05/24/2021</td>\n",
       "      <td>$3244.99</td>\n",
       "      <td>2422813</td>\n",
       "      <td>$3215.5</td>\n",
       "      <td>$3257.95</td>\n",
       "      <td>$3210.4993</td>\n",
       "    </tr>\n",
       "    <tr>\n",
       "      <th>1</th>\n",
       "      <td>05/21/2021</td>\n",
       "      <td>$3203.08</td>\n",
       "      <td>4104882</td>\n",
       "      <td>$3250</td>\n",
       "      <td>$3256.6946</td>\n",
       "      <td>$3197.01</td>\n",
       "    </tr>\n",
       "    <tr>\n",
       "      <th>2</th>\n",
       "      <td>05/20/2021</td>\n",
       "      <td>$3247.68</td>\n",
       "      <td>2633192</td>\n",
       "      <td>$3244.4042</td>\n",
       "      <td>$3259.6799</td>\n",
       "      <td>$3236.18</td>\n",
       "    </tr>\n",
       "    <tr>\n",
       "      <th>3</th>\n",
       "      <td>05/19/2021</td>\n",
       "      <td>$3231.8</td>\n",
       "      <td>2679708</td>\n",
       "      <td>$3195</td>\n",
       "      <td>$3234.75</td>\n",
       "      <td>$3184</td>\n",
       "    </tr>\n",
       "    <tr>\n",
       "      <th>4</th>\n",
       "      <td>05/18/2021</td>\n",
       "      <td>$3232.28</td>\n",
       "      <td>2828391</td>\n",
       "      <td>$3292.575</td>\n",
       "      <td>$3312</td>\n",
       "      <td>$3230.37</td>\n",
       "    </tr>\n",
       "  </tbody>\n",
       "</table>\n",
       "</div>"
      ],
      "text/plain": [
       "         Date Close/Last   Volume        Open        High         Low\n",
       "0  05/24/2021   $3244.99  2422813     $3215.5    $3257.95  $3210.4993\n",
       "1  05/21/2021   $3203.08  4104882       $3250  $3256.6946    $3197.01\n",
       "2  05/20/2021   $3247.68  2633192  $3244.4042  $3259.6799    $3236.18\n",
       "3  05/19/2021    $3231.8  2679708       $3195    $3234.75       $3184\n",
       "4  05/18/2021   $3232.28  2828391   $3292.575       $3312    $3230.37"
      ]
     },
     "execution_count": 2,
     "metadata": {},
     "output_type": "execute_result"
    }
   ],
   "source": [
    "#load assesment file\n",
    "\n",
    "amzn = \"resources/HistoricalData_amzn.csv\"\n",
    "amzn_df = pd.read_csv(amzn)\n",
    "amzn_df.head()"
   ]
  },
  {
   "cell_type": "markdown",
   "metadata": {},
   "source": [
    "### CLEAN, RESHAPE AND CONVERT DATATYPE"
   ]
  },
  {
   "cell_type": "code",
   "execution_count": 3,
   "metadata": {},
   "outputs": [],
   "source": [
    "amzn_df['Date']= pd.to_datetime(amzn_df['Date'])\n",
    "amzn_df['Close/Last'] = amzn_df['Close/Last'].str.replace('$','')\n",
    "amzn_df['Open'] = amzn_df['Open'].str.replace('$','')\n",
    "amzn_df['High'] = amzn_df['High'].str.replace('$','')\n",
    "amzn_df['Low'] = amzn_df['Low'].str.replace('$','')\n",
    "amzn_df = amzn_df.apply( pd.to_numeric)"
   ]
  },
  {
   "cell_type": "markdown",
   "metadata": {},
   "source": [
    "### FORMAT DATE COLUMN"
   ]
  },
  {
   "cell_type": "code",
   "execution_count": 4,
   "metadata": {
    "scrolled": true
   },
   "outputs": [
    {
     "data": {
      "text/html": [
       "<div>\n",
       "<style scoped>\n",
       "    .dataframe tbody tr th:only-of-type {\n",
       "        vertical-align: middle;\n",
       "    }\n",
       "\n",
       "    .dataframe tbody tr th {\n",
       "        vertical-align: top;\n",
       "    }\n",
       "\n",
       "    .dataframe thead th {\n",
       "        text-align: right;\n",
       "    }\n",
       "</style>\n",
       "<table border=\"1\" class=\"dataframe\">\n",
       "  <thead>\n",
       "    <tr style=\"text-align: right;\">\n",
       "      <th></th>\n",
       "      <th>Date</th>\n",
       "      <th>Close/Last</th>\n",
       "      <th>Volume</th>\n",
       "      <th>Open</th>\n",
       "      <th>High</th>\n",
       "      <th>Low</th>\n",
       "    </tr>\n",
       "  </thead>\n",
       "  <tbody>\n",
       "    <tr>\n",
       "      <th>0</th>\n",
       "      <td>2021-05-24</td>\n",
       "      <td>3244.99</td>\n",
       "      <td>2422813</td>\n",
       "      <td>3215.5000</td>\n",
       "      <td>3257.9500</td>\n",
       "      <td>3210.4993</td>\n",
       "    </tr>\n",
       "    <tr>\n",
       "      <th>1</th>\n",
       "      <td>2021-05-21</td>\n",
       "      <td>3203.08</td>\n",
       "      <td>4104882</td>\n",
       "      <td>3250.0000</td>\n",
       "      <td>3256.6946</td>\n",
       "      <td>3197.0100</td>\n",
       "    </tr>\n",
       "    <tr>\n",
       "      <th>2</th>\n",
       "      <td>2021-05-20</td>\n",
       "      <td>3247.68</td>\n",
       "      <td>2633192</td>\n",
       "      <td>3244.4042</td>\n",
       "      <td>3259.6799</td>\n",
       "      <td>3236.1800</td>\n",
       "    </tr>\n",
       "    <tr>\n",
       "      <th>3</th>\n",
       "      <td>2021-05-19</td>\n",
       "      <td>3231.80</td>\n",
       "      <td>2679708</td>\n",
       "      <td>3195.0000</td>\n",
       "      <td>3234.7500</td>\n",
       "      <td>3184.0000</td>\n",
       "    </tr>\n",
       "    <tr>\n",
       "      <th>4</th>\n",
       "      <td>2021-05-18</td>\n",
       "      <td>3232.28</td>\n",
       "      <td>2828391</td>\n",
       "      <td>3292.5750</td>\n",
       "      <td>3312.0000</td>\n",
       "      <td>3230.3700</td>\n",
       "    </tr>\n",
       "  </tbody>\n",
       "</table>\n",
       "</div>"
      ],
      "text/plain": [
       "        Date  Close/Last   Volume       Open       High        Low\n",
       "0 2021-05-24     3244.99  2422813  3215.5000  3257.9500  3210.4993\n",
       "1 2021-05-21     3203.08  4104882  3250.0000  3256.6946  3197.0100\n",
       "2 2021-05-20     3247.68  2633192  3244.4042  3259.6799  3236.1800\n",
       "3 2021-05-19     3231.80  2679708  3195.0000  3234.7500  3184.0000\n",
       "4 2021-05-18     3232.28  2828391  3292.5750  3312.0000  3230.3700"
      ]
     },
     "execution_count": 4,
     "metadata": {},
     "output_type": "execute_result"
    }
   ],
   "source": [
    "amzn_df['Date']= pd.to_datetime(amzn_df['Date'])\n",
    "amzn_df.head()"
   ]
  },
  {
   "cell_type": "markdown",
   "metadata": {},
   "source": [
    "### DATA MANIPULATION\n",
    "By understanding the Data and creating new data to be consumed by our models such as below"
   ]
  },
  {
   "cell_type": "markdown",
   "metadata": {},
   "source": [
    "#### CREATE ADDITIONAL DATA"
   ]
  },
  {
   "cell_type": "code",
   "execution_count": 5,
   "metadata": {},
   "outputs": [
    {
     "data": {
      "text/html": [
       "<div>\n",
       "<style scoped>\n",
       "    .dataframe tbody tr th:only-of-type {\n",
       "        vertical-align: middle;\n",
       "    }\n",
       "\n",
       "    .dataframe tbody tr th {\n",
       "        vertical-align: top;\n",
       "    }\n",
       "\n",
       "    .dataframe thead th {\n",
       "        text-align: right;\n",
       "    }\n",
       "</style>\n",
       "<table border=\"1\" class=\"dataframe\">\n",
       "  <thead>\n",
       "    <tr style=\"text-align: right;\">\n",
       "      <th></th>\n",
       "      <th>Date</th>\n",
       "      <th>Close/Last</th>\n",
       "      <th>Volume</th>\n",
       "      <th>Open</th>\n",
       "      <th>High</th>\n",
       "      <th>Low</th>\n",
       "      <th>Open_Close</th>\n",
       "      <th>High_Low</th>\n",
       "      <th>Increase_Decrease</th>\n",
       "      <th>Buy_Sell_on_Open</th>\n",
       "      <th>Buy_Sell</th>\n",
       "      <th>Returns</th>\n",
       "    </tr>\n",
       "  </thead>\n",
       "  <tbody>\n",
       "    <tr>\n",
       "      <th>1</th>\n",
       "      <td>2021-05-21</td>\n",
       "      <td>3203.08</td>\n",
       "      <td>4104882</td>\n",
       "      <td>3250.0000</td>\n",
       "      <td>3256.6946</td>\n",
       "      <td>3197.01</td>\n",
       "      <td>0.014437</td>\n",
       "      <td>0.018669</td>\n",
       "      <td>0</td>\n",
       "      <td>0</td>\n",
       "      <td>1</td>\n",
       "      <td>-0.012915</td>\n",
       "    </tr>\n",
       "    <tr>\n",
       "      <th>2</th>\n",
       "      <td>2021-05-20</td>\n",
       "      <td>3247.68</td>\n",
       "      <td>2633192</td>\n",
       "      <td>3244.4042</td>\n",
       "      <td>3259.6799</td>\n",
       "      <td>3236.18</td>\n",
       "      <td>-0.001010</td>\n",
       "      <td>0.007262</td>\n",
       "      <td>1</td>\n",
       "      <td>0</td>\n",
       "      <td>0</td>\n",
       "      <td>0.013924</td>\n",
       "    </tr>\n",
       "    <tr>\n",
       "      <th>3</th>\n",
       "      <td>2021-05-19</td>\n",
       "      <td>3231.80</td>\n",
       "      <td>2679708</td>\n",
       "      <td>3195.0000</td>\n",
       "      <td>3234.7500</td>\n",
       "      <td>3184.00</td>\n",
       "      <td>-0.011518</td>\n",
       "      <td>0.015939</td>\n",
       "      <td>1</td>\n",
       "      <td>1</td>\n",
       "      <td>1</td>\n",
       "      <td>-0.004890</td>\n",
       "    </tr>\n",
       "    <tr>\n",
       "      <th>4</th>\n",
       "      <td>2021-05-18</td>\n",
       "      <td>3232.28</td>\n",
       "      <td>2828391</td>\n",
       "      <td>3292.5750</td>\n",
       "      <td>3312.0000</td>\n",
       "      <td>3230.37</td>\n",
       "      <td>0.018312</td>\n",
       "      <td>0.025270</td>\n",
       "      <td>1</td>\n",
       "      <td>0</td>\n",
       "      <td>1</td>\n",
       "      <td>0.000149</td>\n",
       "    </tr>\n",
       "    <tr>\n",
       "      <th>5</th>\n",
       "      <td>2021-05-17</td>\n",
       "      <td>3270.39</td>\n",
       "      <td>3685599</td>\n",
       "      <td>3245.9300</td>\n",
       "      <td>3292.7500</td>\n",
       "      <td>3234.59</td>\n",
       "      <td>-0.007536</td>\n",
       "      <td>0.017981</td>\n",
       "      <td>0</td>\n",
       "      <td>0</td>\n",
       "      <td>0</td>\n",
       "      <td>0.011790</td>\n",
       "    </tr>\n",
       "  </tbody>\n",
       "</table>\n",
       "</div>"
      ],
      "text/plain": [
       "        Date  Close/Last   Volume       Open       High      Low  Open_Close  \\\n",
       "1 2021-05-21     3203.08  4104882  3250.0000  3256.6946  3197.01    0.014437   \n",
       "2 2021-05-20     3247.68  2633192  3244.4042  3259.6799  3236.18   -0.001010   \n",
       "3 2021-05-19     3231.80  2679708  3195.0000  3234.7500  3184.00   -0.011518   \n",
       "4 2021-05-18     3232.28  2828391  3292.5750  3312.0000  3230.37    0.018312   \n",
       "5 2021-05-17     3270.39  3685599  3245.9300  3292.7500  3234.59   -0.007536   \n",
       "\n",
       "   High_Low  Increase_Decrease  Buy_Sell_on_Open  Buy_Sell   Returns  \n",
       "1  0.018669                  0                 0         1 -0.012915  \n",
       "2  0.007262                  1                 0         0  0.013924  \n",
       "3  0.015939                  1                 1         1 -0.004890  \n",
       "4  0.025270                  1                 0         1  0.000149  \n",
       "5  0.017981                  0                 0         0  0.011790  "
      ]
     },
     "execution_count": 5,
     "metadata": {},
     "output_type": "execute_result"
    }
   ],
   "source": [
    "amzn_df['Open_Close'] = (amzn_df['Open'] - amzn_df['Close/Last'])/amzn_df['Open']\n",
    "amzn_df['High_Low'] = (amzn_df['High'] - amzn_df['Low'])/amzn_df['Low']\n",
    "amzn_df['Increase_Decrease'] = np.where(amzn_df['Volume'].shift(-1) > amzn_df['Volume'],1,0)\n",
    "amzn_df['Buy_Sell_on_Open'] = np.where(amzn_df['Open'].shift(-1) > amzn_df['Open'],1,0)\n",
    "amzn_df['Buy_Sell'] = np.where(amzn_df['Close/Last'].shift(-1) > amzn_df['Close/Last'],1,0)\n",
    "amzn_df['Returns'] = amzn_df['Close/Last'].pct_change()\n",
    "amzn_df = amzn_df.dropna()\n",
    "amzn_df.head()"
   ]
  },
  {
   "cell_type": "markdown",
   "metadata": {},
   "source": [
    "### SPLIT DATAFRAME"
   ]
  },
  {
   "cell_type": "code",
   "execution_count": 6,
   "metadata": {
    "scrolled": true
   },
   "outputs": [
    {
     "data": {
      "text/html": [
       "<div>\n",
       "<style scoped>\n",
       "    .dataframe tbody tr th:only-of-type {\n",
       "        vertical-align: middle;\n",
       "    }\n",
       "\n",
       "    .dataframe tbody tr th {\n",
       "        vertical-align: top;\n",
       "    }\n",
       "\n",
       "    .dataframe thead th {\n",
       "        text-align: right;\n",
       "    }\n",
       "</style>\n",
       "<table border=\"1\" class=\"dataframe\">\n",
       "  <thead>\n",
       "    <tr style=\"text-align: right;\">\n",
       "      <th></th>\n",
       "      <th>Date</th>\n",
       "      <th>Close/Last</th>\n",
       "      <th>Volume</th>\n",
       "      <th>Open</th>\n",
       "      <th>High</th>\n",
       "      <th>Low</th>\n",
       "      <th>Open_Close</th>\n",
       "      <th>High_Low</th>\n",
       "      <th>Increase_Decrease</th>\n",
       "      <th>Buy_Sell_on_Open</th>\n",
       "      <th>Buy_Sell</th>\n",
       "      <th>Returns</th>\n",
       "    </tr>\n",
       "  </thead>\n",
       "  <tbody>\n",
       "    <tr>\n",
       "      <th>252</th>\n",
       "      <td>2020-05-22</td>\n",
       "      <td>2436.88</td>\n",
       "      <td>2867079</td>\n",
       "      <td>2455.010</td>\n",
       "      <td>2469.850</td>\n",
       "      <td>2430.13</td>\n",
       "      <td>0.007385</td>\n",
       "      <td>0.016345</td>\n",
       "      <td>1</td>\n",
       "      <td>1</td>\n",
       "      <td>1</td>\n",
       "      <td>0.006202</td>\n",
       "    </tr>\n",
       "    <tr>\n",
       "      <th>253</th>\n",
       "      <td>2020-05-21</td>\n",
       "      <td>2446.74</td>\n",
       "      <td>5114403</td>\n",
       "      <td>2500.000</td>\n",
       "      <td>2525.450</td>\n",
       "      <td>2442.54</td>\n",
       "      <td>0.021304</td>\n",
       "      <td>0.033944</td>\n",
       "      <td>0</td>\n",
       "      <td>0</td>\n",
       "      <td>1</td>\n",
       "      <td>0.004046</td>\n",
       "    </tr>\n",
       "    <tr>\n",
       "      <th>254</th>\n",
       "      <td>2020-05-20</td>\n",
       "      <td>2497.94</td>\n",
       "      <td>3998143</td>\n",
       "      <td>2477.870</td>\n",
       "      <td>2500.010</td>\n",
       "      <td>2467.27</td>\n",
       "      <td>-0.008100</td>\n",
       "      <td>0.013270</td>\n",
       "      <td>1</td>\n",
       "      <td>0</td>\n",
       "      <td>0</td>\n",
       "      <td>0.020926</td>\n",
       "    </tr>\n",
       "    <tr>\n",
       "      <th>255</th>\n",
       "      <td>2020-05-19</td>\n",
       "      <td>2449.33</td>\n",
       "      <td>4320498</td>\n",
       "      <td>2429.830</td>\n",
       "      <td>2484.995</td>\n",
       "      <td>2428.97</td>\n",
       "      <td>-0.008025</td>\n",
       "      <td>0.023065</td>\n",
       "      <td>1</td>\n",
       "      <td>0</td>\n",
       "      <td>0</td>\n",
       "      <td>-0.019460</td>\n",
       "    </tr>\n",
       "    <tr>\n",
       "      <th>256</th>\n",
       "      <td>2020-05-18</td>\n",
       "      <td>2426.26</td>\n",
       "      <td>4366572</td>\n",
       "      <td>2404.346</td>\n",
       "      <td>2433.000</td>\n",
       "      <td>2384.01</td>\n",
       "      <td>-0.009114</td>\n",
       "      <td>0.020549</td>\n",
       "      <td>0</td>\n",
       "      <td>0</td>\n",
       "      <td>0</td>\n",
       "      <td>-0.009419</td>\n",
       "    </tr>\n",
       "  </tbody>\n",
       "</table>\n",
       "</div>"
      ],
      "text/plain": [
       "          Date  Close/Last   Volume      Open      High      Low  Open_Close  \\\n",
       "252 2020-05-22     2436.88  2867079  2455.010  2469.850  2430.13    0.007385   \n",
       "253 2020-05-21     2446.74  5114403  2500.000  2525.450  2442.54    0.021304   \n",
       "254 2020-05-20     2497.94  3998143  2477.870  2500.010  2467.27   -0.008100   \n",
       "255 2020-05-19     2449.33  4320498  2429.830  2484.995  2428.97   -0.008025   \n",
       "256 2020-05-18     2426.26  4366572  2404.346  2433.000  2384.01   -0.009114   \n",
       "\n",
       "     High_Low  Increase_Decrease  Buy_Sell_on_Open  Buy_Sell   Returns  \n",
       "252  0.016345                  1                 1         1  0.006202  \n",
       "253  0.033944                  0                 0         1  0.004046  \n",
       "254  0.013270                  1                 0         0  0.020926  \n",
       "255  0.023065                  1                 0         0 -0.019460  \n",
       "256  0.020549                  0                 0         0 -0.009419  "
      ]
     },
     "execution_count": 6,
     "metadata": {},
     "output_type": "execute_result"
    }
   ],
   "source": [
    "#setup datetime for first 4 years\n",
    "start_date = \"2016-05-24\"\n",
    "end_date = \"2020-05-24\"\n",
    "\n",
    "after_start_date = amzn_df[\"Date\"] >= start_date\n",
    "before_end_date = amzn_df[\"Date\"] <= end_date\n",
    "between_two_dates = after_start_date & before_end_date\n",
    "amzn_df_4 = amzn_df.loc[between_two_dates]\n",
    "amzn_df_4.head()"
   ]
  },
  {
   "cell_type": "markdown",
   "metadata": {},
   "source": [
    "### SPLIT DATAFRAME"
   ]
  },
  {
   "cell_type": "code",
   "execution_count": 7,
   "metadata": {
    "scrolled": true
   },
   "outputs": [
    {
     "data": {
      "text/html": [
       "<div>\n",
       "<style scoped>\n",
       "    .dataframe tbody tr th:only-of-type {\n",
       "        vertical-align: middle;\n",
       "    }\n",
       "\n",
       "    .dataframe tbody tr th {\n",
       "        vertical-align: top;\n",
       "    }\n",
       "\n",
       "    .dataframe thead th {\n",
       "        text-align: right;\n",
       "    }\n",
       "</style>\n",
       "<table border=\"1\" class=\"dataframe\">\n",
       "  <thead>\n",
       "    <tr style=\"text-align: right;\">\n",
       "      <th></th>\n",
       "      <th>Date</th>\n",
       "      <th>Close/Last</th>\n",
       "      <th>Volume</th>\n",
       "      <th>Open</th>\n",
       "      <th>High</th>\n",
       "      <th>Low</th>\n",
       "      <th>Open_Close</th>\n",
       "      <th>High_Low</th>\n",
       "      <th>Increase_Decrease</th>\n",
       "      <th>Buy_Sell_on_Open</th>\n",
       "      <th>Buy_Sell</th>\n",
       "      <th>Returns</th>\n",
       "    </tr>\n",
       "  </thead>\n",
       "  <tbody>\n",
       "    <tr>\n",
       "      <th>1</th>\n",
       "      <td>2021-05-21</td>\n",
       "      <td>3203.08</td>\n",
       "      <td>4104882</td>\n",
       "      <td>3250.0000</td>\n",
       "      <td>3256.6946</td>\n",
       "      <td>3197.01</td>\n",
       "      <td>0.014437</td>\n",
       "      <td>0.018669</td>\n",
       "      <td>0</td>\n",
       "      <td>0</td>\n",
       "      <td>1</td>\n",
       "      <td>-0.012915</td>\n",
       "    </tr>\n",
       "    <tr>\n",
       "      <th>2</th>\n",
       "      <td>2021-05-20</td>\n",
       "      <td>3247.68</td>\n",
       "      <td>2633192</td>\n",
       "      <td>3244.4042</td>\n",
       "      <td>3259.6799</td>\n",
       "      <td>3236.18</td>\n",
       "      <td>-0.001010</td>\n",
       "      <td>0.007262</td>\n",
       "      <td>1</td>\n",
       "      <td>0</td>\n",
       "      <td>0</td>\n",
       "      <td>0.013924</td>\n",
       "    </tr>\n",
       "    <tr>\n",
       "      <th>3</th>\n",
       "      <td>2021-05-19</td>\n",
       "      <td>3231.80</td>\n",
       "      <td>2679708</td>\n",
       "      <td>3195.0000</td>\n",
       "      <td>3234.7500</td>\n",
       "      <td>3184.00</td>\n",
       "      <td>-0.011518</td>\n",
       "      <td>0.015939</td>\n",
       "      <td>1</td>\n",
       "      <td>1</td>\n",
       "      <td>1</td>\n",
       "      <td>-0.004890</td>\n",
       "    </tr>\n",
       "    <tr>\n",
       "      <th>4</th>\n",
       "      <td>2021-05-18</td>\n",
       "      <td>3232.28</td>\n",
       "      <td>2828391</td>\n",
       "      <td>3292.5750</td>\n",
       "      <td>3312.0000</td>\n",
       "      <td>3230.37</td>\n",
       "      <td>0.018312</td>\n",
       "      <td>0.025270</td>\n",
       "      <td>1</td>\n",
       "      <td>0</td>\n",
       "      <td>1</td>\n",
       "      <td>0.000149</td>\n",
       "    </tr>\n",
       "    <tr>\n",
       "      <th>5</th>\n",
       "      <td>2021-05-17</td>\n",
       "      <td>3270.39</td>\n",
       "      <td>3685599</td>\n",
       "      <td>3245.9300</td>\n",
       "      <td>3292.7500</td>\n",
       "      <td>3234.59</td>\n",
       "      <td>-0.007536</td>\n",
       "      <td>0.017981</td>\n",
       "      <td>0</td>\n",
       "      <td>0</td>\n",
       "      <td>0</td>\n",
       "      <td>0.011790</td>\n",
       "    </tr>\n",
       "  </tbody>\n",
       "</table>\n",
       "</div>"
      ],
      "text/plain": [
       "        Date  Close/Last   Volume       Open       High      Low  Open_Close  \\\n",
       "1 2021-05-21     3203.08  4104882  3250.0000  3256.6946  3197.01    0.014437   \n",
       "2 2021-05-20     3247.68  2633192  3244.4042  3259.6799  3236.18   -0.001010   \n",
       "3 2021-05-19     3231.80  2679708  3195.0000  3234.7500  3184.00   -0.011518   \n",
       "4 2021-05-18     3232.28  2828391  3292.5750  3312.0000  3230.37    0.018312   \n",
       "5 2021-05-17     3270.39  3685599  3245.9300  3292.7500  3234.59   -0.007536   \n",
       "\n",
       "   High_Low  Increase_Decrease  Buy_Sell_on_Open  Buy_Sell   Returns  \n",
       "1  0.018669                  0                 0         1 -0.012915  \n",
       "2  0.007262                  1                 0         0  0.013924  \n",
       "3  0.015939                  1                 1         1 -0.004890  \n",
       "4  0.025270                  1                 0         1  0.000149  \n",
       "5  0.017981                  0                 0         0  0.011790  "
      ]
     },
     "execution_count": 7,
     "metadata": {},
     "output_type": "execute_result"
    }
   ],
   "source": [
    "#setup datetime for last year\n",
    "start_date = \"2020-05-25\"\n",
    "end_date = \"2021-05-24\"\n",
    "\n",
    "after_start_date = amzn_df[\"Date\"] >= start_date\n",
    "before_end_date = amzn_df[\"Date\"] <= end_date\n",
    "between_two_dates = after_start_date & before_end_date\n",
    "amzn_df_ls = amzn_df.loc[between_two_dates]\n",
    "amzn_df_ls.head()"
   ]
  },
  {
   "cell_type": "markdown",
   "metadata": {},
   "source": [
    "### PLOT 1ST  DF (4YEARS)"
   ]
  },
  {
   "cell_type": "code",
   "execution_count": 8,
   "metadata": {
    "scrolled": false
   },
   "outputs": [
    {
     "data": {
      "image/png": "[encoded data removed]",
      "text/plain": [
       "<Figure size 864x576 with 1 Axes>"
      ]
     },
     "metadata": {
      "needs_background": "light"
     },
     "output_type": "display_data"
    }
   ],
   "source": [
    "plt.figure(figsize=(12,8))\n",
    "plt.plot(amzn_df_4['Close/Last'])\n",
    "plt.title(\"Amazon Line Chart\")\n",
    "plt.xlabel(\"Date\")\n",
    "plt.ylabel(\"Close\")\n",
    "plt.show()"
   ]
  },
  {
   "cell_type": "markdown",
   "metadata": {},
   "source": [
    "### PLOT SECOND DF (LAST YEAR)"
   ]
  },
  {
   "cell_type": "code",
   "execution_count": 9,
   "metadata": {},
   "outputs": [
    {
     "data": {
      "image/png": "[encoded data removed]",
      "text/plain": [
       "<Figure size 864x576 with 1 Axes>"
      ]
     },
     "metadata": {
      "needs_background": "light"
     },
     "output_type": "display_data"
    }
   ],
   "source": [
    "plt.figure(figsize=(12,8))\n",
    "plt.plot(amzn_df_ls['Close/Last'])\n",
    "plt.title(\"Amazon Line Chart\")\n",
    "plt.xlabel(\"Date\")\n",
    "plt.ylabel(\"Close\")\n",
    "plt.show()"
   ]
  },
  {
   "cell_type": "markdown",
   "metadata": {},
   "source": [
    "### SHAPPING, FITTING, TRAINING, TESTING ML ON 1ST DF"
   ]
  },
  {
   "cell_type": "code",
   "execution_count": 10,
   "metadata": {
    "scrolled": true
   },
   "outputs": [
    {
     "data": {
      "text/plain": [
       "(1006, 12)"
      ]
     },
     "execution_count": 10,
     "metadata": {},
     "output_type": "execute_result"
    }
   ],
   "source": [
    "amzn_df_4.shape"
   ]
  },
  {
   "cell_type": "markdown",
   "metadata": {},
   "source": [
    "#### DEFINING THE X & Y"
   ]
  },
  {
   "cell_type": "code",
   "execution_count": 11,
   "metadata": {},
   "outputs": [],
   "source": [
    "X = np.array(amzn_df_4['Open']).reshape(1006,-1)\n",
    "Y = np.array(amzn_df_4['Close/Last']).reshape(1006,-1)"
   ]
  },
  {
   "cell_type": "code",
   "execution_count": 12,
   "metadata": {},
   "outputs": [],
   "source": [
    "lr = LinearRegression()"
   ]
  },
  {
   "cell_type": "code",
   "execution_count": 13,
   "metadata": {},
   "outputs": [
    {
     "data": {
      "text/plain": [
       "LinearRegression()"
      ]
     },
     "execution_count": 13,
     "metadata": {},
     "output_type": "execute_result"
    }
   ],
   "source": [
    "lr.fit(X, Y)"
   ]
  },
  {
   "cell_type": "markdown",
   "metadata": {},
   "source": [
    "#### PRINTING OUR LR AND COEF COUNT"
   ]
  },
  {
   "cell_type": "code",
   "execution_count": 14,
   "metadata": {},
   "outputs": [
    {
     "name": "stdout",
     "output_type": "stream",
     "text": [
      "Linear Regression intercept: [1.04509618]\n",
      "coefficient count: 1\n"
     ]
    }
   ],
   "source": [
    "print('Linear Regression intercept:', lr.intercept_)\n",
    "print('coefficient count:', len(lr.coef_))"
   ]
  },
  {
   "cell_type": "markdown",
   "metadata": {},
   "source": [
    "#### SCORING "
   ]
  },
  {
   "cell_type": "code",
   "execution_count": 15,
   "metadata": {},
   "outputs": [
    {
     "name": "stdout",
     "output_type": "stream",
     "text": [
      "Accuracy: 0.997639655281388\n"
     ]
    }
   ],
   "source": [
    "from sklearn.metrics import accuracy_score\n",
    "print('Accuracy:', lr.score(X, Y))"
   ]
  },
  {
   "cell_type": "markdown",
   "metadata": {},
   "source": [
    "#### PRICE PREDICTION"
   ]
  },
  {
   "cell_type": "code",
   "execution_count": 16,
   "metadata": {
    "scrolled": true
   },
   "outputs": [
    {
     "data": {
      "text/plain": [
       "array([[2454.0775244 ],\n",
       "       [2499.03128384],\n",
       "       [2476.9191101 ],\n",
       "       ...,\n",
       "       [ 715.46914585],\n",
       "       [ 708.8045187 ],\n",
       "       [ 708.47478453]])"
      ]
     },
     "execution_count": 16,
     "metadata": {},
     "output_type": "execute_result"
    }
   ],
   "source": [
    "# Predicting the price\n",
    "lr.predict(X)"
   ]
  },
  {
   "cell_type": "markdown",
   "metadata": {},
   "source": [
    "#### DAILY RETURN"
   ]
  },
  {
   "cell_type": "code",
   "execution_count": 17,
   "metadata": {},
   "outputs": [
    {
     "data": {
      "text/plain": [
       "252         NaN\n",
       "253    0.004046\n",
       "254    0.020926\n",
       "255   -0.019460\n",
       "256   -0.009419\n",
       "Name: Close/Last, dtype: float64"
      ]
     },
     "execution_count": 17,
     "metadata": {},
     "output_type": "execute_result"
    }
   ],
   "source": [
    "#daily Return\n",
    "DA_RE = amzn_df_4['Close/Last'].pct_change(1)\n",
    "DA_RE.head()"
   ]
  },
  {
   "cell_type": "markdown",
   "metadata": {},
   "source": [
    "### PLOT LR PREDICTION OF 1ST DF"
   ]
  },
  {
   "cell_type": "code",
   "execution_count": 18,
   "metadata": {},
   "outputs": [
    {
     "data": {
      "text/plain": [
       "Text(0.5, 1.0, '4 Years CLosing Price vs Predicted Closing Price')"
      ]
     },
     "execution_count": 18,
     "metadata": {},
     "output_type": "execute_result"
    },
    {
     "data": {
      "image/png": "[encoded data removed]",
      "text/plain": [
       "<Figure size 864x576 with 1 Axes>"
      ]
     },
     "metadata": {
      "needs_background": "light"
     },
     "output_type": "display_data"
    }
   ],
   "source": [
    "plt.figure(figsize=(12,8))\n",
    "plt.scatter(amzn_df_4['Close/Last'], lr.predict(X))\n",
    "plt.plot(X, lr.predict(X), color = 'red')\n",
    "plt.xlabel('Closing Price')\n",
    "plt.ylabel('Predicted Closing Price')\n",
    "plt.savefig('images/amzn_4y.jpg', dpi=40)\n",
    "plt.grid()\n",
    "plt.title('4 Years CLosing Price vs Predicted Closing Price')"
   ]
  },
  {
   "cell_type": "markdown",
   "metadata": {},
   "source": [
    "### TRAINING, TESTING ML ON 2ND DF"
   ]
  },
  {
   "cell_type": "code",
   "execution_count": 19,
   "metadata": {},
   "outputs": [
    {
     "data": {
      "text/plain": [
       "(251, 12)"
      ]
     },
     "execution_count": 19,
     "metadata": {},
     "output_type": "execute_result"
    }
   ],
   "source": [
    "amzn_df_ls.shape"
   ]
  },
  {
   "cell_type": "markdown",
   "metadata": {},
   "source": [
    "#### DEFINING THE X & Y"
   ]
  },
  {
   "cell_type": "code",
   "execution_count": 20,
   "metadata": {},
   "outputs": [],
   "source": [
    "X_ls = np.array(amzn_df_ls['Open']).reshape(251,-1)\n",
    "Y_ls = np.array(amzn_df_ls['Close/Last']).reshape(251,-1)"
   ]
  },
  {
   "cell_type": "code",
   "execution_count": 21,
   "metadata": {},
   "outputs": [
    {
     "data": {
      "text/plain": [
       "LinearRegression()"
      ]
     },
     "execution_count": 21,
     "metadata": {},
     "output_type": "execute_result"
    }
   ],
   "source": [
    "lr.fit(X_ls, Y_ls)"
   ]
  },
  {
   "cell_type": "markdown",
   "metadata": {},
   "source": [
    "#### PRINTING OUR LR AND COEF COUNT"
   ]
  },
  {
   "cell_type": "code",
   "execution_count": 22,
   "metadata": {},
   "outputs": [
    {
     "name": "stdout",
     "output_type": "stream",
     "text": [
      "Linear Regression intercept: [140.68821251]\n",
      "coefficient count: 1\n"
     ]
    }
   ],
   "source": [
    "print('Linear Regression intercept:', lr.intercept_)\n",
    "print('coefficient count:', len(lr.coef_))"
   ]
  },
  {
   "cell_type": "markdown",
   "metadata": {},
   "source": [
    "#### SCORING"
   ]
  },
  {
   "cell_type": "code",
   "execution_count": 23,
   "metadata": {},
   "outputs": [
    {
     "name": "stdout",
     "output_type": "stream",
     "text": [
      "Accuracy: 0.9476632314497228\n"
     ]
    }
   ],
   "source": [
    "print('Accuracy:', lr.score(X_ls, Y_ls))"
   ]
  },
  {
   "cell_type": "markdown",
   "metadata": {},
   "source": [
    "#### PRICE PREDICTION"
   ]
  },
  {
   "cell_type": "code",
   "execution_count": 24,
   "metadata": {},
   "outputs": [
    {
     "data": {
      "text/plain": [
       "array([[3240.53453346],\n",
       "       [3235.19726575],\n",
       "       [3188.07559572],\n",
       "       [3281.14252026],\n",
       "       [3236.65257207],\n",
       "       [3179.07173441],\n",
       "       [3178.98589251],\n",
       "       [3178.53760704],\n",
       "       [3132.06852619],\n",
       "       [3271.36131287],\n",
       "       [3306.43249725],\n",
       "       [3259.61051082],\n",
       "       [3325.28433187],\n",
       "       [3341.81843525],\n",
       "       [3464.41974174],\n",
       "       [3502.94367802],\n",
       "       [3483.84671708],\n",
       "       [3416.79656426],\n",
       "       [3425.06600045],\n",
       "       [3334.00682252],\n",
       "       [3306.44203524],\n",
       "       [3356.59277971],\n",
       "       [3303.48525875],\n",
       "       [3358.42407354],\n",
       "       [3374.3811286 ],\n",
       "       [3364.5283863 ],\n",
       "       [3355.94419648],\n",
       "       [3387.45771108],\n",
       "       [3384.4103237 ],\n",
       "       [3340.88371236],\n",
       "       [3292.70733154],\n",
       "       [3298.62088452],\n",
       "       [3225.0829918 ],\n",
       "       [3215.49731317],\n",
       "       [3167.09202062],\n",
       "       [3114.57585495],\n",
       "       [3063.18517195],\n",
       "       [3068.86027521],\n",
       "       [3054.96247191],\n",
       "       [3044.10919459],\n",
       "       [3071.70259584],\n",
       "       [3146.14659748],\n",
       "       [3123.2172727 ],\n",
       "       [3066.80006966],\n",
       "       [3029.96435737],\n",
       "       [3098.41850213],\n",
       "       [3071.92196958],\n",
       "       [3102.20508364],\n",
       "       [3073.20959805],\n",
       "       [3073.61973156],\n",
       "       [3101.28943672],\n",
       "       [3095.98631502],\n",
       "       [3019.2436581 ],\n",
       "       [3016.39179948],\n",
       "       [3006.8538108 ],\n",
       "       [3013.53040288],\n",
       "       [3079.51420857],\n",
       "       [3138.92634005],\n",
       "       [3124.06615369],\n",
       "       [3092.88646869],\n",
       "       [3132.50727367],\n",
       "       [3161.1307777 ],\n",
       "       [3123.24588666],\n",
       "       [3200.59897486],\n",
       "       [3315.1502189 ],\n",
       "       [3271.45669276],\n",
       "       [3253.50619806],\n",
       "       [3244.39741887],\n",
       "       [3240.53453346],\n",
       "       [3280.59408591],\n",
       "       [3301.57766101],\n",
       "       [3300.13742472],\n",
       "       [3344.02171063],\n",
       "       [3306.34665535],\n",
       "       [3316.8384429 ],\n",
       "       [3407.45887334],\n",
       "       [3364.5283863 ],\n",
       "       [3233.24751011],\n",
       "       [3221.4585561 ],\n",
       "       [3226.26570239],\n",
       "       [3327.79759189],\n",
       "       [3284.74883378],\n",
       "       [3315.4077446 ],\n",
       "       [3292.33534998],\n",
       "       [3281.54788478],\n",
       "       [3175.66667245],\n",
       "       [3104.14129534],\n",
       "       [3119.4211532 ],\n",
       "       [3161.86520283],\n",
       "       [3124.59074307],\n",
       "       [3116.54068062],\n",
       "       [3143.25658691],\n",
       "       [3173.7686127 ],\n",
       "       [3151.83123874],\n",
       "       [3141.79727465],\n",
       "       [3160.42496654],\n",
       "       [3259.61051082],\n",
       "       [3264.37950516],\n",
       "       [3327.33023045],\n",
       "       [3297.70523761],\n",
       "       [3187.12179685],\n",
       "       [3187.02641696],\n",
       "       [3197.6135844 ],\n",
       "       [3195.55624024],\n",
       "       [3192.85412805],\n",
       "       [3234.80220226],\n",
       "       [3240.53453346],\n",
       "       [3169.96295522],\n",
       "       [3174.73194956],\n",
       "       [3138.47805458],\n",
       "       [3094.27901504],\n",
       "       [3086.96337772],\n",
       "       [3162.21810841],\n",
       "       [3153.64345659],\n",
       "       [3151.33526332],\n",
       "       [3191.13729009],\n",
       "       [3198.05233188],\n",
       "       [3213.49433555],\n",
       "       [3181.87590308],\n",
       "       [3200.93280446],\n",
       "       [3203.58436531],\n",
       "       [3137.40026186],\n",
       "       [3097.9416027 ],\n",
       "       [3113.39219056],\n",
       "       [3113.69835999],\n",
       "       [3102.52937525],\n",
       "       [3129.89386477],\n",
       "       [3177.14982969],\n",
       "       [3090.97887096],\n",
       "       [3118.44827836],\n",
       "       [3154.6449454 ],\n",
       "       [3061.01051053],\n",
       "       [3092.7147849 ],\n",
       "       [3222.44096893],\n",
       "       [3292.65010361],\n",
       "       [3307.27184025],\n",
       "       [3154.68309735],\n",
       "       [3019.75870949],\n",
       "       [3060.97235857],\n",
       "       [3152.54658789],\n",
       "       [3194.05591462],\n",
       "       [3239.86687425],\n",
       "       [3216.63233383],\n",
       "       [3191.64280349],\n",
       "       [3184.26040025],\n",
       "       [3183.18260753],\n",
       "       [3204.76707591],\n",
       "       [3214.09522884],\n",
       "       [3287.8524953 ],\n",
       "       [3348.53317928],\n",
       "       [3280.6036239 ],\n",
       "       [3428.43291045],\n",
       "       [3448.45314869],\n",
       "       [3335.85719233],\n",
       "       [3202.38257874],\n",
       "       [3216.68002377],\n",
       "       [3130.84766364],\n",
       "       [3159.46162968],\n",
       "       [3141.18684337],\n",
       "       [3148.61693655],\n",
       "       [3200.474981  ],\n",
       "       [3136.70398869],\n",
       "       [3169.37159992],\n",
       "       [3144.05777796],\n",
       "       [3054.41022236],\n",
       "       [2980.90094361],\n",
       "       [3116.95081413],\n",
       "       [3034.35660116],\n",
       "       [2912.90462231],\n",
       "       [3032.35839253],\n",
       "       [3010.90745599],\n",
       "       [3173.75907471],\n",
       "       [3131.95407033],\n",
       "       [3167.0319313 ],\n",
       "       [3201.13310222],\n",
       "       [3295.10995089],\n",
       "       [3195.69644867],\n",
       "       [3139.43185345],\n",
       "       [3305.39285648],\n",
       "       [3464.67726743],\n",
       "       [3523.81279725],\n",
       "       [3469.04566625],\n",
       "       [3392.17901548],\n",
       "       [3405.54173762],\n",
       "       [3431.341997  ],\n",
       "       [3336.973137  ],\n",
       "       [3283.44594453],\n",
       "       [3297.90553537],\n",
       "       [3283.45548252],\n",
       "       [3242.44213119],\n",
       "       [3291.09541145],\n",
       "       [3204.29017648],\n",
       "       [3167.20647649],\n",
       "       [3172.03269876],\n",
       "       [3176.62047132],\n",
       "       [3105.09509421],\n",
       "       [3110.05484832],\n",
       "       [3164.52630167],\n",
       "       [3215.74530088],\n",
       "       [3187.46516444],\n",
       "       [3139.21247971],\n",
       "       [3098.61879989],\n",
       "       [3174.25505012],\n",
       "       [3234.81174025],\n",
       "       [3015.43800061],\n",
       "       [3031.64304338],\n",
       "       [3053.84748103],\n",
       "       [3061.22034628],\n",
       "       [2935.3188957 ],\n",
       "       [3095.81587116],\n",
       "       [3121.30967496],\n",
       "       [3223.83351528],\n",
       "       [3002.27557624],\n",
       "       [3010.66900627],\n",
       "       [2974.48187722],\n",
       "       [3078.60809964],\n",
       "       [3086.97291571],\n",
       "       [3241.54556026],\n",
       "       [3184.98528739],\n",
       "       [3112.71594716],\n",
       "       [3023.65020887],\n",
       "       [3057.92974018],\n",
       "       [2940.05927608],\n",
       "       [2918.16005407],\n",
       "       [2771.25595242],\n",
       "       [2701.70016997],\n",
       "       [2706.41670538],\n",
       "       [2787.5334839 ],\n",
       "       [2753.6679013 ],\n",
       "       [2792.24906551],\n",
       "       [2740.76300261],\n",
       "       [2701.16127361],\n",
       "       [2695.03788488],\n",
       "       [2665.40335405],\n",
       "       [2665.8707155 ],\n",
       "       [2639.64124663],\n",
       "       [2550.55643236],\n",
       "       [2621.7193659 ],\n",
       "       [2623.90356531],\n",
       "       [2663.48621833],\n",
       "       [2553.26522114],\n",
       "       [2525.37614224],\n",
       "       [2472.25908329],\n",
       "       [2503.65814202],\n",
       "       [2494.67335668],\n",
       "       [2493.71001983],\n",
       "       [2475.58784134],\n",
       "       [2445.00904963],\n",
       "       [2414.85946741],\n",
       "       [2434.56495202],\n",
       "       [2485.12583002]])"
      ]
     },
     "execution_count": 24,
     "metadata": {},
     "output_type": "execute_result"
    }
   ],
   "source": [
    "# Predicting the price\n",
    "lr.predict(X_ls)"
   ]
  },
  {
   "cell_type": "markdown",
   "metadata": {},
   "source": [
    "### PLOT LR PREDICTION OF 2ND DF"
   ]
  },
  {
   "cell_type": "code",
   "execution_count": 25,
   "metadata": {
    "scrolled": true
   },
   "outputs": [
    {
     "data": {
      "text/plain": [
       "Text(0.5, 1.0, '1 Year CLosing Price vs Predicted Closing Price')"
      ]
     },
     "execution_count": 25,
     "metadata": {},
     "output_type": "execute_result"
    },
    {
     "data": {
      "image/png": "[encoded data removed]",
      "text/plain": [
       "<Figure size 864x576 with 1 Axes>"
      ]
     },
     "metadata": {
      "needs_background": "light"
     },
     "output_type": "display_data"
    }
   ],
   "source": [
    "plt.figure(figsize=(12,8))\n",
    "plt.scatter(amzn_df_ls['Close/Last'], lr.predict(X_ls))\n",
    "plt.plot(X_ls, lr.predict(X_ls), color = 'red')\n",
    "plt.xlabel('Closing Price')\n",
    "plt.ylabel('Predicted Closing Price')\n",
    "plt.savefig('images/amzn_ls.jpg', dpi=40)\n",
    "plt.grid()\n",
    "plt.title('1 Year CLosing Price vs Predicted Closing Price')"
   ]
  },
  {
   "cell_type": "markdown",
   "metadata": {},
   "source": [
    "### MODEL COMPARISON"
   ]
  },
  {
   "cell_type": "markdown",
   "metadata": {},
   "source": [
    "<tr>\n",
    "    <td> <img src=\"images/amzn_4y.jpg\"style=\"width: 550px;\"/> </td>\n",
    "    <td> <img src=\"images/amzn_ls.jpg\"style=\"width: 550px;\"/> </td>\n",
    "</tr>\n"
   ]
  },
  {
   "cell_type": "markdown",
   "metadata": {},
   "source": [
    "#### SHAPING OUR DF FOR TF SEQUENTIAL MODEL"
   ]
  },
  {
   "cell_type": "code",
   "execution_count": 26,
   "metadata": {},
   "outputs": [
    {
     "data": {
      "text/plain": [
       "(1257, 12)"
      ]
     },
     "execution_count": 26,
     "metadata": {},
     "output_type": "execute_result"
    }
   ],
   "source": [
    "amzn_df.shape"
   ]
  },
  {
   "cell_type": "markdown",
   "metadata": {},
   "source": [
    "#### BUILDING OUR MODEL"
   ]
  },
  {
   "cell_type": "code",
   "execution_count": 27,
   "metadata": {},
   "outputs": [],
   "source": [
    "model = tf.keras.Sequential([keras.layers.Dense(units=1, input_shape=[1])])\n",
    "model.compile(optimizer='sgd', loss='mean_squared_error')"
   ]
  },
  {
   "cell_type": "markdown",
   "metadata": {},
   "source": [
    "#### IDENTIFY X & Y"
   ]
  },
  {
   "cell_type": "code",
   "execution_count": 28,
   "metadata": {},
   "outputs": [],
   "source": [
    "Xc = np.array(amzn_df['Returns'], dtype = float) # Feature\n",
    "Yc = np.array(amzn_df['Close/Last'], dtype = float) # Target"
   ]
  },
  {
   "cell_type": "markdown",
   "metadata": {},
   "source": [
    "#### RUN & FIT MODEL"
   ]
  },
  {
   "cell_type": "code",
   "execution_count": 29,
   "metadata": {},
   "outputs": [
    {
     "name": "stdout",
     "output_type": "stream",
     "text": [
      "Epoch 1/100\n",
      "40/40 [==============================] - 0s 1ms/step - loss: 2246459.2500\n",
      "Epoch 2/100\n",
      "40/40 [==============================] - 0s 872us/step - loss: 976031.7500\n",
      "Epoch 3/100\n",
      "40/40 [==============================] - 0s 872us/step - loss: 722054.4375\n",
      "Epoch 4/100\n",
      "40/40 [==============================] - 0s 872us/step - loss: 670532.1250\n",
      "Epoch 5/100\n",
      "40/40 [==============================] - 0s 872us/step - loss: 660125.6875\n",
      "Epoch 6/100\n",
      "40/40 [==============================] - 0s 1ms/step - loss: 658322.1875\n",
      "Epoch 7/100\n",
      "40/40 [==============================] - 0s 897us/step - loss: 657698.8750\n",
      "Epoch 8/100\n",
      "40/40 [==============================] - 0s 1ms/step - loss: 657693.1875\n",
      "Epoch 9/100\n",
      "40/40 [==============================] - 0s 949us/step - loss: 657761.5000\n",
      "Epoch 10/100\n",
      "40/40 [==============================] - 0s 821us/step - loss: 657765.6875\n",
      "Epoch 11/100\n",
      "40/40 [==============================] - 0s 846us/step - loss: 657711.5000\n",
      "Epoch 12/100\n",
      "40/40 [==============================] - 0s 897us/step - loss: 657684.9375\n",
      "Epoch 13/100\n",
      "40/40 [==============================] - 0s 949us/step - loss: 657761.6250\n",
      "Epoch 14/100\n",
      "40/40 [==============================] - 0s 872us/step - loss: 657668.6875\n",
      "Epoch 15/100\n",
      "40/40 [==============================] - 0s 872us/step - loss: 657591.0000\n",
      "Epoch 16/100\n",
      "40/40 [==============================] - 0s 872us/step - loss: 657905.0000\n",
      "Epoch 17/100\n",
      "40/40 [==============================] - 0s 872us/step - loss: 657714.3750\n",
      "Epoch 18/100\n",
      "40/40 [==============================] - 0s 846us/step - loss: 657717.0625\n",
      "Epoch 19/100\n",
      "40/40 [==============================] - 0s 949us/step - loss: 657612.8125\n",
      "Epoch 20/100\n",
      "40/40 [==============================] - 0s 846us/step - loss: 657794.3125\n",
      "Epoch 21/100\n",
      "40/40 [==============================] - 0s 846us/step - loss: 657581.3750\n",
      "Epoch 22/100\n",
      "40/40 [==============================] - 0s 769us/step - loss: 657657.0625\n",
      "Epoch 23/100\n",
      "40/40 [==============================] - 0s 923us/step - loss: 657749.8125\n",
      "Epoch 24/100\n",
      "40/40 [==============================] - 0s 949us/step - loss: 657659.8125\n",
      "Epoch 25/100\n",
      "40/40 [==============================] - 0s 872us/step - loss: 657747.3750\n",
      "Epoch 26/100\n",
      "40/40 [==============================] - 0s 1ms/step - loss: 657617.3125\n",
      "Epoch 27/100\n",
      "40/40 [==============================] - 0s 846us/step - loss: 657658.8750\n",
      "Epoch 28/100\n",
      "40/40 [==============================] - 0s 1ms/step - loss: 657916.5000\n",
      "Epoch 29/100\n",
      "40/40 [==============================] - 0s 1ms/step - loss: 657590.6875\n",
      "Epoch 30/100\n",
      "40/40 [==============================] - 0s 872us/step - loss: 657594.8125\n",
      "Epoch 31/100\n",
      "40/40 [==============================] - 0s 923us/step - loss: 657701.8750\n",
      "Epoch 32/100\n",
      "40/40 [==============================] - 0s 923us/step - loss: 657519.4375\n",
      "Epoch 33/100\n",
      "40/40 [==============================] - 0s 949us/step - loss: 657575.0625\n",
      "Epoch 34/100\n",
      "40/40 [==============================] - 0s 1ms/step - loss: 657720.8750\n",
      "Epoch 35/100\n",
      "40/40 [==============================] - 0s 1ms/step - loss: 657800.4375\n",
      "Epoch 36/100\n",
      "40/40 [==============================] - 0s 923us/step - loss: 657601.1875\n",
      "Epoch 37/100\n",
      "40/40 [==============================] - 0s 949us/step - loss: 657774.1875\n",
      "Epoch 38/100\n",
      "40/40 [==============================] - 0s 949us/step - loss: 657768.0625\n",
      "Epoch 39/100\n",
      "40/40 [==============================] - 0s 1ms/step - loss: 657630.8750\n",
      "Epoch 40/100\n",
      "40/40 [==============================] - 0s 974us/step - loss: 657799.6250\n",
      "Epoch 41/100\n",
      "40/40 [==============================] - 0s 1ms/step - loss: 657505.0000\n",
      "Epoch 42/100\n",
      "40/40 [==============================] - 0s 1ms/step - loss: 657723.4375\n",
      "Epoch 43/100\n",
      "40/40 [==============================] - 0s 1ms/step - loss: 657679.3750\n",
      "Epoch 44/100\n",
      "40/40 [==============================] - 0s 1ms/step - loss: 657702.0625\n",
      "Epoch 45/100\n",
      "40/40 [==============================] - 0s 949us/step - loss: 657611.8750\n",
      "Epoch 46/100\n",
      "40/40 [==============================] - 0s 1ms/step - loss: 657510.4375\n",
      "Epoch 47/100\n",
      "40/40 [==============================] - 0s 1ms/step - loss: 657750.6875\n",
      "Epoch 48/100\n",
      "40/40 [==============================] - 0s 1ms/step - loss: 657853.7500\n",
      "Epoch 49/100\n",
      "40/40 [==============================] - 0s 1ms/step - loss: 657638.5625\n",
      "Epoch 50/100\n",
      "40/40 [==============================] - 0s 1ms/step - loss: 657698.7500\n",
      "Epoch 51/100\n",
      "40/40 [==============================] - 0s 795us/step - loss: 657684.2500\n",
      "Epoch 52/100\n",
      "40/40 [==============================] - 0s 821us/step - loss: 657618.6875\n",
      "Epoch 53/100\n",
      "40/40 [==============================] - 0s 872us/step - loss: 657744.3125\n",
      "Epoch 54/100\n",
      "40/40 [==============================] - 0s 846us/step - loss: 657768.2500\n",
      "Epoch 55/100\n",
      "40/40 [==============================] - 0s 872us/step - loss: 657748.4375\n",
      "Epoch 56/100\n",
      "40/40 [==============================] - 0s 795us/step - loss: 657608.5000\n",
      "Epoch 57/100\n",
      "40/40 [==============================] - 0s 769us/step - loss: 657722.2500\n",
      "Epoch 58/100\n",
      "40/40 [==============================] - 0s 821us/step - loss: 657623.1875\n",
      "Epoch 59/100\n",
      "40/40 [==============================] - 0s 872us/step - loss: 657789.2500\n",
      "Epoch 60/100\n",
      "40/40 [==============================] - 0s 846us/step - loss: 657568.6250\n",
      "Epoch 61/100\n",
      "40/40 [==============================] - 0s 846us/step - loss: 657803.8750\n",
      "Epoch 62/100\n",
      "40/40 [==============================] - 0s 872us/step - loss: 657830.6875\n",
      "Epoch 63/100\n",
      "40/40 [==============================] - 0s 949us/step - loss: 657783.6875\n",
      "Epoch 64/100\n",
      "40/40 [==============================] - 0s 897us/step - loss: 657680.4375\n",
      "Epoch 65/100\n",
      "40/40 [==============================] - 0s 872us/step - loss: 657724.3125\n",
      "Epoch 66/100\n",
      "40/40 [==============================] - 0s 872us/step - loss: 657636.9375\n",
      "Epoch 67/100\n",
      "40/40 [==============================] - 0s 872us/step - loss: 657677.6250\n",
      "Epoch 68/100\n",
      "40/40 [==============================] - 0s 821us/step - loss: 657581.6250\n",
      "Epoch 69/100\n",
      "40/40 [==============================] - 0s 821us/step - loss: 657747.3750\n",
      "Epoch 70/100\n",
      "40/40 [==============================] - 0s 1ms/step - loss: 657802.6250\n",
      "Epoch 71/100\n",
      "40/40 [==============================] - 0s 769us/step - loss: 657658.5625\n",
      "Epoch 72/100\n",
      "40/40 [==============================] - 0s 897us/step - loss: 657659.3125\n",
      "Epoch 73/100\n",
      "40/40 [==============================] - 0s 846us/step - loss: 657537.2500\n",
      "Epoch 74/100\n",
      "40/40 [==============================] - 0s 846us/step - loss: 657671.3750\n",
      "Epoch 75/100\n",
      "40/40 [==============================] - 0s 795us/step - loss: 657596.9375\n",
      "Epoch 76/100\n",
      "40/40 [==============================] - 0s 769us/step - loss: 657645.6875\n",
      "Epoch 77/100\n",
      "40/40 [==============================] - 0s 821us/step - loss: 657725.0625\n",
      "Epoch 78/100\n",
      "40/40 [==============================] - 0s 821us/step - loss: 657577.7500\n",
      "Epoch 79/100\n",
      "40/40 [==============================] - 0s 846us/step - loss: 657808.6250\n",
      "Epoch 80/100\n",
      "40/40 [==============================] - 0s 821us/step - loss: 657828.5625\n",
      "Epoch 81/100\n",
      "40/40 [==============================] - 0s 821us/step - loss: 657607.6250\n",
      "Epoch 82/100\n",
      "40/40 [==============================] - 0s 821us/step - loss: 657774.4375\n",
      "Epoch 83/100\n",
      "40/40 [==============================] - 0s 846us/step - loss: 657613.3125\n",
      "Epoch 84/100\n",
      "40/40 [==============================] - 0s 872us/step - loss: 657681.1875\n",
      "Epoch 85/100\n",
      "40/40 [==============================] - 0s 846us/step - loss: 657618.9375\n",
      "Epoch 86/100\n",
      "40/40 [==============================] - 0s 872us/step - loss: 657520.8125\n",
      "Epoch 87/100\n",
      "40/40 [==============================] - 0s 923us/step - loss: 657673.0000\n",
      "Epoch 88/100\n",
      "40/40 [==============================] - 0s 846us/step - loss: 657665.5000\n",
      "Epoch 89/100\n",
      "40/40 [==============================] - 0s 846us/step - loss: 657760.5625\n",
      "Epoch 90/100\n",
      "40/40 [==============================] - 0s 949us/step - loss: 657590.2500\n",
      "Epoch 91/100\n",
      "40/40 [==============================] - 0s 872us/step - loss: 657623.7500\n",
      "Epoch 92/100\n",
      "40/40 [==============================] - 0s 872us/step - loss: 657706.7500\n",
      "Epoch 93/100\n",
      "40/40 [==============================] - 0s 1ms/step - loss: 657691.1250\n",
      "Epoch 94/100\n"
     ]
    },
    {
     "name": "stdout",
     "output_type": "stream",
     "text": [
      "40/40 [==============================] - 0s 718us/step - loss: 657725.9375\n",
      "Epoch 95/100\n",
      "40/40 [==============================] - 0s 769us/step - loss: 657512.9375\n",
      "Epoch 96/100\n",
      "40/40 [==============================] - 0s 795us/step - loss: 657557.8125\n",
      "Epoch 97/100\n",
      "40/40 [==============================] - 0s 769us/step - loss: 657622.5000\n",
      "Epoch 98/100\n",
      "40/40 [==============================] - 0s 769us/step - loss: 657548.2500\n",
      "Epoch 99/100\n",
      "40/40 [==============================] - 0s 846us/step - loss: 657688.7500\n",
      "Epoch 100/100\n",
      "40/40 [==============================] - 0s 769us/step - loss: 657529.2500\n"
     ]
    },
    {
     "data": {
      "text/plain": [
       "<tensorflow.python.keras.callbacks.History at 0x27b35e57b80>"
      ]
     },
     "execution_count": 29,
     "metadata": {},
     "output_type": "execute_result"
    }
   ],
   "source": [
    "model.fit(Xc, Yc, epochs=100)"
   ]
  },
  {
   "cell_type": "markdown",
   "metadata": {},
   "source": [
    "#### TRANSFORM SCALE AND FIT MODEL"
   ]
  },
  {
   "cell_type": "code",
   "execution_count": 30,
   "metadata": {},
   "outputs": [],
   "source": [
    "scaler = MinMaxScaler()\n",
    "normalized_X = scaler.fit_transform(np.array(amzn_df['Returns']).reshape(1257,-1))\n",
    "X = np.array(normalized_X, dtype = float)\n",
    "normalized_Y = scaler.fit_transform(np.array(amzn_df['Close/Last']).reshape(1257,-1))\n",
    "Y = np.array(normalized_Y, dtype = float)"
   ]
  },
  {
   "cell_type": "code",
   "execution_count": 31,
   "metadata": {},
   "outputs": [],
   "source": [
    "def build_model():\n",
    "  model = keras.Sequential([\n",
    "    layers.Dense(64, activation=tf.nn.relu, input_shape=[len(train_dataset.keys())]),\n",
    "    layers.Dense(64, activation=tf.nn.relu),\n",
    "    layers.Dense(1)\n",
    "  ])\n",
    "\n",
    "  optimizer = tf.keras.optimizers.RMSprop(0.001)\n",
    "\n",
    "  model.compile(loss='mean_squared_error',\n",
    "                optimizer=optimizer,\n",
    "                metrics=['mean_absolute_error', 'mean_squared_error'])\n",
    "  return model"
   ]
  },
  {
   "cell_type": "markdown",
   "metadata": {},
   "source": [
    "#### PRINT OUR PREDICTION"
   ]
  },
  {
   "cell_type": "code",
   "execution_count": 32,
   "metadata": {
    "scrolled": true
   },
   "outputs": [
    {
     "name": "stdout",
     "output_type": "stream",
     "text": [
      "[[1752.2333]]\n"
     ]
    }
   ],
   "source": [
    "print((model.predict([0])))"
   ]
  },
  {
   "cell_type": "code",
   "execution_count": null,
   "metadata": {},
   "outputs": [],
   "source": []
  }
 ],
 "metadata": {
  "kernelspec": {
   "display_name": "Python 3",
   "language": "python",
   "name": "python3"
  },
  "language_info": {
   "codemirror_mode": {
    "name": "ipython",
    "version": 3
   },
   "file_extension": ".py",
   "mimetype": "text/x-python",
   "name": "python",
   "nbconvert_exporter": "python",
   "pygments_lexer": "ipython3",
   "version": "3.8.5"
  }
 },
 "nbformat": 4,
 "nbformat_minor": 4
}
