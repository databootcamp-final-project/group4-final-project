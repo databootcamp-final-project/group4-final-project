{
 "cells": [
  {
   "cell_type": "markdown",
   "metadata": {},
   "source": [
    "### DEPENDENCIES"
   ]
  },
  {
   "cell_type": "code",
   "execution_count": 1,
   "metadata": {},
   "outputs": [],
   "source": [
    "#dependencies\n",
    "import pandas as pd\n",
    "import numpy as np\n",
    "import matplotlib.pyplot as plt\n",
    "import datetime\n",
    "import os\n",
    "import tensorflow as tf\n",
    "from tensorflow import keras\n",
    "from tensorflow.keras.utils import to_categorical\n",
    "from tensorflow.keras.models import Sequential\n",
    "from tensorflow.keras.layers import Dense\n",
    "from sklearn.model_selection import train_test_split\n",
    "from sklearn.preprocessing import LabelEncoder, MinMaxScaler\n",
    "from sklearn import model_selection\n",
    "from sklearn.svm import SVC\n",
    "from sklearn.linear_model import LinearRegression"
   ]
  },
  {
   "cell_type": "markdown",
   "metadata": {},
   "source": [
    "### IMPORT CSV"
   ]
  },
  {
   "cell_type": "code",
   "execution_count": 2,
   "metadata": {
    "scrolled": false
   },
   "outputs": [
    {
     "data": {
      "text/html": [
       "<div>\n",
       "<style scoped>\n",
       "    .dataframe tbody tr th:only-of-type {\n",
       "        vertical-align: middle;\n",
       "    }\n",
       "\n",
       "    .dataframe tbody tr th {\n",
       "        vertical-align: top;\n",
       "    }\n",
       "\n",
       "    .dataframe thead th {\n",
       "        text-align: right;\n",
       "    }\n",
       "</style>\n",
       "<table border=\"1\" class=\"dataframe\">\n",
       "  <thead>\n",
       "    <tr style=\"text-align: right;\">\n",
       "      <th></th>\n",
       "      <th>Date</th>\n",
       "      <th>Close/Last</th>\n",
       "      <th>Volume</th>\n",
       "      <th>Open</th>\n",
       "      <th>High</th>\n",
       "      <th>Low</th>\n",
       "    </tr>\n",
       "  </thead>\n",
       "  <tbody>\n",
       "    <tr>\n",
       "      <th>0</th>\n",
       "      <td>05/24/2021</td>\n",
       "      <td>$250.78</td>\n",
       "      <td>21411550</td>\n",
       "      <td>$247.785</td>\n",
       "      <td>$251.16</td>\n",
       "      <td>$247.51</td>\n",
       "    </tr>\n",
       "    <tr>\n",
       "      <th>1</th>\n",
       "      <td>05/21/2021</td>\n",
       "      <td>$245.17</td>\n",
       "      <td>21863060</td>\n",
       "      <td>$247.565</td>\n",
       "      <td>$248.33</td>\n",
       "      <td>$244.74</td>\n",
       "    </tr>\n",
       "    <tr>\n",
       "      <th>2</th>\n",
       "      <td>05/20/2021</td>\n",
       "      <td>$246.48</td>\n",
       "      <td>21800720</td>\n",
       "      <td>$243.96</td>\n",
       "      <td>$247.95</td>\n",
       "      <td>$243.86</td>\n",
       "    </tr>\n",
       "    <tr>\n",
       "      <th>3</th>\n",
       "      <td>05/19/2021</td>\n",
       "      <td>$243.12</td>\n",
       "      <td>25739810</td>\n",
       "      <td>$239.31</td>\n",
       "      <td>$243.23</td>\n",
       "      <td>$238.6</td>\n",
       "    </tr>\n",
       "    <tr>\n",
       "      <th>4</th>\n",
       "      <td>05/18/2021</td>\n",
       "      <td>$243.08</td>\n",
       "      <td>20167980</td>\n",
       "      <td>$246.27</td>\n",
       "      <td>$246.41</td>\n",
       "      <td>$242.9</td>\n",
       "    </tr>\n",
       "  </tbody>\n",
       "</table>\n",
       "</div>"
      ],
      "text/plain": [
       "         Date Close/Last    Volume      Open     High      Low\n",
       "0  05/24/2021    $250.78  21411550  $247.785  $251.16  $247.51\n",
       "1  05/21/2021    $245.17  21863060  $247.565  $248.33  $244.74\n",
       "2  05/20/2021    $246.48  21800720   $243.96  $247.95  $243.86\n",
       "3  05/19/2021    $243.12  25739810   $239.31  $243.23   $238.6\n",
       "4  05/18/2021    $243.08  20167980   $246.27  $246.41   $242.9"
      ]
     },
     "execution_count": 2,
     "metadata": {},
     "output_type": "execute_result"
    }
   ],
   "source": [
    "#load assesment file\n",
    "\n",
    "msft = \"resources/HistoricalData_MSFT.csv\"\n",
    "msft_df = pd.read_csv(msft)\n",
    "msft_df.head()"
   ]
  },
  {
   "cell_type": "markdown",
   "metadata": {},
   "source": [
    "### CLEAN, RESHAPE AND CONVERT DATATYPE"
   ]
  },
  {
   "cell_type": "code",
   "execution_count": 3,
   "metadata": {},
   "outputs": [],
   "source": [
    "msft_df['Date']= pd.to_datetime(msft_df['Date'])\n",
    "msft_df['Close/Last'] = msft_df['Close/Last'].str.replace('$','')\n",
    "msft_df['Open'] = msft_df['Open'].str.replace('$','')\n",
    "msft_df['High'] = msft_df['High'].str.replace('$','')\n",
    "msft_df['Low'] = msft_df['Low'].str.replace('$','')\n",
    "msft_df = msft_df.apply( pd.to_numeric)"
   ]
  },
  {
   "cell_type": "markdown",
   "metadata": {},
   "source": [
    "### FORMAT DATE COLUMN"
   ]
  },
  {
   "cell_type": "code",
   "execution_count": 4,
   "metadata": {
    "scrolled": true
   },
   "outputs": [
    {
     "data": {
      "text/html": [
       "<div>\n",
       "<style scoped>\n",
       "    .dataframe tbody tr th:only-of-type {\n",
       "        vertical-align: middle;\n",
       "    }\n",
       "\n",
       "    .dataframe tbody tr th {\n",
       "        vertical-align: top;\n",
       "    }\n",
       "\n",
       "    .dataframe thead th {\n",
       "        text-align: right;\n",
       "    }\n",
       "</style>\n",
       "<table border=\"1\" class=\"dataframe\">\n",
       "  <thead>\n",
       "    <tr style=\"text-align: right;\">\n",
       "      <th></th>\n",
       "      <th>Date</th>\n",
       "      <th>Close/Last</th>\n",
       "      <th>Volume</th>\n",
       "      <th>Open</th>\n",
       "      <th>High</th>\n",
       "      <th>Low</th>\n",
       "    </tr>\n",
       "  </thead>\n",
       "  <tbody>\n",
       "    <tr>\n",
       "      <th>0</th>\n",
       "      <td>2021-05-24</td>\n",
       "      <td>250.78</td>\n",
       "      <td>21411550</td>\n",
       "      <td>247.785</td>\n",
       "      <td>251.16</td>\n",
       "      <td>247.51</td>\n",
       "    </tr>\n",
       "    <tr>\n",
       "      <th>1</th>\n",
       "      <td>2021-05-21</td>\n",
       "      <td>245.17</td>\n",
       "      <td>21863060</td>\n",
       "      <td>247.565</td>\n",
       "      <td>248.33</td>\n",
       "      <td>244.74</td>\n",
       "    </tr>\n",
       "    <tr>\n",
       "      <th>2</th>\n",
       "      <td>2021-05-20</td>\n",
       "      <td>246.48</td>\n",
       "      <td>21800720</td>\n",
       "      <td>243.960</td>\n",
       "      <td>247.95</td>\n",
       "      <td>243.86</td>\n",
       "    </tr>\n",
       "    <tr>\n",
       "      <th>3</th>\n",
       "      <td>2021-05-19</td>\n",
       "      <td>243.12</td>\n",
       "      <td>25739810</td>\n",
       "      <td>239.310</td>\n",
       "      <td>243.23</td>\n",
       "      <td>238.60</td>\n",
       "    </tr>\n",
       "    <tr>\n",
       "      <th>4</th>\n",
       "      <td>2021-05-18</td>\n",
       "      <td>243.08</td>\n",
       "      <td>20167980</td>\n",
       "      <td>246.270</td>\n",
       "      <td>246.41</td>\n",
       "      <td>242.90</td>\n",
       "    </tr>\n",
       "  </tbody>\n",
       "</table>\n",
       "</div>"
      ],
      "text/plain": [
       "        Date  Close/Last    Volume     Open    High     Low\n",
       "0 2021-05-24      250.78  21411550  247.785  251.16  247.51\n",
       "1 2021-05-21      245.17  21863060  247.565  248.33  244.74\n",
       "2 2021-05-20      246.48  21800720  243.960  247.95  243.86\n",
       "3 2021-05-19      243.12  25739810  239.310  243.23  238.60\n",
       "4 2021-05-18      243.08  20167980  246.270  246.41  242.90"
      ]
     },
     "execution_count": 4,
     "metadata": {},
     "output_type": "execute_result"
    }
   ],
   "source": [
    "msft_df['Date']= pd.to_datetime(msft_df['Date'])\n",
    "msft_df.head()"
   ]
  },
  {
   "cell_type": "markdown",
   "metadata": {},
   "source": [
    "### CREATE ADDITIONAL DATA"
   ]
  },
  {
   "cell_type": "code",
   "execution_count": 5,
   "metadata": {},
   "outputs": [
    {
     "data": {
      "text/html": [
       "<div>\n",
       "<style scoped>\n",
       "    .dataframe tbody tr th:only-of-type {\n",
       "        vertical-align: middle;\n",
       "    }\n",
       "\n",
       "    .dataframe tbody tr th {\n",
       "        vertical-align: top;\n",
       "    }\n",
       "\n",
       "    .dataframe thead th {\n",
       "        text-align: right;\n",
       "    }\n",
       "</style>\n",
       "<table border=\"1\" class=\"dataframe\">\n",
       "  <thead>\n",
       "    <tr style=\"text-align: right;\">\n",
       "      <th></th>\n",
       "      <th>Date</th>\n",
       "      <th>Close/Last</th>\n",
       "      <th>Volume</th>\n",
       "      <th>Open</th>\n",
       "      <th>High</th>\n",
       "      <th>Low</th>\n",
       "      <th>Open_Close</th>\n",
       "      <th>High_Low</th>\n",
       "      <th>Increase_Decrease</th>\n",
       "      <th>Buy_Sell_on_Open</th>\n",
       "      <th>Buy_Sell</th>\n",
       "      <th>Returns</th>\n",
       "    </tr>\n",
       "  </thead>\n",
       "  <tbody>\n",
       "    <tr>\n",
       "      <th>1</th>\n",
       "      <td>2021-05-21</td>\n",
       "      <td>245.17</td>\n",
       "      <td>21863060</td>\n",
       "      <td>247.565</td>\n",
       "      <td>248.33</td>\n",
       "      <td>244.74</td>\n",
       "      <td>0.009674</td>\n",
       "      <td>0.014669</td>\n",
       "      <td>0</td>\n",
       "      <td>0</td>\n",
       "      <td>1</td>\n",
       "      <td>-0.022370</td>\n",
       "    </tr>\n",
       "    <tr>\n",
       "      <th>2</th>\n",
       "      <td>2021-05-20</td>\n",
       "      <td>246.48</td>\n",
       "      <td>21800720</td>\n",
       "      <td>243.960</td>\n",
       "      <td>247.95</td>\n",
       "      <td>243.86</td>\n",
       "      <td>-0.010330</td>\n",
       "      <td>0.016772</td>\n",
       "      <td>1</td>\n",
       "      <td>0</td>\n",
       "      <td>0</td>\n",
       "      <td>0.005343</td>\n",
       "    </tr>\n",
       "    <tr>\n",
       "      <th>3</th>\n",
       "      <td>2021-05-19</td>\n",
       "      <td>243.12</td>\n",
       "      <td>25739810</td>\n",
       "      <td>239.310</td>\n",
       "      <td>243.23</td>\n",
       "      <td>238.60</td>\n",
       "      <td>-0.015921</td>\n",
       "      <td>0.019405</td>\n",
       "      <td>0</td>\n",
       "      <td>1</td>\n",
       "      <td>0</td>\n",
       "      <td>-0.013632</td>\n",
       "    </tr>\n",
       "    <tr>\n",
       "      <th>4</th>\n",
       "      <td>2021-05-18</td>\n",
       "      <td>243.08</td>\n",
       "      <td>20167980</td>\n",
       "      <td>246.270</td>\n",
       "      <td>246.41</td>\n",
       "      <td>242.90</td>\n",
       "      <td>0.012953</td>\n",
       "      <td>0.014450</td>\n",
       "      <td>1</td>\n",
       "      <td>1</td>\n",
       "      <td>1</td>\n",
       "      <td>-0.000165</td>\n",
       "    </tr>\n",
       "    <tr>\n",
       "      <th>5</th>\n",
       "      <td>2021-05-17</td>\n",
       "      <td>245.18</td>\n",
       "      <td>24938180</td>\n",
       "      <td>246.550</td>\n",
       "      <td>246.59</td>\n",
       "      <td>243.52</td>\n",
       "      <td>0.005557</td>\n",
       "      <td>0.012607</td>\n",
       "      <td>0</td>\n",
       "      <td>0</td>\n",
       "      <td>1</td>\n",
       "      <td>0.008639</td>\n",
       "    </tr>\n",
       "  </tbody>\n",
       "</table>\n",
       "</div>"
      ],
      "text/plain": [
       "        Date  Close/Last    Volume     Open    High     Low  Open_Close  \\\n",
       "1 2021-05-21      245.17  21863060  247.565  248.33  244.74    0.009674   \n",
       "2 2021-05-20      246.48  21800720  243.960  247.95  243.86   -0.010330   \n",
       "3 2021-05-19      243.12  25739810  239.310  243.23  238.60   -0.015921   \n",
       "4 2021-05-18      243.08  20167980  246.270  246.41  242.90    0.012953   \n",
       "5 2021-05-17      245.18  24938180  246.550  246.59  243.52    0.005557   \n",
       "\n",
       "   High_Low  Increase_Decrease  Buy_Sell_on_Open  Buy_Sell   Returns  \n",
       "1  0.014669                  0                 0         1 -0.022370  \n",
       "2  0.016772                  1                 0         0  0.005343  \n",
       "3  0.019405                  0                 1         0 -0.013632  \n",
       "4  0.014450                  1                 1         1 -0.000165  \n",
       "5  0.012607                  0                 0         1  0.008639  "
      ]
     },
     "execution_count": 5,
     "metadata": {},
     "output_type": "execute_result"
    }
   ],
   "source": [
    "msft_df['Open_Close'] = (msft_df['Open'] - msft_df['Close/Last'])/msft_df['Open']\n",
    "msft_df['High_Low'] = (msft_df['High'] - msft_df['Low'])/msft_df['Low']\n",
    "msft_df['Increase_Decrease'] = np.where(msft_df['Volume'].shift(-1) > msft_df['Volume'],1,0)\n",
    "msft_df['Buy_Sell_on_Open'] = np.where(msft_df['Open'].shift(-1) > msft_df['Open'],1,0)\n",
    "msft_df['Buy_Sell'] = np.where(msft_df['Close/Last'].shift(-1) > msft_df['Close/Last'],1,0)\n",
    "msft_df['Returns'] = msft_df['Close/Last'].pct_change()\n",
    "msft_df = msft_df.dropna()\n",
    "msft_df.head()"
   ]
  },
  {
   "cell_type": "markdown",
   "metadata": {},
   "source": [
    "### SPLIT DATAFRAME"
   ]
  },
  {
   "cell_type": "code",
   "execution_count": 6,
   "metadata": {
    "scrolled": true
   },
   "outputs": [
    {
     "data": {
      "text/html": [
       "<div>\n",
       "<style scoped>\n",
       "    .dataframe tbody tr th:only-of-type {\n",
       "        vertical-align: middle;\n",
       "    }\n",
       "\n",
       "    .dataframe tbody tr th {\n",
       "        vertical-align: top;\n",
       "    }\n",
       "\n",
       "    .dataframe thead th {\n",
       "        text-align: right;\n",
       "    }\n",
       "</style>\n",
       "<table border=\"1\" class=\"dataframe\">\n",
       "  <thead>\n",
       "    <tr style=\"text-align: right;\">\n",
       "      <th></th>\n",
       "      <th>Date</th>\n",
       "      <th>Close/Last</th>\n",
       "      <th>Volume</th>\n",
       "      <th>Open</th>\n",
       "      <th>High</th>\n",
       "      <th>Low</th>\n",
       "      <th>Open_Close</th>\n",
       "      <th>High_Low</th>\n",
       "      <th>Increase_Decrease</th>\n",
       "      <th>Buy_Sell_on_Open</th>\n",
       "      <th>Buy_Sell</th>\n",
       "      <th>Returns</th>\n",
       "    </tr>\n",
       "  </thead>\n",
       "  <tbody>\n",
       "    <tr>\n",
       "      <th>252</th>\n",
       "      <td>2020-05-22</td>\n",
       "      <td>183.51</td>\n",
       "      <td>20826900</td>\n",
       "      <td>183.19</td>\n",
       "      <td>184.46</td>\n",
       "      <td>182.54</td>\n",
       "      <td>-0.001747</td>\n",
       "      <td>0.010518</td>\n",
       "      <td>1</td>\n",
       "      <td>1</td>\n",
       "      <td>0</td>\n",
       "      <td>0.010685</td>\n",
       "    </tr>\n",
       "    <tr>\n",
       "      <th>253</th>\n",
       "      <td>2020-05-21</td>\n",
       "      <td>183.43</td>\n",
       "      <td>29119510</td>\n",
       "      <td>185.40</td>\n",
       "      <td>186.67</td>\n",
       "      <td>183.29</td>\n",
       "      <td>0.010626</td>\n",
       "      <td>0.018441</td>\n",
       "      <td>1</td>\n",
       "      <td>0</td>\n",
       "      <td>1</td>\n",
       "      <td>-0.000436</td>\n",
       "    </tr>\n",
       "    <tr>\n",
       "      <th>254</th>\n",
       "      <td>2020-05-20</td>\n",
       "      <td>185.66</td>\n",
       "      <td>31261330</td>\n",
       "      <td>184.81</td>\n",
       "      <td>185.85</td>\n",
       "      <td>183.94</td>\n",
       "      <td>-0.004599</td>\n",
       "      <td>0.010384</td>\n",
       "      <td>0</td>\n",
       "      <td>1</td>\n",
       "      <td>0</td>\n",
       "      <td>0.012157</td>\n",
       "    </tr>\n",
       "    <tr>\n",
       "      <th>255</th>\n",
       "      <td>2020-05-19</td>\n",
       "      <td>183.63</td>\n",
       "      <td>26799120</td>\n",
       "      <td>185.03</td>\n",
       "      <td>186.60</td>\n",
       "      <td>183.49</td>\n",
       "      <td>0.007566</td>\n",
       "      <td>0.016949</td>\n",
       "      <td>1</td>\n",
       "      <td>1</td>\n",
       "      <td>1</td>\n",
       "      <td>-0.010934</td>\n",
       "    </tr>\n",
       "    <tr>\n",
       "      <th>256</th>\n",
       "      <td>2020-05-18</td>\n",
       "      <td>184.91</td>\n",
       "      <td>35306620</td>\n",
       "      <td>185.75</td>\n",
       "      <td>186.20</td>\n",
       "      <td>183.96</td>\n",
       "      <td>0.004522</td>\n",
       "      <td>0.012177</td>\n",
       "      <td>1</td>\n",
       "      <td>0</td>\n",
       "      <td>0</td>\n",
       "      <td>0.006971</td>\n",
       "    </tr>\n",
       "  </tbody>\n",
       "</table>\n",
       "</div>"
      ],
      "text/plain": [
       "          Date  Close/Last    Volume    Open    High     Low  Open_Close  \\\n",
       "252 2020-05-22      183.51  20826900  183.19  184.46  182.54   -0.001747   \n",
       "253 2020-05-21      183.43  29119510  185.40  186.67  183.29    0.010626   \n",
       "254 2020-05-20      185.66  31261330  184.81  185.85  183.94   -0.004599   \n",
       "255 2020-05-19      183.63  26799120  185.03  186.60  183.49    0.007566   \n",
       "256 2020-05-18      184.91  35306620  185.75  186.20  183.96    0.004522   \n",
       "\n",
       "     High_Low  Increase_Decrease  Buy_Sell_on_Open  Buy_Sell   Returns  \n",
       "252  0.010518                  1                 1         0  0.010685  \n",
       "253  0.018441                  1                 0         1 -0.000436  \n",
       "254  0.010384                  0                 1         0  0.012157  \n",
       "255  0.016949                  1                 1         1 -0.010934  \n",
       "256  0.012177                  1                 0         0  0.006971  "
      ]
     },
     "execution_count": 6,
     "metadata": {},
     "output_type": "execute_result"
    }
   ],
   "source": [
    "#setup datetime for first 4 years\n",
    "start_date = \"2016-05-24\"\n",
    "end_date = \"2020-05-24\"\n",
    "\n",
    "after_start_date = msft_df[\"Date\"] >= start_date\n",
    "before_end_date = msft_df[\"Date\"] <= end_date\n",
    "between_two_dates = after_start_date & before_end_date\n",
    "msft_df_4 = msft_df.loc[between_two_dates]\n",
    "msft_df_4.head()"
   ]
  },
  {
   "cell_type": "markdown",
   "metadata": {},
   "source": [
    "### SPLIT DATAFRAME"
   ]
  },
  {
   "cell_type": "code",
   "execution_count": 7,
   "metadata": {
    "scrolled": true
   },
   "outputs": [
    {
     "data": {
      "text/html": [
       "<div>\n",
       "<style scoped>\n",
       "    .dataframe tbody tr th:only-of-type {\n",
       "        vertical-align: middle;\n",
       "    }\n",
       "\n",
       "    .dataframe tbody tr th {\n",
       "        vertical-align: top;\n",
       "    }\n",
       "\n",
       "    .dataframe thead th {\n",
       "        text-align: right;\n",
       "    }\n",
       "</style>\n",
       "<table border=\"1\" class=\"dataframe\">\n",
       "  <thead>\n",
       "    <tr style=\"text-align: right;\">\n",
       "      <th></th>\n",
       "      <th>Date</th>\n",
       "      <th>Close/Last</th>\n",
       "      <th>Volume</th>\n",
       "      <th>Open</th>\n",
       "      <th>High</th>\n",
       "      <th>Low</th>\n",
       "      <th>Open_Close</th>\n",
       "      <th>High_Low</th>\n",
       "      <th>Increase_Decrease</th>\n",
       "      <th>Buy_Sell_on_Open</th>\n",
       "      <th>Buy_Sell</th>\n",
       "      <th>Returns</th>\n",
       "    </tr>\n",
       "  </thead>\n",
       "  <tbody>\n",
       "    <tr>\n",
       "      <th>1</th>\n",
       "      <td>2021-05-21</td>\n",
       "      <td>245.17</td>\n",
       "      <td>21863060</td>\n",
       "      <td>247.565</td>\n",
       "      <td>248.33</td>\n",
       "      <td>244.74</td>\n",
       "      <td>0.009674</td>\n",
       "      <td>0.014669</td>\n",
       "      <td>0</td>\n",
       "      <td>0</td>\n",
       "      <td>1</td>\n",
       "      <td>-0.022370</td>\n",
       "    </tr>\n",
       "    <tr>\n",
       "      <th>2</th>\n",
       "      <td>2021-05-20</td>\n",
       "      <td>246.48</td>\n",
       "      <td>21800720</td>\n",
       "      <td>243.960</td>\n",
       "      <td>247.95</td>\n",
       "      <td>243.86</td>\n",
       "      <td>-0.010330</td>\n",
       "      <td>0.016772</td>\n",
       "      <td>1</td>\n",
       "      <td>0</td>\n",
       "      <td>0</td>\n",
       "      <td>0.005343</td>\n",
       "    </tr>\n",
       "    <tr>\n",
       "      <th>3</th>\n",
       "      <td>2021-05-19</td>\n",
       "      <td>243.12</td>\n",
       "      <td>25739810</td>\n",
       "      <td>239.310</td>\n",
       "      <td>243.23</td>\n",
       "      <td>238.60</td>\n",
       "      <td>-0.015921</td>\n",
       "      <td>0.019405</td>\n",
       "      <td>0</td>\n",
       "      <td>1</td>\n",
       "      <td>0</td>\n",
       "      <td>-0.013632</td>\n",
       "    </tr>\n",
       "    <tr>\n",
       "      <th>4</th>\n",
       "      <td>2021-05-18</td>\n",
       "      <td>243.08</td>\n",
       "      <td>20167980</td>\n",
       "      <td>246.270</td>\n",
       "      <td>246.41</td>\n",
       "      <td>242.90</td>\n",
       "      <td>0.012953</td>\n",
       "      <td>0.014450</td>\n",
       "      <td>1</td>\n",
       "      <td>1</td>\n",
       "      <td>1</td>\n",
       "      <td>-0.000165</td>\n",
       "    </tr>\n",
       "    <tr>\n",
       "      <th>5</th>\n",
       "      <td>2021-05-17</td>\n",
       "      <td>245.18</td>\n",
       "      <td>24938180</td>\n",
       "      <td>246.550</td>\n",
       "      <td>246.59</td>\n",
       "      <td>243.52</td>\n",
       "      <td>0.005557</td>\n",
       "      <td>0.012607</td>\n",
       "      <td>0</td>\n",
       "      <td>0</td>\n",
       "      <td>1</td>\n",
       "      <td>0.008639</td>\n",
       "    </tr>\n",
       "  </tbody>\n",
       "</table>\n",
       "</div>"
      ],
      "text/plain": [
       "        Date  Close/Last    Volume     Open    High     Low  Open_Close  \\\n",
       "1 2021-05-21      245.17  21863060  247.565  248.33  244.74    0.009674   \n",
       "2 2021-05-20      246.48  21800720  243.960  247.95  243.86   -0.010330   \n",
       "3 2021-05-19      243.12  25739810  239.310  243.23  238.60   -0.015921   \n",
       "4 2021-05-18      243.08  20167980  246.270  246.41  242.90    0.012953   \n",
       "5 2021-05-17      245.18  24938180  246.550  246.59  243.52    0.005557   \n",
       "\n",
       "   High_Low  Increase_Decrease  Buy_Sell_on_Open  Buy_Sell   Returns  \n",
       "1  0.014669                  0                 0         1 -0.022370  \n",
       "2  0.016772                  1                 0         0  0.005343  \n",
       "3  0.019405                  0                 1         0 -0.013632  \n",
       "4  0.014450                  1                 1         1 -0.000165  \n",
       "5  0.012607                  0                 0         1  0.008639  "
      ]
     },
     "execution_count": 7,
     "metadata": {},
     "output_type": "execute_result"
    }
   ],
   "source": [
    "#setup datetime for last year\n",
    "start_date = \"2020-05-25\"\n",
    "end_date = \"2021-05-24\"\n",
    "\n",
    "after_start_date = msft_df[\"Date\"] >= start_date\n",
    "before_end_date = msft_df[\"Date\"] <= end_date\n",
    "between_two_dates = after_start_date & before_end_date\n",
    "msft_df_ls = msft_df.loc[between_two_dates]\n",
    "msft_df_ls.head()"
   ]
  },
  {
   "cell_type": "markdown",
   "metadata": {},
   "source": [
    "### PLOT 1ST  DF (4YEARS)"
   ]
  },
  {
   "cell_type": "code",
   "execution_count": 8,
   "metadata": {
    "scrolled": false
   },
   "outputs": [
    {
     "data": {
      "image/png": "[encoded data removed]",
      "text/plain": [
       "<Figure size 864x576 with 1 Axes>"
      ]
     },
     "metadata": {
      "needs_background": "light"
     },
     "output_type": "display_data"
    }
   ],
   "source": [
    "plt.figure(figsize=(12,8))\n",
    "plt.plot(msft_df_4['Close/Last'])\n",
    "plt.title(\"Microsoft Line Chart\")\n",
    "plt.xlabel(\"Date\")\n",
    "plt.ylabel(\"Close\")\n",
    "plt.show()"
   ]
  },
  {
   "cell_type": "markdown",
   "metadata": {},
   "source": [
    "### PLOT SECOND DF (LAST YEAR)"
   ]
  },
  {
   "cell_type": "code",
   "execution_count": 9,
   "metadata": {},
   "outputs": [
    {
     "data": {
      "image/png": "[encoded data removed]",
      "text/plain": [
       "<Figure size 864x576 with 1 Axes>"
      ]
     },
     "metadata": {
      "needs_background": "light"
     },
     "output_type": "display_data"
    }
   ],
   "source": [
    "plt.figure(figsize=(12,8))\n",
    "plt.plot(msft_df_ls['Close/Last'])\n",
    "plt.title(\"Microsoft Line Chart\")\n",
    "plt.xlabel(\"Date\")\n",
    "plt.ylabel(\"Close\")\n",
    "plt.show()"
   ]
  },
  {
   "cell_type": "markdown",
   "metadata": {},
   "source": [
    "### SHAPPING, FITTING, TRAINING, TESTING ML ON 1ST DF"
   ]
  },
  {
   "cell_type": "code",
   "execution_count": 10,
   "metadata": {
    "scrolled": true
   },
   "outputs": [
    {
     "data": {
      "text/plain": [
       "(1006, 12)"
      ]
     },
     "execution_count": 10,
     "metadata": {},
     "output_type": "execute_result"
    }
   ],
   "source": [
    "msft_df_4.shape"
   ]
  },
  {
   "cell_type": "code",
   "execution_count": 11,
   "metadata": {},
   "outputs": [],
   "source": [
    "X = np.array(msft_df_4['Open']).reshape(1006,-1)\n",
    "Y = np.array(msft_df_4['Close/Last']).reshape(1006,-1)"
   ]
  },
  {
   "cell_type": "code",
   "execution_count": 12,
   "metadata": {},
   "outputs": [],
   "source": [
    "lr = LinearRegression()"
   ]
  },
  {
   "cell_type": "code",
   "execution_count": 13,
   "metadata": {},
   "outputs": [
    {
     "data": {
      "text/plain": [
       "LinearRegression()"
      ]
     },
     "execution_count": 13,
     "metadata": {},
     "output_type": "execute_result"
    }
   ],
   "source": [
    "lr.fit(X, Y)"
   ]
  },
  {
   "cell_type": "code",
   "execution_count": 14,
   "metadata": {},
   "outputs": [
    {
     "name": "stdout",
     "output_type": "stream",
     "text": [
      "Linear Regression intercept: [0.10501476]\n",
      "coefficient count: 1\n"
     ]
    }
   ],
   "source": [
    "print('Linear Regression intercept:', lr.intercept_)\n",
    "print('coefficient count:', len(lr.coef_))"
   ]
  },
  {
   "cell_type": "code",
   "execution_count": 15,
   "metadata": {},
   "outputs": [
    {
     "name": "stdout",
     "output_type": "stream",
     "text": [
      "Accuracy: 0.9981148446674122\n"
     ]
    }
   ],
   "source": [
    "from sklearn.metrics import accuracy_score\n",
    "print('Accuracy:', lr.score(X, Y))"
   ]
  },
  {
   "cell_type": "code",
   "execution_count": 16,
   "metadata": {
    "scrolled": true
   },
   "outputs": [
    {
     "data": {
      "text/plain": [
       "array([[183.1404069 ],\n",
       "       [185.34854171],\n",
       "       [184.75903966],\n",
       "       ...,\n",
       "       [ 51.98119556],\n",
       "       [ 51.99118712],\n",
       "       [ 51.98119556]])"
      ]
     },
     "execution_count": 16,
     "metadata": {},
     "output_type": "execute_result"
    }
   ],
   "source": [
    "# Predicting the price\n",
    "lr.predict(X)"
   ]
  },
  {
   "cell_type": "code",
   "execution_count": 17,
   "metadata": {},
   "outputs": [
    {
     "data": {
      "text/plain": [
       "252         NaN\n",
       "253   -0.000436\n",
       "254    0.012157\n",
       "255   -0.010934\n",
       "256    0.006971\n",
       "Name: Close/Last, dtype: float64"
      ]
     },
     "execution_count": 17,
     "metadata": {},
     "output_type": "execute_result"
    }
   ],
   "source": [
    "#daily Return\n",
    "DA_RE = msft_df_4['Close/Last'].pct_change(1)\n",
    "DA_RE.head()"
   ]
  },
  {
   "cell_type": "code",
   "execution_count": 18,
   "metadata": {},
   "outputs": [
    {
     "data": {
      "text/plain": [
       "Text(0.5, 1.0, '4 Years CLosing Price vs Predicted Closing Price')"
      ]
     },
     "execution_count": 18,
     "metadata": {},
     "output_type": "execute_result"
    },
    {
     "data": {
      "image/png": "[encoded data removed]",
      "text/plain": [
       "<Figure size 864x576 with 1 Axes>"
      ]
     },
     "metadata": {
      "needs_background": "light"
     },
     "output_type": "display_data"
    }
   ],
   "source": [
    "plt.figure(figsize=(12,8))\n",
    "plt.scatter(msft_df_4['Close/Last'], lr.predict(X))\n",
    "plt.plot(X, lr.predict(X), color = 'red')\n",
    "plt.xlabel('Closing Price')\n",
    "plt.ylabel('Predicted Closing Price')\n",
    "plt.savefig('images/msft_4y.jpg', dpi=40)\n",
    "plt.grid()\n",
    "plt.title('4 Years CLosing Price vs Predicted Closing Price')"
   ]
  },
  {
   "cell_type": "markdown",
   "metadata": {},
   "source": [
    "### TRAINING, TESTING ML ON 2ND DF"
   ]
  },
  {
   "cell_type": "code",
   "execution_count": 19,
   "metadata": {},
   "outputs": [
    {
     "data": {
      "text/plain": [
       "(251, 12)"
      ]
     },
     "execution_count": 19,
     "metadata": {},
     "output_type": "execute_result"
    }
   ],
   "source": [
    "msft_df_ls.shape"
   ]
  },
  {
   "cell_type": "code",
   "execution_count": 20,
   "metadata": {},
   "outputs": [],
   "source": [
    "X_ls = np.array(msft_df_ls['Open']).reshape(251,-1)\n",
    "Y_ls = np.array(msft_df_ls['Close/Last']).reshape(251,-1)"
   ]
  },
  {
   "cell_type": "code",
   "execution_count": 21,
   "metadata": {},
   "outputs": [
    {
     "data": {
      "text/plain": [
       "LinearRegression()"
      ]
     },
     "execution_count": 21,
     "metadata": {},
     "output_type": "execute_result"
    }
   ],
   "source": [
    "lr.fit(X_ls, Y_ls)"
   ]
  },
  {
   "cell_type": "code",
   "execution_count": 22,
   "metadata": {},
   "outputs": [
    {
     "name": "stdout",
     "output_type": "stream",
     "text": [
      "Linear Regression intercept: [2.80952621]\n",
      "coefficient count: 1\n"
     ]
    }
   ],
   "source": [
    "print('Linear Regression intercept:', lr.intercept_)\n",
    "print('coefficient count:', len(lr.coef_))"
   ]
  },
  {
   "cell_type": "code",
   "execution_count": 23,
   "metadata": {},
   "outputs": [
    {
     "name": "stdout",
     "output_type": "stream",
     "text": [
      "Accuracy: 0.9755259415010304\n"
     ]
    }
   ],
   "source": [
    "print('Accuracy:', lr.score(X_ls, Y_ls))"
   ]
  },
  {
   "cell_type": "code",
   "execution_count": 24,
   "metadata": {},
   "outputs": [
    {
     "data": {
      "text/plain": [
       "array([[247.36361955],\n",
       "       [243.80246386],\n",
       "       [239.20901756],\n",
       "       [246.08436945],\n",
       "       [246.36096406],\n",
       "       [245.3978221 ],\n",
       "       [241.66873397],\n",
       "       [242.02929481],\n",
       "       [244.38528823],\n",
       "       [250.62842385],\n",
       "       [251.89285639],\n",
       "       [246.26218027],\n",
       "       [248.84043723],\n",
       "       [250.72720765],\n",
       "       [253.12765378],\n",
       "       [249.51216701],\n",
       "       [255.16259988],\n",
       "       [255.77308371],\n",
       "       [261.21310711],\n",
       "       [261.28719495],\n",
       "       [257.55316764],\n",
       "       [259.85482998],\n",
       "       [258.60027583],\n",
       "       [257.49389736],\n",
       "       [259.83507322],\n",
       "       [259.12382992],\n",
       "       [257.60354737],\n",
       "       [257.15309328],\n",
       "       [256.93774462],\n",
       "       [254.42172145],\n",
       "       [252.60409968],\n",
       "       [252.50531589],\n",
       "       [247.60563984],\n",
       "       [247.40807225],\n",
       "       [242.61705837],\n",
       "       [238.37923371],\n",
       "       [232.88685491],\n",
       "       [233.49437522],\n",
       "       [236.52209843],\n",
       "       [231.54339534],\n",
       "       [235.24778752],\n",
       "       [237.76183502],\n",
       "       [237.40621337],\n",
       "       [230.27896281],\n",
       "       [231.01984125],\n",
       "       [232.54111164],\n",
       "       [236.08744975],\n",
       "       [236.21586868],\n",
       "       [234.91192263],\n",
       "       [233.97347661],\n",
       "       [234.91192263],\n",
       "       [236.92711198],\n",
       "       [232.85721977],\n",
       "       [231.36558452],\n",
       "       [229.53512086],\n",
       "       [226.78695578],\n",
       "       [232.14103728],\n",
       "       [236.93699036],\n",
       "       [235.84049027],\n",
       "       [231.5186994 ],\n",
       "       [232.06694944],\n",
       "       [230.02212496],\n",
       "       [230.3332939 ],\n",
       "       [237.3420039 ],\n",
       "       [243.5950179 ],\n",
       "       [241.66873397],\n",
       "       [241.19457177],\n",
       "       [244.85945043],\n",
       "       [243.77579224],\n",
       "       [244.61249095],\n",
       "       [244.8298153 ],\n",
       "       [241.73788262],\n",
       "       [243.00231515],\n",
       "       [242.09350427],\n",
       "       [242.51827458],\n",
       "       [239.46585542],\n",
       "       [241.17481501],\n",
       "       [235.01070642],\n",
       "       [235.92939568],\n",
       "       [235.55401728],\n",
       "       [237.91494989],\n",
       "       [231.8496251 ],\n",
       "       [229.14294921],\n",
       "       [227.12775987],\n",
       "       [224.77670563],\n",
       "       [217.86184023],\n",
       "       [213.95988046],\n",
       "       [213.73267774],\n",
       "       [216.09361036],\n",
       "       [214.2265967 ],\n",
       "       [216.67643473],\n",
       "       [218.62247542],\n",
       "       [218.82992138],\n",
       "       [214.24635346],\n",
       "       [212.39909656],\n",
       "       [217.42719154],\n",
       "       [222.63309735],\n",
       "       [221.81319188],\n",
       "       [225.30025972],\n",
       "       [226.36712467],\n",
       "       [224.52974615],\n",
       "       [221.53659727],\n",
       "       [223.20604334],\n",
       "       [222.79115142],\n",
       "       [217.71366454],\n",
       "       [218.74101597],\n",
       "       [220.0054485 ],\n",
       "       [214.94771838],\n",
       "       [215.35767111],\n",
       "       [213.31778582],\n",
       "       [210.30488018],\n",
       "       [212.00396139],\n",
       "       [215.35273192],\n",
       "       [214.1772048 ],\n",
       "       [214.57233997],\n",
       "       [214.42416428],\n",
       "       [214.80942107],\n",
       "       [215.07613731],\n",
       "       [214.71063728],\n",
       "       [214.30562373],\n",
       "       [215.04650217],\n",
       "       [215.30334003],\n",
       "       [209.85047474],\n",
       "       [211.1939343 ],\n",
       "       [212.4287317 ],\n",
       "       [211.61870461],\n",
       "       [213.86109667],\n",
       "       [216.28129956],\n",
       "       [215.06625893],\n",
       "       [216.53813742],\n",
       "       [217.37779965],\n",
       "       [212.6164209 ],\n",
       "       [214.7007589 ],\n",
       "       [224.51492858],\n",
       "       [222.36638112],\n",
       "       [222.14905678],\n",
       "       [214.2265967 ],\n",
       "       [204.21979862],\n",
       "       [204.61493379],\n",
       "       [203.83454184],\n",
       "       [204.39760945],\n",
       "       [207.95382594],\n",
       "       [211.82615057],\n",
       "       [214.05866425],\n",
       "       [215.22431299],\n",
       "       [214.13769129],\n",
       "       [213.33754258],\n",
       "       [215.98494819],\n",
       "       [220.54382016],\n",
       "       [220.28204312],\n",
       "       [217.26913748],\n",
       "       [223.09738117],\n",
       "       [222.82078656],\n",
       "       [218.93858355],\n",
       "       [211.47052892],\n",
       "       [210.75928562],\n",
       "       [207.35124481],\n",
       "       [209.08983954],\n",
       "       [207.50929888],\n",
       "       [208.27981245],\n",
       "       [213.70304261],\n",
       "       [208.01309622],\n",
       "       [209.61339364],\n",
       "       [211.12478565],\n",
       "       [203.88393373],\n",
       "       [200.22893345],\n",
       "       [208.18102866],\n",
       "       [205.37556898],\n",
       "       [197.6012846 ],\n",
       "       [203.1430553 ],\n",
       "       [200.42650103],\n",
       "       [210.86794779],\n",
       "       [208.69470438],\n",
       "       [204.56554189],\n",
       "       [207.48954212],\n",
       "       [213.61413719],\n",
       "       [207.88467729],\n",
       "       [206.79805558],\n",
       "       [215.29346165],\n",
       "       [229.2911249 ],\n",
       "       [228.00693561],\n",
       "       [225.57685434],\n",
       "       [227.04873283],\n",
       "       [228.21438157],\n",
       "       [222.988719  ],\n",
       "       [218.03965105],\n",
       "       [213.31778582],\n",
       "       [214.98723189],\n",
       "       [214.06854263],\n",
       "       [209.80108284],\n",
       "       [211.72736678],\n",
       "       [210.77904238],\n",
       "       [209.86035312],\n",
       "       [209.03056927],\n",
       "       [209.70229905],\n",
       "       [205.60277171],\n",
       "       [207.44508942],\n",
       "       [211.9051776 ],\n",
       "       [215.04650217],\n",
       "       [212.567029  ],\n",
       "       [215.09589406],\n",
       "       [214.37477239],\n",
       "       [211.75700191],\n",
       "       [204.72359596],\n",
       "       [201.36494705],\n",
       "       [202.84670392],\n",
       "       [203.94320401],\n",
       "       [201.82923087],\n",
       "       [200.79200106],\n",
       "       [207.47966374],\n",
       "       [209.46521795],\n",
       "       [213.87097505],\n",
       "       [205.31629871],\n",
       "       [204.79274462],\n",
       "       [205.71143388],\n",
       "       [209.8208396 ],\n",
       "       [206.43255555],\n",
       "       [214.68100214],\n",
       "       [213.83146153],\n",
       "       [216.50850228],\n",
       "       [210.32463694],\n",
       "       [210.70001534],\n",
       "       [209.10366927],\n",
       "       [205.98802849],\n",
       "       [203.47892019],\n",
       "       [198.28486843],\n",
       "       [196.20843314],\n",
       "       [200.1103929 ],\n",
       "       [198.20386572],\n",
       "       [201.96160115],\n",
       "       [202.44169038],\n",
       "       [196.21831152],\n",
       "       [198.98425768],\n",
       "       [194.45008165],\n",
       "       [195.4675547 ],\n",
       "       [193.35358156],\n",
       "       [185.14464849],\n",
       "       [191.03216246],\n",
       "       [193.59066266],\n",
       "       [191.61004764],\n",
       "       [188.52305416],\n",
       "       [186.48810806],\n",
       "       [183.20848618],\n",
       "       [184.86805388],\n",
       "       [185.3767904 ],\n",
       "       [184.81866198],\n",
       "       [183.12945915],\n",
       "       [183.31714835],\n",
       "       [181.3513509 ],\n",
       "       [180.81791843],\n",
       "       [186.88324322]])"
      ]
     },
     "execution_count": 24,
     "metadata": {},
     "output_type": "execute_result"
    }
   ],
   "source": [
    "# Predicting the price\n",
    "lr.predict(X_ls)"
   ]
  },
  {
   "cell_type": "code",
   "execution_count": 25,
   "metadata": {},
   "outputs": [
    {
     "data": {
      "text/plain": [
       "Text(0.5, 1.0, '1 Year CLosing Price vs Predicted Closing Price')"
      ]
     },
     "execution_count": 25,
     "metadata": {},
     "output_type": "execute_result"
    },
    {
     "data": {
      "image/png": "[encoded data removed]",
      "text/plain": [
       "<Figure size 864x576 with 1 Axes>"
      ]
     },
     "metadata": {
      "needs_background": "light"
     },
     "output_type": "display_data"
    }
   ],
   "source": [
    "plt.figure(figsize=(12,8))\n",
    "plt.scatter(msft_df_ls['Close/Last'], lr.predict(X_ls))\n",
    "plt.plot(X_ls, lr.predict(X_ls), color = 'red')\n",
    "plt.xlabel('Closing Price')\n",
    "plt.ylabel('Predicted Closing Price')\n",
    "plt.savefig('images/msft_ls.jpg', dpi=40)\n",
    "plt.grid()\n",
    "plt.title('1 Year CLosing Price vs Predicted Closing Price')"
   ]
  },
  {
   "cell_type": "markdown",
   "metadata": {},
   "source": [
    "### MODEL COMPARISON"
   ]
  },
  {
   "cell_type": "markdown",
   "metadata": {},
   "source": [
    "<tr>\n",
    "    <td> <img src=\"images/msft_4y.jpg\"style=\"width: 550px;\"/> </td>\n",
    "    <td> <img src=\"images/msft_ls.jpg\"style=\"width: 550px;\"/> </td>\n",
    "</tr>\n"
   ]
  },
  {
   "cell_type": "code",
   "execution_count": 26,
   "metadata": {},
   "outputs": [
    {
     "data": {
      "text/plain": [
       "(1257, 12)"
      ]
     },
     "execution_count": 26,
     "metadata": {},
     "output_type": "execute_result"
    }
   ],
   "source": [
    "msft_df.shape"
   ]
  },
  {
   "cell_type": "code",
   "execution_count": 27,
   "metadata": {},
   "outputs": [],
   "source": [
    "model = tf.keras.Sequential([keras.layers.Dense(units=1, input_shape=[1])])\n",
    "model.compile(optimizer='sgd', loss='mean_squared_error')"
   ]
  },
  {
   "cell_type": "code",
   "execution_count": 28,
   "metadata": {},
   "outputs": [],
   "source": [
    "Xc = np.array(msft_df['Returns'], dtype = float) # Feature\n",
    "Yc = np.array(msft_df['Close/Last'], dtype = float) # Target"
   ]
  },
  {
   "cell_type": "code",
   "execution_count": 29,
   "metadata": {},
   "outputs": [
    {
     "name": "stdout",
     "output_type": "stream",
     "text": [
      "Epoch 1/100\n",
      "40/40 [==============================] - 0s 590us/step - loss: 11320.2256\n",
      "Epoch 2/100\n",
      "40/40 [==============================] - 0s 615us/step - loss: 4957.8892\n",
      "Epoch 3/100\n",
      "40/40 [==============================] - 0s 667us/step - loss: 3691.6079\n",
      "Epoch 4/100\n",
      "40/40 [==============================] - 0s 615us/step - loss: 3430.0518\n",
      "Epoch 5/100\n",
      "40/40 [==============================] - 0s 590us/step - loss: 3381.1396\n",
      "Epoch 6/100\n",
      "40/40 [==============================] - 0s 795us/step - loss: 3374.9165\n",
      "Epoch 7/100\n",
      "40/40 [==============================] - 0s 667us/step - loss: 3371.2375\n",
      "Epoch 8/100\n",
      "40/40 [==============================] - 0s 590us/step - loss: 3371.9653\n",
      "Epoch 9/100\n",
      "40/40 [==============================] - 0s 692us/step - loss: 3371.7839\n",
      "Epoch 10/100\n",
      "40/40 [==============================] - 0s 667us/step - loss: 3371.9697\n",
      "Epoch 11/100\n",
      "40/40 [==============================] - 0s 641us/step - loss: 3372.8730\n",
      "Epoch 12/100\n",
      "40/40 [==============================] - 0s 590us/step - loss: 3372.1038\n",
      "Epoch 13/100\n",
      "40/40 [==============================] - 0s 641us/step - loss: 3372.0171\n",
      "Epoch 14/100\n",
      "40/40 [==============================] - 0s 590us/step - loss: 3370.9817\n",
      "Epoch 15/100\n",
      "40/40 [==============================] - 0s 718us/step - loss: 3371.8311\n",
      "Epoch 16/100\n",
      "40/40 [==============================] - 0s 641us/step - loss: 3371.2852\n",
      "Epoch 17/100\n",
      "40/40 [==============================] - 0s 949us/step - loss: 3373.2795\n",
      "Epoch 18/100\n",
      "40/40 [==============================] - 0s 590us/step - loss: 3371.1890\n",
      "Epoch 19/100\n",
      "40/40 [==============================] - 0s 641us/step - loss: 3371.8281\n",
      "Epoch 20/100\n",
      "40/40 [==============================] - 0s 590us/step - loss: 3372.5613\n",
      "Epoch 21/100\n",
      "40/40 [==============================] - 0s 615us/step - loss: 3371.7952\n",
      "Epoch 22/100\n",
      "40/40 [==============================] - 0s 641us/step - loss: 3372.5552\n",
      "Epoch 23/100\n",
      "40/40 [==============================] - 0s 615us/step - loss: 3371.8115\n",
      "Epoch 24/100\n",
      "40/40 [==============================] - 0s 590us/step - loss: 3372.2788\n",
      "Epoch 25/100\n",
      "40/40 [==============================] - 0s 615us/step - loss: 3372.5020\n",
      "Epoch 26/100\n",
      "40/40 [==============================] - 0s 590us/step - loss: 3372.0076\n",
      "Epoch 27/100\n",
      "40/40 [==============================] - 0s 667us/step - loss: 3371.8054\n",
      "Epoch 28/100\n",
      "40/40 [==============================] - 0s 615us/step - loss: 3371.6965\n",
      "Epoch 29/100\n",
      "40/40 [==============================] - 0s 615us/step - loss: 3371.6826\n",
      "Epoch 30/100\n",
      "40/40 [==============================] - 0s 692us/step - loss: 3372.6550\n",
      "Epoch 31/100\n",
      "40/40 [==============================] - 0s 590us/step - loss: 3372.6409\n",
      "Epoch 32/100\n",
      "40/40 [==============================] - 0s 564us/step - loss: 3372.3357\n",
      "Epoch 33/100\n",
      "40/40 [==============================] - 0s 590us/step - loss: 3371.6372\n",
      "Epoch 34/100\n",
      "40/40 [==============================] - 0s 615us/step - loss: 3372.2109\n",
      "Epoch 35/100\n",
      "40/40 [==============================] - 0s 641us/step - loss: 3371.4233\n",
      "Epoch 36/100\n",
      "40/40 [==============================] - 0s 590us/step - loss: 3372.0386\n",
      "Epoch 37/100\n",
      "40/40 [==============================] - 0s 590us/step - loss: 3372.5051\n",
      "Epoch 38/100\n",
      "40/40 [==============================] - 0s 641us/step - loss: 3372.0640\n",
      "Epoch 39/100\n",
      "40/40 [==============================] - 0s 590us/step - loss: 3371.6873\n",
      "Epoch 40/100\n",
      "40/40 [==============================] - 0s 590us/step - loss: 3371.2378\n",
      "Epoch 41/100\n",
      "40/40 [==============================] - 0s 615us/step - loss: 3372.1226\n",
      "Epoch 42/100\n",
      "40/40 [==============================] - 0s 615us/step - loss: 3372.1357\n",
      "Epoch 43/100\n",
      "40/40 [==============================] - 0s 590us/step - loss: 3372.1870\n",
      "Epoch 44/100\n",
      "40/40 [==============================] - 0s 590us/step - loss: 3371.7192\n",
      "Epoch 45/100\n",
      "40/40 [==============================] - 0s 564us/step - loss: 3372.5745\n",
      "Epoch 46/100\n",
      "40/40 [==============================] - 0s 820us/step - loss: 3371.4951\n",
      "Epoch 47/100\n",
      "40/40 [==============================] - 0s 641us/step - loss: 3371.9021\n",
      "Epoch 48/100\n",
      "40/40 [==============================] - 0s 590us/step - loss: 3372.4324\n",
      "Epoch 49/100\n",
      "40/40 [==============================] - 0s 539us/step - loss: 3372.1152\n",
      "Epoch 50/100\n",
      "40/40 [==============================] - 0s 590us/step - loss: 3371.6138\n",
      "Epoch 51/100\n",
      "40/40 [==============================] - 0s 590us/step - loss: 3371.1101\n",
      "Epoch 52/100\n",
      "40/40 [==============================] - 0s 615us/step - loss: 3372.2559\n",
      "Epoch 53/100\n",
      "40/40 [==============================] - 0s 590us/step - loss: 3371.0481\n",
      "Epoch 54/100\n",
      "40/40 [==============================] - 0s 667us/step - loss: 3372.0208\n",
      "Epoch 55/100\n",
      "40/40 [==============================] - 0s 539us/step - loss: 3371.5208\n",
      "Epoch 56/100\n",
      "40/40 [==============================] - 0s 590us/step - loss: 3372.1421\n",
      "Epoch 57/100\n",
      "40/40 [==============================] - 0s 538us/step - loss: 3372.1074\n",
      "Epoch 58/100\n",
      "40/40 [==============================] - 0s 615us/step - loss: 3372.2959\n",
      "Epoch 59/100\n",
      "40/40 [==============================] - 0s 564us/step - loss: 3372.0972\n",
      "Epoch 60/100\n",
      "40/40 [==============================] - 0s 615us/step - loss: 3373.3110\n",
      "Epoch 61/100\n",
      "40/40 [==============================] - 0s 564us/step - loss: 3372.6294\n",
      "Epoch 62/100\n",
      "40/40 [==============================] - 0s 564us/step - loss: 3371.9304\n",
      "Epoch 63/100\n",
      "40/40 [==============================] - 0s 641us/step - loss: 3373.1953\n",
      "Epoch 64/100\n",
      "40/40 [==============================] - 0s 615us/step - loss: 3370.6650\n",
      "Epoch 65/100\n",
      "40/40 [==============================] - 0s 923us/step - loss: 3372.2036\n",
      "Epoch 66/100\n",
      "40/40 [==============================] - 0s 821us/step - loss: 3372.0549\n",
      "Epoch 67/100\n",
      "40/40 [==============================] - 0s 564us/step - loss: 3372.4487\n",
      "Epoch 68/100\n",
      "40/40 [==============================] - 0s 564us/step - loss: 3371.8591\n",
      "Epoch 69/100\n",
      "40/40 [==============================] - 0s 564us/step - loss: 3370.9590\n",
      "Epoch 70/100\n",
      "40/40 [==============================] - 0s 615us/step - loss: 3371.9646\n",
      "Epoch 71/100\n",
      "40/40 [==============================] - 0s 564us/step - loss: 3371.2034\n",
      "Epoch 72/100\n",
      "40/40 [==============================] - 0s 615us/step - loss: 3372.0251\n",
      "Epoch 73/100\n",
      "40/40 [==============================] - 0s 538us/step - loss: 3372.4622\n",
      "Epoch 74/100\n",
      "40/40 [==============================] - 0s 538us/step - loss: 3371.9514\n",
      "Epoch 75/100\n",
      "40/40 [==============================] - 0s 590us/step - loss: 3371.8730\n",
      "Epoch 76/100\n",
      "40/40 [==============================] - 0s 564us/step - loss: 3371.6562\n",
      "Epoch 77/100\n",
      "40/40 [==============================] - 0s 615us/step - loss: 3372.3955\n",
      "Epoch 78/100\n",
      "40/40 [==============================] - 0s 769us/step - loss: 3371.5146\n",
      "Epoch 79/100\n",
      "40/40 [==============================] - 0s 564us/step - loss: 3371.2080\n",
      "Epoch 80/100\n",
      "40/40 [==============================] - 0s 564us/step - loss: 3371.4941\n",
      "Epoch 81/100\n",
      "40/40 [==============================] - 0s 538us/step - loss: 3371.7290\n",
      "Epoch 82/100\n",
      "40/40 [==============================] - 0s 590us/step - loss: 3371.6833\n",
      "Epoch 83/100\n",
      "40/40 [==============================] - 0s 615us/step - loss: 3372.3098\n",
      "Epoch 84/100\n",
      "40/40 [==============================] - 0s 641us/step - loss: 3371.4802\n",
      "Epoch 85/100\n",
      "40/40 [==============================] - 0s 564us/step - loss: 3372.2495\n",
      "Epoch 86/100\n",
      "40/40 [==============================] - 0s 538us/step - loss: 3371.8459\n",
      "Epoch 87/100\n",
      "40/40 [==============================] - 0s 641us/step - loss: 3372.3811\n",
      "Epoch 88/100\n",
      "40/40 [==============================] - 0s 564us/step - loss: 3371.3066\n",
      "Epoch 89/100\n",
      "40/40 [==============================] - 0s 590us/step - loss: 3371.3438\n",
      "Epoch 90/100\n",
      "40/40 [==============================] - 0s 564us/step - loss: 3371.8889\n",
      "Epoch 91/100\n",
      "40/40 [==============================] - 0s 667us/step - loss: 3371.7156\n",
      "Epoch 92/100\n",
      "40/40 [==============================] - 0s 564us/step - loss: 3372.6580\n",
      "Epoch 93/100\n",
      "40/40 [==============================] - 0s 564us/step - loss: 3371.5227\n",
      "Epoch 94/100\n",
      "40/40 [==============================] - 0s 615us/step - loss: 3372.0811\n",
      "Epoch 95/100\n",
      "40/40 [==============================] - 0s 564us/step - loss: 3371.8899\n",
      "Epoch 96/100\n"
     ]
    },
    {
     "name": "stdout",
     "output_type": "stream",
     "text": [
      "40/40 [==============================] - 0s 615us/step - loss: 3372.7988\n",
      "Epoch 97/100\n",
      "40/40 [==============================] - 0s 615us/step - loss: 3371.8318\n",
      "Epoch 98/100\n",
      "40/40 [==============================] - 0s 538us/step - loss: 3371.8918\n",
      "Epoch 99/100\n",
      "40/40 [==============================] - 0s 590us/step - loss: 3371.7466\n",
      "Epoch 100/100\n",
      "40/40 [==============================] - 0s 564us/step - loss: 3371.2302\n"
     ]
    },
    {
     "data": {
      "text/plain": [
       "<tensorflow.python.keras.callbacks.History at 0x245dff6dfd0>"
      ]
     },
     "execution_count": 29,
     "metadata": {},
     "output_type": "execute_result"
    }
   ],
   "source": [
    "model.fit(Xc, Yc, epochs=100)"
   ]
  },
  {
   "cell_type": "code",
   "execution_count": 30,
   "metadata": {},
   "outputs": [],
   "source": [
    "scaler = MinMaxScaler()\n",
    "normalized_X = scaler.fit_transform(np.array(msft_df['Returns']).reshape(1257,-1))\n",
    "X = np.array(normalized_X, dtype = float)\n",
    "normalized_Y = scaler.fit_transform(np.array(msft_df['Close/Last']).reshape(1257,-1))\n",
    "Y = np.array(normalized_Y, dtype = float)"
   ]
  },
  {
   "cell_type": "code",
   "execution_count": 31,
   "metadata": {},
   "outputs": [],
   "source": [
    "def build_model():\n",
    "  model = keras.Sequential([\n",
    "    layers.Dense(64, activation=tf.nn.relu, input_shape=[len(train_dataset.keys())]),\n",
    "    layers.Dense(64, activation=tf.nn.relu),\n",
    "    layers.Dense(1)\n",
    "  ])\n",
    "\n",
    "  optimizer = tf.keras.optimizers.RMSprop(0.001)\n",
    "\n",
    "  model.compile(loss='mean_squared_error',\n",
    "                optimizer=optimizer,\n",
    "                metrics=['mean_absolute_error', 'mean_squared_error'])\n",
    "  return model"
   ]
  },
  {
   "cell_type": "code",
   "execution_count": 32,
   "metadata": {},
   "outputs": [
    {
     "name": "stdout",
     "output_type": "stream",
     "text": [
      "[[124.98971]]\n"
     ]
    }
   ],
   "source": [
    "print((model.predict([0])))"
   ]
  },
  {
   "cell_type": "code",
   "execution_count": null,
   "metadata": {},
   "outputs": [],
   "source": []
  }
 ],
 "metadata": {
  "kernelspec": {
   "display_name": "Python 3",
   "language": "python",
   "name": "python3"
  },
  "language_info": {
   "codemirror_mode": {
    "name": "ipython",
    "version": 3
   },
   "file_extension": ".py",
   "mimetype": "text/x-python",
   "name": "python",
   "nbconvert_exporter": "python",
   "pygments_lexer": "ipython3",
   "version": "3.8.5"
  }
 },
 "nbformat": 4,
 "nbformat_minor": 4
}
