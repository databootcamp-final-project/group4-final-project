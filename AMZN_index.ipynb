{
 "cells": [
  {
   "cell_type": "markdown",
   "metadata": {},
   "source": [
    "### DEPENDENCIES"
   ]
  },
  {
   "cell_type": "code",
   "execution_count": 1,
   "metadata": {},
   "outputs": [],
   "source": [
    "#dependencies\n",
    "import pandas as pd\n",
    "import numpy as np\n",
    "import matplotlib.pyplot as plt\n",
    "import datetime\n",
    "import os"
   ]
  },
  {
   "cell_type": "markdown",
   "metadata": {},
   "source": [
    "### IMPORT CSV"
   ]
  },
  {
   "cell_type": "code",
   "execution_count": 2,
   "metadata": {
    "scrolled": false
   },
   "outputs": [
    {
     "data": {
      "text/html": [
       "<div>\n",
       "<style scoped>\n",
       "    .dataframe tbody tr th:only-of-type {\n",
       "        vertical-align: middle;\n",
       "    }\n",
       "\n",
       "    .dataframe tbody tr th {\n",
       "        vertical-align: top;\n",
       "    }\n",
       "\n",
       "    .dataframe thead th {\n",
       "        text-align: right;\n",
       "    }\n",
       "</style>\n",
       "<table border=\"1\" class=\"dataframe\">\n",
       "  <thead>\n",
       "    <tr style=\"text-align: right;\">\n",
       "      <th></th>\n",
       "      <th>Date</th>\n",
       "      <th>Close/Last</th>\n",
       "      <th>Volume</th>\n",
       "      <th>Open</th>\n",
       "      <th>High</th>\n",
       "      <th>Low</th>\n",
       "    </tr>\n",
       "  </thead>\n",
       "  <tbody>\n",
       "    <tr>\n",
       "      <th>0</th>\n",
       "      <td>05/24/2021</td>\n",
       "      <td>$3244.99</td>\n",
       "      <td>2422813</td>\n",
       "      <td>$3215.5</td>\n",
       "      <td>$3257.95</td>\n",
       "      <td>$3210.4993</td>\n",
       "    </tr>\n",
       "    <tr>\n",
       "      <th>1</th>\n",
       "      <td>05/21/2021</td>\n",
       "      <td>$3203.08</td>\n",
       "      <td>4104882</td>\n",
       "      <td>$3250</td>\n",
       "      <td>$3256.6946</td>\n",
       "      <td>$3197.01</td>\n",
       "    </tr>\n",
       "    <tr>\n",
       "      <th>2</th>\n",
       "      <td>05/20/2021</td>\n",
       "      <td>$3247.68</td>\n",
       "      <td>2633192</td>\n",
       "      <td>$3244.4042</td>\n",
       "      <td>$3259.6799</td>\n",
       "      <td>$3236.18</td>\n",
       "    </tr>\n",
       "    <tr>\n",
       "      <th>3</th>\n",
       "      <td>05/19/2021</td>\n",
       "      <td>$3231.8</td>\n",
       "      <td>2679708</td>\n",
       "      <td>$3195</td>\n",
       "      <td>$3234.75</td>\n",
       "      <td>$3184</td>\n",
       "    </tr>\n",
       "    <tr>\n",
       "      <th>4</th>\n",
       "      <td>05/18/2021</td>\n",
       "      <td>$3232.28</td>\n",
       "      <td>2828391</td>\n",
       "      <td>$3292.575</td>\n",
       "      <td>$3312</td>\n",
       "      <td>$3230.37</td>\n",
       "    </tr>\n",
       "  </tbody>\n",
       "</table>\n",
       "</div>"
      ],
      "text/plain": [
       "         Date Close/Last   Volume        Open        High         Low\n",
       "0  05/24/2021   $3244.99  2422813     $3215.5    $3257.95  $3210.4993\n",
       "1  05/21/2021   $3203.08  4104882       $3250  $3256.6946    $3197.01\n",
       "2  05/20/2021   $3247.68  2633192  $3244.4042  $3259.6799    $3236.18\n",
       "3  05/19/2021    $3231.8  2679708       $3195    $3234.75       $3184\n",
       "4  05/18/2021   $3232.28  2828391   $3292.575       $3312    $3230.37"
      ]
     },
     "execution_count": 2,
     "metadata": {},
     "output_type": "execute_result"
    }
   ],
   "source": [
    "#load assesment file\n",
    "amzn = \"resources/HistoricalData_amzn.csv\"\n",
    "amzn_df = pd.read_csv(amzn)\n",
    "amzn_df.head()"
   ]
  },
  {
   "cell_type": "markdown",
   "metadata": {},
   "source": [
    "### CLEAN, RESHAPE AND CONVERT DATATYPE"
   ]
  },
  {
   "cell_type": "code",
   "execution_count": 3,
   "metadata": {},
   "outputs": [],
   "source": [
    "amzn_df['Date']= pd.to_datetime(amzn_df['Date'])\n",
    "amzn_df['Close/Last'] = amzn_df['Close/Last'].str.replace('$','')\n",
    "amzn_df['Open'] = amzn_df['Open'].str.replace('$','')\n",
    "amzn_df['High'] = amzn_df['High'].str.replace('$','')\n",
    "amzn_df['Low'] = amzn_df['Low'].str.replace('$','')\n",
    "amzn_df = amzn_df.apply( pd.to_numeric)"
   ]
  },
  {
   "cell_type": "markdown",
   "metadata": {},
   "source": [
    "### FORMAT DATE COLUMN"
   ]
  },
  {
   "cell_type": "code",
   "execution_count": 4,
   "metadata": {},
   "outputs": [
    {
     "data": {
      "text/html": [
       "<div>\n",
       "<style scoped>\n",
       "    .dataframe tbody tr th:only-of-type {\n",
       "        vertical-align: middle;\n",
       "    }\n",
       "\n",
       "    .dataframe tbody tr th {\n",
       "        vertical-align: top;\n",
       "    }\n",
       "\n",
       "    .dataframe thead th {\n",
       "        text-align: right;\n",
       "    }\n",
       "</style>\n",
       "<table border=\"1\" class=\"dataframe\">\n",
       "  <thead>\n",
       "    <tr style=\"text-align: right;\">\n",
       "      <th></th>\n",
       "      <th>Date</th>\n",
       "      <th>Close/Last</th>\n",
       "      <th>Volume</th>\n",
       "      <th>Open</th>\n",
       "      <th>High</th>\n",
       "      <th>Low</th>\n",
       "    </tr>\n",
       "  </thead>\n",
       "  <tbody>\n",
       "    <tr>\n",
       "      <th>0</th>\n",
       "      <td>2021-05-24</td>\n",
       "      <td>3244.99</td>\n",
       "      <td>2422813</td>\n",
       "      <td>3215.5000</td>\n",
       "      <td>3257.9500</td>\n",
       "      <td>3210.4993</td>\n",
       "    </tr>\n",
       "    <tr>\n",
       "      <th>1</th>\n",
       "      <td>2021-05-21</td>\n",
       "      <td>3203.08</td>\n",
       "      <td>4104882</td>\n",
       "      <td>3250.0000</td>\n",
       "      <td>3256.6946</td>\n",
       "      <td>3197.0100</td>\n",
       "    </tr>\n",
       "    <tr>\n",
       "      <th>2</th>\n",
       "      <td>2021-05-20</td>\n",
       "      <td>3247.68</td>\n",
       "      <td>2633192</td>\n",
       "      <td>3244.4042</td>\n",
       "      <td>3259.6799</td>\n",
       "      <td>3236.1800</td>\n",
       "    </tr>\n",
       "    <tr>\n",
       "      <th>3</th>\n",
       "      <td>2021-05-19</td>\n",
       "      <td>3231.80</td>\n",
       "      <td>2679708</td>\n",
       "      <td>3195.0000</td>\n",
       "      <td>3234.7500</td>\n",
       "      <td>3184.0000</td>\n",
       "    </tr>\n",
       "    <tr>\n",
       "      <th>4</th>\n",
       "      <td>2021-05-18</td>\n",
       "      <td>3232.28</td>\n",
       "      <td>2828391</td>\n",
       "      <td>3292.5750</td>\n",
       "      <td>3312.0000</td>\n",
       "      <td>3230.3700</td>\n",
       "    </tr>\n",
       "  </tbody>\n",
       "</table>\n",
       "</div>"
      ],
      "text/plain": [
       "        Date  Close/Last   Volume       Open       High        Low\n",
       "0 2021-05-24     3244.99  2422813  3215.5000  3257.9500  3210.4993\n",
       "1 2021-05-21     3203.08  4104882  3250.0000  3256.6946  3197.0100\n",
       "2 2021-05-20     3247.68  2633192  3244.4042  3259.6799  3236.1800\n",
       "3 2021-05-19     3231.80  2679708  3195.0000  3234.7500  3184.0000\n",
       "4 2021-05-18     3232.28  2828391  3292.5750  3312.0000  3230.3700"
      ]
     },
     "execution_count": 4,
     "metadata": {},
     "output_type": "execute_result"
    }
   ],
   "source": [
    "amzn_df['Date']= pd.to_datetime(amzn_df['Date'])\n",
    "amzn_df.head()"
   ]
  },
  {
   "cell_type": "markdown",
   "metadata": {},
   "source": [
    "### SPLIT DATAFRAME"
   ]
  },
  {
   "cell_type": "code",
   "execution_count": 5,
   "metadata": {
    "scrolled": true
   },
   "outputs": [
    {
     "data": {
      "text/html": [
       "<div>\n",
       "<style scoped>\n",
       "    .dataframe tbody tr th:only-of-type {\n",
       "        vertical-align: middle;\n",
       "    }\n",
       "\n",
       "    .dataframe tbody tr th {\n",
       "        vertical-align: top;\n",
       "    }\n",
       "\n",
       "    .dataframe thead th {\n",
       "        text-align: right;\n",
       "    }\n",
       "</style>\n",
       "<table border=\"1\" class=\"dataframe\">\n",
       "  <thead>\n",
       "    <tr style=\"text-align: right;\">\n",
       "      <th></th>\n",
       "      <th>Date</th>\n",
       "      <th>Close/Last</th>\n",
       "      <th>Volume</th>\n",
       "      <th>Open</th>\n",
       "      <th>High</th>\n",
       "      <th>Low</th>\n",
       "    </tr>\n",
       "  </thead>\n",
       "  <tbody>\n",
       "    <tr>\n",
       "      <th>252</th>\n",
       "      <td>2020-05-22</td>\n",
       "      <td>2436.88</td>\n",
       "      <td>2867079</td>\n",
       "      <td>2455.010</td>\n",
       "      <td>2469.850</td>\n",
       "      <td>2430.13</td>\n",
       "    </tr>\n",
       "    <tr>\n",
       "      <th>253</th>\n",
       "      <td>2020-05-21</td>\n",
       "      <td>2446.74</td>\n",
       "      <td>5114403</td>\n",
       "      <td>2500.000</td>\n",
       "      <td>2525.450</td>\n",
       "      <td>2442.54</td>\n",
       "    </tr>\n",
       "    <tr>\n",
       "      <th>254</th>\n",
       "      <td>2020-05-20</td>\n",
       "      <td>2497.94</td>\n",
       "      <td>3998143</td>\n",
       "      <td>2477.870</td>\n",
       "      <td>2500.010</td>\n",
       "      <td>2467.27</td>\n",
       "    </tr>\n",
       "    <tr>\n",
       "      <th>255</th>\n",
       "      <td>2020-05-19</td>\n",
       "      <td>2449.33</td>\n",
       "      <td>4320498</td>\n",
       "      <td>2429.830</td>\n",
       "      <td>2484.995</td>\n",
       "      <td>2428.97</td>\n",
       "    </tr>\n",
       "    <tr>\n",
       "      <th>256</th>\n",
       "      <td>2020-05-18</td>\n",
       "      <td>2426.26</td>\n",
       "      <td>4366572</td>\n",
       "      <td>2404.346</td>\n",
       "      <td>2433.000</td>\n",
       "      <td>2384.01</td>\n",
       "    </tr>\n",
       "  </tbody>\n",
       "</table>\n",
       "</div>"
      ],
      "text/plain": [
       "          Date  Close/Last   Volume      Open      High      Low\n",
       "252 2020-05-22     2436.88  2867079  2455.010  2469.850  2430.13\n",
       "253 2020-05-21     2446.74  5114403  2500.000  2525.450  2442.54\n",
       "254 2020-05-20     2497.94  3998143  2477.870  2500.010  2467.27\n",
       "255 2020-05-19     2449.33  4320498  2429.830  2484.995  2428.97\n",
       "256 2020-05-18     2426.26  4366572  2404.346  2433.000  2384.01"
      ]
     },
     "execution_count": 5,
     "metadata": {},
     "output_type": "execute_result"
    }
   ],
   "source": [
    "#setup datetime for first 4 years\n",
    "start_date = \"2016-05-24\"\n",
    "end_date = \"2020-05-24\"\n",
    "\n",
    "after_start_date = amzn_df[\"Date\"] >= start_date\n",
    "before_end_date = amzn_df[\"Date\"] <= end_date\n",
    "between_two_dates = after_start_date & before_end_date\n",
    "amzn_df_4 = amzn_df.loc[between_two_dates]\n",
    "amzn_df_4.head()"
   ]
  },
  {
   "cell_type": "markdown",
   "metadata": {},
   "source": [
    "### SPLIT DATAFRAME"
   ]
  },
  {
   "cell_type": "code",
   "execution_count": 6,
   "metadata": {},
   "outputs": [
    {
     "data": {
      "text/html": [
       "<div>\n",
       "<style scoped>\n",
       "    .dataframe tbody tr th:only-of-type {\n",
       "        vertical-align: middle;\n",
       "    }\n",
       "\n",
       "    .dataframe tbody tr th {\n",
       "        vertical-align: top;\n",
       "    }\n",
       "\n",
       "    .dataframe thead th {\n",
       "        text-align: right;\n",
       "    }\n",
       "</style>\n",
       "<table border=\"1\" class=\"dataframe\">\n",
       "  <thead>\n",
       "    <tr style=\"text-align: right;\">\n",
       "      <th></th>\n",
       "      <th>Date</th>\n",
       "      <th>Close/Last</th>\n",
       "      <th>Volume</th>\n",
       "      <th>Open</th>\n",
       "      <th>High</th>\n",
       "      <th>Low</th>\n",
       "    </tr>\n",
       "  </thead>\n",
       "  <tbody>\n",
       "    <tr>\n",
       "      <th>0</th>\n",
       "      <td>2021-05-24</td>\n",
       "      <td>3244.99</td>\n",
       "      <td>2422813</td>\n",
       "      <td>3215.5000</td>\n",
       "      <td>3257.9500</td>\n",
       "      <td>3210.4993</td>\n",
       "    </tr>\n",
       "    <tr>\n",
       "      <th>1</th>\n",
       "      <td>2021-05-21</td>\n",
       "      <td>3203.08</td>\n",
       "      <td>4104882</td>\n",
       "      <td>3250.0000</td>\n",
       "      <td>3256.6946</td>\n",
       "      <td>3197.0100</td>\n",
       "    </tr>\n",
       "    <tr>\n",
       "      <th>2</th>\n",
       "      <td>2021-05-20</td>\n",
       "      <td>3247.68</td>\n",
       "      <td>2633192</td>\n",
       "      <td>3244.4042</td>\n",
       "      <td>3259.6799</td>\n",
       "      <td>3236.1800</td>\n",
       "    </tr>\n",
       "    <tr>\n",
       "      <th>3</th>\n",
       "      <td>2021-05-19</td>\n",
       "      <td>3231.80</td>\n",
       "      <td>2679708</td>\n",
       "      <td>3195.0000</td>\n",
       "      <td>3234.7500</td>\n",
       "      <td>3184.0000</td>\n",
       "    </tr>\n",
       "    <tr>\n",
       "      <th>4</th>\n",
       "      <td>2021-05-18</td>\n",
       "      <td>3232.28</td>\n",
       "      <td>2828391</td>\n",
       "      <td>3292.5750</td>\n",
       "      <td>3312.0000</td>\n",
       "      <td>3230.3700</td>\n",
       "    </tr>\n",
       "  </tbody>\n",
       "</table>\n",
       "</div>"
      ],
      "text/plain": [
       "        Date  Close/Last   Volume       Open       High        Low\n",
       "0 2021-05-24     3244.99  2422813  3215.5000  3257.9500  3210.4993\n",
       "1 2021-05-21     3203.08  4104882  3250.0000  3256.6946  3197.0100\n",
       "2 2021-05-20     3247.68  2633192  3244.4042  3259.6799  3236.1800\n",
       "3 2021-05-19     3231.80  2679708  3195.0000  3234.7500  3184.0000\n",
       "4 2021-05-18     3232.28  2828391  3292.5750  3312.0000  3230.3700"
      ]
     },
     "execution_count": 6,
     "metadata": {},
     "output_type": "execute_result"
    }
   ],
   "source": [
    "#setup datetime for last year\n",
    "start_date = \"2020-05-25\"\n",
    "end_date = \"2021-05-24\"\n",
    "\n",
    "after_start_date = amzn_df[\"Date\"] >= start_date\n",
    "before_end_date = amzn_df[\"Date\"] <= end_date\n",
    "between_two_dates = after_start_date & before_end_date\n",
    "amzn_df_ls = amzn_df.loc[between_two_dates]\n",
    "amzn_df_ls.head()"
   ]
  },
  {
   "cell_type": "markdown",
   "metadata": {},
   "source": [
    "### PLOT FIRST DF (4YEARS)"
   ]
  },
  {
   "cell_type": "code",
   "execution_count": 7,
   "metadata": {
    "scrolled": false
   },
   "outputs": [
    {
     "data": {
      "image/png": "[encoded data removed]",
      "text/plain": [
       "<Figure size 864x576 with 1 Axes>"
      ]
     },
     "metadata": {
      "needs_background": "light"
     },
     "output_type": "display_data"
    }
   ],
   "source": [
    "plt.figure(figsize=(12,8))\n",
    "plt.plot(amzn_df_4['Close/Last'])\n",
    "plt.title(\"Amazon Line Chart\")\n",
    "plt.xlabel(\"Date\")\n",
    "plt.ylabel(\"Close\")\n",
    "plt.show()"
   ]
  },
  {
   "cell_type": "markdown",
   "metadata": {},
   "source": [
    "### PLOT SECOND DF (LAST YEAR)"
   ]
  },
  {
   "cell_type": "code",
   "execution_count": 8,
   "metadata": {},
   "outputs": [
    {
     "data": {
      "image/png": "[encoded data removed]",
      "text/plain": [
       "<Figure size 864x576 with 1 Axes>"
      ]
     },
     "metadata": {
      "needs_background": "light"
     },
     "output_type": "display_data"
    }
   ],
   "source": [
    "plt.figure(figsize=(12,8))\n",
    "plt.plot(amzn_df_ls['Close/Last'])\n",
    "plt.title(\"Amazon Line Chart\")\n",
    "plt.xlabel(\"Date\")\n",
    "plt.ylabel(\"Close\")\n",
    "plt.show()"
   ]
  },
  {
   "cell_type": "markdown",
   "metadata": {},
   "source": [
    "### SHAPPING, FITTING, TRAINING, TESTING ML ON 1ST DF"
   ]
  },
  {
   "cell_type": "code",
   "execution_count": 9,
   "metadata": {},
   "outputs": [
    {
     "data": {
      "text/plain": [
       "(1006, 6)"
      ]
     },
     "execution_count": 9,
     "metadata": {},
     "output_type": "execute_result"
    }
   ],
   "source": [
    "amzn_df_4.shape"
   ]
  },
  {
   "cell_type": "code",
   "execution_count": 10,
   "metadata": {},
   "outputs": [],
   "source": [
    "X = np.array(amzn_df_4['Open']).reshape(1006,-1)\n",
    "Y = np.array(amzn_df_4['Close/Last']).reshape(1006,-1)"
   ]
  },
  {
   "cell_type": "code",
   "execution_count": 11,
   "metadata": {},
   "outputs": [],
   "source": [
    "from sklearn.linear_model import LinearRegression"
   ]
  },
  {
   "cell_type": "code",
   "execution_count": 12,
   "metadata": {},
   "outputs": [],
   "source": [
    "lr = LinearRegression()"
   ]
  },
  {
   "cell_type": "code",
   "execution_count": 13,
   "metadata": {},
   "outputs": [
    {
     "data": {
      "text/plain": [
       "LinearRegression()"
      ]
     },
     "execution_count": 13,
     "metadata": {},
     "output_type": "execute_result"
    }
   ],
   "source": [
    "lr.fit(X, Y)"
   ]
  },
  {
   "cell_type": "code",
   "execution_count": 14,
   "metadata": {},
   "outputs": [
    {
     "name": "stdout",
     "output_type": "stream",
     "text": [
      "Linear Regression intercept: [1.04509618]\n",
      "coefficient count: 1\n"
     ]
    }
   ],
   "source": [
    "print('Linear Regression intercept:', lr.intercept_)\n",
    "print('coefficient count:', len(lr.coef_))"
   ]
  },
  {
   "cell_type": "code",
   "execution_count": 15,
   "metadata": {},
   "outputs": [
    {
     "name": "stdout",
     "output_type": "stream",
     "text": [
      "Accuracy: 0.997639655281388\n"
     ]
    }
   ],
   "source": [
    "from sklearn.metrics import accuracy_score\n",
    "print('Accuracy:', lr.score(X, Y))"
   ]
  },
  {
   "cell_type": "code",
   "execution_count": 16,
   "metadata": {},
   "outputs": [
    {
     "data": {
      "text/plain": [
       "array([[2454.0775244 ],\n",
       "       [2499.03128384],\n",
       "       [2476.9191101 ],\n",
       "       ...,\n",
       "       [ 715.46914585],\n",
       "       [ 708.8045187 ],\n",
       "       [ 708.47478453]])"
      ]
     },
     "execution_count": 16,
     "metadata": {},
     "output_type": "execute_result"
    }
   ],
   "source": [
    "# Predicting the price\n",
    "lr.predict(X)"
   ]
  },
  {
   "cell_type": "code",
   "execution_count": 26,
   "metadata": {},
   "outputs": [
    {
     "data": {
      "text/plain": [
       "Text(0.5, 1.0, '4 Years CLosing Price vs Predicted Closing Price')"
      ]
     },
     "execution_count": 26,
     "metadata": {},
     "output_type": "execute_result"
    },
    {
     "data": {
      "image/png": "[encoded data removed]",
      "text/plain": [
       "<Figure size 864x576 with 1 Axes>"
      ]
     },
     "metadata": {
      "needs_background": "light"
     },
     "output_type": "display_data"
    }
   ],
   "source": [
    "plt.figure(figsize=(12,8))\n",
    "plt.scatter(amzn_df_4['Close/Last'], lr.predict(X))\n",
    "plt.plot(X, lr.predict(X), color = 'red')\n",
    "plt.xlabel('Closing Price')\n",
    "plt.ylabel('Predicted Closing Price')\n",
    "plt.savefig('images/amzn_4y.jpg', dpi=40)\n",
    "plt.grid()\n",
    "plt.title('4 Years CLosing Price vs Predicted Closing Price')"
   ]
  },
  {
   "cell_type": "markdown",
   "metadata": {},
   "source": [
    "### TRAINING, TESTING ML ON 2ND DF"
   ]
  },
  {
   "cell_type": "code",
   "execution_count": 18,
   "metadata": {},
   "outputs": [
    {
     "data": {
      "text/plain": [
       "(252, 6)"
      ]
     },
     "execution_count": 18,
     "metadata": {},
     "output_type": "execute_result"
    }
   ],
   "source": [
    "amzn_df_ls.shape"
   ]
  },
  {
   "cell_type": "code",
   "execution_count": 19,
   "metadata": {},
   "outputs": [],
   "source": [
    "X_ls = np.array(amzn_df_ls['Open']).reshape(252,-1)\n",
    "Y_ls = np.array(amzn_df_ls['Close/Last']).reshape(252,-1)"
   ]
  },
  {
   "cell_type": "code",
   "execution_count": 20,
   "metadata": {},
   "outputs": [
    {
     "data": {
      "text/plain": [
       "LinearRegression()"
      ]
     },
     "execution_count": 20,
     "metadata": {},
     "output_type": "execute_result"
    }
   ],
   "source": [
    "lr.fit(X_ls, Y_ls)"
   ]
  },
  {
   "cell_type": "code",
   "execution_count": 21,
   "metadata": {},
   "outputs": [
    {
     "name": "stdout",
     "output_type": "stream",
     "text": [
      "Linear Regression intercept: [140.10738856]\n",
      "coefficient count: 1\n"
     ]
    }
   ],
   "source": [
    "print('Linear Regression intercept:', lr.intercept_)\n",
    "print('coefficient count:', len(lr.coef_))"
   ]
  },
  {
   "cell_type": "code",
   "execution_count": 22,
   "metadata": {},
   "outputs": [
    {
     "name": "stdout",
     "output_type": "stream",
     "text": [
      "Accuracy: 0.9476066909501086\n"
     ]
    }
   ],
   "source": [
    "print('Accuracy:', lr.score(X_ls, Y_ls))"
   ]
  },
  {
   "cell_type": "code",
   "execution_count": 23,
   "metadata": {},
   "outputs": [
    {
     "data": {
      "text/plain": [
       "array([[3207.79550782],\n",
       "       [3240.70959276],\n",
       "       [3235.37102359],\n",
       "       [3188.23786315],\n",
       "       [3281.32748163],\n",
       "       [3236.82668477],\n",
       "       [3179.23180629],\n",
       "       [3179.14594346],\n",
       "       [3178.69754868],\n",
       "       [3132.21713656],\n",
       "       [3271.54388914],\n",
       "       [3306.62362546],\n",
       "       [3259.79022171],\n",
       "       [3325.48005702],\n",
       "       [3342.01819216],\n",
       "       [3464.64939442],\n",
       "       [3503.18272458],\n",
       "       [3484.08110694],\n",
       "       [3417.01460425],\n",
       "       [3425.2860569 ],\n",
       "       [3334.20467461],\n",
       "       [3306.63316578],\n",
       "       [3356.79613928],\n",
       "       [3303.67566829],\n",
       "       [3358.62787966],\n",
       "       [3374.58882578],\n",
       "       [3364.73368093],\n",
       "       [3356.1473979 ],\n",
       "       [3387.66859692],\n",
       "       [3384.62046645],\n",
       "       [3341.08324135],\n",
       "       [3292.89511293],\n",
       "       [3298.81010791],\n",
       "       [3225.25428331],\n",
       "       [3215.66626726],\n",
       "       [3167.24917131],\n",
       "       [3114.72019981],\n",
       "       [3063.31698542],\n",
       "       [3068.99347253],\n",
       "       [3055.09228031],\n",
       "       [3044.23635647],\n",
       "       [3071.83648625],\n",
       "       [3146.29864072],\n",
       "       [3123.36372472],\n",
       "       [3066.93276461],\n",
       "       [3030.08807011],\n",
       "       [3098.55890709],\n",
       "       [3072.05591348],\n",
       "       [3102.34641194],\n",
       "       [3073.34385593],\n",
       "       [3073.75408946],\n",
       "       [3101.43054175],\n",
       "       [3096.1261269 ],\n",
       "       [3019.36475664],\n",
       "       [3016.51220261],\n",
       "       [3006.97188814],\n",
       "       [3013.65010827],\n",
       "       [3079.6500038 ],\n",
       "       [3139.07662266],\n",
       "       [3124.21281271],\n",
       "       [3093.02552469],\n",
       "       [3132.65599102],\n",
       "       [3161.28647476],\n",
       "       [3123.39234567],\n",
       "       [3200.76429605],\n",
       "       [3315.34347289],\n",
       "       [3271.63929229],\n",
       "       [3253.68442044],\n",
       "       [3244.57342012],\n",
       "       [3240.70959276],\n",
       "       [3280.77891355],\n",
       "       [3301.7676054 ],\n",
       "       [3300.32701791],\n",
       "       [3344.22200481],\n",
       "       [3306.53776263],\n",
       "       [3317.03210856],\n",
       "       [3407.67463638],\n",
       "       [3364.73368093],\n",
       "       [3233.4207925 ],\n",
       "       [3221.62896381],\n",
       "       [3226.43728231],\n",
       "       [3327.99392989],\n",
       "       [3284.93467454],\n",
       "       [3315.60106138],\n",
       "       [3292.52304067],\n",
       "       [3281.732945  ],\n",
       "       [3175.82591402],\n",
       "       [3104.28309577],\n",
       "       [3119.56667956],\n",
       "       [3162.02107897],\n",
       "       [3124.73753001],\n",
       "       [3116.68550459],\n",
       "       [3143.40792543],\n",
       "       [3173.92739144],\n",
       "       [3151.98466815],\n",
       "       [3141.94825732],\n",
       "       [3160.58049149],\n",
       "       [3259.79022171],\n",
       "       [3264.56037895],\n",
       "       [3327.52645448],\n",
       "       [3297.89423772],\n",
       "       [3187.2838317 ],\n",
       "       [3187.18842856],\n",
       "       [3197.77817762],\n",
       "       [3195.72033179],\n",
       "       [3193.0175607 ],\n",
       "       [3234.97586376],\n",
       "       [3240.70959276],\n",
       "       [3170.12080596],\n",
       "       [3174.8909632 ],\n",
       "       [3138.62822788],\n",
       "       [3094.41841061],\n",
       "       [3087.10098941],\n",
       "       [3162.37407061],\n",
       "       [3153.7973279 ],\n",
       "       [3151.48857179],\n",
       "       [3191.3003041 ],\n",
       "       [3198.21703209],\n",
       "       [3213.66280122],\n",
       "       [3182.03665874],\n",
       "       [3201.09820706],\n",
       "       [3203.75041449],\n",
       "       [3137.55017235],\n",
       "       [3098.08189137],\n",
       "       [3113.53624678],\n",
       "       [3113.84249088],\n",
       "       [3102.67078263],\n",
       "       [3130.04194486],\n",
       "       [3177.30943292],\n",
       "       [3091.1174618 ],\n",
       "       [3118.59356749],\n",
       "       [3154.79906092],\n",
       "       [3061.14179372],\n",
       "       [3092.85379903],\n",
       "       [3222.6116162 ],\n",
       "       [3292.83787105],\n",
       "       [3307.46317314],\n",
       "       [3154.83722217],\n",
       "       [3019.87993362],\n",
       "       [3061.10363246],\n",
       "       [3152.70019173],\n",
       "       [3194.21964033],\n",
       "       [3240.04177075],\n",
       "       [3216.80156469],\n",
       "       [3191.80594076],\n",
       "       [3184.42173736],\n",
       "       [3183.34368182],\n",
       "       [3204.93341348],\n",
       "       [3214.26384104],\n",
       "       [3288.03909287],\n",
       "       [3348.73457355],\n",
       "       [3280.78845387],\n",
       "       [3428.65378791],\n",
       "       [3448.67890799],\n",
       "       [3336.05549562],\n",
       "       [3202.54833486],\n",
       "       [3216.84926626],\n",
       "       [3130.9959763 ],\n",
       "       [3159.61691973],\n",
       "       [3141.33767719],\n",
       "       [3148.76958217],\n",
       "       [3200.64027197],\n",
       "       [3136.85372939],\n",
       "       [3169.52930647],\n",
       "       [3144.20931185],\n",
       "       [3054.5398961 ],\n",
       "       [2981.01269245],\n",
       "       [3117.09573811],\n",
       "       [3034.48138492],\n",
       "       [2912.99979056],\n",
       "       [3032.48268904],\n",
       "       [3011.02652179],\n",
       "       [3173.91785112],\n",
       "       [3132.10265278],\n",
       "       [3167.18906732],\n",
       "       [3201.29855367],\n",
       "       [3295.29831815],\n",
       "       [3195.86057441],\n",
       "       [3139.58225933],\n",
       "       [3305.58373119],\n",
       "       [3464.90698291],\n",
       "       [3524.05693265],\n",
       "       [3469.27644694],\n",
       "       [3392.39105259],\n",
       "       [3405.75703317],\n",
       "       [3431.56358382],\n",
       "       [3337.17171241],\n",
       "       [3283.63146758],\n",
       "       [3298.09458432],\n",
       "       [3283.64100789],\n",
       "       [3242.61765565],\n",
       "       [3291.28279979],\n",
       "       [3204.45639776],\n",
       "       [3167.36365508],\n",
       "       [3172.1910542 ],\n",
       "       [3176.77994547],\n",
       "       [3105.23712722],\n",
       "       [3110.19809075],\n",
       "       [3164.68282671],\n",
       "       [3215.91431544],\n",
       "       [3187.62728302],\n",
       "       [3139.3628321 ],\n",
       "       [3098.75925369],\n",
       "       [3174.41394748],\n",
       "       [3234.98540407],\n",
       "       [3015.55817116],\n",
       "       [3031.76716545],\n",
       "       [3053.97701755],\n",
       "       [3061.35168064],\n",
       "       [2935.41952958],\n",
       "       [3095.95564148],\n",
       "       [3121.45566183],\n",
       "       [3224.00450211],\n",
       "       [3002.39253719],\n",
       "       [3010.78801392],\n",
       "       [2974.59206081],\n",
       "       [3078.74367393],\n",
       "       [3087.11052972],\n",
       "       [3241.72086609],\n",
       "       [3185.14680126],\n",
       "       [3112.85983849],\n",
       "       [3023.77238192],\n",
       "       [3058.06027215],\n",
       "       [2940.16106587],\n",
       "       [2918.25650384],\n",
       "       [2771.3165803 ],\n",
       "       [2701.743837  ],\n",
       "       [2706.4615225 ],\n",
       "       [2787.59808098],\n",
       "       [2753.72424041],\n",
       "       [2792.31481246],\n",
       "       [2740.81619493],\n",
       "       [2701.20480923],\n",
       "       [2695.07992734],\n",
       "       [2665.43817026],\n",
       "       [2665.90564567],\n",
       "       [2639.66978087],\n",
       "       [2550.56324368],\n",
       "       [2621.74352997],\n",
       "       [2623.92826199],\n",
       "       [2663.52056705],\n",
       "       [2553.27269299],\n",
       "       [2525.37681346],\n",
       "       [2472.24680216],\n",
       "       [2503.65351741],\n",
       "       [2494.66654117],\n",
       "       [2493.70296941],\n",
       "       [2475.57637191],\n",
       "       [2444.9901237 ],\n",
       "       [2414.83318965],\n",
       "       [2434.54347935],\n",
       "       [2485.11668638]])"
      ]
     },
     "execution_count": 23,
     "metadata": {},
     "output_type": "execute_result"
    }
   ],
   "source": [
    "# Predicting the price\n",
    "lr.predict(X_ls)"
   ]
  },
  {
   "cell_type": "code",
   "execution_count": 25,
   "metadata": {},
   "outputs": [
    {
     "data": {
      "text/plain": [
       "Text(0.5, 1.0, '1 Year CLosing Price vs Predicted Closing Price')"
      ]
     },
     "execution_count": 25,
     "metadata": {},
     "output_type": "execute_result"
    },
    {
     "data": {
      "image/png": "[encoded data removed]",
      "text/plain": [
       "<Figure size 864x576 with 1 Axes>"
      ]
     },
     "metadata": {
      "needs_background": "light"
     },
     "output_type": "display_data"
    }
   ],
   "source": [
    "plt.figure(figsize=(12,8))\n",
    "plt.scatter(amzn_df_ls['Close/Last'], lr.predict(X_ls))\n",
    "plt.plot(X_ls, lr.predict(X_ls), color = 'red')\n",
    "plt.xlabel('Closing Price')\n",
    "plt.ylabel('Predicted Closing Price')\n",
    "plt.savefig('images/amzn_ls.jpg', dpi=40)\n",
    "plt.grid()\n",
    "plt.title('1 Year CLosing Price vs Predicted Closing Price')"
   ]
  },
  {
   "cell_type": "markdown",
   "metadata": {},
   "source": [
    "### MODEL COMPARISON"
   ]
  },
  {
   "cell_type": "markdown",
   "metadata": {},
   "source": [
    "<tr>\n",
    "    <td> <img src=\"images/amzn_4y.jpg\"style=\"width: 550px;\"/> </td>\n",
    "    <td> <img src=\"images/amzn_ls.jpg\"style=\"width: 550px;\"/> </td>\n",
    "</tr>\n"
   ]
  },
  {
   "cell_type": "code",
   "execution_count": null,
   "metadata": {},
   "outputs": [],
   "source": []
  }
 ],
 "metadata": {
  "kernelspec": {
   "display_name": "Python 3",
   "language": "python",
   "name": "python3"
  },
  "language_info": {
   "codemirror_mode": {
    "name": "ipython",
    "version": 3
   },
   "file_extension": ".py",
   "mimetype": "text/x-python",
   "name": "python",
   "nbconvert_exporter": "python",
   "pygments_lexer": "ipython3",
   "version": "3.8.5"
  }
 },
 "nbformat": 4,
 "nbformat_minor": 4
}
